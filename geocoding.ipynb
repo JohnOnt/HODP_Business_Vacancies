{
 "cells": [
  {
   "cell_type": "code",
   "execution_count": 38,
   "metadata": {},
   "outputs": [],
   "source": [
    "import pandas as pd\n",
    "import numpy as np\n",
    "import requests\n",
    "import time"
   ]
  },
  {
   "cell_type": "code",
   "execution_count": 3,
   "metadata": {},
   "outputs": [],
   "source": [
    "KEY = 'Null for public'"
   ]
  },
  {
   "cell_type": "markdown",
   "metadata": {},
   "source": [
    "# Figure out how to pull coordinate data using MapQuest API"
   ]
  },
  {
   "cell_type": "code",
   "execution_count": 22,
   "metadata": {},
   "outputs": [],
   "source": [
    "response = requests.get('http://open.mapquestapi.com/geocoding/v1/address?key=' + KEY + '&location=Washington,DC')\n",
    "test_str = 'http://open.mapquestapi.com/geocoding/v1/address?key=6dPARSfkaUHACBkYJLbT7N11d2fKQg9O&location=1369%20Cambridge%20Street,%20Cambridge%20MA,'\n",
    "null_lat = 39.78373\n",
    "null_lng = -100.445882"
   ]
  },
  {
   "cell_type": "code",
   "execution_count": 32,
   "metadata": {},
   "outputs": [
    {
     "data": {
      "text/plain": "{'lat': 38.894955, 'lng': -77.036646}"
     },
     "execution_count": 32,
     "metadata": {},
     "output_type": "execute_result"
    }
   ],
   "source": [
    "# Get coordinates from request\n",
    "response.json()['results'][0]['locations'][0]['latLng']#['lat']"
   ]
  },
  {
   "cell_type": "code",
   "execution_count": 33,
   "metadata": {},
   "outputs": [],
   "source": [
    "def get_coords(address):\n",
    "    response = requests.get('http://open.mapquestapi.com/geocoding/v1/address?key=' + KEY + '&location=' + address + ', Cambridge MA,')\n",
    "\n",
    "    lat = response.json()['results'][0]['locations'][0]['latLng']['lat']\n",
    "    lng = response.json()['results'][0]['locations'][0]['latLng']['lng']\n",
    "\n",
    "    return lat, lng\n"
   ]
  },
  {
   "cell_type": "markdown",
   "metadata": {},
   "source": [
    "# Clean and parse bussiness data in order to pass to API"
   ]
  },
  {
   "cell_type": "code",
   "execution_count": 50,
   "metadata": {},
   "outputs": [
    {
     "data": {
      "text/html": "<div>\n<style scoped>\n    .dataframe tbody tr th:only-of-type {\n        vertical-align: middle;\n    }\n\n    .dataframe tbody tr th {\n        vertical-align: top;\n    }\n\n    .dataframe thead th {\n        text-align: right;\n    }\n</style>\n<table border=\"1\" class=\"dataframe\">\n  <thead>\n    <tr style=\"text-align: right;\">\n      <th></th>\n      <th>Name</th>\n      <th>Address</th>\n      <th>Storefront Sales Status</th>\n      <th>Sales Options</th>\n      <th>Grocery Sales</th>\n      <th>Phone</th>\n      <th>Website</th>\n      <th>Facebook</th>\n      <th>Twitter</th>\n      <th>Instagram</th>\n      <th>LastModified</th>\n    </tr>\n  </thead>\n  <tbody>\n    <tr>\n      <th>0</th>\n      <td>1369 Coffee House</td>\n      <td>NaN</td>\n      <td>Open</td>\n      <td>Delivery, Take Out</td>\n      <td>yes</td>\n      <td>757 Mass Ave</td>\n      <td>NaN</td>\n      <td>https://www.facebook.com/1369Coffeehouse/</td>\n      <td>https://twitter.com/1369coffeehouse?ref_src=tw...</td>\n      <td>https://www.instagram.com/1369coffeehouse/?hl=en</td>\n      <td>2020-06-16T17:08:30Z</td>\n    </tr>\n    <tr>\n      <th>1</th>\n      <td>1369 Coffee House</td>\n      <td>NaN</td>\n      <td>Open</td>\n      <td>Delivery, Take Out, Outdoor Dining</td>\n      <td>NaN</td>\n      <td>1369 Cambridge Street</td>\n      <td>NaN</td>\n      <td>https://www.facebook.com/1369Coffeehouse/</td>\n      <td>https://twitter.com/1369coffeehouse</td>\n      <td>https://www.instagram.com/1369coffeehouse/?hl=en</td>\n      <td>2020-07-10T15:24:36Z</td>\n    </tr>\n    <tr>\n      <th>2</th>\n      <td>2 4-1 Optical</td>\n      <td>NaN</td>\n      <td>Open</td>\n      <td>NaN</td>\n      <td>NaN</td>\n      <td>1128 Massachusetts Ave</td>\n      <td>NaN</td>\n      <td>https://www.facebook.com/241optical/</td>\n      <td>NaN</td>\n      <td>NaN</td>\n      <td>2020-06-16T17:09:04Z</td>\n    </tr>\n    <tr>\n      <th>3</th>\n      <td>5th Street Laundromat</td>\n      <td>NaN</td>\n      <td>Open</td>\n      <td>NaN</td>\n      <td>NaN</td>\n      <td>58 5th Street</td>\n      <td>NaN</td>\n      <td>NaN</td>\n      <td>NaN</td>\n      <td>NaN</td>\n      <td>2020-03-22T12:45:32Z</td>\n    </tr>\n    <tr>\n      <th>4</th>\n      <td>7-Eleven</td>\n      <td>NaN</td>\n      <td>Open</td>\n      <td>NaN</td>\n      <td>NaN</td>\n      <td>All locations are open</td>\n      <td>NaN</td>\n      <td>NaN</td>\n      <td>NaN</td>\n      <td>NaN</td>\n      <td>2020-06-09T17:16:46Z</td>\n    </tr>\n  </tbody>\n</table>\n</div>",
      "text/plain": "                    Name Address Storefront Sales Status  \\\n0      1369 Coffee House     NaN                    Open   \n1      1369 Coffee House     NaN                    Open   \n2          2 4-1 Optical     NaN                    Open   \n3  5th Street Laundromat     NaN                    Open   \n4               7-Eleven     NaN                    Open   \n\n                        Sales Options Grocery Sales                   Phone  \\\n0                  Delivery, Take Out           yes            757 Mass Ave   \n1  Delivery, Take Out, Outdoor Dining           NaN   1369 Cambridge Street   \n2                                 NaN           NaN  1128 Massachusetts Ave   \n3                                 NaN           NaN           58 5th Street   \n4                                 NaN           NaN  All locations are open   \n\n  Website                                   Facebook  \\\n0     NaN  https://www.facebook.com/1369Coffeehouse/   \n1     NaN  https://www.facebook.com/1369Coffeehouse/   \n2     NaN       https://www.facebook.com/241optical/   \n3     NaN                                        NaN   \n4     NaN                                        NaN   \n\n                                             Twitter  \\\n0  https://twitter.com/1369coffeehouse?ref_src=tw...   \n1                https://twitter.com/1369coffeehouse   \n2                                                NaN   \n3                                                NaN   \n4                                                NaN   \n\n                                          Instagram          LastModified  \n0  https://www.instagram.com/1369coffeehouse/?hl=en  2020-06-16T17:08:30Z  \n1  https://www.instagram.com/1369coffeehouse/?hl=en  2020-07-10T15:24:36Z  \n2                                               NaN  2020-06-16T17:09:04Z  \n3                                               NaN  2020-03-22T12:45:32Z  \n4                                               NaN  2020-06-09T17:16:46Z  "
     },
     "execution_count": 50,
     "metadata": {},
     "output_type": "execute_result"
    }
   ],
   "source": [
    "businesses = pd.read_csv('Open_and_Closed_Businesses_During_Covid-19_Pandemic.csv')\n",
    "businesses.head()"
   ]
  },
  {
   "cell_type": "code",
   "execution_count": 51,
   "metadata": {},
   "outputs": [
    {
     "data": {
      "text/html": "<div>\n<style scoped>\n    .dataframe tbody tr th:only-of-type {\n        vertical-align: middle;\n    }\n\n    .dataframe tbody tr th {\n        vertical-align: top;\n    }\n\n    .dataframe thead th {\n        text-align: right;\n    }\n</style>\n<table border=\"1\" class=\"dataframe\">\n  <thead>\n    <tr style=\"text-align: right;\">\n      <th></th>\n      <th>Name</th>\n      <th>Address</th>\n      <th>Storefront Sales Status</th>\n      <th>Sales Options</th>\n      <th>Grocery Sales</th>\n      <th>Phone</th>\n      <th>Website</th>\n      <th>Facebook</th>\n      <th>Twitter</th>\n      <th>Instagram</th>\n      <th>LastModified</th>\n    </tr>\n  </thead>\n  <tbody>\n    <tr>\n      <th>0</th>\n      <td>1369 Coffee House</td>\n      <td>NaN</td>\n      <td>Open</td>\n      <td>Delivery, Take Out</td>\n      <td>yes</td>\n      <td>757 Massachusetts Ave</td>\n      <td>NaN</td>\n      <td>https://www.facebook.com/1369Coffeehouse/</td>\n      <td>https://twitter.com/1369coffeehouse?ref_src=tw...</td>\n      <td>https://www.instagram.com/1369coffeehouse/?hl=en</td>\n      <td>2020-06-16T17:08:30Z</td>\n    </tr>\n    <tr>\n      <th>1</th>\n      <td>1369 Coffee House</td>\n      <td>NaN</td>\n      <td>Open</td>\n      <td>Delivery, Take Out, Outdoor Dining</td>\n      <td>NaN</td>\n      <td>1369 Cambridge Street</td>\n      <td>NaN</td>\n      <td>https://www.facebook.com/1369Coffeehouse/</td>\n      <td>https://twitter.com/1369coffeehouse</td>\n      <td>https://www.instagram.com/1369coffeehouse/?hl=en</td>\n      <td>2020-07-10T15:24:36Z</td>\n    </tr>\n    <tr>\n      <th>2</th>\n      <td>2 4-1 Optical</td>\n      <td>NaN</td>\n      <td>Open</td>\n      <td>NaN</td>\n      <td>NaN</td>\n      <td>1128 Massachusetts Ave</td>\n      <td>NaN</td>\n      <td>https://www.facebook.com/241optical/</td>\n      <td>NaN</td>\n      <td>NaN</td>\n      <td>2020-06-16T17:09:04Z</td>\n    </tr>\n    <tr>\n      <th>3</th>\n      <td>5th Street Laundromat</td>\n      <td>NaN</td>\n      <td>Open</td>\n      <td>NaN</td>\n      <td>NaN</td>\n      <td>58 5th Street</td>\n      <td>NaN</td>\n      <td>NaN</td>\n      <td>NaN</td>\n      <td>NaN</td>\n      <td>2020-03-22T12:45:32Z</td>\n    </tr>\n    <tr>\n      <th>4</th>\n      <td>7-Eleven</td>\n      <td>NaN</td>\n      <td>Open</td>\n      <td>NaN</td>\n      <td>NaN</td>\n      <td>All locations are open</td>\n      <td>NaN</td>\n      <td>NaN</td>\n      <td>NaN</td>\n      <td>NaN</td>\n      <td>2020-06-09T17:16:46Z</td>\n    </tr>\n  </tbody>\n</table>\n</div>",
      "text/plain": "                    Name Address Storefront Sales Status  \\\n0      1369 Coffee House     NaN                    Open   \n1      1369 Coffee House     NaN                    Open   \n2          2 4-1 Optical     NaN                    Open   \n3  5th Street Laundromat     NaN                    Open   \n4               7-Eleven     NaN                    Open   \n\n                        Sales Options Grocery Sales                   Phone  \\\n0                  Delivery, Take Out           yes   757 Massachusetts Ave   \n1  Delivery, Take Out, Outdoor Dining           NaN   1369 Cambridge Street   \n2                                 NaN           NaN  1128 Massachusetts Ave   \n3                                 NaN           NaN           58 5th Street   \n4                                 NaN           NaN  All locations are open   \n\n  Website                                   Facebook  \\\n0     NaN  https://www.facebook.com/1369Coffeehouse/   \n1     NaN  https://www.facebook.com/1369Coffeehouse/   \n2     NaN       https://www.facebook.com/241optical/   \n3     NaN                                        NaN   \n4     NaN                                        NaN   \n\n                                             Twitter  \\\n0  https://twitter.com/1369coffeehouse?ref_src=tw...   \n1                https://twitter.com/1369coffeehouse   \n2                                                NaN   \n3                                                NaN   \n4                                                NaN   \n\n                                          Instagram          LastModified  \n0  https://www.instagram.com/1369coffeehouse/?hl=en  2020-06-16T17:08:30Z  \n1  https://www.instagram.com/1369coffeehouse/?hl=en  2020-07-10T15:24:36Z  \n2                                               NaN  2020-06-16T17:09:04Z  \n3                                               NaN  2020-03-22T12:45:32Z  \n4                                               NaN  2020-06-09T17:16:46Z  "
     },
     "execution_count": 51,
     "metadata": {},
     "output_type": "execute_result"
    }
   ],
   "source": [
    "# Remove bussinesses wrongly encoded as a group (only 7eleven gas stations in this case)\n",
    "#businesses = businesses[businesses.Phone != 'All locations are open']\n",
    "#businesses = businesses[businesses.Phone != 'All locations']\n",
    "\n",
    "# Replace all Mass Ave abbreviations to Massachusetts Ave (The API doesn't recognize Mass Ave)\n",
    "businesses.Phone = [str(x).replace('Mass ', 'Massachusetts ') for x in businesses.Phone]\n",
    "businesses.Phone = [str(x).replace('Mass. ', 'Massachusetts ') for x in businesses.Phone]\n",
    "businesses.Phone = [str(x).replace('JFK ', 'John F. Kennedy ') for x in businesses.Phone]\n",
    "\n",
    "businesses.head()"
   ]
  },
  {
   "cell_type": "markdown",
   "metadata": {},
   "source": [
    "# Finally get coordinates for each address (or at least try to)"
   ]
  },
  {
   "cell_type": "code",
   "execution_count": 52,
   "metadata": {},
   "outputs": [],
   "source": [
    "nrow = businesses.shape[0]\n",
    "lats = np.zeros(nrow)\n",
    "lngs = np.zeros(nrow)\n",
    "\n",
    "for i in range(nrow):\n",
    "    lat, lng = get_coords(businesses.Phone.loc[i])\n",
    "    lats[i] = lat\n",
    "    lngs[i] = lng\n",
    "    time.sleep(0.1)\n",
    "\n",
    "businesses.insert(1, \"Latitude\", lats)\n",
    "businesses.insert(2, \"Longitude\", lngs)"
   ]
  },
  {
   "cell_type": "code",
   "execution_count": 56,
   "metadata": {},
   "outputs": [
    {
     "name": "stdout",
     "output_type": "stream",
     "text": [
      "65\n"
     ]
    }
   ],
   "source": [
    "# print number of rows that weren't recognized be the API\n",
    "print((businesses[businesses.Longitude == -100.445882].Phone).shape[0])"
   ]
  },
  {
   "cell_type": "markdown",
   "metadata": {},
   "source": [
    "We only lost 65 rows out of 800+ businesses, not too bad!\n",
    "\n",
    "# Save dataframe to csv"
   ]
  },
  {
   "cell_type": "code",
   "execution_count": 59,
   "metadata": {},
   "outputs": [],
   "source": [
    "# drop rows that were not recognized by API\n",
    "geocoded_businesses = businesses[businesses.Longitude != -100.445882]\n",
    "\n",
    "geocoded_businesses.to_csv('geocoded_businesses.csv')"
   ]
  },
  {
   "cell_type": "code",
   "execution_count": null,
   "metadata": {},
   "outputs": [],
   "source": []
  }
 ],
 "metadata": {
  "kernelspec": {
   "display_name": "CS109a",
   "language": "python",
   "name": "cs109a"
  },
  "language_info": {
   "codemirror_mode": {
    "name": "ipython",
    "version": 3
   },
   "file_extension": ".py",
   "mimetype": "text/x-python",
   "name": "python",
   "nbconvert_exporter": "python",
   "pygments_lexer": "ipython3",
   "version": "3.8.5"
  },
  "orig_nbformat": 2
 },
 "nbformat": 4,
 "nbformat_minor": 2
}