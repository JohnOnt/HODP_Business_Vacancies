{
  "cells": [
    {
      "cell_type": "code",
      "execution_count": 147,
      "metadata": {
        "cell_id": "00000-7d8ade52-2f31-4df5-a4af-76472b06d0e8",
        "deepnote_cell_type": "code",
        "deepnote_to_be_reexecuted": false,
        "execution_millis": 1,
        "execution_start": 1617386688252,
        "source_hash": "b7dcc9c8",
        "tags": []
      },
      "outputs": [],
      "source": [
        "import numpy as np\n",
        "import pandas as pd\n",
        "import matplotlib.pyplot as plt\n",
        "import plotly.graph_objects as go"
      ]
    },
    {
      "cell_type": "code",
      "execution_count": 148,
      "metadata": {
        "cell_id": "00005-cc8c99c4-ce83-498e-a0fd-b62b1079b856",
        "deepnote_cell_type": "code",
        "deepnote_to_be_reexecuted": false,
        "execution_millis": 178,
        "execution_start": 1617386688428,
        "source_hash": "e2362659",
        "tags": []
      },
      "outputs": [],
      "source": [
        "# HODP colors\n",
        "monochrome_colors = ['#251616', '#760000', '#C63F3F', '#E28073', '#F1D3CF']\n",
        "primary_colors = ['#C63F3F', '#F4B436', '#83BFCC', '#455574', '#E2DDDB']\n",
        "\n",
        "# HODP template\n",
        "theme_hodp = go.layout.Template(\n",
        "    layout=go.Layout(\n",
        "        title = {'font':{'size':24, 'family':\"Helvetica\", 'color':monochrome_colors[0]}, 'pad':{'t':100, 'r':0, 'b':0, 'l':0}},\n",
        "        font = {'size':18, 'family':'Helvetica', 'color':'#717171'},\n",
        "        xaxis = {'ticks': \"outside\",\n",
        "                'tickfont': {'size': 14, 'family':\"Helvetica\"},\n",
        "                'showticksuffix': 'all',\n",
        "                'showtickprefix': 'last',\n",
        "                'showline': True,\n",
        "                'title':{'font':{'size':18, 'family':'Helvetica'}, 'standoff':20},\n",
        "                'automargin': True\n",
        "                },\n",
        "        yaxis = {'ticks': \"outside\",\n",
        "                'tickfont': {'size': 14, 'family':\"Helvetica\"},\n",
        "                'showticksuffix': 'all',\n",
        "                'showtickprefix': 'last',\n",
        "                'title':{'font':{'size':18, 'family':'Helvetica'}, 'standoff':20},\n",
        "                'showline': True,\n",
        "                'automargin': True\n",
        "                },\n",
        "        legend = {'bgcolor':'rgba(0,0,0,0)', \n",
        "                'title':{'font':{'size':18, 'family':\"Helvetica\", 'color':monochrome_colors[0]}}, \n",
        "                'font':{'size':14, 'family':\"Helvetica\"}, \n",
        "                'yanchor':'bottom'\n",
        "                },\n",
        "        colorscale = {'diverging':monochrome_colors},\n",
        "        coloraxis = {'autocolorscale':True, \n",
        "                'cauto':True, \n",
        "                'colorbar':{'tickfont':{'size':14,'family':'Helvetica'}, 'title':{'font':{'size':18, 'family':'Helvetica'}}},\n",
        "                }\n",
        "    )\n",
        ")"
      ]
    },
    {
      "cell_type": "code",
      "execution_count": 149,
      "metadata": {
        "cell_id": "00007-d0ecd38f-291f-4a84-bb0e-79b72bb0c648",
        "deepnote_cell_type": "code",
        "deepnote_to_be_reexecuted": false,
        "execution_millis": 17,
        "execution_start": 1617386688660,
        "source_hash": "210fa78",
        "tags": []
      },
      "outputs": [
        {
          "data": {
            "text/html": "<div>\n<style scoped>\n    .dataframe tbody tr th:only-of-type {\n        vertical-align: middle;\n    }\n\n    .dataframe tbody tr th {\n        vertical-align: top;\n    }\n\n    .dataframe thead th {\n        text-align: right;\n    }\n</style>\n<table border=\"1\" class=\"dataframe\">\n  <thead>\n    <tr style=\"text-align: right;\">\n      <th></th>\n      <th>Unnamed: 0</th>\n      <th>Name</th>\n      <th>Latitude</th>\n      <th>Longitude</th>\n      <th>Address</th>\n      <th>Storefront Sales Status</th>\n      <th>Sales Options</th>\n      <th>Grocery Sales</th>\n      <th>Phone</th>\n      <th>Website</th>\n      <th>Facebook</th>\n      <th>Twitter</th>\n      <th>Instagram</th>\n      <th>LastModified</th>\n    </tr>\n  </thead>\n  <tbody>\n    <tr>\n      <th>0</th>\n      <td>0</td>\n      <td>1369 Coffee House</td>\n      <td>42.390604</td>\n      <td>-71.121712</td>\n      <td>NaN</td>\n      <td>Open</td>\n      <td>Delivery, Take Out</td>\n      <td>yes</td>\n      <td>757 Massachusetts Ave</td>\n      <td>NaN</td>\n      <td>https://www.facebook.com/1369Coffeehouse/</td>\n      <td>https://twitter.com/1369coffeehouse?ref_src=tw...</td>\n      <td>https://www.instagram.com/1369coffeehouse/?hl=en</td>\n      <td>2020-06-16T17:08:30Z</td>\n    </tr>\n    <tr>\n      <th>1</th>\n      <td>1</td>\n      <td>1369 Coffee House</td>\n      <td>42.373793</td>\n      <td>-71.100367</td>\n      <td>NaN</td>\n      <td>Open</td>\n      <td>Delivery, Take Out, Outdoor Dining</td>\n      <td>NaN</td>\n      <td>1369 Cambridge Street</td>\n      <td>NaN</td>\n      <td>https://www.facebook.com/1369Coffeehouse/</td>\n      <td>https://twitter.com/1369coffeehouse</td>\n      <td>https://www.instagram.com/1369coffeehouse/?hl=en</td>\n      <td>2020-07-10T15:24:36Z</td>\n    </tr>\n    <tr>\n      <th>2</th>\n      <td>2</td>\n      <td>2 4-1 Optical</td>\n      <td>42.390604</td>\n      <td>-71.121712</td>\n      <td>NaN</td>\n      <td>Open</td>\n      <td>NaN</td>\n      <td>NaN</td>\n      <td>1128 Massachusetts Ave</td>\n      <td>NaN</td>\n      <td>https://www.facebook.com/241optical/</td>\n      <td>NaN</td>\n      <td>NaN</td>\n      <td>2020-06-16T17:09:04Z</td>\n    </tr>\n    <tr>\n      <th>3</th>\n      <td>3</td>\n      <td>5th Street Laundromat</td>\n      <td>42.369638</td>\n      <td>-71.083565</td>\n      <td>NaN</td>\n      <td>Open</td>\n      <td>NaN</td>\n      <td>NaN</td>\n      <td>58 5th Street</td>\n      <td>NaN</td>\n      <td>NaN</td>\n      <td>NaN</td>\n      <td>NaN</td>\n      <td>2020-03-22T12:45:32Z</td>\n    </tr>\n    <tr>\n      <th>4</th>\n      <td>5</td>\n      <td>730 Tavern</td>\n      <td>42.366016</td>\n      <td>-71.105142</td>\n      <td>NaN</td>\n      <td>Open</td>\n      <td>Delivery, Take Out, Indoor Dining</td>\n      <td>NaN</td>\n      <td>730 Massachusetts Ave</td>\n      <td>NaN</td>\n      <td>https://www.facebook.com/730tavern/</td>\n      <td>NaN</td>\n      <td>https://www.instagram.com/p/B9uqJpAgWJz/</td>\n      <td>2020-12-15T13:55:02Z</td>\n    </tr>\n  </tbody>\n</table>\n</div>",
            "text/plain": "   Unnamed: 0                   Name   Latitude  Longitude Address  \\\n0           0      1369 Coffee House  42.390604 -71.121712     NaN   \n1           1      1369 Coffee House  42.373793 -71.100367     NaN   \n2           2          2 4-1 Optical  42.390604 -71.121712     NaN   \n3           3  5th Street Laundromat  42.369638 -71.083565     NaN   \n4           5             730 Tavern  42.366016 -71.105142     NaN   \n\n  Storefront Sales Status                       Sales Options Grocery Sales  \\\n0                    Open                  Delivery, Take Out           yes   \n1                    Open  Delivery, Take Out, Outdoor Dining           NaN   \n2                    Open                                 NaN           NaN   \n3                    Open                                 NaN           NaN   \n4                    Open   Delivery, Take Out, Indoor Dining           NaN   \n\n                    Phone Website                                   Facebook  \\\n0   757 Massachusetts Ave     NaN  https://www.facebook.com/1369Coffeehouse/   \n1   1369 Cambridge Street     NaN  https://www.facebook.com/1369Coffeehouse/   \n2  1128 Massachusetts Ave     NaN       https://www.facebook.com/241optical/   \n3           58 5th Street     NaN                                        NaN   \n4   730 Massachusetts Ave     NaN        https://www.facebook.com/730tavern/   \n\n                                             Twitter  \\\n0  https://twitter.com/1369coffeehouse?ref_src=tw...   \n1                https://twitter.com/1369coffeehouse   \n2                                                NaN   \n3                                                NaN   \n4                                                NaN   \n\n                                          Instagram          LastModified  \n0  https://www.instagram.com/1369coffeehouse/?hl=en  2020-06-16T17:08:30Z  \n1  https://www.instagram.com/1369coffeehouse/?hl=en  2020-07-10T15:24:36Z  \n2                                               NaN  2020-06-16T17:09:04Z  \n3                                               NaN  2020-03-22T12:45:32Z  \n4          https://www.instagram.com/p/B9uqJpAgWJz/  2020-12-15T13:55:02Z  "
          },
          "execution_count": 149,
          "metadata": {},
          "output_type": "execute_result"
        }
      ],
      "source": [
        "vdistances = pd.read_csv(\"geocoded_businesses.csv\")\n",
        "vdistances.head(5)"
      ]
    },
    {
      "cell_type": "code",
      "execution_count": 150,
      "metadata": {
        "cell_id": "00008-ec58f3b2-988e-4e3c-91af-a418d52024ff",
        "deepnote_cell_type": "code",
        "deepnote_to_be_reexecuted": false,
        "execution_millis": 1,
        "execution_start": 1617386688680,
        "source_hash": "c729e2a9",
        "tags": []
      },
      "outputs": [],
      "source": [
        "from math import radians, cos, sin, asin, sqrt\n",
        "def haversine(lon1, lat1, lon2, lat2):\n",
        "    \"\"\"\n",
        "    Calculate the great circle distance between two points \n",
        "    on the earth (specified in decimal degrees)\n",
        "    \"\"\"\n",
        "    # convert decimal degrees to radians \n",
        "    lon1, lat1, lon2, lat2 = map(radians, [lon1, lat1, lon2, lat2])\n",
        "    # haversine formula \n",
        "    dlon = lon2 - lon1 \n",
        "    dlat = lat2 - lat1 \n",
        "    a = sin(dlat/2)**2 + cos(lat1) * cos(lat2) * sin(dlon/2)**2\n",
        "    c = 2 * asin(sqrt(a)) \n",
        "    # Radius of earth in kilometers is 6371\n",
        "    km = 6371* c\n",
        "    return km"
      ]
    },
    {
      "cell_type": "code",
      "execution_count": 151,
      "metadata": {
        "cell_id": "00008-cf775327-8ff3-4490-8972-6975cc8e8e49",
        "deepnote_cell_type": "code",
        "deepnote_to_be_reexecuted": false,
        "execution_millis": 1114,
        "execution_start": 1617386688682,
        "source_hash": "3b18a093",
        "tags": []
      },
      "outputs": [],
      "source": [
        "harv_lat = 42.3744\n",
        "harv_long = -71.1171\n",
        "mit_lat = 42.3598\n",
        "mit_long = -71.0921\n",
        "\n",
        "\n",
        "harv_dist = np.zeros(np.shape(vdistances)[0])\n",
        "mit_dist = np.zeros(np.shape(vdistances)[0])\n",
        "#min_dist = np.zeros(np.shape(vdistances)[0])\n",
        "\n",
        "for i in range(len(vdistances.index)):\n",
        "    harv_dist[i] = haversine(harv_long, harv_lat, vdistances[\"Longitude\"][i], vdistances[\"Latitude\"][i])\n",
        "    mit_dist[i] = haversine(mit_long, mit_lat, vdistances[\"Longitude\"][i], vdistances[\"Latitude\"][i])\n",
        "    #min_dist[i] = min(vdistances[\"harv_dist\"][i], vdistances[\"mit_dist\"][i])\n",
        "\n",
        "# impute outliers that api did not pick up coordinates for\n",
        "harv_dist = np.where(harv_dist < 50, harv_dist, np.median(harv_dist))\n",
        "mit_dist = np.where(mit_dist < 50, mit_dist, np.median(mit_dist))\n",
        "#min_dist = np.where(min_dist < 50, min_dist, np.median(min_dist))\n",
        "\n",
        "vdistances['harv_dist'] = harv_dist\n",
        "vdistances['mit_dist'] = mit_dist\n",
        "vdistances['min_dist'] = min_dist\n",
        "vdistances.head()\n",
        "\n",
        "vdistances.to_csv(\"vdistances.csv\")"
      ]
    },
    {
      "cell_type": "markdown",
      "metadata": {},
      "source": [
        "# Clean and group data on open stores"
      ]
    },
    {
      "cell_type": "code",
      "execution_count": 152,
      "metadata": {
        "cell_id": "00010-42f5eaa3-9fb1-4a85-8fa0-078b017400c0",
        "deepnote_cell_type": "code",
        "deepnote_to_be_reexecuted": false,
        "execution_millis": 9,
        "execution_start": 1617396019071,
        "source_hash": "297ed1f8",
        "tags": []
      },
      "outputs": [
        {
          "name": "stderr",
          "output_type": "stream",
          "text": [
            "/home/johnattan/.local/share/virtualenvs/CS109a-LuRlfjbh/lib/python3.8/site-packages/pandas/core/indexing.py:1637: SettingWithCopyWarning:\n",
            "\n",
            "\n",
            "A value is trying to be set on a copy of a slice from a DataFrame\n",
            "\n",
            "See the caveats in the documentation: https://pandas.pydata.org/pandas-docs/stable/user_guide/indexing.html#returning-a-view-versus-a-copy\n",
            "\n"
          ]
        }
      ],
      "source": [
        "openloc = vdistances[(vdistances[\"Storefront Sales Status\"] == \"Open\")]\n",
        "openloc = openloc.reset_index()\n",
        "closedloc = vdistances[(vdistances[\"Storefront Sales Status\"] == \"Closed\")]\n",
        "closedloc = closedloc.reset_index()\n",
        "#print(openloc['Sales Options'].unique())\n",
        "\n",
        "# Merge data from two columns for opening info\n",
        "for i in range(np.shape(openloc)[0]):\n",
        "    # If value is nan\n",
        "    if pd.isnull(openloc['Sales Options'][i]):\n",
        "        # Check to see if alternate 'adddress' column has info\n",
        "        if (openloc['Address'].loc[i]) != np.nan:\n",
        "            openloc['Sales Options'].loc[i] = openloc['Address'].loc[i]\n",
        "\n",
        "# Remove places without info and outliers that simply won't go away\n",
        "openloc_clean = openloc[(openloc['Sales Options'].notnull())]\n",
        "openloc_clean = openloc_clean[openloc_clean['Name'] != 'Diaper Lab']\n",
        "openloc_clean = openloc_clean[openloc_clean['Name'] != 'Sulmona']\n",
        "openloc_clean = openloc_clean[openloc_clean['Name'] != 'Craigie on Main']\n",
        "openloc_clean = openloc_clean[openloc_clean['Name'] != 'Longfellow Bar']\n",
        "openloc_clean = openloc_clean[openloc_clean['Name'] != 'Royal East']\n",
        "openloc_clean = openloc_clean[openloc_clean['Name'] != 'Café Luna']\n",
        "openloc_clean = openloc_clean.reset_index()"
      ]
    },
    {
      "cell_type": "code",
      "execution_count": 174,
      "metadata": {},
      "outputs": [
        {
          "name": "stdout",
          "output_type": "stream",
          "text": [
            "['Delivery, Take Out' 'Delivery, Dine in, Takeout' 'Take Out'\n",
            " 'Takeout, Dine in' 'Dine in' 'Delivery, Pickup']\n"
          ]
        },
        {
          "name": "stderr",
          "output_type": "stream",
          "text": [
            "<ipython-input-174-892202d49229>:16: SettingWithCopyWarning:\n",
            "\n",
            "\n",
            "A value is trying to be set on a copy of a slice from a DataFrame\n",
            "\n",
            "See the caveats in the documentation: https://pandas.pydata.org/pandas-docs/stable/user_guide/indexing.html#returning-a-view-versus-a-copy\n",
            "\n"
          ]
        }
      ],
      "source": [
        "# Group together categories\n",
        "\n",
        "# Delivery\n",
        "# Takout\n",
        "# Dine in\n",
        "\n",
        "print(openloc_clean['Sales Options'].unique())\n",
        "\n",
        "takeout = ['Take Out', 'takeout', 'Pickup', 'Online Sales, Pickup', 'Delivery', 'Online Sales' ,'Delivery, Online Sales', 'Delivery, Online Sales, Pickup', 'delivery', 'Delivery, Pickup']\n",
        "dinein = ['Indoor Dining', 'Outdoor Dining', 'Outdoor Dining, Indoor Dining', 'dinein']\n",
        "takeout_dinein = ['Take Out, Outdoor Dining', 'Take Out, Indoor Dining','Take Out, Outdoor Dining, Indoor Dining', 'Delivery, Outdoor Dining, Indoor Dining']\n",
        "del_din_takeout = ['Delivery, Take Out, Outdoor Dining', 'Delivery, Take Out, Indoor Dining', 'Delivery, Take Out, Outdoor Dining, Indoor Dining']\n",
        "\n",
        "for i in range(np.shape(openloc_clean)[0]):\n",
        "    if openloc_clean['Sales Options'][i] in takeout:\n",
        "        openloc_clean['Sales Options'][i] = 'Take Out'\n",
        "    elif openloc_clean['Sales Options'][i] in dinein:\n",
        "        openloc_clean['Sales Options'][i] = 'Dine in'\n",
        "    elif openloc_clean['Sales Options'][i] in del_din_takeout:\n",
        "        openloc_clean['Sales Options'][i] = 'Delivery, Dine in, Takeout'\n",
        "    elif openloc_clean['Sales Options'][i] in takeout_dinein:\n",
        "        openloc_clean['Sales Options'][i] = 'Takeout, Dine in'\n",
        "\n",
        "\n"
      ]
    },
    {
      "cell_type": "code",
      "execution_count": 154,
      "metadata": {
        "cell_id": "00011-381f51ff-50b8-4826-9911-e65536bda700",
        "deepnote_cell_type": "code",
        "deepnote_to_be_reexecuted": false,
        "execution_millis": 481,
        "execution_start": 1617386689853,
        "source_hash": "fe52e150",
        "tags": []
      },
      "outputs": [
        {
          "data": {
            "image/png": "[encoded data removed]",
            "text/plain": "<Figure size 432x288 with 1 Axes>"
          },
          "metadata": {
            "needs_background": "light"
          },
          "output_type": "display_data"
        }
      ],
      "source": [
        "plt.scatter(openloc[\"mit_dist\"],openloc[\"harv_dist\"],c='#2596be')\n",
        "plt.xlabel(\"Distance to MIT\")\n",
        "plt.ylabel(\"Distance to Harvard\")\n",
        "plt.title(\"Distance to Campus and 1-2 Year Vacancies\")\n",
        "plt.show()"
      ]
    },
    {
      "cell_type": "code",
      "execution_count": 155,
      "metadata": {
        "cell_id": "00013-3af442b0-d79c-49eb-9f3a-ce6e252baa26",
        "deepnote_cell_type": "code",
        "deepnote_to_be_reexecuted": false,
        "execution_millis": 3,
        "execution_start": 1617396028344,
        "source_hash": "2b72cc7d",
        "tags": []
      },
      "outputs": [],
      "source": [
        "openmin = []\n",
        "openmin = np.append (openmin, (vdistances.loc[vdistances[\"Storefront Sales Status\"]== \"Open\"][\"min_dist\"]))\n",
        "closedmin=[]\n",
        "closedmin=np.append (openmin, (vdistances.loc[vdistances[\"Storefront Sales Status\"]== \"Closed\"][\"min_dist\"]))\n",
        "openY=[]\n",
        "closedY=[]\n",
        "\n",
        "openY = np.ones((len(openmin),), dtype=int)\n",
        "closedY = np.zeros((len(closedmin),),dtype=int)\n",
        "\n",
        "closedminfinal=[]\n",
        "for i in range(len(closedmin)):\n",
        "    if closedmin[i]<5:\n",
        "        closedminfinal.append(closedmin[i])\n",
        "openminfinal=[]\n",
        "for i in range(len(openmin)):\n",
        "    if openmin[i]<5:\n",
        "        openminfinal.append(openmin[i])\n"
      ]
    },
    {
      "cell_type": "code",
      "execution_count": null,
      "metadata": {},
      "outputs": [
        {
          "name": "stdout",
          "output_type": "stream",
          "text": [
            "   Latitude  Longitude location name\n",
            "0   42.3744   -71.1171       Harvard\n",
            "1   42.3598   -71.0921           MIT\n"
          ]
        }
      ],
      "source": [
        "\n",
        "import plotly.express as px\n",
        "\n",
        "harv_lat = 42.3744\n",
        "harv_long = -71.1171\n",
        "mit_lat = 42.3598\n",
        "mit_long = -71.0921\n",
        "\n",
        "data = [[42.3744, -71.1171, 'Harvard'], [42.3598, -71.0921, 'MIT']]\n",
        "\n",
        "locations = pd.DataFrame(data, columns=['Latitude', 'Longitude', 'location name'])\n",
        "print(locations)"
      ]
    },
    {
      "cell_type": "code",
      "execution_count": 177,
      "metadata": {},
      "outputs": [
        {
          "data": {
            "application/vnd.plotly.v1+json": {
              "config": {
                "plotlyServerURL": "https://plot.ly"
              },
              "data": [
                {
                  "customdata": [
                    [
                      "1369 Coffee House"
                    ],
                    [
                      "9Zaab Thai Street Food"
                    ],
                    [
                      "ABC Pizza House"
                    ],
                    [
                      "Aceituna Grill"
                    ],
                    [
                      "Alfredo's Italian Kitchen"
                    ],
                    [
                      "All Star Pizza Bar"
                    ],
                    [
                      "All Star Sandwich Bar"
                    ],
                    [
                      "Amorino Gelato"
                    ],
                    [
                      "Anna's Taqueria"
                    ],
                    [
                      "Arams #2 House of Pizza"
                    ],
                    [
                      "Armando's Pizza and Subs"
                    ],
                    [
                      "B Good"
                    ],
                    [
                      "Basil Tree Catering & Café"
                    ],
                    [
                      "Basta Pasta"
                    ],
                    [
                      "Beantown Taqueria"
                    ],
                    [
                      "Beauty's Pizza"
                    ],
                    [
                      "Bertucci's"
                    ],
                    [
                      "Black Sheep Bagel"
                    ],
                    [
                      "Boca Grande"
                    ],
                    [
                      "Bondir"
                    ],
                    [
                      "Broadsheet Coffee Roasters"
                    ],
                    [
                      "Café Barada"
                    ],
                    [
                      "Café Mami"
                    ],
                    [
                      "Café Sushi"
                    ],
                    [
                      "Cambridge House of Pizza"
                    ],
                    [
                      "Cambridge Pizzeria"
                    ],
                    [
                      "Cava"
                    ],
                    [
                      "Chicago Pizza"
                    ],
                    [
                      "Chutney's"
                    ],
                    [
                      "Cilantro Chinese Cuisine"
                    ],
                    [
                      "Coast Cafe"
                    ],
                    [
                      "Darul Kabab"
                    ],
                    [
                      "Desi Dhaba"
                    ],
                    [
                      "Domino's Pizza"
                    ],
                    [
                      "Dumpling House"
                    ],
                    [
                      "Dumpling Xuan"
                    ],
                    [
                      "El Jefe's Taqueria"
                    ],
                    [
                      "Falafel Corner"
                    ],
                    [
                      "Five Spices House"
                    ],
                    [
                      "Flame Hot Pot and Sushi"
                    ],
                    [
                      "Formaggio Kendall"
                    ],
                    [
                      "Formaggio Kitchen"
                    ],
                    [
                      "Fuji Restaurant"
                    ],
                    [
                      "Gracies Kendall Square"
                    ],
                    [
                      "Guangzhou Restaurant"
                    ],
                    [
                      "Half Shell Pizza"
                    ],
                    [
                      "Harvard House of Pizza"
                    ],
                    [
                      "Harvest of India"
                    ],
                    [
                      "Hi-Rise Bread Company"
                    ],
                    [
                      "Highland Fried"
                    ],
                    [
                      "Honeycomb Creamery"
                    ],
                    [
                      "Kendall House of Pizza"
                    ],
                    [
                      "L.A. Burdick Chocolate"
                    ],
                    [
                      "La Saison Bakery"
                    ],
                    [
                      "Life Alive Organic Café"
                    ],
                    [
                      "Lizzy's Ice Cream"
                    ],
                    [
                      "Ma Magoo's"
                    ],
                    [
                      "Mainely Burgers"
                    ],
                    [
                      "Mamaleh's Deli"
                    ],
                    [
                      "Mass Ave Diner"
                    ],
                    [
                      "Mediterranean Grill"
                    ],
                    [
                      "Mike's Pastry"
                    ],
                    [
                      "Mona Lisa Pizza"
                    ],
                    [
                      "Noodle Stix"
                    ],
                    [
                      "Oath Pizza"
                    ],
                    [
                      "Paco's"
                    ],
                    [
                      "Pagu"
                    ],
                    [
                      "Passage to India"
                    ],
                    [
                      "Pinocchio's PIzza"
                    ],
                    [
                      "Pita Cambridge"
                    ],
                    [
                      "Pokeworks"
                    ],
                    [
                      "Primo Cambridge"
                    ],
                    [
                      "Punjabi Dhaba"
                    ],
                    [
                      "Qingdao Garden"
                    ],
                    [
                      "Royal Punjab"
                    ],
                    [
                      "Sakana Sushi"
                    ],
                    [
                      "Sapporo Ramen Central"
                    ],
                    [
                      "Second Street Café"
                    ],
                    [
                      "Shabu and Mein"
                    ],
                    [
                      "Skampa"
                    ],
                    [
                      "Surya Indian Kitchen"
                    ],
                    [
                      "Tampopo"
                    ],
                    [
                      "Tasty Burger"
                    ],
                    [
                      "Viale"
                    ],
                    [
                      "Violette Gluten Free Bakery"
                    ],
                    [
                      "Weltkuche Bistro"
                    ],
                    [
                      "Wrapro"
                    ],
                    [
                      "Yoki Express"
                    ],
                    [
                      "Yume Ga Arukara"
                    ],
                    [
                      "Yummy Thai Cuisine"
                    ],
                    [
                      "Zinneken's"
                    ]
                  ],
                  "hovertemplate": "Sales Options=Delivery, Take Out<br>Longitude=%{x}<br>Latitude=%{y}<br>size=%{marker.size}<br>Name=%{customdata[0]}<extra></extra>",
                  "legendgroup": "Delivery, Take Out",
                  "marker": {
                    "color": "#636efa",
                    "opacity": 0.7,
                    "size": [
                      2,
                      2,
                      2,
                      2,
                      2,
                      2,
                      2,
                      2,
                      2,
                      2,
                      2,
                      2,
                      2,
                      2,
                      2,
                      2,
                      2,
                      2,
                      2,
                      2,
                      2,
                      2,
                      2,
                      2,
                      2,
                      2,
                      2,
                      2,
                      2,
                      2,
                      2,
                      2,
                      2,
                      2,
                      2,
                      2,
                      2,
                      2,
                      2,
                      2,
                      2,
                      2,
                      2,
                      2,
                      2,
                      2,
                      2,
                      2,
                      2,
                      2,
                      2,
                      2,
                      2,
                      2,
                      2,
                      2,
                      2,
                      2,
                      2,
                      2,
                      2,
                      2,
                      2,
                      2,
                      2,
                      2,
                      2,
                      2,
                      2,
                      2,
                      2,
                      2,
                      2,
                      2,
                      2,
                      2,
                      2,
                      2,
                      2,
                      2,
                      2,
                      2,
                      2,
                      2,
                      2,
                      2,
                      2,
                      2,
                      2,
                      2,
                      2
                    ],
                    "sizemode": "area",
                    "sizeref": 0.005,
                    "symbol": "circle"
                  },
                  "mode": "markers",
                  "name": "Delivery, Take Out",
                  "orientation": "v",
                  "showlegend": true,
                  "type": "scatter",
                  "x": [
                    -71.121712,
                    -71.115571,
                    -71.105349,
                    -71.081835,
                    -71.115571,
                    -71.098082,
                    -71.115571,
                    -71.120084,
                    -71.119299,
                    -71.115571,
                    -71.146047,
                    -71.121092,
                    -71.146094,
                    -71.116237,
                    -71.121712,
                    -71.099755,
                    -71.097282,
                    -71.11984,
                    -71.07807,
                    -71.114462,
                    -71.110596,
                    -71.133945,
                    -71.118935,
                    -71.113654,
                    -71.121712,
                    -71.107885,
                    -71.088167,
                    -71.097093,
                    -71.11984,
                    -71.113654,
                    -71.111625,
                    -71.121712,
                    -71.099936,
                    -71.111902,
                    -71.109846,
                    -71.115571,
                    -71.114482,
                    -71.121092,
                    -71.102337,
                    -71.121712,
                    -71.099755,
                    -71.146047,
                    -71.082509,
                    -71.088027,
                    -71.115571,
                    -71.121712,
                    -71.121712,
                    -71.121712,
                    -71.143298,
                    -71.098573,
                    -71.121712,
                    -71.079588,
                    -71.119896,
                    -71.143298,
                    -71.105435,
                    -71.120156,
                    -71.14184,
                    -71.104943,
                    -71.089296,
                    -71.121712,
                    -71.121712,
                    -71.119106,
                    -71.109122,
                    -71.152473,
                    -71.095995,
                    -71.115571,
                    -71.147439,
                    -71.121712,
                    -71.120133,
                    -71.100404,
                    -71.121712,
                    -71.096895,
                    -71.100793,
                    -71.129875,
                    -71.115571,
                    -71.121712,
                    -71.10217,
                    -71.079378,
                    -71.078403,
                    -71.115571,
                    -71.110039,
                    -71.118935,
                    -71.120248,
                    -71.101797,
                    -71.121712,
                    -71.073942,
                    -71.121712,
                    -71.121712,
                    -71.118935,
                    -71.121712,
                    -71.115033
                  ],
                  "xaxis": "x",
                  "y": [
                    42.390604,
                    42.375656,
                    42.366153,
                    42.364663,
                    42.375656,
                    42.373256,
                    42.375656,
                    42.372414,
                    42.388503,
                    42.375656,
                    42.3791,
                    42.373069,
                    42.390872,
                    42.36429,
                    42.390604,
                    42.37284,
                    42.36337,
                    42.372945,
                    42.366276,
                    42.374834,
                    42.37738,
                    42.399976,
                    42.387404,
                    42.370754,
                    42.390604,
                    42.35768,
                    42.362559,
                    42.361679,
                    42.372945,
                    42.370754,
                    42.363059,
                    42.390604,
                    42.36358,
                    42.369705,
                    42.368702,
                    42.375656,
                    42.370496,
                    42.373069,
                    42.364346,
                    42.390604,
                    42.37284,
                    42.3791,
                    42.365271,
                    42.366362,
                    42.375656,
                    42.390604,
                    42.390604,
                    42.390604,
                    42.388669,
                    42.373561,
                    42.390604,
                    42.372108,
                    42.373357,
                    42.388669,
                    42.366639,
                    42.374386,
                    42.388282,
                    42.365922,
                    42.366905,
                    42.390604,
                    42.390604,
                    42.372654,
                    42.374921,
                    42.374978,
                    42.360983,
                    42.375656,
                    42.4096,
                    42.390604,
                    42.371993,
                    42.374156,
                    42.390604,
                    42.363345,
                    42.373875,
                    42.396814,
                    42.375656,
                    42.390604,
                    42.365419,
                    42.36744,
                    42.364392,
                    42.375656,
                    42.359917,
                    42.387404,
                    42.372186,
                    42.364022,
                    42.390604,
                    42.370725,
                    42.390604,
                    42.390604,
                    42.387404,
                    42.390604,
                    42.37129
                  ],
                  "yaxis": "y"
                },
                {
                  "customdata": [
                    [
                      "1369 Coffee House"
                    ],
                    [
                      "730 Tavern"
                    ],
                    [
                      "Abbey"
                    ],
                    [
                      "Alive and Kicking Lobsters"
                    ],
                    [
                      "Amelia's Trattoria"
                    ],
                    [
                      "Andy's Diner"
                    ],
                    [
                      "Area Four"
                    ],
                    [
                      "Asmara Restaurant"
                    ],
                    [
                      "Atwood's Tavern"
                    ],
                    [
                      "Baraka Cuisine"
                    ],
                    [
                      "Base Crave"
                    ],
                    [
                      "Bisq"
                    ],
                    [
                      "Bon Me Test Kitchen"
                    ],
                    [
                      "Boston Burger Company"
                    ],
                    [
                      "Cafe Beatrice"
                    ],
                    [
                      "Chalawan"
                    ],
                    [
                      "Changsho"
                    ],
                    [
                      "Corazon de Frida Mexican Cantina"
                    ],
                    [
                      "Dial"
                    ],
                    [
                      "Desfina Restaurant"
                    ],
                    [
                      "Dimi's Place"
                    ],
                    [
                      "Druid"
                    ],
                    [
                      "Felipe's Taqueria"
                    ],
                    [
                      "Forage"
                    ],
                    [
                      "Genki Ya"
                    ],
                    [
                      "Geppetto"
                    ],
                    [
                      "Grendel's Den"
                    ],
                    [
                      "Helmand"
                    ],
                    [
                      "Ittoku"
                    ],
                    [
                      "J.P. Licks"
                    ],
                    [
                      "Jose's"
                    ],
                    [
                      "Kantipur Cafe"
                    ],
                    [
                      "Koreana"
                    ],
                    [
                      "Le's"
                    ],
                    [
                      "Le's Sushi Bar and Restaurant"
                    ],
                    [
                      "Lexington"
                    ],
                    [
                      "Lily P's"
                    ],
                    [
                      "Little Crepe Cafe"
                    ],
                    [
                      "Mad Monkfish"
                    ],
                    [
                      "Mae Asian Eatery"
                    ],
                    [
                      "Maharaja"
                    ],
                    [
                      "Moona"
                    ],
                    [
                      "Mr. Bartley's Burger Cottage"
                    ],
                    [
                      "Mu Lan Restaurant"
                    ],
                    [
                      "Muqueca"
                    ],
                    [
                      "Naco Taco"
                    ],
                    [
                      "Nine Tastes"
                    ],
                    [
                      "Nirvana - Taste of India"
                    ],
                    [
                      "Oggi Gourmet"
                    ],
                    [
                      "Ole/Olecito"
                    ],
                    [
                      "One Ramen"
                    ],
                    [
                      "Otto"
                    ],
                    [
                      "Pepper Sky's"
                    ],
                    [
                      "Rangzen Tibet Place"
                    ],
                    [
                      "Saloniki Greek"
                    ],
                    [
                      "Season to Taste Catering"
                    ],
                    [
                      "Shaking Crab"
                    ],
                    [
                      "Shanghai Fresh"
                    ],
                    [
                      "Shegar Café and Ethiopian Restaurant"
                    ],
                    [
                      "Shy Bird"
                    ],
                    [
                      "Silk Road Uyghur Cuisine"
                    ],
                    [
                      "Smoke Shop"
                    ],
                    [
                      "Smoke Shop"
                    ],
                    [
                      "Spices"
                    ],
                    [
                      "Sugar and Spice"
                    ],
                    [
                      "Sumiao Hunan Kitchen"
                    ],
                    [
                      "Summer Shack"
                    ],
                    [
                      "Suvaai"
                    ],
                    [
                      "Talulla"
                    ],
                    [
                      "Tanjore"
                    ],
                    [
                      "Tatte"
                    ],
                    [
                      "Veggie Grill"
                    ],
                    [
                      "Wasabi at Porter"
                    ]
                  ],
                  "hovertemplate": "Sales Options=Delivery, Dine in, Takeout<br>Longitude=%{x}<br>Latitude=%{y}<br>size=%{marker.size}<br>Name=%{customdata[0]}<extra></extra>",
                  "legendgroup": "Delivery, Dine in, Takeout",
                  "marker": {
                    "color": "#EF553B",
                    "opacity": 0.7,
                    "size": [
                      2,
                      2,
                      2,
                      2,
                      2,
                      2,
                      2,
                      2,
                      2,
                      2,
                      2,
                      2,
                      2,
                      2,
                      2,
                      2,
                      2,
                      2,
                      2,
                      2,
                      2,
                      2,
                      2,
                      2,
                      2,
                      2,
                      2,
                      2,
                      2,
                      2,
                      2,
                      2,
                      2,
                      2,
                      2,
                      2,
                      2,
                      2,
                      2,
                      2,
                      2,
                      2,
                      2,
                      2,
                      2,
                      2,
                      2,
                      2,
                      2,
                      2,
                      2,
                      2,
                      2,
                      2,
                      2,
                      2,
                      2,
                      2,
                      2,
                      2,
                      2,
                      2,
                      2,
                      2,
                      2,
                      2,
                      2,
                      2,
                      2,
                      2,
                      2,
                      2,
                      2
                    ],
                    "sizemode": "area",
                    "sizeref": 0.005,
                    "symbol": "circle"
                  },
                  "mode": "markers",
                  "name": "Delivery, Dine in, Takeout",
                  "orientation": "v",
                  "showlegend": true,
                  "type": "scatter",
                  "x": [
                    -71.100367,
                    -71.105142,
                    -71.119124,
                    -71.113672,
                    -71.115389,
                    -71.121712,
                    -71.091511,
                    -71.105077,
                    -71.091566,
                    -71.121712,
                    -71.146047,
                    -71.115571,
                    -71.088027,
                    -71.113654,
                    -71.078403,
                    -71.121712,
                    -71.121712,
                    -71.115571,
                    -71.099648,
                    -71.079588,
                    -71.107799,
                    -71.100141,
                    -71.120499,
                    -71.127464,
                    -71.140817,
                    -71.078403,
                    -71.120872,
                    -71.078044,
                    -71.118935,
                    -71.121712,
                    -71.132873,
                    -71.099755,
                    -71.1024,
                    -71.11984,
                    -71.115571,
                    -71.078403,
                    -71.088027,
                    -71.116394,
                    -71.102023,
                    -71.096838,
                    -71.11984,
                    -71.099755,
                    -71.121712,
                    -71.114462,
                    -71.115571,
                    -71.098116,
                    -71.120084,
                    -71.121712,
                    -71.119106,
                    -71.100404,
                    -71.121712,
                    -71.121712,
                    -71.102941,
                    -71.103001,
                    -71.118997,
                    -71.121712,
                    -71.118935,
                    -71.105029,
                    -71.121712,
                    -71.079588,
                    -71.087138,
                    -71.089296,
                    -71.11815,
                    -71.118338,
                    -71.119993,
                    -71.082141,
                    -71.140817,
                    -71.129816,
                    -71.12828,
                    -71.121092,
                    -71.121712,
                    -71.11984,
                    -71.123479
                  ],
                  "xaxis": "x",
                  "y": [
                    42.373793,
                    42.366016,
                    42.385102,
                    42.363209,
                    42.372296,
                    42.390604,
                    42.363981,
                    42.366412,
                    42.372622,
                    42.390604,
                    42.3791,
                    42.375656,
                    42.366362,
                    42.370754,
                    42.364392,
                    42.390604,
                    42.390604,
                    42.375656,
                    42.363563,
                    42.372108,
                    42.357395,
                    42.373758,
                    42.373492,
                    42.379516,
                    42.392738,
                    42.364392,
                    42.372475,
                    42.366472,
                    42.387404,
                    42.390604,
                    42.390189,
                    42.37284,
                    42.367368,
                    42.372945,
                    42.375656,
                    42.364392,
                    42.366362,
                    42.380856,
                    42.364172,
                    42.363342,
                    42.372945,
                    42.37284,
                    42.390604,
                    42.374834,
                    42.375656,
                    42.362334,
                    42.372414,
                    42.390604,
                    42.372654,
                    42.374156,
                    42.390604,
                    42.390604,
                    42.364225,
                    42.364174,
                    42.372573,
                    42.390604,
                    42.387404,
                    42.366391,
                    42.390604,
                    42.372108,
                    42.37208,
                    42.366905,
                    42.372672,
                    42.372168,
                    42.389648,
                    42.365928,
                    42.392738,
                    42.396747,
                    42.387144,
                    42.373069,
                    42.390604,
                    42.372945,
                    42.39128
                  ],
                  "yaxis": "y"
                },
                {
                  "customdata": [
                    [
                      "Abodeon"
                    ],
                    [
                      "Abroad Modern"
                    ],
                    [
                      "African Gift Items"
                    ],
                    [
                      "Al's Café"
                    ],
                    [
                      "Albertine Press"
                    ],
                    [
                      "Andover Shop"
                    ],
                    [
                      "Anime Zakka"
                    ],
                    [
                      "Anthony's Pizza"
                    ],
                    [
                      "Anthropologie"
                    ],
                    [
                      "Armageddon Record Shop"
                    ],
                    [
                      "Artifact Cider Project"
                    ],
                    [
                      "Arthur Murray Dance Center"
                    ],
                    [
                      "Bagelsaurus"
                    ],
                    [
                      "Barre & Soul"
                    ],
                    [
                      "Beyond Fitness Pilates Studio"
                    ],
                    [
                      "Blue Bag Records"
                    ],
                    [
                      "Bob Slate Stationer"
                    ],
                    [
                      "Bon Chon"
                    ],
                    [
                      "Bon Me - Kendall"
                    ],
                    [
                      "Bonny's Garden Center"
                    ],
                    [
                      "Boston Tea Shop"
                    ],
                    [
                      "Bourbon Coffee"
                    ],
                    [
                      "Brookline Lunch"
                    ],
                    [
                      "Cabot's Candy"
                    ],
                    [
                      "Cambridge Clogs"
                    ],
                    [
                      "Cambridge School of Culinary Arts"
                    ],
                    [
                      "Cardullo's"
                    ],
                    [
                      "Catalyst Performance Training"
                    ],
                    [
                      "Central Bakery"
                    ],
                    [
                      "Cheapo Records"
                    ],
                    [
                      "Christina's Homemade Ice Cream"
                    ],
                    [
                      "Circle Furniture"
                    ],
                    [
                      "Classic Graphx"
                    ],
                    [
                      "Clevergreen Cleaners"
                    ],
                    [
                      "Clothware"
                    ],
                    [
                      "Clover - Central"
                    ],
                    [
                      "Clover - Harvard"
                    ],
                    [
                      "Clover - HQ"
                    ],
                    [
                      "Clover - Kendall"
                    ],
                    [
                      "Commonwealth Wine School"
                    ],
                    [
                      "Concord Ave. Cafe"
                    ],
                    [
                      "Courthouse Seafood Restaurant"
                    ],
                    [
                      "Crimson Corner"
                    ],
                    [
                      "Curio Coffee and Wine"
                    ],
                    [
                      "Curio Spice"
                    ],
                    [
                      "Custom Eyes"
                    ],
                    [
                      "Dana Hill Liquors"
                    ],
                    [
                      "Dance Complex"
                    ],
                    [
                      "Daniel R. Spirer Jewelers"
                    ],
                    [
                      "Dumpling Daughter"
                    ],
                    [
                      "Dunkin Donuts"
                    ],
                    [
                      "Dunkin Donuts"
                    ],
                    [
                      "Dunkin Donuts"
                    ],
                    [
                      "Dunkin Donuts"
                    ],
                    [
                      "Dunkin Donuts"
                    ],
                    [
                      "EH Chocolatier"
                    ],
                    [
                      "Eliot Street Cafe/Dunkin Donuts"
                    ],
                    [
                      "Fitlab Pilates"
                    ],
                    [
                      "Five Doors Health and Wellness"
                    ],
                    [
                      "Flour Bakery"
                    ],
                    [
                      "Forty Winks"
                    ],
                    [
                      "Gather Here"
                    ],
                    [
                      "Good Vibrations"
                    ],
                    [
                      "GrayMist Studio and Shop"
                    ],
                    [
                      "Guitar Stop"
                    ],
                    [
                      "Gymnastic Academy of Boston"
                    ],
                    [
                      "Harvard Book Store"
                    ],
                    [
                      "Harvard Coop"
                    ],
                    [
                      "Heartbreak Hill Running Company"
                    ],
                    [
                      "Hilton Tent City"
                    ],
                    [
                      "House of Chang"
                    ],
                    [
                      "Hubba Hubba"
                    ],
                    [
                      "I Love Sushi"
                    ],
                    [
                      "Iggy's Bread"
                    ],
                    [
                      "IK Bio Jewelry"
                    ],
                    [
                      "Izzy's Restaurant and Sub Shop"
                    ],
                    [
                      "Jae H Kim Tae Kwan Do"
                    ],
                    [
                      "Kendall Kitchen"
                    ],
                    [
                      "Kung Fu Tea"
                    ],
                    [
                      "Lamplighter Brewery"
                    ],
                    [
                      "Leavitt & Peirce"
                    ],
                    [
                      "Looks"
                    ],
                    [
                      "Loyal Companion"
                    ],
                    [
                      "Magic Beans"
                    ],
                    [
                      "Marathon Sports"
                    ],
                    [
                      "Marimekko"
                    ],
                    [
                      "Mary Chung"
                    ],
                    [
                      "Mass Ave. Chicken"
                    ],
                    [
                      "Mayflower Poultry Company"
                    ],
                    [
                      "McDonald's"
                    ],
                    [
                      "Mexcito Street Tacos"
                    ],
                    [
                      "Mike's Monster Guitar"
                    ],
                    [
                      "Milk Bar"
                    ],
                    [
                      "Million Year Picnic"
                    ],
                    [
                      "Mint Julep"
                    ],
                    [
                      "MIT Coop"
                    ],
                    [
                      "Modern Homebrew Emporium"
                    ],
                    [
                      "Monella"
                    ],
                    [
                      "Mother Juice"
                    ],
                    [
                      "Motto"
                    ],
                    [
                      "Mucky Kids Art Studio"
                    ],
                    [
                      "New City Microcreamery"
                    ],
                    [
                      "New England Comics"
                    ],
                    [
                      "Newbury Comics"
                    ],
                    [
                      "Nomad"
                    ],
                    [
                      "Nubar"
                    ],
                    [
                      "Nussli 118"
                    ],
                    [
                      "Olympia Fencing Center"
                    ],
                    [
                      "Ono Pokebar"
                    ],
                    [
                      "Pacific Street Cafe"
                    ],
                    [
                      "Pandemonium Books & Games"
                    ],
                    [
                      "Pemberton Market"
                    ],
                    [
                      "Pod"
                    ],
                    [
                      "Pressed Juicery"
                    ],
                    [
                      "Q Audio"
                    ],
                    [
                      "Raspberry Beret"
                    ],
                    [
                      "Rebekah Brooks Jewlery"
                    ],
                    [
                      "ReSide"
                    ],
                    [
                      "Richards"
                    ],
                    [
                      "Robin Bledsoe, Bookseller"
                    ],
                    [
                      "Rockler Woodworking & Hardware"
                    ],
                    [
                      "Royal Pastry Shop"
                    ],
                    [
                      "Sanctuary by VIM"
                    ],
                    [
                      "Sapporo Ramen"
                    ],
                    [
                      "See"
                    ],
                    [
                      "Shop Fog Linen"
                    ],
                    [
                      "Similans"
                    ],
                    [
                      "Simons Coffee Shop"
                    ],
                    [
                      "Social Wines"
                    ],
                    [
                      "Sofra Bakery and Cafe"
                    ],
                    [
                      "Spira Yoga Shala"
                    ],
                    [
                      "Starbucks"
                    ],
                    [
                      "Starbucks"
                    ],
                    [
                      "Starbucks"
                    ],
                    [
                      "Starbucks"
                    ],
                    [
                      "Starbucks Central Square"
                    ],
                    [
                      "Starbucks Harvard Square"
                    ],
                    [
                      "Stereo Jacks"
                    ],
                    [
                      "Super Roll Up Café"
                    ],
                    [
                      "Susanna"
                    ],
                    [
                      "Sweet Touch Café"
                    ],
                    [
                      "Swiss Watchmaker"
                    ],
                    [
                      "Teddy's Shoes"
                    ],
                    [
                      "Toscanini's Ice Cream"
                    ],
                    [
                      "University Stationery"
                    ],
                    [
                      "Upper Crust Pizza"
                    ],
                    [
                      "Veggie Galaxy"
                    ],
                    [
                      "Vester"
                    ],
                    [
                      "Village Kitchen"
                    ],
                    [
                      "VIM Fitness"
                    ],
                    [
                      "Ward Maps"
                    ],
                    [
                      "We Theives"
                    ],
                    [
                      "Wu Dao King Fu & Tai Chi"
                    ],
                    [
                      "Yume Wo Katare"
                    ],
                    [
                      "Zinnia Jewelry"
                    ]
                  ],
                  "hovertemplate": "Sales Options=Take Out<br>Longitude=%{x}<br>Latitude=%{y}<br>size=%{marker.size}<br>Name=%{customdata[0]}<extra></extra>",
                  "legendgroup": "Take Out",
                  "marker": {
                    "color": "#00cc96",
                    "opacity": 0.7,
                    "size": [
                      2,
                      2,
                      2,
                      2,
                      2,
                      2,
                      2,
                      2,
                      2,
                      2,
                      2,
                      2,
                      2,
                      2,
                      2,
                      2,
                      2,
                      2,
                      2,
                      2,
                      2,
                      2,
                      2,
                      2,
                      2,
                      2,
                      2,
                      2,
                      2,
                      2,
                      2,
                      2,
                      2,
                      2,
                      2,
                      2,
                      2,
                      2,
                      2,
                      2,
                      2,
                      2,
                      2,
                      2,
                      2,
                      2,
                      2,
                      2,
                      2,
                      2,
                      2,
                      2,
                      2,
                      2,
                      2,
                      2,
                      2,
                      2,
                      2,
                      2,
                      2,
                      2,
                      2,
                      2,
                      2,
                      2,
                      2,
                      2,
                      2,
                      2,
                      2,
                      2,
                      2,
                      2,
                      2,
                      2,
                      2,
                      2,
                      2,
                      2,
                      2,
                      2,
                      2,
                      2,
                      2,
                      2,
                      2,
                      2,
                      2,
                      2,
                      2,
                      2,
                      2,
                      2,
                      2,
                      2,
                      2,
                      2,
                      2,
                      2,
                      2,
                      2,
                      2,
                      2,
                      2,
                      2,
                      2,
                      2,
                      2,
                      2,
                      2,
                      2,
                      2,
                      2,
                      2,
                      2,
                      2,
                      2,
                      2,
                      2,
                      2,
                      2,
                      2,
                      2,
                      2,
                      2,
                      2,
                      2,
                      2,
                      2,
                      2,
                      2,
                      2,
                      2,
                      2,
                      2,
                      2,
                      2,
                      2,
                      2,
                      2,
                      2,
                      2,
                      2,
                      2,
                      2,
                      2,
                      2,
                      2,
                      2,
                      2,
                      2,
                      2,
                      2,
                      2
                    ],
                    "sizemode": "area",
                    "sizeref": 0.005,
                    "symbol": "circle"
                  },
                  "mode": "markers",
                  "name": "Take Out",
                  "orientation": "v",
                  "showlegend": true,
                  "type": "scatter",
                  "x": [
                    -71.121712,
                    -71.143298,
                    -71.118935,
                    -71.091511,
                    -71.115571,
                    -71.118891,
                    -71.11984,
                    -71.086892,
                    -71.119896,
                    -71.121092,
                    -71.100896,
                    -71.140817,
                    -71.121712,
                    -71.11984,
                    -71.150573,
                    -71.121712,
                    -71.119896,
                    -71.11984,
                    -71.089296,
                    -71.141124,
                    -71.11984,
                    -71.118935,
                    -71.101702,
                    -71.121712,
                    -71.121712,
                    -71.121712,
                    -71.119896,
                    -71.10239,
                    -71.115571,
                    -71.10227,
                    -71.098383,
                    -71.142701,
                    -71.104495,
                    -71.079588,
                    -71.121712,
                    -71.101603,
                    -71.117862,
                    -71.115571,
                    -71.087481,
                    -71.119106,
                    -71.143298,
                    -71.084505,
                    -71.119896,
                    -71.115571,
                    -71.092686,
                    -71.103142,
                    -71.121712,
                    -71.121712,
                    -71.121712,
                    -71.088167,
                    -71.083475,
                    -71.114462,
                    -71.121712,
                    -71.103394,
                    -71.121712,
                    -71.146047,
                    -71.11984,
                    -71.115571,
                    -71.121712,
                    -71.096684,
                    -71.11984,
                    -71.115571,
                    -71.120145,
                    -71.146047,
                    -71.121712,
                    -71.150573,
                    -71.116354,
                    -71.121712,
                    -71.121712,
                    -71.121712,
                    -71.143298,
                    -71.110305,
                    -71.118935,
                    -71.148017,
                    -71.105616,
                    -71.115389,
                    -71.121712,
                    -71.144152,
                    -71.121712,
                    -71.114462,
                    -71.121712,
                    -71.114336,
                    -71.078403,
                    -71.146047,
                    -71.121712,
                    -71.146047,
                    -71.101199,
                    -71.105238,
                    -71.086646,
                    -71.100859,
                    -71.082709,
                    -71.121712,
                    -71.119896,
                    -71.114482,
                    -71.120156,
                    -71.138875,
                    -71.121712,
                    -71.119896,
                    -71.081835,
                    -71.120156,
                    -71.121712,
                    -71.100048,
                    -71.121092,
                    -71.11984,
                    -71.121712,
                    -71.122361,
                    -71.121712,
                    -71.150573,
                    -71.119717,
                    -71.1012,
                    -71.105585,
                    -71.12543,
                    -71.118253,
                    -71.121712,
                    -71.101651,
                    -71.121712,
                    -71.144693,
                    -71.143298,
                    -71.117984,
                    -71.12011,
                    -71.124746,
                    -71.115571,
                    -71.099564,
                    -71.118935,
                    -71.121712,
                    -71.118253,
                    -71.078059,
                    -71.121712,
                    -71.096891,
                    -71.150301,
                    -71.115571,
                    -71.115036,
                    -71.114462,
                    -71.119869,
                    -71.114462,
                    -71.103734,
                    -71.121712,
                    -71.121712,
                    -71.115571,
                    -71.121712,
                    -71.115571,
                    -71.120156,
                    -71.102409,
                    -71.078403,
                    -71.121712,
                    -71.121712,
                    -71.101137,
                    -71.088167,
                    -71.146047,
                    -71.102658,
                    -71.121712,
                    -71.115571,
                    -71.150573,
                    -71.119717,
                    -71.121712
                  ],
                  "xaxis": "x",
                  "y": [
                    42.390604,
                    42.388669,
                    42.387404,
                    42.363981,
                    42.375656,
                    42.371447,
                    42.372945,
                    42.373205,
                    42.373357,
                    42.373069,
                    42.363507,
                    42.392738,
                    42.390604,
                    42.372945,
                    42.392718,
                    42.390604,
                    42.373357,
                    42.372945,
                    42.366905,
                    42.387001,
                    42.372945,
                    42.387404,
                    42.363802,
                    42.390604,
                    42.390604,
                    42.390604,
                    42.373357,
                    42.360659,
                    42.375656,
                    42.364309,
                    42.37351,
                    42.390242,
                    42.365441,
                    42.372108,
                    42.390604,
                    42.363941,
                    42.372928,
                    42.375656,
                    42.362808,
                    42.372654,
                    42.388669,
                    42.37152,
                    42.373357,
                    42.375656,
                    42.357378,
                    42.366205,
                    42.390604,
                    42.390604,
                    42.390604,
                    42.362559,
                    42.362805,
                    42.374834,
                    42.390604,
                    42.364966,
                    42.390604,
                    42.3791,
                    42.372945,
                    42.375656,
                    42.390604,
                    42.361035,
                    42.372945,
                    42.375656,
                    42.37233,
                    42.3791,
                    42.390604,
                    42.392718,
                    42.372565,
                    42.390604,
                    42.390604,
                    42.390604,
                    42.388669,
                    42.371887,
                    42.387404,
                    42.393459,
                    42.3751,
                    42.372296,
                    42.390604,
                    42.411935,
                    42.390604,
                    42.374834,
                    42.390604,
                    42.370931,
                    42.364392,
                    42.3791,
                    42.390604,
                    42.3791,
                    42.363693,
                    42.366076,
                    42.372011,
                    42.364012,
                    42.363775,
                    42.390604,
                    42.373357,
                    42.370496,
                    42.374386,
                    42.409135,
                    42.390604,
                    42.373357,
                    42.364663,
                    42.374386,
                    42.390604,
                    42.36359,
                    42.373069,
                    42.372945,
                    42.390604,
                    42.376753,
                    42.390604,
                    42.392718,
                    42.389369,
                    42.359615,
                    42.366049,
                    42.393911,
                    42.382575,
                    42.390604,
                    42.363861,
                    42.390604,
                    42.375444,
                    42.388669,
                    42.376054,
                    42.381134,
                    42.392221,
                    42.375656,
                    42.362704,
                    42.387404,
                    42.390604,
                    42.382575,
                    42.366359,
                    42.390604,
                    42.361195,
                    42.374856,
                    42.375656,
                    42.358123,
                    42.374834,
                    42.382268,
                    42.374834,
                    42.36562,
                    42.390604,
                    42.390604,
                    42.375656,
                    42.390604,
                    42.375656,
                    42.374386,
                    42.364388,
                    42.364392,
                    42.390604,
                    42.390604,
                    42.363461,
                    42.362559,
                    42.3791,
                    42.365004,
                    42.390604,
                    42.375656,
                    42.392718,
                    42.389369,
                    42.390604
                  ],
                  "yaxis": "y"
                },
                {
                  "customdata": [
                    [
                      "Alden and Harlow"
                    ],
                    [
                      "Andala Coffee House"
                    ],
                    [
                      "Barismo"
                    ],
                    [
                      "Blue Bottle"
                    ],
                    [
                      "Bluestone Lane"
                    ],
                    [
                      "Cafe Du Pays"
                    ],
                    [
                      "Cambridge Brewing Co."
                    ],
                    [
                      "Cambridge Common"
                    ],
                    [
                      "Casa Portugal"
                    ],
                    [
                      "Dado Tea"
                    ],
                    [
                      "Elmendorf Baking Supplies and Café"
                    ],
                    [
                      "Flour Bakery"
                    ],
                    [
                      "Frank's Steakhouse"
                    ],
                    [
                      "Giulia"
                    ],
                    [
                      "Gracenote Coffee and Wine"
                    ],
                    [
                      "Gran Gusto"
                    ],
                    [
                      "Greek Corner"
                    ],
                    [
                      "Gypsy Place Coffee"
                    ],
                    [
                      "Harvest"
                    ],
                    [
                      "Henrietta's Table"
                    ],
                    [
                      "Hong Kong Restaurant"
                    ],
                    [
                      "Joe Sent Me"
                    ],
                    [
                      "Lone Star Taco Bar"
                    ],
                    [
                      "Loyal Nine"
                    ],
                    [
                      "Mariposa Bakery"
                    ],
                    [
                      "Mit-It Restaurant"
                    ],
                    [
                      "Momi Nomi"
                    ],
                    [
                      "Muku"
                    ],
                    [
                      "Newtowne Grille"
                    ],
                    [
                      "Oleana"
                    ],
                    [
                      "Pammy's"
                    ],
                    [
                      "Red House Restaurant"
                    ],
                    [
                      "Russell House Tavern"
                    ],
                    [
                      "S&S Restaurant"
                    ],
                    [
                      "Santouka Harvard Square"
                    ],
                    [
                      "Shine Pub"
                    ],
                    [
                      "Sorce Restaurant"
                    ],
                    [
                      "Tatte"
                    ],
                    [
                      "Trattoria Pulcinella"
                    ],
                    [
                      "Urban Hearth"
                    ],
                    [
                      "Wachusetts Brew Yard"
                    ],
                    [
                      "Zoe's"
                    ]
                  ],
                  "hovertemplate": "Sales Options=Takeout, Dine in<br>Longitude=%{x}<br>Latitude=%{y}<br>size=%{marker.size}<br>Name=%{customdata[0]}<extra></extra>",
                  "legendgroup": "Takeout, Dine in",
                  "marker": {
                    "color": "#ab63fa",
                    "opacity": 0.7,
                    "size": [
                      2,
                      2,
                      2,
                      2,
                      2,
                      2,
                      2,
                      2,
                      2,
                      2,
                      2,
                      2,
                      2,
                      2,
                      2,
                      2,
                      2,
                      2,
                      2,
                      2,
                      2,
                      2,
                      2,
                      2,
                      2,
                      2,
                      2,
                      2,
                      2,
                      2,
                      2,
                      2,
                      2,
                      2,
                      2,
                      2,
                      2,
                      2,
                      2,
                      2,
                      2,
                      2
                    ],
                    "sizemode": "area",
                    "sizeref": 0.005,
                    "symbol": "circle"
                  },
                  "mode": "markers",
                  "name": "Takeout, Dine in",
                  "orientation": "v",
                  "showlegend": true,
                  "type": "scatter",
                  "x": [
                    -71.121476,
                    -71.105778,
                    -71.114462,
                    -71.088167,
                    -71.119896,
                    -71.091707,
                    -71.089296,
                    -71.121712,
                    -71.115571,
                    -71.109864,
                    -71.086458,
                    -71.103537,
                    -71.128287,
                    -71.121712,
                    -71.078403,
                    -71.132376,
                    -71.129475,
                    -71.099755,
                    -71.119896,
                    -71.122357,
                    -71.121712,
                    -71.121712,
                    -71.086895,
                    -71.115571,
                    -71.100646,
                    -71.121712,
                    -71.115571,
                    -71.121712,
                    -71.121712,
                    -71.097179,
                    -71.109187,
                    -71.120133,
                    -71.11984,
                    -71.115571,
                    -71.115839,
                    -71.121712,
                    -71.120156,
                    -71.082706,
                    -71.146047,
                    -71.121712,
                    -71.119106,
                    -71.113654
                  ],
                  "xaxis": "x",
                  "y": [
                    42.373533,
                    42.364766,
                    42.374834,
                    42.362559,
                    42.373357,
                    42.366395,
                    42.366905,
                    42.390604,
                    42.375656,
                    42.369112,
                    42.371754,
                    42.357505,
                    42.395431,
                    42.390604,
                    42.364392,
                    42.388246,
                    42.396467,
                    42.37284,
                    42.373357,
                    42.372475,
                    42.390604,
                    42.390604,
                    42.372062,
                    42.375656,
                    42.363362,
                    42.390604,
                    42.375656,
                    42.390604,
                    42.390604,
                    42.370567,
                    42.368433,
                    42.371993,
                    42.372945,
                    42.375656,
                    42.372115,
                    42.390604,
                    42.374386,
                    42.364936,
                    42.3791,
                    42.390604,
                    42.372654,
                    42.370754
                  ],
                  "yaxis": "y"
                },
                {
                  "customdata": [
                    [
                      "Charlie's Kitchen"
                    ],
                    [
                      "Mead Hall"
                    ],
                    [
                      "Phoenix Landing"
                    ],
                    [
                      "Plough and Stars"
                    ],
                    [
                      "Portugalia"
                    ],
                    [
                      "Whitneys"
                    ]
                  ],
                  "hovertemplate": "Sales Options=Dine in<br>Longitude=%{x}<br>Latitude=%{y}<br>size=%{marker.size}<br>Name=%{customdata[0]}<extra></extra>",
                  "legendgroup": "Dine in",
                  "marker": {
                    "color": "#FFA15A",
                    "opacity": 0.7,
                    "size": [
                      2,
                      2,
                      2,
                      2,
                      2,
                      2
                    ],
                    "sizemode": "area",
                    "sizeref": 0.005,
                    "symbol": "circle"
                  },
                  "mode": "markers",
                  "name": "Dine in",
                  "orientation": "v",
                  "showlegend": true,
                  "type": "scatter",
                  "x": [
                    -71.121092,
                    -71.114462,
                    -71.101881,
                    -71.108798,
                    -71.115571,
                    -71.11984
                  ],
                  "xaxis": "x",
                  "y": [
                    42.373069,
                    42.374834,
                    42.364091,
                    42.368261,
                    42.375656,
                    42.372945
                  ],
                  "yaxis": "y"
                },
                {
                  "hovertext": [
                    "Harvard"
                  ],
                  "marker": {
                    "color": [
                      "crimson"
                    ],
                    "opacity": 0.4,
                    "size": 150
                  },
                  "mode": "markers",
                  "name": "Harvard",
                  "type": "scatter",
                  "x": [
                    -71.1171
                  ],
                  "y": [
                    42.3744
                  ]
                },
                {
                  "hovertext": [
                    "MIT"
                  ],
                  "marker": {
                    "color": [
                      "seagreen"
                    ],
                    "opacity": 0.4,
                    "size": 150
                  },
                  "mode": "markers",
                  "name": "MIT",
                  "type": "scatter",
                  "x": [
                    -71.0921
                  ],
                  "y": [
                    42.3598
                  ]
                }
              ],
              "layout": {
                "legend": {
                  "itemsizing": "constant",
                  "title": {
                    "text": "Sales Options"
                  },
                  "tracegroupgap": 0
                },
                "margin": {
                  "t": 60
                },
                "template": {
                  "data": {
                    "bar": [
                      {
                        "error_x": {
                          "color": "#2a3f5f"
                        },
                        "error_y": {
                          "color": "#2a3f5f"
                        },
                        "marker": {
                          "line": {
                            "color": "#E5ECF6",
                            "width": 0.5
                          }
                        },
                        "type": "bar"
                      }
                    ],
                    "barpolar": [
                      {
                        "marker": {
                          "line": {
                            "color": "#E5ECF6",
                            "width": 0.5
                          }
                        },
                        "type": "barpolar"
                      }
                    ],
                    "carpet": [
                      {
                        "aaxis": {
                          "endlinecolor": "#2a3f5f",
                          "gridcolor": "white",
                          "linecolor": "white",
                          "minorgridcolor": "white",
                          "startlinecolor": "#2a3f5f"
                        },
                        "baxis": {
                          "endlinecolor": "#2a3f5f",
                          "gridcolor": "white",
                          "linecolor": "white",
                          "minorgridcolor": "white",
                          "startlinecolor": "#2a3f5f"
                        },
                        "type": "carpet"
                      }
                    ],
                    "choropleth": [
                      {
                        "colorbar": {
                          "outlinewidth": 0,
                          "ticks": ""
                        },
                        "type": "choropleth"
                      }
                    ],
                    "contour": [
                      {
                        "colorbar": {
                          "outlinewidth": 0,
                          "ticks": ""
                        },
                        "colorscale": [
                          [
                            0,
                            "#0d0887"
                          ],
                          [
                            0.1111111111111111,
                            "#46039f"
                          ],
                          [
                            0.2222222222222222,
                            "#7201a8"
                          ],
                          [
                            0.3333333333333333,
                            "#9c179e"
                          ],
                          [
                            0.4444444444444444,
                            "#bd3786"
                          ],
                          [
                            0.5555555555555556,
                            "#d8576b"
                          ],
                          [
                            0.6666666666666666,
                            "#ed7953"
                          ],
                          [
                            0.7777777777777778,
                            "#fb9f3a"
                          ],
                          [
                            0.8888888888888888,
                            "#fdca26"
                          ],
                          [
                            1,
                            "#f0f921"
                          ]
                        ],
                        "type": "contour"
                      }
                    ],
                    "contourcarpet": [
                      {
                        "colorbar": {
                          "outlinewidth": 0,
                          "ticks": ""
                        },
                        "type": "contourcarpet"
                      }
                    ],
                    "heatmap": [
                      {
                        "colorbar": {
                          "outlinewidth": 0,
                          "ticks": ""
                        },
                        "colorscale": [
                          [
                            0,
                            "#0d0887"
                          ],
                          [
                            0.1111111111111111,
                            "#46039f"
                          ],
                          [
                            0.2222222222222222,
                            "#7201a8"
                          ],
                          [
                            0.3333333333333333,
                            "#9c179e"
                          ],
                          [
                            0.4444444444444444,
                            "#bd3786"
                          ],
                          [
                            0.5555555555555556,
                            "#d8576b"
                          ],
                          [
                            0.6666666666666666,
                            "#ed7953"
                          ],
                          [
                            0.7777777777777778,
                            "#fb9f3a"
                          ],
                          [
                            0.8888888888888888,
                            "#fdca26"
                          ],
                          [
                            1,
                            "#f0f921"
                          ]
                        ],
                        "type": "heatmap"
                      }
                    ],
                    "heatmapgl": [
                      {
                        "colorbar": {
                          "outlinewidth": 0,
                          "ticks": ""
                        },
                        "colorscale": [
                          [
                            0,
                            "#0d0887"
                          ],
                          [
                            0.1111111111111111,
                            "#46039f"
                          ],
                          [
                            0.2222222222222222,
                            "#7201a8"
                          ],
                          [
                            0.3333333333333333,
                            "#9c179e"
                          ],
                          [
                            0.4444444444444444,
                            "#bd3786"
                          ],
                          [
                            0.5555555555555556,
                            "#d8576b"
                          ],
                          [
                            0.6666666666666666,
                            "#ed7953"
                          ],
                          [
                            0.7777777777777778,
                            "#fb9f3a"
                          ],
                          [
                            0.8888888888888888,
                            "#fdca26"
                          ],
                          [
                            1,
                            "#f0f921"
                          ]
                        ],
                        "type": "heatmapgl"
                      }
                    ],
                    "histogram": [
                      {
                        "marker": {
                          "colorbar": {
                            "outlinewidth": 0,
                            "ticks": ""
                          }
                        },
                        "type": "histogram"
                      }
                    ],
                    "histogram2d": [
                      {
                        "colorbar": {
                          "outlinewidth": 0,
                          "ticks": ""
                        },
                        "colorscale": [
                          [
                            0,
                            "#0d0887"
                          ],
                          [
                            0.1111111111111111,
                            "#46039f"
                          ],
                          [
                            0.2222222222222222,
                            "#7201a8"
                          ],
                          [
                            0.3333333333333333,
                            "#9c179e"
                          ],
                          [
                            0.4444444444444444,
                            "#bd3786"
                          ],
                          [
                            0.5555555555555556,
                            "#d8576b"
                          ],
                          [
                            0.6666666666666666,
                            "#ed7953"
                          ],
                          [
                            0.7777777777777778,
                            "#fb9f3a"
                          ],
                          [
                            0.8888888888888888,
                            "#fdca26"
                          ],
                          [
                            1,
                            "#f0f921"
                          ]
                        ],
                        "type": "histogram2d"
                      }
                    ],
                    "histogram2dcontour": [
                      {
                        "colorbar": {
                          "outlinewidth": 0,
                          "ticks": ""
                        },
                        "colorscale": [
                          [
                            0,
                            "#0d0887"
                          ],
                          [
                            0.1111111111111111,
                            "#46039f"
                          ],
                          [
                            0.2222222222222222,
                            "#7201a8"
                          ],
                          [
                            0.3333333333333333,
                            "#9c179e"
                          ],
                          [
                            0.4444444444444444,
                            "#bd3786"
                          ],
                          [
                            0.5555555555555556,
                            "#d8576b"
                          ],
                          [
                            0.6666666666666666,
                            "#ed7953"
                          ],
                          [
                            0.7777777777777778,
                            "#fb9f3a"
                          ],
                          [
                            0.8888888888888888,
                            "#fdca26"
                          ],
                          [
                            1,
                            "#f0f921"
                          ]
                        ],
                        "type": "histogram2dcontour"
                      }
                    ],
                    "mesh3d": [
                      {
                        "colorbar": {
                          "outlinewidth": 0,
                          "ticks": ""
                        },
                        "type": "mesh3d"
                      }
                    ],
                    "parcoords": [
                      {
                        "line": {
                          "colorbar": {
                            "outlinewidth": 0,
                            "ticks": ""
                          }
                        },
                        "type": "parcoords"
                      }
                    ],
                    "pie": [
                      {
                        "automargin": true,
                        "type": "pie"
                      }
                    ],
                    "scatter": [
                      {
                        "marker": {
                          "colorbar": {
                            "outlinewidth": 0,
                            "ticks": ""
                          }
                        },
                        "type": "scatter"
                      }
                    ],
                    "scatter3d": [
                      {
                        "line": {
                          "colorbar": {
                            "outlinewidth": 0,
                            "ticks": ""
                          }
                        },
                        "marker": {
                          "colorbar": {
                            "outlinewidth": 0,
                            "ticks": ""
                          }
                        },
                        "type": "scatter3d"
                      }
                    ],
                    "scattercarpet": [
                      {
                        "marker": {
                          "colorbar": {
                            "outlinewidth": 0,
                            "ticks": ""
                          }
                        },
                        "type": "scattercarpet"
                      }
                    ],
                    "scattergeo": [
                      {
                        "marker": {
                          "colorbar": {
                            "outlinewidth": 0,
                            "ticks": ""
                          }
                        },
                        "type": "scattergeo"
                      }
                    ],
                    "scattergl": [
                      {
                        "marker": {
                          "colorbar": {
                            "outlinewidth": 0,
                            "ticks": ""
                          }
                        },
                        "type": "scattergl"
                      }
                    ],
                    "scattermapbox": [
                      {
                        "marker": {
                          "colorbar": {
                            "outlinewidth": 0,
                            "ticks": ""
                          }
                        },
                        "type": "scattermapbox"
                      }
                    ],
                    "scatterpolar": [
                      {
                        "marker": {
                          "colorbar": {
                            "outlinewidth": 0,
                            "ticks": ""
                          }
                        },
                        "type": "scatterpolar"
                      }
                    ],
                    "scatterpolargl": [
                      {
                        "marker": {
                          "colorbar": {
                            "outlinewidth": 0,
                            "ticks": ""
                          }
                        },
                        "type": "scatterpolargl"
                      }
                    ],
                    "scatterternary": [
                      {
                        "marker": {
                          "colorbar": {
                            "outlinewidth": 0,
                            "ticks": ""
                          }
                        },
                        "type": "scatterternary"
                      }
                    ],
                    "surface": [
                      {
                        "colorbar": {
                          "outlinewidth": 0,
                          "ticks": ""
                        },
                        "colorscale": [
                          [
                            0,
                            "#0d0887"
                          ],
                          [
                            0.1111111111111111,
                            "#46039f"
                          ],
                          [
                            0.2222222222222222,
                            "#7201a8"
                          ],
                          [
                            0.3333333333333333,
                            "#9c179e"
                          ],
                          [
                            0.4444444444444444,
                            "#bd3786"
                          ],
                          [
                            0.5555555555555556,
                            "#d8576b"
                          ],
                          [
                            0.6666666666666666,
                            "#ed7953"
                          ],
                          [
                            0.7777777777777778,
                            "#fb9f3a"
                          ],
                          [
                            0.8888888888888888,
                            "#fdca26"
                          ],
                          [
                            1,
                            "#f0f921"
                          ]
                        ],
                        "type": "surface"
                      }
                    ],
                    "table": [
                      {
                        "cells": {
                          "fill": {
                            "color": "#EBF0F8"
                          },
                          "line": {
                            "color": "white"
                          }
                        },
                        "header": {
                          "fill": {
                            "color": "#C8D4E3"
                          },
                          "line": {
                            "color": "white"
                          }
                        },
                        "type": "table"
                      }
                    ]
                  },
                  "layout": {
                    "annotationdefaults": {
                      "arrowcolor": "#2a3f5f",
                      "arrowhead": 0,
                      "arrowwidth": 1
                    },
                    "autotypenumbers": "strict",
                    "coloraxis": {
                      "colorbar": {
                        "outlinewidth": 0,
                        "ticks": ""
                      }
                    },
                    "colorscale": {
                      "diverging": [
                        [
                          0,
                          "#8e0152"
                        ],
                        [
                          0.1,
                          "#c51b7d"
                        ],
                        [
                          0.2,
                          "#de77ae"
                        ],
                        [
                          0.3,
                          "#f1b6da"
                        ],
                        [
                          0.4,
                          "#fde0ef"
                        ],
                        [
                          0.5,
                          "#f7f7f7"
                        ],
                        [
                          0.6,
                          "#e6f5d0"
                        ],
                        [
                          0.7,
                          "#b8e186"
                        ],
                        [
                          0.8,
                          "#7fbc41"
                        ],
                        [
                          0.9,
                          "#4d9221"
                        ],
                        [
                          1,
                          "#276419"
                        ]
                      ],
                      "sequential": [
                        [
                          0,
                          "#0d0887"
                        ],
                        [
                          0.1111111111111111,
                          "#46039f"
                        ],
                        [
                          0.2222222222222222,
                          "#7201a8"
                        ],
                        [
                          0.3333333333333333,
                          "#9c179e"
                        ],
                        [
                          0.4444444444444444,
                          "#bd3786"
                        ],
                        [
                          0.5555555555555556,
                          "#d8576b"
                        ],
                        [
                          0.6666666666666666,
                          "#ed7953"
                        ],
                        [
                          0.7777777777777778,
                          "#fb9f3a"
                        ],
                        [
                          0.8888888888888888,
                          "#fdca26"
                        ],
                        [
                          1,
                          "#f0f921"
                        ]
                      ],
                      "sequentialminus": [
                        [
                          0,
                          "#0d0887"
                        ],
                        [
                          0.1111111111111111,
                          "#46039f"
                        ],
                        [
                          0.2222222222222222,
                          "#7201a8"
                        ],
                        [
                          0.3333333333333333,
                          "#9c179e"
                        ],
                        [
                          0.4444444444444444,
                          "#bd3786"
                        ],
                        [
                          0.5555555555555556,
                          "#d8576b"
                        ],
                        [
                          0.6666666666666666,
                          "#ed7953"
                        ],
                        [
                          0.7777777777777778,
                          "#fb9f3a"
                        ],
                        [
                          0.8888888888888888,
                          "#fdca26"
                        ],
                        [
                          1,
                          "#f0f921"
                        ]
                      ]
                    },
                    "colorway": [
                      "#636efa",
                      "#EF553B",
                      "#00cc96",
                      "#ab63fa",
                      "#FFA15A",
                      "#19d3f3",
                      "#FF6692",
                      "#B6E880",
                      "#FF97FF",
                      "#FECB52"
                    ],
                    "font": {
                      "color": "#2a3f5f"
                    },
                    "geo": {
                      "bgcolor": "white",
                      "lakecolor": "white",
                      "landcolor": "#E5ECF6",
                      "showlakes": true,
                      "showland": true,
                      "subunitcolor": "white"
                    },
                    "hoverlabel": {
                      "align": "left"
                    },
                    "hovermode": "closest",
                    "mapbox": {
                      "style": "light"
                    },
                    "paper_bgcolor": "white",
                    "plot_bgcolor": "#E5ECF6",
                    "polar": {
                      "angularaxis": {
                        "gridcolor": "white",
                        "linecolor": "white",
                        "ticks": ""
                      },
                      "bgcolor": "#E5ECF6",
                      "radialaxis": {
                        "gridcolor": "white",
                        "linecolor": "white",
                        "ticks": ""
                      }
                    },
                    "scene": {
                      "xaxis": {
                        "backgroundcolor": "#E5ECF6",
                        "gridcolor": "white",
                        "gridwidth": 2,
                        "linecolor": "white",
                        "showbackground": true,
                        "ticks": "",
                        "zerolinecolor": "white"
                      },
                      "yaxis": {
                        "backgroundcolor": "#E5ECF6",
                        "gridcolor": "white",
                        "gridwidth": 2,
                        "linecolor": "white",
                        "showbackground": true,
                        "ticks": "",
                        "zerolinecolor": "white"
                      },
                      "zaxis": {
                        "backgroundcolor": "#E5ECF6",
                        "gridcolor": "white",
                        "gridwidth": 2,
                        "linecolor": "white",
                        "showbackground": true,
                        "ticks": "",
                        "zerolinecolor": "white"
                      }
                    },
                    "shapedefaults": {
                      "line": {
                        "color": "#2a3f5f"
                      }
                    },
                    "ternary": {
                      "aaxis": {
                        "gridcolor": "white",
                        "linecolor": "white",
                        "ticks": ""
                      },
                      "baxis": {
                        "gridcolor": "white",
                        "linecolor": "white",
                        "ticks": ""
                      },
                      "bgcolor": "#E5ECF6",
                      "caxis": {
                        "gridcolor": "white",
                        "linecolor": "white",
                        "ticks": ""
                      }
                    },
                    "title": {
                      "x": 0.05
                    },
                    "xaxis": {
                      "automargin": true,
                      "gridcolor": "white",
                      "linecolor": "white",
                      "ticks": "",
                      "title": {
                        "standoff": 15
                      },
                      "zerolinecolor": "white",
                      "zerolinewidth": 2
                    },
                    "yaxis": {
                      "automargin": true,
                      "gridcolor": "white",
                      "linecolor": "white",
                      "ticks": "",
                      "title": {
                        "standoff": 15
                      },
                      "zerolinecolor": "white",
                      "zerolinewidth": 2
                    }
                  }
                },
                "xaxis": {
                  "anchor": "y",
                  "domain": [
                    0,
                    1
                  ],
                  "title": {
                    "text": "Longitude"
                  }
                },
                "yaxis": {
                  "anchor": "x",
                  "domain": [
                    0,
                    1
                  ],
                  "title": {
                    "text": "Latitude"
                  }
                }
              }
            }
          },
          "metadata": {},
          "output_type": "display_data"
        }
      ],
      "source": [
        "\n",
        "\n",
        "fig = px.scatter(openloc_clean, x='Longitude', y='Latitude', color='Sales Options', \n",
        "        size=np.repeat(2, np.shape(openloc_clean)[0]), opacity=0.7, hover_data=['Name'])\n",
        "\n",
        "fig.add_scatter(x=[harv_long], y=[harv_lat], mode='markers', marker=dict(size=150, color=['crimson'], opacity=0.4), \n",
        "        hovertext=['Harvard'], name=\"Harvard\")\n",
        "\n",
        "fig.add_scatter(x=[mit_long], y=[mit_lat], mode='markers', marker=dict(size=150, color=['seagreen'], opacity=0.4), \n",
        "        hovertext=['MIT'], name=\"MIT\")\n",
        "\n",
        "fig.show()\n",
        "\n",
        "fig.write_json('sales_options_plot.json')"
      ]
    },
    {
      "cell_type": "markdown",
      "metadata": {
        "created_in_deepnote_cell": true,
        "deepnote_cell_type": "markdown",
        "tags": []
      },
      "source": [
        "<a style='text-decoration:none;line-height:16px;display:flex;color:#5B5B62;padding:10px;justify-content:end;' href='https://deepnote.com?utm_source=created-in-deepnote-cell&projectId=cf414bac-1baa-463f-8d73-f1d9a87e25d5' target=\"_blank\">\n",
        "<img alt='Created in deepnote.com' style='display:inline;max-height:16px;margin:0px;margin-right:7.5px;' src='data:image/svg+xml;base64,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' > </img>\n",
        "Created in <span style='font-weight:600;margin-left:4px;'>Deepnote</span></a>"
      ]
    }
  ],
  "metadata": {
    "deepnote": {},
    "deepnote_execution_queue": [],
    "deepnote_notebook_id": "3cad2f71-1f38-4b2e-81b7-4bb8d6cd0302",
    "kernelspec": {
      "display_name": "CS109a",
      "language": "python",
      "name": "cs109a"
    },
    "language_info": {
      "codemirror_mode": {
        "name": "ipython",
        "version": 3
      },
      "file_extension": ".py",
      "mimetype": "text/x-python",
      "name": "python",
      "nbconvert_exporter": "python",
      "pygments_lexer": "ipython3",
      "version": "3.8.5"
    },
    "orig_nbformat": 2
  },
  "nbformat": 4,
  "nbformat_minor": 2
}