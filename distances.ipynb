{
  "cells": [
    {
      "cell_type": "markdown",
      "source": "Cleaning the dataset (separating coordinates)\n\n",
      "metadata": {
        "tags": [],
        "cell_id": "00000-7408f97d-c9af-4042-b0ed-08feb163adae",
        "deepnote_cell_type": "markdown"
      }
    },
    {
      "cell_type": "code",
      "metadata": {
        "tags": [],
        "cell_id": "00001-a4ce2f87-3da9-4d44-8891-1f4568ba9cdd",
        "deepnote_to_be_reexecuted": false,
        "source_hash": "c76c7c51",
        "execution_millis": 0,
        "execution_start": 1616871557907,
        "deepnote_cell_type": "code"
      },
      "source": "import pandas as pd\nimport numpy as np",
      "execution_count": 1,
      "outputs": []
    },
    {
      "cell_type": "code",
      "metadata": {
        "tags": [],
        "cell_id": "00002-10600f92-cef5-47ef-9009-40e383a7d508",
        "deepnote_to_be_reexecuted": false,
        "source_hash": "c729e2a9",
        "execution_millis": 1,
        "execution_start": 1616871557907,
        "deepnote_cell_type": "code"
      },
      "source": "from math import radians, cos, sin, asin, sqrt\ndef haversine(lon1, lat1, lon2, lat2):\n    \"\"\"\n    Calculate the great circle distance between two points \n    on the earth (specified in decimal degrees)\n    \"\"\"\n    # convert decimal degrees to radians \n    lon1, lat1, lon2, lat2 = map(radians, [lon1, lat1, lon2, lat2])\n    # haversine formula \n    dlon = lon2 - lon1 \n    dlat = lat2 - lat1 \n    a = sin(dlat/2)**2 + cos(lat1) * cos(lat2) * sin(dlon/2)**2\n    c = 2 * asin(sqrt(a)) \n    # Radius of earth in kilometers is 6371\n    km = 6371* c\n    return km",
      "execution_count": 2,
      "outputs": []
    },
    {
      "cell_type": "code",
      "metadata": {
        "tags": [],
        "cell_id": "00002-73e18d38-8648-4f50-8c9b-03d9d6a6579f",
        "deepnote_to_be_reexecuted": false,
        "source_hash": "219ff35",
        "execution_millis": 37,
        "execution_start": 1616871557908,
        "deepnote_cell_type": "code"
      },
      "source": "vacancies = pd.read_csv('Retail_Vacant_Storefronts_December_2020.csv')\nvacancies.head()",
      "execution_count": 3,
      "outputs": [
        {
          "output_type": "execute_result",
          "execution_count": 3,
          "data": {
            "application/vnd.deepnote.dataframe.v2+json": {
              "row_count": 5,
              "column_count": 14,
              "columns": [
                {
                  "name": "Commercial District",
                  "dtype": "object",
                  "stats": {
                    "unique_count": 5,
                    "nan_count": 0,
                    "categories": [
                      {
                        "name": "Smaller Districts",
                        "count": 1
                      },
                      {
                        "name": "Kendall Square",
                        "count": 1
                      },
                      {
                        "name": "3 others",
                        "count": 3
                      }
                    ]
                  }
                },
                {
                  "name": "Address",
                  "dtype": "object",
                  "stats": {
                    "unique_count": 5,
                    "nan_count": 0,
                    "categories": [
                      {
                        "name": "123 River Street",
                        "count": 1
                      },
                      {
                        "name": "One Kendall Square",
                        "count": 1
                      },
                      {
                        "name": "3 others",
                        "count": 3
                      }
                    ]
                  }
                },
                {
                  "name": "City",
                  "dtype": "object",
                  "stats": {
                    "unique_count": 1,
                    "nan_count": 0,
                    "categories": [
                      {
                        "name": "Cambridge",
                        "count": 5
                      }
                    ]
                  }
                },
                {
                  "name": "State",
                  "dtype": "object",
                  "stats": {
                    "unique_count": 1,
                    "nan_count": 0,
                    "categories": [
                      {
                        "name": "Massachusetts",
                        "count": 5
                      }
                    ]
                  }
                },
                {
                  "name": "Zip Code",
                  "dtype": "int64",
                  "stats": {
                    "unique_count": 3,
                    "nan_count": 0,
                    "min": 2138,
                    "max": 2141,
                    "histogram": [
                      {
                        "bin_start": 2138,
                        "bin_end": 2138.3,
                        "count": 1
                      },
                      {
                        "bin_start": 2138.3,
                        "bin_end": 2138.6,
                        "count": 0
                      },
                      {
                        "bin_start": 2138.6,
                        "bin_end": 2138.9,
                        "count": 0
                      },
                      {
                        "bin_start": 2138.9,
                        "bin_end": 2139.2,
                        "count": 3
                      },
                      {
                        "bin_start": 2139.2,
                        "bin_end": 2139.5,
                        "count": 0
                      },
                      {
                        "bin_start": 2139.5,
                        "bin_end": 2139.8,
                        "count": 0
                      },
                      {
                        "bin_start": 2139.8,
                        "bin_end": 2140.1,
                        "count": 0
                      },
                      {
                        "bin_start": 2140.1,
                        "bin_end": 2140.4,
                        "count": 0
                      },
                      {
                        "bin_start": 2140.4,
                        "bin_end": 2140.7,
                        "count": 0
                      },
                      {
                        "bin_start": 2140.7,
                        "bin_end": 2141,
                        "count": 1
                      }
                    ]
                  }
                },
                {
                  "name": "Square Footage",
                  "dtype": "float64",
                  "stats": {
                    "unique_count": 2,
                    "nan_count": 3,
                    "min": 840,
                    "max": 900,
                    "histogram": [
                      {
                        "bin_start": 840,
                        "bin_end": 846,
                        "count": 1
                      },
                      {
                        "bin_start": 846,
                        "bin_end": 852,
                        "count": 0
                      },
                      {
                        "bin_start": 852,
                        "bin_end": 858,
                        "count": 0
                      },
                      {
                        "bin_start": 858,
                        "bin_end": 864,
                        "count": 0
                      },
                      {
                        "bin_start": 864,
                        "bin_end": 870,
                        "count": 0
                      },
                      {
                        "bin_start": 870,
                        "bin_end": 876,
                        "count": 0
                      },
                      {
                        "bin_start": 876,
                        "bin_end": 882,
                        "count": 0
                      },
                      {
                        "bin_start": 882,
                        "bin_end": 888,
                        "count": 0
                      },
                      {
                        "bin_start": 888,
                        "bin_end": 894,
                        "count": 0
                      },
                      {
                        "bin_start": 894,
                        "bin_end": 900,
                        "count": 1
                      }
                    ]
                  }
                },
                {
                  "name": "Length of Vacancy",
                  "dtype": "object",
                  "stats": {
                    "unique_count": 2,
                    "nan_count": 0,
                    "categories": [
                      {
                        "name": "6-10 months",
                        "count": 3
                      },
                      {
                        "name": "5 years or more",
                        "count": 2
                      }
                    ]
                  }
                },
                {
                  "name": "Ownership Type",
                  "dtype": "object",
                  "stats": {
                    "unique_count": 3,
                    "nan_count": 1,
                    "categories": [
                      {
                        "name": "Real Estate Investment Trust (REIT)",
                        "count": 2
                      },
                      {
                        "name": "2 others",
                        "count": 2
                      },
                      {
                        "name": "Missing",
                        "count": 1
                      }
                    ]
                  }
                },
                {
                  "name": "Former Tenant/Current Business",
                  "dtype": "object",
                  "stats": {
                    "unique_count": 5,
                    "nan_count": 0,
                    "categories": [
                      {
                        "name": "River Gods",
                        "count": 1
                      },
                      {
                        "name": "Flat Top Johnny’s",
                        "count": 1
                      },
                      {
                        "name": "3 others",
                        "count": 3
                      }
                    ]
                  }
                },
                {
                  "name": "Business for Sale",
                  "dtype": "object",
                  "stats": {
                    "unique_count": 0,
                    "nan_count": 5,
                    "categories": [
                      {
                        "name": "Missing",
                        "count": 5
                      }
                    ]
                  }
                },
                {
                  "name": "Leasing Activity",
                  "dtype": "object",
                  "stats": {
                    "unique_count": 3,
                    "nan_count": 0,
                    "categories": [
                      {
                        "name": "Unknown",
                        "count": 3
                      },
                      {
                        "name": "Leased pending occupancy",
                        "count": 1
                      },
                      {
                        "name": "Actively leasing",
                        "count": 1
                      }
                    ]
                  }
                },
                {
                  "name": "Recorded Owner",
                  "dtype": "object",
                  "stats": {
                    "unique_count": 5,
                    "nan_count": 0,
                    "categories": [
                      {
                        "name": "Arthur N. Dobelis 263 Hicks St. #4 Brooklyn, NY 11201",
                        "count": 1
                      },
                      {
                        "name": "ARE-MA Region No. 59 LLC, 385 East Colorado Boulevard, Pasadena, CA 91101",
                        "count": 1
                      },
                      {
                        "name": "3 others",
                        "count": 3
                      }
                    ]
                  }
                },
                {
                  "name": "Leasing Contact",
                  "dtype": "object",
                  "stats": {
                    "unique_count": 3,
                    "nan_count": 2,
                    "categories": [
                      {
                        "name": "Arthur Dobelis, (646) 722-0824",
                        "count": 1
                      },
                      {
                        "name": "2 others",
                        "count": 2
                      },
                      {
                        "name": "Missing",
                        "count": 2
                      }
                    ]
                  }
                },
                {
                  "name": "Coordinates for Mapping",
                  "dtype": "object",
                  "stats": {
                    "unique_count": 5,
                    "nan_count": 0,
                    "categories": [
                      {
                        "name": "POINT (-71.10871620999995 42.36404486100003)",
                        "count": 1
                      },
                      {
                        "name": "POINT (-71.09011699999996 42.36743900000005)",
                        "count": 1
                      },
                      {
                        "name": "3 others",
                        "count": 3
                      }
                    ]
                  }
                },
                {
                  "name": "_deepnote_index_column",
                  "dtype": "int64"
                }
              ],
              "rows_top": [
                {
                  "Commercial District": "Smaller Districts",
                  "Address": "123 River Street",
                  "City": "Cambridge",
                  "State": "Massachusetts",
                  "Zip Code": 2139,
                  "Square Footage": "900.0",
                  "Length of Vacancy": "5 years or more",
                  "Ownership Type": "Individual",
                  "Former Tenant/Current Business": "River Gods",
                  "Business for Sale": "nan",
                  "Leasing Activity": "Leased pending occupancy",
                  "Recorded Owner": "Arthur N. Dobelis 263 Hicks St. #4 Brooklyn, NY 11201",
                  "Leasing Contact": "Arthur Dobelis, (646) 722-0824",
                  "Coordinates for Mapping": "POINT (-71.10871620999995 42.36404486100003)",
                  "_deepnote_index_column": 0
                },
                {
                  "Commercial District": "Kendall Square",
                  "Address": "One Kendall Square",
                  "City": "Cambridge",
                  "State": "Massachusetts",
                  "Zip Code": 2139,
                  "Square Footage": "nan",
                  "Length of Vacancy": "6-10 months",
                  "Ownership Type": "Real Estate Investment Trust (REIT)",
                  "Former Tenant/Current Business": "Flat Top Johnny’s",
                  "Business for Sale": "nan",
                  "Leasing Activity": "Unknown",
                  "Recorded Owner": "ARE-MA Region No. 59 LLC, 385 East Colorado Boulevard, Pasadena, CA 91101",
                  "Leasing Contact": "nan",
                  "Coordinates for Mapping": "POINT (-71.09011699999996 42.36743900000005)",
                  "_deepnote_index_column": 1
                },
                {
                  "Commercial District": "Fresh Pond-Alewife",
                  "Address": "93 Blanchard Rd",
                  "City": "Cambridge",
                  "State": "Massachusetts",
                  "Zip Code": 2138,
                  "Square Footage": "nan",
                  "Length of Vacancy": "6-10 months",
                  "Ownership Type": "Trust",
                  "Former Tenant/Current Business": "Knittin Kitten",
                  "Business for Sale": "nan",
                  "Leasing Activity": "Unknown",
                  "Recorded Owner": "Hillside Garden Supply Co., 280 Blanchard Rd., Belmont, MA 02478",
                  "Leasing Contact": "nan",
                  "Coordinates for Mapping": "POINT (-71.15799258099997 42.39426321500008)",
                  "_deepnote_index_column": 2
                },
                {
                  "Commercial District": "Inman Square",
                  "Address": "168 Hampshire Street",
                  "City": "Cambridge",
                  "State": "Massachusetts",
                  "Zip Code": 2139,
                  "Square Footage": "840.0",
                  "Length of Vacancy": "5 years or more",
                  "Ownership Type": "Real Estate Investment Trust (REIT)",
                  "Former Tenant/Current Business": "Lapel's Dry Cleaning",
                  "Business for Sale": "nan",
                  "Leasing Activity": "Unknown",
                  "Recorded Owner": "Berkmar LLC c/o NCP Management Company, P.O. Box 590179, Newton Center, MA 02459",
                  "Leasing Contact": "NCP Management, Inc. (617) 630-1868",
                  "Coordinates for Mapping": "POINT (-71.09891659199997 42.37186069200004)",
                  "_deepnote_index_column": 3
                },
                {
                  "Commercial District": "East Cambridge",
                  "Address": "149 Cambridge Street",
                  "City": "Cambridge",
                  "State": "Massachusetts",
                  "Zip Code": 2141,
                  "Square Footage": "nan",
                  "Length of Vacancy": "6-10 months",
                  "Ownership Type": "nan",
                  "Former Tenant/Current Business": "Law Offices",
                  "Business for Sale": "nan",
                  "Leasing Activity": "Actively leasing",
                  "Recorded Owner": "Anthony Gargano, trustee of Gargano Family Trust, 149 Cambridge St., Cambridge, MA 02140",
                  "Leasing Contact": "(617) 876-6780",
                  "Coordinates for Mapping": "POINT (-71.07825855299996 42.37099991300005)",
                  "_deepnote_index_column": 4
                }
              ],
              "rows_bottom": null
            },
            "text/plain": "  Commercial District               Address       City          State  \\\n0   Smaller Districts      123 River Street  Cambridge  Massachusetts   \n1      Kendall Square    One Kendall Square  Cambridge  Massachusetts   \n2  Fresh Pond-Alewife       93 Blanchard Rd  Cambridge  Massachusetts   \n3        Inman Square  168 Hampshire Street  Cambridge  Massachusetts   \n4      East Cambridge  149 Cambridge Street  Cambridge  Massachusetts   \n\n   Zip Code  Square Footage Length of Vacancy  \\\n0      2139           900.0   5 years or more   \n1      2139             NaN       6-10 months   \n2      2138             NaN       6-10 months   \n3      2139           840.0   5 years or more   \n4      2141             NaN       6-10 months   \n\n                        Ownership Type Former Tenant/Current Business  \\\n0                           Individual                     River Gods   \n1  Real Estate Investment Trust (REIT)              Flat Top Johnny’s   \n2                                Trust                 Knittin Kitten   \n3  Real Estate Investment Trust (REIT)           Lapel's Dry Cleaning   \n4                                  NaN                    Law Offices   \n\n  Business for Sale          Leasing Activity  \\\n0               NaN  Leased pending occupancy   \n1               NaN                   Unknown   \n2               NaN                   Unknown   \n3               NaN                   Unknown   \n4               NaN          Actively leasing   \n\n                                      Recorded Owner  \\\n0  Arthur N. Dobelis 263 Hicks St. #4 Brooklyn, N...   \n1  ARE-MA Region No. 59 LLC, 385 East Colorado Bo...   \n2  Hillside Garden Supply Co., 280 Blanchard Rd.,...   \n3  Berkmar LLC c/o NCP Management Company, P.O. B...   \n4  Anthony Gargano, trustee of Gargano Family Tru...   \n\n                       Leasing Contact  \\\n0       Arthur Dobelis, (646) 722-0824   \n1                                  NaN   \n2                                  NaN   \n3  NCP Management, Inc. (617) 630-1868   \n4                       (617) 876-6780   \n\n                        Coordinates for Mapping  \n0  POINT (-71.10871620999995 42.36404486100003)  \n1  POINT (-71.09011699999996 42.36743900000005)  \n2  POINT (-71.15799258099997 42.39426321500008)  \n3  POINT (-71.09891659199997 42.37186069200004)  \n4  POINT (-71.07825855299996 42.37099991300005)  ",
            "text/html": "<div>\n<style scoped>\n    .dataframe tbody tr th:only-of-type {\n        vertical-align: middle;\n    }\n\n    .dataframe tbody tr th {\n        vertical-align: top;\n    }\n\n    .dataframe thead th {\n        text-align: right;\n    }\n</style>\n<table border=\"1\" class=\"dataframe\">\n  <thead>\n    <tr style=\"text-align: right;\">\n      <th></th>\n      <th>Commercial District</th>\n      <th>Address</th>\n      <th>City</th>\n      <th>State</th>\n      <th>Zip Code</th>\n      <th>Square Footage</th>\n      <th>Length of Vacancy</th>\n      <th>Ownership Type</th>\n      <th>Former Tenant/Current Business</th>\n      <th>Business for Sale</th>\n      <th>Leasing Activity</th>\n      <th>Recorded Owner</th>\n      <th>Leasing Contact</th>\n      <th>Coordinates for Mapping</th>\n    </tr>\n  </thead>\n  <tbody>\n    <tr>\n      <th>0</th>\n      <td>Smaller Districts</td>\n      <td>123 River Street</td>\n      <td>Cambridge</td>\n      <td>Massachusetts</td>\n      <td>2139</td>\n      <td>900.0</td>\n      <td>5 years or more</td>\n      <td>Individual</td>\n      <td>River Gods</td>\n      <td>NaN</td>\n      <td>Leased pending occupancy</td>\n      <td>Arthur N. Dobelis 263 Hicks St. #4 Brooklyn, N...</td>\n      <td>Arthur Dobelis, (646) 722-0824</td>\n      <td>POINT (-71.10871620999995 42.36404486100003)</td>\n    </tr>\n    <tr>\n      <th>1</th>\n      <td>Kendall Square</td>\n      <td>One Kendall Square</td>\n      <td>Cambridge</td>\n      <td>Massachusetts</td>\n      <td>2139</td>\n      <td>NaN</td>\n      <td>6-10 months</td>\n      <td>Real Estate Investment Trust (REIT)</td>\n      <td>Flat Top Johnny’s</td>\n      <td>NaN</td>\n      <td>Unknown</td>\n      <td>ARE-MA Region No. 59 LLC, 385 East Colorado Bo...</td>\n      <td>NaN</td>\n      <td>POINT (-71.09011699999996 42.36743900000005)</td>\n    </tr>\n    <tr>\n      <th>2</th>\n      <td>Fresh Pond-Alewife</td>\n      <td>93 Blanchard Rd</td>\n      <td>Cambridge</td>\n      <td>Massachusetts</td>\n      <td>2138</td>\n      <td>NaN</td>\n      <td>6-10 months</td>\n      <td>Trust</td>\n      <td>Knittin Kitten</td>\n      <td>NaN</td>\n      <td>Unknown</td>\n      <td>Hillside Garden Supply Co., 280 Blanchard Rd.,...</td>\n      <td>NaN</td>\n      <td>POINT (-71.15799258099997 42.39426321500008)</td>\n    </tr>\n    <tr>\n      <th>3</th>\n      <td>Inman Square</td>\n      <td>168 Hampshire Street</td>\n      <td>Cambridge</td>\n      <td>Massachusetts</td>\n      <td>2139</td>\n      <td>840.0</td>\n      <td>5 years or more</td>\n      <td>Real Estate Investment Trust (REIT)</td>\n      <td>Lapel's Dry Cleaning</td>\n      <td>NaN</td>\n      <td>Unknown</td>\n      <td>Berkmar LLC c/o NCP Management Company, P.O. B...</td>\n      <td>NCP Management, Inc. (617) 630-1868</td>\n      <td>POINT (-71.09891659199997 42.37186069200004)</td>\n    </tr>\n    <tr>\n      <th>4</th>\n      <td>East Cambridge</td>\n      <td>149 Cambridge Street</td>\n      <td>Cambridge</td>\n      <td>Massachusetts</td>\n      <td>2141</td>\n      <td>NaN</td>\n      <td>6-10 months</td>\n      <td>NaN</td>\n      <td>Law Offices</td>\n      <td>NaN</td>\n      <td>Actively leasing</td>\n      <td>Anthony Gargano, trustee of Gargano Family Tru...</td>\n      <td>(617) 876-6780</td>\n      <td>POINT (-71.07825855299996 42.37099991300005)</td>\n    </tr>\n  </tbody>\n</table>\n</div>"
          },
          "metadata": {}
        }
      ]
    },
    {
      "cell_type": "code",
      "metadata": {
        "tags": [],
        "cell_id": "00003-1705fd50-fde9-4569-8717-d7770f632656",
        "deepnote_to_be_reexecuted": false,
        "source_hash": "92367d86",
        "execution_millis": 193,
        "execution_start": 1616871557949,
        "deepnote_cell_type": "code"
      },
      "source": "# Create new column with numeric x and y coordinates\n\nvacancies['Coordinates for Mapping'] = vacancies['Coordinates for Mapping'].map(lambda x: x.lstrip('POINT (').rstrip(')'))\nvacancies[['long','lat']] = vacancies['Coordinates for Mapping'].str.split(expand=True)\nvacancies = vacancies.drop(\"Coordinates for Mapping\", axis = 1)\nvacancies[[\"long\", \"lat\"]] = vacancies[[\"long\", \"lat\"]].apply(pd.to_numeric)\nvacancies.head()",
      "execution_count": 4,
      "outputs": [
        {
          "output_type": "execute_result",
          "execution_count": 4,
          "data": {
            "application/vnd.deepnote.dataframe.v2+json": {
              "row_count": 5,
              "column_count": 15,
              "columns": [
                {
                  "name": "Commercial District",
                  "dtype": "object",
                  "stats": {
                    "unique_count": 5,
                    "nan_count": 0,
                    "categories": [
                      {
                        "name": "Smaller Districts",
                        "count": 1
                      },
                      {
                        "name": "Kendall Square",
                        "count": 1
                      },
                      {
                        "name": "3 others",
                        "count": 3
                      }
                    ]
                  }
                },
                {
                  "name": "Address",
                  "dtype": "object",
                  "stats": {
                    "unique_count": 5,
                    "nan_count": 0,
                    "categories": [
                      {
                        "name": "123 River Street",
                        "count": 1
                      },
                      {
                        "name": "One Kendall Square",
                        "count": 1
                      },
                      {
                        "name": "3 others",
                        "count": 3
                      }
                    ]
                  }
                },
                {
                  "name": "City",
                  "dtype": "object",
                  "stats": {
                    "unique_count": 1,
                    "nan_count": 0,
                    "categories": [
                      {
                        "name": "Cambridge",
                        "count": 5
                      }
                    ]
                  }
                },
                {
                  "name": "State",
                  "dtype": "object",
                  "stats": {
                    "unique_count": 1,
                    "nan_count": 0,
                    "categories": [
                      {
                        "name": "Massachusetts",
                        "count": 5
                      }
                    ]
                  }
                },
                {
                  "name": "Zip Code",
                  "dtype": "int64",
                  "stats": {
                    "unique_count": 3,
                    "nan_count": 0,
                    "min": 2138,
                    "max": 2141,
                    "histogram": [
                      {
                        "bin_start": 2138,
                        "bin_end": 2138.3,
                        "count": 1
                      },
                      {
                        "bin_start": 2138.3,
                        "bin_end": 2138.6,
                        "count": 0
                      },
                      {
                        "bin_start": 2138.6,
                        "bin_end": 2138.9,
                        "count": 0
                      },
                      {
                        "bin_start": 2138.9,
                        "bin_end": 2139.2,
                        "count": 3
                      },
                      {
                        "bin_start": 2139.2,
                        "bin_end": 2139.5,
                        "count": 0
                      },
                      {
                        "bin_start": 2139.5,
                        "bin_end": 2139.8,
                        "count": 0
                      },
                      {
                        "bin_start": 2139.8,
                        "bin_end": 2140.1,
                        "count": 0
                      },
                      {
                        "bin_start": 2140.1,
                        "bin_end": 2140.4,
                        "count": 0
                      },
                      {
                        "bin_start": 2140.4,
                        "bin_end": 2140.7,
                        "count": 0
                      },
                      {
                        "bin_start": 2140.7,
                        "bin_end": 2141,
                        "count": 1
                      }
                    ]
                  }
                },
                {
                  "name": "Square Footage",
                  "dtype": "float64",
                  "stats": {
                    "unique_count": 2,
                    "nan_count": 3,
                    "min": 840,
                    "max": 900,
                    "histogram": [
                      {
                        "bin_start": 840,
                        "bin_end": 846,
                        "count": 1
                      },
                      {
                        "bin_start": 846,
                        "bin_end": 852,
                        "count": 0
                      },
                      {
                        "bin_start": 852,
                        "bin_end": 858,
                        "count": 0
                      },
                      {
                        "bin_start": 858,
                        "bin_end": 864,
                        "count": 0
                      },
                      {
                        "bin_start": 864,
                        "bin_end": 870,
                        "count": 0
                      },
                      {
                        "bin_start": 870,
                        "bin_end": 876,
                        "count": 0
                      },
                      {
                        "bin_start": 876,
                        "bin_end": 882,
                        "count": 0
                      },
                      {
                        "bin_start": 882,
                        "bin_end": 888,
                        "count": 0
                      },
                      {
                        "bin_start": 888,
                        "bin_end": 894,
                        "count": 0
                      },
                      {
                        "bin_start": 894,
                        "bin_end": 900,
                        "count": 1
                      }
                    ]
                  }
                },
                {
                  "name": "Length of Vacancy",
                  "dtype": "object",
                  "stats": {
                    "unique_count": 2,
                    "nan_count": 0,
                    "categories": [
                      {
                        "name": "6-10 months",
                        "count": 3
                      },
                      {
                        "name": "5 years or more",
                        "count": 2
                      }
                    ]
                  }
                },
                {
                  "name": "Ownership Type",
                  "dtype": "object",
                  "stats": {
                    "unique_count": 3,
                    "nan_count": 1,
                    "categories": [
                      {
                        "name": "Real Estate Investment Trust (REIT)",
                        "count": 2
                      },
                      {
                        "name": "2 others",
                        "count": 2
                      },
                      {
                        "name": "Missing",
                        "count": 1
                      }
                    ]
                  }
                },
                {
                  "name": "Former Tenant/Current Business",
                  "dtype": "object",
                  "stats": {
                    "unique_count": 5,
                    "nan_count": 0,
                    "categories": [
                      {
                        "name": "River Gods",
                        "count": 1
                      },
                      {
                        "name": "Flat Top Johnny’s",
                        "count": 1
                      },
                      {
                        "name": "3 others",
                        "count": 3
                      }
                    ]
                  }
                },
                {
                  "name": "Business for Sale",
                  "dtype": "object",
                  "stats": {
                    "unique_count": 0,
                    "nan_count": 5,
                    "categories": [
                      {
                        "name": "Missing",
                        "count": 5
                      }
                    ]
                  }
                },
                {
                  "name": "Leasing Activity",
                  "dtype": "object",
                  "stats": {
                    "unique_count": 3,
                    "nan_count": 0,
                    "categories": [
                      {
                        "name": "Unknown",
                        "count": 3
                      },
                      {
                        "name": "Leased pending occupancy",
                        "count": 1
                      },
                      {
                        "name": "Actively leasing",
                        "count": 1
                      }
                    ]
                  }
                },
                {
                  "name": "Recorded Owner",
                  "dtype": "object",
                  "stats": {
                    "unique_count": 5,
                    "nan_count": 0,
                    "categories": [
                      {
                        "name": "Arthur N. Dobelis 263 Hicks St. #4 Brooklyn, NY 11201",
                        "count": 1
                      },
                      {
                        "name": "ARE-MA Region No. 59 LLC, 385 East Colorado Boulevard, Pasadena, CA 91101",
                        "count": 1
                      },
                      {
                        "name": "3 others",
                        "count": 3
                      }
                    ]
                  }
                },
                {
                  "name": "Leasing Contact",
                  "dtype": "object",
                  "stats": {
                    "unique_count": 3,
                    "nan_count": 2,
                    "categories": [
                      {
                        "name": "Arthur Dobelis, (646) 722-0824",
                        "count": 1
                      },
                      {
                        "name": "2 others",
                        "count": 2
                      },
                      {
                        "name": "Missing",
                        "count": 2
                      }
                    ]
                  }
                },
                {
                  "name": "long",
                  "dtype": "float64",
                  "stats": {
                    "unique_count": 5,
                    "nan_count": 0,
                    "min": -71.15799258099997,
                    "max": -71.07825855299996,
                    "histogram": [
                      {
                        "bin_start": -71.15799258099997,
                        "bin_end": -71.15001917819997,
                        "count": 1
                      },
                      {
                        "bin_start": -71.15001917819997,
                        "bin_end": -71.14204577539996,
                        "count": 0
                      },
                      {
                        "bin_start": -71.14204577539996,
                        "bin_end": -71.13407237259997,
                        "count": 0
                      },
                      {
                        "bin_start": -71.13407237259997,
                        "bin_end": -71.12609896979997,
                        "count": 0
                      },
                      {
                        "bin_start": -71.12609896979997,
                        "bin_end": -71.11812556699996,
                        "count": 0
                      },
                      {
                        "bin_start": -71.11812556699996,
                        "bin_end": -71.11015216419996,
                        "count": 0
                      },
                      {
                        "bin_start": -71.11015216419996,
                        "bin_end": -71.10217876139995,
                        "count": 1
                      },
                      {
                        "bin_start": -71.10217876139995,
                        "bin_end": -71.09420535859996,
                        "count": 1
                      },
                      {
                        "bin_start": -71.09420535859996,
                        "bin_end": -71.08623195579996,
                        "count": 1
                      },
                      {
                        "bin_start": -71.08623195579996,
                        "bin_end": -71.07825855299996,
                        "count": 1
                      }
                    ]
                  }
                },
                {
                  "name": "lat",
                  "dtype": "float64",
                  "stats": {
                    "unique_count": 5,
                    "nan_count": 0,
                    "min": 42.36404486100003,
                    "max": 42.39426321500008,
                    "histogram": [
                      {
                        "bin_start": 42.36404486100003,
                        "bin_end": 42.36706669640004,
                        "count": 1
                      },
                      {
                        "bin_start": 42.36706669640004,
                        "bin_end": 42.37008853180004,
                        "count": 1
                      },
                      {
                        "bin_start": 42.37008853180004,
                        "bin_end": 42.37311036720005,
                        "count": 2
                      },
                      {
                        "bin_start": 42.37311036720005,
                        "bin_end": 42.376132202600054,
                        "count": 0
                      },
                      {
                        "bin_start": 42.376132202600054,
                        "bin_end": 42.37915403800005,
                        "count": 0
                      },
                      {
                        "bin_start": 42.37915403800005,
                        "bin_end": 42.38217587340006,
                        "count": 0
                      },
                      {
                        "bin_start": 42.38217587340006,
                        "bin_end": 42.385197708800064,
                        "count": 0
                      },
                      {
                        "bin_start": 42.385197708800064,
                        "bin_end": 42.38821954420007,
                        "count": 0
                      },
                      {
                        "bin_start": 42.38821954420007,
                        "bin_end": 42.391241379600075,
                        "count": 0
                      },
                      {
                        "bin_start": 42.391241379600075,
                        "bin_end": 42.39426321500008,
                        "count": 1
                      }
                    ]
                  }
                },
                {
                  "name": "_deepnote_index_column",
                  "dtype": "int64"
                }
              ],
              "rows_top": [
                {
                  "Commercial District": "Smaller Districts",
                  "Address": "123 River Street",
                  "City": "Cambridge",
                  "State": "Massachusetts",
                  "Zip Code": 2139,
                  "Square Footage": "900.0",
                  "Length of Vacancy": "5 years or more",
                  "Ownership Type": "Individual",
                  "Former Tenant/Current Business": "River Gods",
                  "Business for Sale": "nan",
                  "Leasing Activity": "Leased pending occupancy",
                  "Recorded Owner": "Arthur N. Dobelis 263 Hicks St. #4 Brooklyn, NY 11201",
                  "Leasing Contact": "Arthur Dobelis, (646) 722-0824",
                  "long": -71.10871620999995,
                  "lat": 42.36404486100003,
                  "_deepnote_index_column": 0
                },
                {
                  "Commercial District": "Kendall Square",
                  "Address": "One Kendall Square",
                  "City": "Cambridge",
                  "State": "Massachusetts",
                  "Zip Code": 2139,
                  "Square Footage": "nan",
                  "Length of Vacancy": "6-10 months",
                  "Ownership Type": "Real Estate Investment Trust (REIT)",
                  "Former Tenant/Current Business": "Flat Top Johnny’s",
                  "Business for Sale": "nan",
                  "Leasing Activity": "Unknown",
                  "Recorded Owner": "ARE-MA Region No. 59 LLC, 385 East Colorado Boulevard, Pasadena, CA 91101",
                  "Leasing Contact": "nan",
                  "long": -71.09011699999996,
                  "lat": 42.36743900000005,
                  "_deepnote_index_column": 1
                },
                {
                  "Commercial District": "Fresh Pond-Alewife",
                  "Address": "93 Blanchard Rd",
                  "City": "Cambridge",
                  "State": "Massachusetts",
                  "Zip Code": 2138,
                  "Square Footage": "nan",
                  "Length of Vacancy": "6-10 months",
                  "Ownership Type": "Trust",
                  "Former Tenant/Current Business": "Knittin Kitten",
                  "Business for Sale": "nan",
                  "Leasing Activity": "Unknown",
                  "Recorded Owner": "Hillside Garden Supply Co., 280 Blanchard Rd., Belmont, MA 02478",
                  "Leasing Contact": "nan",
                  "long": -71.15799258099997,
                  "lat": 42.39426321500008,
                  "_deepnote_index_column": 2
                },
                {
                  "Commercial District": "Inman Square",
                  "Address": "168 Hampshire Street",
                  "City": "Cambridge",
                  "State": "Massachusetts",
                  "Zip Code": 2139,
                  "Square Footage": "840.0",
                  "Length of Vacancy": "5 years or more",
                  "Ownership Type": "Real Estate Investment Trust (REIT)",
                  "Former Tenant/Current Business": "Lapel's Dry Cleaning",
                  "Business for Sale": "nan",
                  "Leasing Activity": "Unknown",
                  "Recorded Owner": "Berkmar LLC c/o NCP Management Company, P.O. Box 590179, Newton Center, MA 02459",
                  "Leasing Contact": "NCP Management, Inc. (617) 630-1868",
                  "long": -71.09891659199997,
                  "lat": 42.37186069200004,
                  "_deepnote_index_column": 3
                },
                {
                  "Commercial District": "East Cambridge",
                  "Address": "149 Cambridge Street",
                  "City": "Cambridge",
                  "State": "Massachusetts",
                  "Zip Code": 2141,
                  "Square Footage": "nan",
                  "Length of Vacancy": "6-10 months",
                  "Ownership Type": "nan",
                  "Former Tenant/Current Business": "Law Offices",
                  "Business for Sale": "nan",
                  "Leasing Activity": "Actively leasing",
                  "Recorded Owner": "Anthony Gargano, trustee of Gargano Family Trust, 149 Cambridge St., Cambridge, MA 02140",
                  "Leasing Contact": "(617) 876-6780",
                  "long": -71.07825855299996,
                  "lat": 42.37099991300005,
                  "_deepnote_index_column": 4
                }
              ],
              "rows_bottom": null
            },
            "text/plain": "  Commercial District               Address       City          State  \\\n0   Smaller Districts      123 River Street  Cambridge  Massachusetts   \n1      Kendall Square    One Kendall Square  Cambridge  Massachusetts   \n2  Fresh Pond-Alewife       93 Blanchard Rd  Cambridge  Massachusetts   \n3        Inman Square  168 Hampshire Street  Cambridge  Massachusetts   \n4      East Cambridge  149 Cambridge Street  Cambridge  Massachusetts   \n\n   Zip Code  Square Footage Length of Vacancy  \\\n0      2139           900.0   5 years or more   \n1      2139             NaN       6-10 months   \n2      2138             NaN       6-10 months   \n3      2139           840.0   5 years or more   \n4      2141             NaN       6-10 months   \n\n                        Ownership Type Former Tenant/Current Business  \\\n0                           Individual                     River Gods   \n1  Real Estate Investment Trust (REIT)              Flat Top Johnny’s   \n2                                Trust                 Knittin Kitten   \n3  Real Estate Investment Trust (REIT)           Lapel's Dry Cleaning   \n4                                  NaN                    Law Offices   \n\n  Business for Sale          Leasing Activity  \\\n0               NaN  Leased pending occupancy   \n1               NaN                   Unknown   \n2               NaN                   Unknown   \n3               NaN                   Unknown   \n4               NaN          Actively leasing   \n\n                                      Recorded Owner  \\\n0  Arthur N. Dobelis 263 Hicks St. #4 Brooklyn, N...   \n1  ARE-MA Region No. 59 LLC, 385 East Colorado Bo...   \n2  Hillside Garden Supply Co., 280 Blanchard Rd.,...   \n3  Berkmar LLC c/o NCP Management Company, P.O. B...   \n4  Anthony Gargano, trustee of Gargano Family Tru...   \n\n                       Leasing Contact       long        lat  \n0       Arthur Dobelis, (646) 722-0824 -71.108716  42.364045  \n1                                  NaN -71.090117  42.367439  \n2                                  NaN -71.157993  42.394263  \n3  NCP Management, Inc. (617) 630-1868 -71.098917  42.371861  \n4                       (617) 876-6780 -71.078259  42.371000  ",
            "text/html": "<div>\n<style scoped>\n    .dataframe tbody tr th:only-of-type {\n        vertical-align: middle;\n    }\n\n    .dataframe tbody tr th {\n        vertical-align: top;\n    }\n\n    .dataframe thead th {\n        text-align: right;\n    }\n</style>\n<table border=\"1\" class=\"dataframe\">\n  <thead>\n    <tr style=\"text-align: right;\">\n      <th></th>\n      <th>Commercial District</th>\n      <th>Address</th>\n      <th>City</th>\n      <th>State</th>\n      <th>Zip Code</th>\n      <th>Square Footage</th>\n      <th>Length of Vacancy</th>\n      <th>Ownership Type</th>\n      <th>Former Tenant/Current Business</th>\n      <th>Business for Sale</th>\n      <th>Leasing Activity</th>\n      <th>Recorded Owner</th>\n      <th>Leasing Contact</th>\n      <th>long</th>\n      <th>lat</th>\n    </tr>\n  </thead>\n  <tbody>\n    <tr>\n      <th>0</th>\n      <td>Smaller Districts</td>\n      <td>123 River Street</td>\n      <td>Cambridge</td>\n      <td>Massachusetts</td>\n      <td>2139</td>\n      <td>900.0</td>\n      <td>5 years or more</td>\n      <td>Individual</td>\n      <td>River Gods</td>\n      <td>NaN</td>\n      <td>Leased pending occupancy</td>\n      <td>Arthur N. Dobelis 263 Hicks St. #4 Brooklyn, N...</td>\n      <td>Arthur Dobelis, (646) 722-0824</td>\n      <td>-71.108716</td>\n      <td>42.364045</td>\n    </tr>\n    <tr>\n      <th>1</th>\n      <td>Kendall Square</td>\n      <td>One Kendall Square</td>\n      <td>Cambridge</td>\n      <td>Massachusetts</td>\n      <td>2139</td>\n      <td>NaN</td>\n      <td>6-10 months</td>\n      <td>Real Estate Investment Trust (REIT)</td>\n      <td>Flat Top Johnny’s</td>\n      <td>NaN</td>\n      <td>Unknown</td>\n      <td>ARE-MA Region No. 59 LLC, 385 East Colorado Bo...</td>\n      <td>NaN</td>\n      <td>-71.090117</td>\n      <td>42.367439</td>\n    </tr>\n    <tr>\n      <th>2</th>\n      <td>Fresh Pond-Alewife</td>\n      <td>93 Blanchard Rd</td>\n      <td>Cambridge</td>\n      <td>Massachusetts</td>\n      <td>2138</td>\n      <td>NaN</td>\n      <td>6-10 months</td>\n      <td>Trust</td>\n      <td>Knittin Kitten</td>\n      <td>NaN</td>\n      <td>Unknown</td>\n      <td>Hillside Garden Supply Co., 280 Blanchard Rd.,...</td>\n      <td>NaN</td>\n      <td>-71.157993</td>\n      <td>42.394263</td>\n    </tr>\n    <tr>\n      <th>3</th>\n      <td>Inman Square</td>\n      <td>168 Hampshire Street</td>\n      <td>Cambridge</td>\n      <td>Massachusetts</td>\n      <td>2139</td>\n      <td>840.0</td>\n      <td>5 years or more</td>\n      <td>Real Estate Investment Trust (REIT)</td>\n      <td>Lapel's Dry Cleaning</td>\n      <td>NaN</td>\n      <td>Unknown</td>\n      <td>Berkmar LLC c/o NCP Management Company, P.O. B...</td>\n      <td>NCP Management, Inc. (617) 630-1868</td>\n      <td>-71.098917</td>\n      <td>42.371861</td>\n    </tr>\n    <tr>\n      <th>4</th>\n      <td>East Cambridge</td>\n      <td>149 Cambridge Street</td>\n      <td>Cambridge</td>\n      <td>Massachusetts</td>\n      <td>2141</td>\n      <td>NaN</td>\n      <td>6-10 months</td>\n      <td>NaN</td>\n      <td>Law Offices</td>\n      <td>NaN</td>\n      <td>Actively leasing</td>\n      <td>Anthony Gargano, trustee of Gargano Family Tru...</td>\n      <td>(617) 876-6780</td>\n      <td>-71.078259</td>\n      <td>42.371000</td>\n    </tr>\n  </tbody>\n</table>\n</div>"
          },
          "metadata": {}
        }
      ]
    },
    {
      "cell_type": "code",
      "metadata": {
        "tags": [],
        "cell_id": "00004-b6257f99-6542-4583-aee1-6b26cd51ce59",
        "deepnote_to_be_reexecuted": false,
        "source_hash": "fc6b15ea",
        "execution_millis": 264,
        "execution_start": 1616871558009,
        "deepnote_cell_type": "code"
      },
      "source": "# Calculate distance from MIT and Harvard\n\nharv_lat = 42.3744\nharv_long = -71.1171\nmit_lat = 42.3598\nmit_long = -71.0921\n\nvacancies[\"harv_dist\"] = \"\"\nvacancies[\"mit_dist\"] = \"\"\nvacancies[\"min_dist\"] = \"\"\n\nfor i in range(len(vacancies.index)):\n    vacancies[\"harv_dist\"][i] = haversine(harv_long, harv_lat, vacancies[\"long\"][i], vacancies[\"lat\"][i])\n    vacancies[\"mit_dist\"][i] = haversine(mit_long, mit_lat, vacancies[\"long\"][i], vacancies[\"lat\"][i])\n    vacancies[\"min_dist\"][i] = min(vacancies[\"harv_dist\"][i], vacancies[\"mit_dist\"][i])\n\nvacancies.head()",
      "execution_count": 5,
      "outputs": [
        {
          "name": "stderr",
          "text": "/shared-libs/python3.7/py-core/lib/python3.7/site-packages/ipykernel_launcher.py:13: SettingWithCopyWarning: \nA value is trying to be set on a copy of a slice from a DataFrame\n\nSee the caveats in the documentation: https://pandas.pydata.org/pandas-docs/stable/user_guide/indexing.html#returning-a-view-versus-a-copy\n  del sys.path[0]\n/shared-libs/python3.7/py-core/lib/python3.7/site-packages/ipykernel_launcher.py:14: SettingWithCopyWarning: \nA value is trying to be set on a copy of a slice from a DataFrame\n\nSee the caveats in the documentation: https://pandas.pydata.org/pandas-docs/stable/user_guide/indexing.html#returning-a-view-versus-a-copy\n  \n/shared-libs/python3.7/py-core/lib/python3.7/site-packages/ipykernel_launcher.py:15: SettingWithCopyWarning: \nA value is trying to be set on a copy of a slice from a DataFrame\n\nSee the caveats in the documentation: https://pandas.pydata.org/pandas-docs/stable/user_guide/indexing.html#returning-a-view-versus-a-copy\n  from ipykernel import kernelapp as app\n",
          "output_type": "stream"
        },
        {
          "output_type": "execute_result",
          "execution_count": 5,
          "data": {
            "application/vnd.deepnote.dataframe.v2+json": {
              "row_count": 5,
              "column_count": 18,
              "columns": [
                {
                  "name": "Commercial District",
                  "dtype": "object",
                  "stats": {
                    "unique_count": 5,
                    "nan_count": 0,
                    "categories": [
                      {
                        "name": "Smaller Districts",
                        "count": 1
                      },
                      {
                        "name": "Kendall Square",
                        "count": 1
                      },
                      {
                        "name": "3 others",
                        "count": 3
                      }
                    ]
                  }
                },
                {
                  "name": "Address",
                  "dtype": "object",
                  "stats": {
                    "unique_count": 5,
                    "nan_count": 0,
                    "categories": [
                      {
                        "name": "123 River Street",
                        "count": 1
                      },
                      {
                        "name": "One Kendall Square",
                        "count": 1
                      },
                      {
                        "name": "3 others",
                        "count": 3
                      }
                    ]
                  }
                },
                {
                  "name": "City",
                  "dtype": "object",
                  "stats": {
                    "unique_count": 1,
                    "nan_count": 0,
                    "categories": [
                      {
                        "name": "Cambridge",
                        "count": 5
                      }
                    ]
                  }
                },
                {
                  "name": "State",
                  "dtype": "object",
                  "stats": {
                    "unique_count": 1,
                    "nan_count": 0,
                    "categories": [
                      {
                        "name": "Massachusetts",
                        "count": 5
                      }
                    ]
                  }
                },
                {
                  "name": "Zip Code",
                  "dtype": "int64",
                  "stats": {
                    "unique_count": 3,
                    "nan_count": 0,
                    "min": 2138,
                    "max": 2141,
                    "histogram": [
                      {
                        "bin_start": 2138,
                        "bin_end": 2138.3,
                        "count": 1
                      },
                      {
                        "bin_start": 2138.3,
                        "bin_end": 2138.6,
                        "count": 0
                      },
                      {
                        "bin_start": 2138.6,
                        "bin_end": 2138.9,
                        "count": 0
                      },
                      {
                        "bin_start": 2138.9,
                        "bin_end": 2139.2,
                        "count": 3
                      },
                      {
                        "bin_start": 2139.2,
                        "bin_end": 2139.5,
                        "count": 0
                      },
                      {
                        "bin_start": 2139.5,
                        "bin_end": 2139.8,
                        "count": 0
                      },
                      {
                        "bin_start": 2139.8,
                        "bin_end": 2140.1,
                        "count": 0
                      },
                      {
                        "bin_start": 2140.1,
                        "bin_end": 2140.4,
                        "count": 0
                      },
                      {
                        "bin_start": 2140.4,
                        "bin_end": 2140.7,
                        "count": 0
                      },
                      {
                        "bin_start": 2140.7,
                        "bin_end": 2141,
                        "count": 1
                      }
                    ]
                  }
                },
                {
                  "name": "Square Footage",
                  "dtype": "float64",
                  "stats": {
                    "unique_count": 2,
                    "nan_count": 3,
                    "min": 840,
                    "max": 900,
                    "histogram": [
                      {
                        "bin_start": 840,
                        "bin_end": 846,
                        "count": 1
                      },
                      {
                        "bin_start": 846,
                        "bin_end": 852,
                        "count": 0
                      },
                      {
                        "bin_start": 852,
                        "bin_end": 858,
                        "count": 0
                      },
                      {
                        "bin_start": 858,
                        "bin_end": 864,
                        "count": 0
                      },
                      {
                        "bin_start": 864,
                        "bin_end": 870,
                        "count": 0
                      },
                      {
                        "bin_start": 870,
                        "bin_end": 876,
                        "count": 0
                      },
                      {
                        "bin_start": 876,
                        "bin_end": 882,
                        "count": 0
                      },
                      {
                        "bin_start": 882,
                        "bin_end": 888,
                        "count": 0
                      },
                      {
                        "bin_start": 888,
                        "bin_end": 894,
                        "count": 0
                      },
                      {
                        "bin_start": 894,
                        "bin_end": 900,
                        "count": 1
                      }
                    ]
                  }
                },
                {
                  "name": "Length of Vacancy",
                  "dtype": "object",
                  "stats": {
                    "unique_count": 2,
                    "nan_count": 0,
                    "categories": [
                      {
                        "name": "6-10 months",
                        "count": 3
                      },
                      {
                        "name": "5 years or more",
                        "count": 2
                      }
                    ]
                  }
                },
                {
                  "name": "Ownership Type",
                  "dtype": "object",
                  "stats": {
                    "unique_count": 3,
                    "nan_count": 1,
                    "categories": [
                      {
                        "name": "Real Estate Investment Trust (REIT)",
                        "count": 2
                      },
                      {
                        "name": "2 others",
                        "count": 2
                      },
                      {
                        "name": "Missing",
                        "count": 1
                      }
                    ]
                  }
                },
                {
                  "name": "Former Tenant/Current Business",
                  "dtype": "object",
                  "stats": {
                    "unique_count": 5,
                    "nan_count": 0,
                    "categories": [
                      {
                        "name": "River Gods",
                        "count": 1
                      },
                      {
                        "name": "Flat Top Johnny’s",
                        "count": 1
                      },
                      {
                        "name": "3 others",
                        "count": 3
                      }
                    ]
                  }
                },
                {
                  "name": "Business for Sale",
                  "dtype": "object",
                  "stats": {
                    "unique_count": 0,
                    "nan_count": 5,
                    "categories": [
                      {
                        "name": "Missing",
                        "count": 5
                      }
                    ]
                  }
                },
                {
                  "name": "Leasing Activity",
                  "dtype": "object",
                  "stats": {
                    "unique_count": 3,
                    "nan_count": 0,
                    "categories": [
                      {
                        "name": "Unknown",
                        "count": 3
                      },
                      {
                        "name": "Leased pending occupancy",
                        "count": 1
                      },
                      {
                        "name": "Actively leasing",
                        "count": 1
                      }
                    ]
                  }
                },
                {
                  "name": "Recorded Owner",
                  "dtype": "object",
                  "stats": {
                    "unique_count": 5,
                    "nan_count": 0,
                    "categories": [
                      {
                        "name": "Arthur N. Dobelis 263 Hicks St. #4 Brooklyn, NY 11201",
                        "count": 1
                      },
                      {
                        "name": "ARE-MA Region No. 59 LLC, 385 East Colorado Boulevard, Pasadena, CA 91101",
                        "count": 1
                      },
                      {
                        "name": "3 others",
                        "count": 3
                      }
                    ]
                  }
                },
                {
                  "name": "Leasing Contact",
                  "dtype": "object",
                  "stats": {
                    "unique_count": 3,
                    "nan_count": 2,
                    "categories": [
                      {
                        "name": "Arthur Dobelis, (646) 722-0824",
                        "count": 1
                      },
                      {
                        "name": "2 others",
                        "count": 2
                      },
                      {
                        "name": "Missing",
                        "count": 2
                      }
                    ]
                  }
                },
                {
                  "name": "long",
                  "dtype": "float64",
                  "stats": {
                    "unique_count": 5,
                    "nan_count": 0,
                    "min": -71.15799258099997,
                    "max": -71.07825855299996,
                    "histogram": [
                      {
                        "bin_start": -71.15799258099997,
                        "bin_end": -71.15001917819997,
                        "count": 1
                      },
                      {
                        "bin_start": -71.15001917819997,
                        "bin_end": -71.14204577539996,
                        "count": 0
                      },
                      {
                        "bin_start": -71.14204577539996,
                        "bin_end": -71.13407237259997,
                        "count": 0
                      },
                      {
                        "bin_start": -71.13407237259997,
                        "bin_end": -71.12609896979997,
                        "count": 0
                      },
                      {
                        "bin_start": -71.12609896979997,
                        "bin_end": -71.11812556699996,
                        "count": 0
                      },
                      {
                        "bin_start": -71.11812556699996,
                        "bin_end": -71.11015216419996,
                        "count": 0
                      },
                      {
                        "bin_start": -71.11015216419996,
                        "bin_end": -71.10217876139995,
                        "count": 1
                      },
                      {
                        "bin_start": -71.10217876139995,
                        "bin_end": -71.09420535859996,
                        "count": 1
                      },
                      {
                        "bin_start": -71.09420535859996,
                        "bin_end": -71.08623195579996,
                        "count": 1
                      },
                      {
                        "bin_start": -71.08623195579996,
                        "bin_end": -71.07825855299996,
                        "count": 1
                      }
                    ]
                  }
                },
                {
                  "name": "lat",
                  "dtype": "float64",
                  "stats": {
                    "unique_count": 5,
                    "nan_count": 0,
                    "min": 42.36404486100003,
                    "max": 42.39426321500008,
                    "histogram": [
                      {
                        "bin_start": 42.36404486100003,
                        "bin_end": 42.36706669640004,
                        "count": 1
                      },
                      {
                        "bin_start": 42.36706669640004,
                        "bin_end": 42.37008853180004,
                        "count": 1
                      },
                      {
                        "bin_start": 42.37008853180004,
                        "bin_end": 42.37311036720005,
                        "count": 2
                      },
                      {
                        "bin_start": 42.37311036720005,
                        "bin_end": 42.376132202600054,
                        "count": 0
                      },
                      {
                        "bin_start": 42.376132202600054,
                        "bin_end": 42.37915403800005,
                        "count": 0
                      },
                      {
                        "bin_start": 42.37915403800005,
                        "bin_end": 42.38217587340006,
                        "count": 0
                      },
                      {
                        "bin_start": 42.38217587340006,
                        "bin_end": 42.385197708800064,
                        "count": 0
                      },
                      {
                        "bin_start": 42.385197708800064,
                        "bin_end": 42.38821954420007,
                        "count": 0
                      },
                      {
                        "bin_start": 42.38821954420007,
                        "bin_end": 42.391241379600075,
                        "count": 0
                      },
                      {
                        "bin_start": 42.391241379600075,
                        "bin_end": 42.39426321500008,
                        "count": 1
                      }
                    ]
                  }
                },
                {
                  "name": "harv_dist",
                  "dtype": "object",
                  "stats": {
                    "unique_count": 5,
                    "nan_count": 0,
                    "categories": [
                      {
                        "name": "1.3417116326188712",
                        "count": 1
                      },
                      {
                        "name": "2.3479214890298095",
                        "count": 1
                      },
                      {
                        "name": "3 others",
                        "count": 3
                      }
                    ]
                  }
                },
                {
                  "name": "mit_dist",
                  "dtype": "object",
                  "stats": {
                    "unique_count": 5,
                    "nan_count": 0,
                    "categories": [
                      {
                        "name": "1.4445181430180394",
                        "count": 1
                      },
                      {
                        "name": "0.8649017637670416",
                        "count": 1
                      },
                      {
                        "name": "3 others",
                        "count": 3
                      }
                    ]
                  }
                },
                {
                  "name": "min_dist",
                  "dtype": "object",
                  "stats": {
                    "unique_count": 5,
                    "nan_count": 0,
                    "categories": [
                      {
                        "name": "1.3417116326188712",
                        "count": 1
                      },
                      {
                        "name": "0.8649017637670416",
                        "count": 1
                      },
                      {
                        "name": "3 others",
                        "count": 3
                      }
                    ]
                  }
                },
                {
                  "name": "_deepnote_index_column",
                  "dtype": "int64"
                }
              ],
              "rows_top": [
                {
                  "Commercial District": "Smaller Districts",
                  "Address": "123 River Street",
                  "City": "Cambridge",
                  "State": "Massachusetts",
                  "Zip Code": 2139,
                  "Square Footage": "900.0",
                  "Length of Vacancy": "5 years or more",
                  "Ownership Type": "Individual",
                  "Former Tenant/Current Business": "River Gods",
                  "Business for Sale": "nan",
                  "Leasing Activity": "Leased pending occupancy",
                  "Recorded Owner": "Arthur N. Dobelis 263 Hicks St. #4 Brooklyn, NY 11201",
                  "Leasing Contact": "Arthur Dobelis, (646) 722-0824",
                  "long": -71.10871620999995,
                  "lat": 42.36404486100003,
                  "harv_dist": 1.3417116326188712,
                  "mit_dist": 1.4445181430180394,
                  "min_dist": 1.3417116326188712,
                  "_deepnote_index_column": 0
                },
                {
                  "Commercial District": "Kendall Square",
                  "Address": "One Kendall Square",
                  "City": "Cambridge",
                  "State": "Massachusetts",
                  "Zip Code": 2139,
                  "Square Footage": "nan",
                  "Length of Vacancy": "6-10 months",
                  "Ownership Type": "Real Estate Investment Trust (REIT)",
                  "Former Tenant/Current Business": "Flat Top Johnny’s",
                  "Business for Sale": "nan",
                  "Leasing Activity": "Unknown",
                  "Recorded Owner": "ARE-MA Region No. 59 LLC, 385 East Colorado Boulevard, Pasadena, CA 91101",
                  "Leasing Contact": "nan",
                  "long": -71.09011699999996,
                  "lat": 42.36743900000005,
                  "harv_dist": 2.3479214890298095,
                  "mit_dist": 0.8649017637670416,
                  "min_dist": 0.8649017637670416,
                  "_deepnote_index_column": 1
                },
                {
                  "Commercial District": "Fresh Pond-Alewife",
                  "Address": "93 Blanchard Rd",
                  "City": "Cambridge",
                  "State": "Massachusetts",
                  "Zip Code": 2138,
                  "Square Footage": "nan",
                  "Length of Vacancy": "6-10 months",
                  "Ownership Type": "Trust",
                  "Former Tenant/Current Business": "Knittin Kitten",
                  "Business for Sale": "nan",
                  "Leasing Activity": "Unknown",
                  "Recorded Owner": "Hillside Garden Supply Co., 280 Blanchard Rd., Belmont, MA 02478",
                  "Leasing Contact": "nan",
                  "long": -71.15799258099997,
                  "lat": 42.39426321500008,
                  "harv_dist": 4.019788553921197,
                  "mit_dist": 6.6318410201711036,
                  "min_dist": 4.019788553921197,
                  "_deepnote_index_column": 2
                },
                {
                  "Commercial District": "Inman Square",
                  "Address": "168 Hampshire Street",
                  "City": "Cambridge",
                  "State": "Massachusetts",
                  "Zip Code": 2139,
                  "Square Footage": "840.0",
                  "Length of Vacancy": "5 years or more",
                  "Ownership Type": "Real Estate Investment Trust (REIT)",
                  "Former Tenant/Current Business": "Lapel's Dry Cleaning",
                  "Business for Sale": "nan",
                  "Leasing Activity": "Unknown",
                  "Recorded Owner": "Berkmar LLC c/o NCP Management Company, P.O. Box 590179, Newton Center, MA 02459",
                  "Leasing Contact": "NCP Management, Inc. (617) 630-1868",
                  "long": -71.09891659199997,
                  "lat": 42.37186069200004,
                  "harv_dist": 1.5201768717061472,
                  "mit_dist": 1.4533245539252568,
                  "min_dist": 1.4533245539252568,
                  "_deepnote_index_column": 3
                },
                {
                  "Commercial District": "East Cambridge",
                  "Address": "149 Cambridge Street",
                  "City": "Cambridge",
                  "State": "Massachusetts",
                  "Zip Code": 2141,
                  "Square Footage": "nan",
                  "Length of Vacancy": "6-10 months",
                  "Ownership Type": "nan",
                  "Former Tenant/Current Business": "Law Offices",
                  "Business for Sale": "nan",
                  "Leasing Activity": "Actively leasing",
                  "Recorded Owner": "Anthony Gargano, trustee of Gargano Family Trust, 149 Cambridge St., Cambridge, MA 02140",
                  "Leasing Contact": "(617) 876-6780",
                  "long": -71.07825855299996,
                  "lat": 42.37099991300005,
                  "harv_dist": 3.213075893798388,
                  "mit_dist": 1.686457354513148,
                  "min_dist": 1.686457354513148,
                  "_deepnote_index_column": 4
                }
              ],
              "rows_bottom": null
            },
            "text/plain": "  Commercial District               Address       City          State  \\\n0   Smaller Districts      123 River Street  Cambridge  Massachusetts   \n1      Kendall Square    One Kendall Square  Cambridge  Massachusetts   \n2  Fresh Pond-Alewife       93 Blanchard Rd  Cambridge  Massachusetts   \n3        Inman Square  168 Hampshire Street  Cambridge  Massachusetts   \n4      East Cambridge  149 Cambridge Street  Cambridge  Massachusetts   \n\n   Zip Code  Square Footage Length of Vacancy  \\\n0      2139           900.0   5 years or more   \n1      2139             NaN       6-10 months   \n2      2138             NaN       6-10 months   \n3      2139           840.0   5 years or more   \n4      2141             NaN       6-10 months   \n\n                        Ownership Type Former Tenant/Current Business  \\\n0                           Individual                     River Gods   \n1  Real Estate Investment Trust (REIT)              Flat Top Johnny’s   \n2                                Trust                 Knittin Kitten   \n3  Real Estate Investment Trust (REIT)           Lapel's Dry Cleaning   \n4                                  NaN                    Law Offices   \n\n  Business for Sale          Leasing Activity  \\\n0               NaN  Leased pending occupancy   \n1               NaN                   Unknown   \n2               NaN                   Unknown   \n3               NaN                   Unknown   \n4               NaN          Actively leasing   \n\n                                      Recorded Owner  \\\n0  Arthur N. Dobelis 263 Hicks St. #4 Brooklyn, N...   \n1  ARE-MA Region No. 59 LLC, 385 East Colorado Bo...   \n2  Hillside Garden Supply Co., 280 Blanchard Rd.,...   \n3  Berkmar LLC c/o NCP Management Company, P.O. B...   \n4  Anthony Gargano, trustee of Gargano Family Tru...   \n\n                       Leasing Contact       long        lat harv_dist  \\\n0       Arthur Dobelis, (646) 722-0824 -71.108716  42.364045  1.341712   \n1                                  NaN -71.090117  42.367439  2.347921   \n2                                  NaN -71.157993  42.394263  4.019789   \n3  NCP Management, Inc. (617) 630-1868 -71.098917  42.371861  1.520177   \n4                       (617) 876-6780 -71.078259  42.371000  3.213076   \n\n   mit_dist  min_dist  \n0  1.444518  1.341712  \n1  0.864902  0.864902  \n2  6.631841  4.019789  \n3  1.453325  1.453325  \n4  1.686457  1.686457  ",
            "text/html": "<div>\n<style scoped>\n    .dataframe tbody tr th:only-of-type {\n        vertical-align: middle;\n    }\n\n    .dataframe tbody tr th {\n        vertical-align: top;\n    }\n\n    .dataframe thead th {\n        text-align: right;\n    }\n</style>\n<table border=\"1\" class=\"dataframe\">\n  <thead>\n    <tr style=\"text-align: right;\">\n      <th></th>\n      <th>Commercial District</th>\n      <th>Address</th>\n      <th>City</th>\n      <th>State</th>\n      <th>Zip Code</th>\n      <th>Square Footage</th>\n      <th>Length of Vacancy</th>\n      <th>Ownership Type</th>\n      <th>Former Tenant/Current Business</th>\n      <th>Business for Sale</th>\n      <th>Leasing Activity</th>\n      <th>Recorded Owner</th>\n      <th>Leasing Contact</th>\n      <th>long</th>\n      <th>lat</th>\n      <th>harv_dist</th>\n      <th>mit_dist</th>\n      <th>min_dist</th>\n    </tr>\n  </thead>\n  <tbody>\n    <tr>\n      <th>0</th>\n      <td>Smaller Districts</td>\n      <td>123 River Street</td>\n      <td>Cambridge</td>\n      <td>Massachusetts</td>\n      <td>2139</td>\n      <td>900.0</td>\n      <td>5 years or more</td>\n      <td>Individual</td>\n      <td>River Gods</td>\n      <td>NaN</td>\n      <td>Leased pending occupancy</td>\n      <td>Arthur N. Dobelis 263 Hicks St. #4 Brooklyn, N...</td>\n      <td>Arthur Dobelis, (646) 722-0824</td>\n      <td>-71.108716</td>\n      <td>42.364045</td>\n      <td>1.341712</td>\n      <td>1.444518</td>\n      <td>1.341712</td>\n    </tr>\n    <tr>\n      <th>1</th>\n      <td>Kendall Square</td>\n      <td>One Kendall Square</td>\n      <td>Cambridge</td>\n      <td>Massachusetts</td>\n      <td>2139</td>\n      <td>NaN</td>\n      <td>6-10 months</td>\n      <td>Real Estate Investment Trust (REIT)</td>\n      <td>Flat Top Johnny’s</td>\n      <td>NaN</td>\n      <td>Unknown</td>\n      <td>ARE-MA Region No. 59 LLC, 385 East Colorado Bo...</td>\n      <td>NaN</td>\n      <td>-71.090117</td>\n      <td>42.367439</td>\n      <td>2.347921</td>\n      <td>0.864902</td>\n      <td>0.864902</td>\n    </tr>\n    <tr>\n      <th>2</th>\n      <td>Fresh Pond-Alewife</td>\n      <td>93 Blanchard Rd</td>\n      <td>Cambridge</td>\n      <td>Massachusetts</td>\n      <td>2138</td>\n      <td>NaN</td>\n      <td>6-10 months</td>\n      <td>Trust</td>\n      <td>Knittin Kitten</td>\n      <td>NaN</td>\n      <td>Unknown</td>\n      <td>Hillside Garden Supply Co., 280 Blanchard Rd.,...</td>\n      <td>NaN</td>\n      <td>-71.157993</td>\n      <td>42.394263</td>\n      <td>4.019789</td>\n      <td>6.631841</td>\n      <td>4.019789</td>\n    </tr>\n    <tr>\n      <th>3</th>\n      <td>Inman Square</td>\n      <td>168 Hampshire Street</td>\n      <td>Cambridge</td>\n      <td>Massachusetts</td>\n      <td>2139</td>\n      <td>840.0</td>\n      <td>5 years or more</td>\n      <td>Real Estate Investment Trust (REIT)</td>\n      <td>Lapel's Dry Cleaning</td>\n      <td>NaN</td>\n      <td>Unknown</td>\n      <td>Berkmar LLC c/o NCP Management Company, P.O. B...</td>\n      <td>NCP Management, Inc. (617) 630-1868</td>\n      <td>-71.098917</td>\n      <td>42.371861</td>\n      <td>1.520177</td>\n      <td>1.453325</td>\n      <td>1.453325</td>\n    </tr>\n    <tr>\n      <th>4</th>\n      <td>East Cambridge</td>\n      <td>149 Cambridge Street</td>\n      <td>Cambridge</td>\n      <td>Massachusetts</td>\n      <td>2141</td>\n      <td>NaN</td>\n      <td>6-10 months</td>\n      <td>NaN</td>\n      <td>Law Offices</td>\n      <td>NaN</td>\n      <td>Actively leasing</td>\n      <td>Anthony Gargano, trustee of Gargano Family Tru...</td>\n      <td>(617) 876-6780</td>\n      <td>-71.078259</td>\n      <td>42.371000</td>\n      <td>3.213076</td>\n      <td>1.686457</td>\n      <td>1.686457</td>\n    </tr>\n  </tbody>\n</table>\n</div>"
          },
          "metadata": {}
        }
      ]
    },
    {
      "cell_type": "code",
      "metadata": {
        "tags": [],
        "cell_id": "00006-3d2101af-f543-496c-b7fc-9c8b1bcbd135",
        "deepnote_to_be_reexecuted": false,
        "source_hash": "c7eee957",
        "execution_millis": 0,
        "execution_start": 1616871558318,
        "deepnote_cell_type": "code"
      },
      "source": "vacancies.to_csv(\"vacancies_with_distances.csv\")",
      "execution_count": 6,
      "outputs": []
    },
    {
      "cell_type": "markdown",
      "source": "<a style='text-decoration:none;line-height:16px;display:flex;color:#5B5B62;padding:10px;justify-content:end;' href='https://deepnote.com?utm_source=created-in-deepnote-cell&projectId=57b93841-e07c-4246-b1c8-9c365e3b1114' target=\"_blank\">\n<img style='display:inline;max-height:16px;margin:0px;margin-right:7.5px;' src='data:image/svg+xml;base64,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' > </img>\nCreated in <span style='font-weight:600;margin-left:4px;'>Deepnote</span></a>",
      "metadata": {
        "tags": [],
        "created_in_deepnote_cell": true,
        "deepnote_cell_type": "markdown"
      }
    }
  ],
  "nbformat": 4,
  "nbformat_minor": 2,
  "metadata": {
    "orig_nbformat": 2,
    "deepnote_notebook_id": "e7288a23-c5b0-443e-8127-931569d05ce8",
    "deepnote": {},
    "deepnote_execution_queue": []
  }
}