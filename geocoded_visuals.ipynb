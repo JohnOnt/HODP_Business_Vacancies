{
  "cells": [
    {
      "cell_type": "code",
      "metadata": {
        "tags": [],
        "cell_id": "00000-7d8ade52-2f31-4df5-a4af-76472b06d0e8",
        "deepnote_to_be_reexecuted": false,
        "source_hash": "b7dcc9c8",
        "execution_millis": 1,
        "execution_start": 1617386688252,
        "deepnote_cell_type": "code"
      },
      "source": "import numpy as np\nimport pandas as pd",
      "execution_count": 1,
      "outputs": []
    },
    {
      "cell_type": "code",
      "metadata": {
        "tags": [],
        "cell_id": "00005-cc8c99c4-ce83-498e-a0fd-b62b1079b856",
        "deepnote_to_be_reexecuted": false,
        "source_hash": "e2362659",
        "execution_millis": 178,
        "execution_start": 1617386688428,
        "deepnote_cell_type": "code"
      },
      "source": "import plotly.graph_objects as go\n\n# HODP colors\nmonochrome_colors = ['#251616', '#760000', '#C63F3F', '#E28073', '#F1D3CF']\nprimary_colors = ['#C63F3F', '#F4B436', '#83BFCC', '#455574', '#E2DDDB']\n\n# HODP template\ntheme_hodp = go.layout.Template(\n    layout=go.Layout(\n        title = {'font':{'size':24, 'family':\"Helvetica\", 'color':monochrome_colors[0]}, 'pad':{'t':100, 'r':0, 'b':0, 'l':0}},\n        font = {'size':18, 'family':'Helvetica', 'color':'#717171'},\n        xaxis = {'ticks': \"outside\",\n                'tickfont': {'size': 14, 'family':\"Helvetica\"},\n                'showticksuffix': 'all',\n                'showtickprefix': 'last',\n                'showline': True,\n                'title':{'font':{'size':18, 'family':'Helvetica'}, 'standoff':20},\n                'automargin': True\n                },\n        yaxis = {'ticks': \"outside\",\n                'tickfont': {'size': 14, 'family':\"Helvetica\"},\n                'showticksuffix': 'all',\n                'showtickprefix': 'last',\n                'title':{'font':{'size':18, 'family':'Helvetica'}, 'standoff':20},\n                'showline': True,\n                'automargin': True\n                },\n        legend = {'bgcolor':'rgba(0,0,0,0)', \n                'title':{'font':{'size':18, 'family':\"Helvetica\", 'color':monochrome_colors[0]}}, \n                'font':{'size':14, 'family':\"Helvetica\"}, \n                'yanchor':'bottom'\n                },\n        colorscale = {'diverging':monochrome_colors},\n        coloraxis = {'autocolorscale':True, \n                'cauto':True, \n                'colorbar':{'tickfont':{'size':14,'family':'Helvetica'}, 'title':{'font':{'size':18, 'family':'Helvetica'}}},\n                }\n    )\n)",
      "execution_count": 6,
      "outputs": []
    },
    {
      "cell_type": "code",
      "metadata": {
        "tags": [],
        "cell_id": "00007-d0ecd38f-291f-4a84-bb0e-79b72bb0c648",
        "deepnote_to_be_reexecuted": false,
        "source_hash": "210fa78",
        "execution_millis": 17,
        "execution_start": 1617386688660,
        "deepnote_cell_type": "code"
      },
      "source": "import numpy as np\nimport pandas as pd\n\nvdistances = pd.read_csv(\"geocoded_businesses.csv\")\nvdistances.head(5)",
      "execution_count": 8,
      "outputs": [
        {
          "output_type": "execute_result",
          "execution_count": 8,
          "data": {
            "application/vnd.deepnote.dataframe.v2+json": {
              "row_count": 5,
              "column_count": 14,
              "columns": [
                {
                  "name": "Unnamed: 0",
                  "dtype": "int64",
                  "stats": {
                    "unique_count": 5,
                    "nan_count": 0,
                    "min": 0,
                    "max": 5,
                    "histogram": [
                      {
                        "bin_start": 0,
                        "bin_end": 0.5,
                        "count": 1
                      },
                      {
                        "bin_start": 0.5,
                        "bin_end": 1,
                        "count": 0
                      },
                      {
                        "bin_start": 1,
                        "bin_end": 1.5,
                        "count": 1
                      },
                      {
                        "bin_start": 1.5,
                        "bin_end": 2,
                        "count": 0
                      },
                      {
                        "bin_start": 2,
                        "bin_end": 2.5,
                        "count": 1
                      },
                      {
                        "bin_start": 2.5,
                        "bin_end": 3,
                        "count": 0
                      },
                      {
                        "bin_start": 3,
                        "bin_end": 3.5,
                        "count": 1
                      },
                      {
                        "bin_start": 3.5,
                        "bin_end": 4,
                        "count": 0
                      },
                      {
                        "bin_start": 4,
                        "bin_end": 4.5,
                        "count": 0
                      },
                      {
                        "bin_start": 4.5,
                        "bin_end": 5,
                        "count": 1
                      }
                    ]
                  }
                },
                {
                  "name": "Name",
                  "dtype": "object",
                  "stats": {
                    "unique_count": 4,
                    "nan_count": 0,
                    "categories": [
                      {
                        "name": "1369 Coffee House",
                        "count": 2
                      },
                      {
                        "name": "2 4-1 Optical",
                        "count": 1
                      },
                      {
                        "name": "2 others",
                        "count": 2
                      }
                    ]
                  }
                },
                {
                  "name": "Latitude",
                  "dtype": "float64",
                  "stats": {
                    "unique_count": 4,
                    "nan_count": 0,
                    "min": 42.366016,
                    "max": 42.390604,
                    "histogram": [
                      {
                        "bin_start": 42.366016,
                        "bin_end": 42.3684748,
                        "count": 1
                      },
                      {
                        "bin_start": 42.3684748,
                        "bin_end": 42.3709336,
                        "count": 1
                      },
                      {
                        "bin_start": 42.3709336,
                        "bin_end": 42.3733924,
                        "count": 0
                      },
                      {
                        "bin_start": 42.3733924,
                        "bin_end": 42.3758512,
                        "count": 1
                      },
                      {
                        "bin_start": 42.3758512,
                        "bin_end": 42.37831,
                        "count": 0
                      },
                      {
                        "bin_start": 42.37831,
                        "bin_end": 42.380768800000006,
                        "count": 0
                      },
                      {
                        "bin_start": 42.380768800000006,
                        "bin_end": 42.383227600000005,
                        "count": 0
                      },
                      {
                        "bin_start": 42.383227600000005,
                        "bin_end": 42.385686400000004,
                        "count": 0
                      },
                      {
                        "bin_start": 42.385686400000004,
                        "bin_end": 42.388145200000004,
                        "count": 0
                      },
                      {
                        "bin_start": 42.388145200000004,
                        "bin_end": 42.390604,
                        "count": 2
                      }
                    ]
                  }
                },
                {
                  "name": "Longitude",
                  "dtype": "float64",
                  "stats": {
                    "unique_count": 4,
                    "nan_count": 0,
                    "min": -71.121712,
                    "max": -71.083565,
                    "histogram": [
                      {
                        "bin_start": -71.121712,
                        "bin_end": -71.1178973,
                        "count": 2
                      },
                      {
                        "bin_start": -71.1178973,
                        "bin_end": -71.1140826,
                        "count": 0
                      },
                      {
                        "bin_start": -71.1140826,
                        "bin_end": -71.1102679,
                        "count": 0
                      },
                      {
                        "bin_start": -71.1102679,
                        "bin_end": -71.1064532,
                        "count": 0
                      },
                      {
                        "bin_start": -71.1064532,
                        "bin_end": -71.1026385,
                        "count": 1
                      },
                      {
                        "bin_start": -71.1026385,
                        "bin_end": -71.09882379999999,
                        "count": 1
                      },
                      {
                        "bin_start": -71.09882379999999,
                        "bin_end": -71.0950091,
                        "count": 0
                      },
                      {
                        "bin_start": -71.0950091,
                        "bin_end": -71.09119439999999,
                        "count": 0
                      },
                      {
                        "bin_start": -71.09119439999999,
                        "bin_end": -71.0873797,
                        "count": 0
                      },
                      {
                        "bin_start": -71.0873797,
                        "bin_end": -71.083565,
                        "count": 1
                      }
                    ]
                  }
                },
                {
                  "name": "Address",
                  "dtype": "object",
                  "stats": {
                    "unique_count": 0,
                    "nan_count": 5,
                    "categories": [
                      {
                        "name": "Missing",
                        "count": 5
                      }
                    ]
                  }
                },
                {
                  "name": "Storefront Sales Status",
                  "dtype": "object",
                  "stats": {
                    "unique_count": 1,
                    "nan_count": 0,
                    "categories": [
                      {
                        "name": "Open",
                        "count": 5
                      }
                    ]
                  }
                },
                {
                  "name": "Sales Options",
                  "dtype": "object",
                  "stats": {
                    "unique_count": 3,
                    "nan_count": 2,
                    "categories": [
                      {
                        "name": "Delivery, Take Out",
                        "count": 1
                      },
                      {
                        "name": "2 others",
                        "count": 2
                      },
                      {
                        "name": "Missing",
                        "count": 2
                      }
                    ]
                  }
                },
                {
                  "name": "Grocery Sales",
                  "dtype": "object",
                  "stats": {
                    "unique_count": 1,
                    "nan_count": 4,
                    "categories": [
                      {
                        "name": "yes",
                        "count": 1
                      },
                      {
                        "name": "Missing",
                        "count": 4
                      }
                    ]
                  }
                },
                {
                  "name": "Phone",
                  "dtype": "object",
                  "stats": {
                    "unique_count": 5,
                    "nan_count": 0,
                    "categories": [
                      {
                        "name": "757 Massachusetts Ave",
                        "count": 1
                      },
                      {
                        "name": "1369 Cambridge Street",
                        "count": 1
                      },
                      {
                        "name": "3 others",
                        "count": 3
                      }
                    ]
                  }
                },
                {
                  "name": "Website",
                  "dtype": "object",
                  "stats": {
                    "unique_count": 0,
                    "nan_count": 5,
                    "categories": [
                      {
                        "name": "Missing",
                        "count": 5
                      }
                    ]
                  }
                },
                {
                  "name": "Facebook",
                  "dtype": "object",
                  "stats": {
                    "unique_count": 3,
                    "nan_count": 1,
                    "categories": [
                      {
                        "name": "https://www.facebook.com/1369Coffeehouse/",
                        "count": 2
                      },
                      {
                        "name": "2 others",
                        "count": 2
                      },
                      {
                        "name": "Missing",
                        "count": 1
                      }
                    ]
                  }
                },
                {
                  "name": "Twitter",
                  "dtype": "object",
                  "stats": {
                    "unique_count": 2,
                    "nan_count": 3,
                    "categories": [
                      {
                        "name": "https://twitter.com/1369coffeehouse?ref_src=twsrc%5Egoogle%7Ctwcamp%5Eserp%7Ctwgr%5Eauthor",
                        "count": 1
                      },
                      {
                        "name": "https://twitter.com/1369coffeehouse",
                        "count": 1
                      },
                      {
                        "name": "Missing",
                        "count": 3
                      }
                    ]
                  }
                },
                {
                  "name": "Instagram",
                  "dtype": "object",
                  "stats": {
                    "unique_count": 2,
                    "nan_count": 2,
                    "categories": [
                      {
                        "name": "https://www.instagram.com/1369coffeehouse/?hl=en",
                        "count": 2
                      },
                      {
                        "name": "https://www.instagram.com/p/B9uqJpAgWJz/",
                        "count": 1
                      },
                      {
                        "name": "Missing",
                        "count": 2
                      }
                    ]
                  }
                },
                {
                  "name": "LastModified",
                  "dtype": "object",
                  "stats": {
                    "unique_count": 5,
                    "nan_count": 0,
                    "categories": [
                      {
                        "name": "2020-06-16T17:08:30Z",
                        "count": 1
                      },
                      {
                        "name": "2020-07-10T15:24:36Z",
                        "count": 1
                      },
                      {
                        "name": "3 others",
                        "count": 3
                      }
                    ]
                  }
                },
                {
                  "name": "_deepnote_index_column",
                  "dtype": "int64"
                }
              ],
              "rows_top": [
                {
                  "Unnamed: 0": 0,
                  "Name": "1369 Coffee House",
                  "Latitude": 42.390604,
                  "Longitude": -71.121712,
                  "Address": "nan",
                  "Storefront Sales Status": "Open",
                  "Sales Options": "Delivery, Take Out",
                  "Grocery Sales": "yes",
                  "Phone": "757 Massachusetts Ave",
                  "Website": "nan",
                  "Facebook": "https://www.facebook.com/1369Coffeehouse/",
                  "Twitter": "https://twitter.com/1369coffeehouse?ref_src=twsrc%5Egoogle%7Ctwcamp%5Eserp%7Ctwgr%5Eauthor",
                  "Instagram": "https://www.instagram.com/1369coffeehouse/?hl=en",
                  "LastModified": "2020-06-16T17:08:30Z",
                  "_deepnote_index_column": 0
                },
                {
                  "Unnamed: 0": 1,
                  "Name": "1369 Coffee House",
                  "Latitude": 42.373793,
                  "Longitude": -71.100367,
                  "Address": "nan",
                  "Storefront Sales Status": "Open",
                  "Sales Options": "Delivery, Take Out, Outdoor Dining",
                  "Grocery Sales": "nan",
                  "Phone": "1369 Cambridge Street",
                  "Website": "nan",
                  "Facebook": "https://www.facebook.com/1369Coffeehouse/",
                  "Twitter": "https://twitter.com/1369coffeehouse",
                  "Instagram": "https://www.instagram.com/1369coffeehouse/?hl=en",
                  "LastModified": "2020-07-10T15:24:36Z",
                  "_deepnote_index_column": 1
                },
                {
                  "Unnamed: 0": 2,
                  "Name": "2 4-1 Optical",
                  "Latitude": 42.390604,
                  "Longitude": -71.121712,
                  "Address": "nan",
                  "Storefront Sales Status": "Open",
                  "Sales Options": "nan",
                  "Grocery Sales": "nan",
                  "Phone": "1128 Massachusetts Ave",
                  "Website": "nan",
                  "Facebook": "https://www.facebook.com/241optical/",
                  "Twitter": "nan",
                  "Instagram": "nan",
                  "LastModified": "2020-06-16T17:09:04Z",
                  "_deepnote_index_column": 2
                },
                {
                  "Unnamed: 0": 3,
                  "Name": "5th Street Laundromat",
                  "Latitude": 42.369638,
                  "Longitude": -71.083565,
                  "Address": "nan",
                  "Storefront Sales Status": "Open",
                  "Sales Options": "nan",
                  "Grocery Sales": "nan",
                  "Phone": "58 5th Street",
                  "Website": "nan",
                  "Facebook": "nan",
                  "Twitter": "nan",
                  "Instagram": "nan",
                  "LastModified": "2020-03-22T12:45:32Z",
                  "_deepnote_index_column": 3
                },
                {
                  "Unnamed: 0": 5,
                  "Name": "730 Tavern",
                  "Latitude": 42.366016,
                  "Longitude": -71.105142,
                  "Address": "nan",
                  "Storefront Sales Status": "Open",
                  "Sales Options": "Delivery, Take Out, Indoor Dining",
                  "Grocery Sales": "nan",
                  "Phone": "730 Massachusetts Ave",
                  "Website": "nan",
                  "Facebook": "https://www.facebook.com/730tavern/",
                  "Twitter": "nan",
                  "Instagram": "https://www.instagram.com/p/B9uqJpAgWJz/",
                  "LastModified": "2020-12-15T13:55:02Z",
                  "_deepnote_index_column": 4
                }
              ],
              "rows_bottom": null
            },
            "text/plain": "   Unnamed: 0                   Name   Latitude  Longitude Address  \\\n0           0      1369 Coffee House  42.390604 -71.121712     NaN   \n1           1      1369 Coffee House  42.373793 -71.100367     NaN   \n2           2          2 4-1 Optical  42.390604 -71.121712     NaN   \n3           3  5th Street Laundromat  42.369638 -71.083565     NaN   \n4           5             730 Tavern  42.366016 -71.105142     NaN   \n\n  Storefront Sales Status                       Sales Options Grocery Sales  \\\n0                    Open                  Delivery, Take Out           yes   \n1                    Open  Delivery, Take Out, Outdoor Dining           NaN   \n2                    Open                                 NaN           NaN   \n3                    Open                                 NaN           NaN   \n4                    Open   Delivery, Take Out, Indoor Dining           NaN   \n\n                    Phone Website                                   Facebook  \\\n0   757 Massachusetts Ave     NaN  https://www.facebook.com/1369Coffeehouse/   \n1   1369 Cambridge Street     NaN  https://www.facebook.com/1369Coffeehouse/   \n2  1128 Massachusetts Ave     NaN       https://www.facebook.com/241optical/   \n3           58 5th Street     NaN                                        NaN   \n4   730 Massachusetts Ave     NaN        https://www.facebook.com/730tavern/   \n\n                                             Twitter  \\\n0  https://twitter.com/1369coffeehouse?ref_src=tw...   \n1                https://twitter.com/1369coffeehouse   \n2                                                NaN   \n3                                                NaN   \n4                                                NaN   \n\n                                          Instagram          LastModified  \n0  https://www.instagram.com/1369coffeehouse/?hl=en  2020-06-16T17:08:30Z  \n1  https://www.instagram.com/1369coffeehouse/?hl=en  2020-07-10T15:24:36Z  \n2                                               NaN  2020-06-16T17:09:04Z  \n3                                               NaN  2020-03-22T12:45:32Z  \n4          https://www.instagram.com/p/B9uqJpAgWJz/  2020-12-15T13:55:02Z  ",
            "text/html": "<div>\n<style scoped>\n    .dataframe tbody tr th:only-of-type {\n        vertical-align: middle;\n    }\n\n    .dataframe tbody tr th {\n        vertical-align: top;\n    }\n\n    .dataframe thead th {\n        text-align: right;\n    }\n</style>\n<table border=\"1\" class=\"dataframe\">\n  <thead>\n    <tr style=\"text-align: right;\">\n      <th></th>\n      <th>Unnamed: 0</th>\n      <th>Name</th>\n      <th>Latitude</th>\n      <th>Longitude</th>\n      <th>Address</th>\n      <th>Storefront Sales Status</th>\n      <th>Sales Options</th>\n      <th>Grocery Sales</th>\n      <th>Phone</th>\n      <th>Website</th>\n      <th>Facebook</th>\n      <th>Twitter</th>\n      <th>Instagram</th>\n      <th>LastModified</th>\n    </tr>\n  </thead>\n  <tbody>\n    <tr>\n      <th>0</th>\n      <td>0</td>\n      <td>1369 Coffee House</td>\n      <td>42.390604</td>\n      <td>-71.121712</td>\n      <td>NaN</td>\n      <td>Open</td>\n      <td>Delivery, Take Out</td>\n      <td>yes</td>\n      <td>757 Massachusetts Ave</td>\n      <td>NaN</td>\n      <td>https://www.facebook.com/1369Coffeehouse/</td>\n      <td>https://twitter.com/1369coffeehouse?ref_src=tw...</td>\n      <td>https://www.instagram.com/1369coffeehouse/?hl=en</td>\n      <td>2020-06-16T17:08:30Z</td>\n    </tr>\n    <tr>\n      <th>1</th>\n      <td>1</td>\n      <td>1369 Coffee House</td>\n      <td>42.373793</td>\n      <td>-71.100367</td>\n      <td>NaN</td>\n      <td>Open</td>\n      <td>Delivery, Take Out, Outdoor Dining</td>\n      <td>NaN</td>\n      <td>1369 Cambridge Street</td>\n      <td>NaN</td>\n      <td>https://www.facebook.com/1369Coffeehouse/</td>\n      <td>https://twitter.com/1369coffeehouse</td>\n      <td>https://www.instagram.com/1369coffeehouse/?hl=en</td>\n      <td>2020-07-10T15:24:36Z</td>\n    </tr>\n    <tr>\n      <th>2</th>\n      <td>2</td>\n      <td>2 4-1 Optical</td>\n      <td>42.390604</td>\n      <td>-71.121712</td>\n      <td>NaN</td>\n      <td>Open</td>\n      <td>NaN</td>\n      <td>NaN</td>\n      <td>1128 Massachusetts Ave</td>\n      <td>NaN</td>\n      <td>https://www.facebook.com/241optical/</td>\n      <td>NaN</td>\n      <td>NaN</td>\n      <td>2020-06-16T17:09:04Z</td>\n    </tr>\n    <tr>\n      <th>3</th>\n      <td>3</td>\n      <td>5th Street Laundromat</td>\n      <td>42.369638</td>\n      <td>-71.083565</td>\n      <td>NaN</td>\n      <td>Open</td>\n      <td>NaN</td>\n      <td>NaN</td>\n      <td>58 5th Street</td>\n      <td>NaN</td>\n      <td>NaN</td>\n      <td>NaN</td>\n      <td>NaN</td>\n      <td>2020-03-22T12:45:32Z</td>\n    </tr>\n    <tr>\n      <th>4</th>\n      <td>5</td>\n      <td>730 Tavern</td>\n      <td>42.366016</td>\n      <td>-71.105142</td>\n      <td>NaN</td>\n      <td>Open</td>\n      <td>Delivery, Take Out, Indoor Dining</td>\n      <td>NaN</td>\n      <td>730 Massachusetts Ave</td>\n      <td>NaN</td>\n      <td>https://www.facebook.com/730tavern/</td>\n      <td>NaN</td>\n      <td>https://www.instagram.com/p/B9uqJpAgWJz/</td>\n      <td>2020-12-15T13:55:02Z</td>\n    </tr>\n  </tbody>\n</table>\n</div>"
          },
          "metadata": {}
        }
      ]
    },
    {
      "cell_type": "code",
      "metadata": {
        "tags": [],
        "cell_id": "00008-ec58f3b2-988e-4e3c-91af-a418d52024ff",
        "deepnote_to_be_reexecuted": false,
        "source_hash": "c729e2a9",
        "execution_millis": 1,
        "execution_start": 1617386688680,
        "deepnote_cell_type": "code"
      },
      "source": "from math import radians, cos, sin, asin, sqrt\ndef haversine(lon1, lat1, lon2, lat2):\n    \"\"\"\n    Calculate the great circle distance between two points \n    on the earth (specified in decimal degrees)\n    \"\"\"\n    # convert decimal degrees to radians \n    lon1, lat1, lon2, lat2 = map(radians, [lon1, lat1, lon2, lat2])\n    # haversine formula \n    dlon = lon2 - lon1 \n    dlat = lat2 - lat1 \n    a = sin(dlat/2)**2 + cos(lat1) * cos(lat2) * sin(dlon/2)**2\n    c = 2 * asin(sqrt(a)) \n    # Radius of earth in kilometers is 6371\n    km = 6371* c\n    return km",
      "execution_count": 9,
      "outputs": []
    },
    {
      "cell_type": "code",
      "metadata": {
        "tags": [],
        "cell_id": "00008-cf775327-8ff3-4490-8972-6975cc8e8e49",
        "deepnote_to_be_reexecuted": false,
        "source_hash": "3b18a093",
        "execution_millis": 1114,
        "execution_start": 1617386688682,
        "deepnote_cell_type": "code"
      },
      "source": "harv_lat = 42.3744\nharv_long = -71.1171\nmit_lat = 42.3598\nmit_long = -71.0921\n\nvdistances[\"harv_dist\"] = \"\"\nvdistances[\"mit_dist\"] = \"\"\nvdistances[\"min_dist\"] = \"\"\n\nfor i in range(len(vdistances.index)):\n    vdistances[\"harv_dist\"][i] = haversine(harv_long, harv_lat, vdistances[\"Longitude\"][i], vdistances[\"Latitude\"][i])\n    vdistances[\"mit_dist\"][i] = haversine(mit_long, mit_lat, vdistances[\"Longitude\"][i], vdistances[\"Latitude\"][i])\n    vdistances[\"min_dist\"][i] = min(vdistances[\"harv_dist\"][i], vdistances[\"mit_dist\"][i])\n\nvdistances.head()\nvdistances.to_csv(\"vdistances.csv\")",
      "execution_count": 10,
      "outputs": [
        {
          "name": "stderr",
          "text": "/shared-libs/python3.7/py-core/lib/python3.7/site-packages/ipykernel_launcher.py:11: SettingWithCopyWarning: \nA value is trying to be set on a copy of a slice from a DataFrame\n\nSee the caveats in the documentation: https://pandas.pydata.org/pandas-docs/stable/user_guide/indexing.html#returning-a-view-versus-a-copy\n  # This is added back by InteractiveShellApp.init_path()\n/shared-libs/python3.7/py-core/lib/python3.7/site-packages/ipykernel_launcher.py:12: SettingWithCopyWarning: \nA value is trying to be set on a copy of a slice from a DataFrame\n\nSee the caveats in the documentation: https://pandas.pydata.org/pandas-docs/stable/user_guide/indexing.html#returning-a-view-versus-a-copy\n  if sys.path[0] == '':\n/shared-libs/python3.7/py-core/lib/python3.7/site-packages/ipykernel_launcher.py:13: SettingWithCopyWarning: \nA value is trying to be set on a copy of a slice from a DataFrame\n\nSee the caveats in the documentation: https://pandas.pydata.org/pandas-docs/stable/user_guide/indexing.html#returning-a-view-versus-a-copy\n  del sys.path[0]\n",
          "output_type": "stream"
        }
      ]
    },
    {
      "cell_type": "code",
      "metadata": {
        "tags": [],
        "cell_id": "00010-42f5eaa3-9fb1-4a85-8fa0-078b017400c0",
        "deepnote_to_be_reexecuted": false,
        "source_hash": "297ed1f8",
        "execution_millis": 9,
        "execution_start": 1617396019071,
        "deepnote_cell_type": "code"
      },
      "source": "openloc = vdistances[(vdistances[\"Storefront Sales Status\"] == \"Open\")]\nclosedloc = vdistances[(vdistances[\"Storefront Sales Status\"] == \"Closed\")]\nclosedloc.head(5)\n\n",
      "execution_count": 33,
      "outputs": [
        {
          "output_type": "execute_result",
          "execution_count": 33,
          "data": {
            "application/vnd.deepnote.dataframe.v2+json": {
              "row_count": 5,
              "column_count": 17,
              "columns": [
                {
                  "name": "Unnamed: 0",
                  "dtype": "int64",
                  "stats": {
                    "unique_count": 5,
                    "nan_count": 0,
                    "min": 10,
                    "max": 77,
                    "histogram": [
                      {
                        "bin_start": 10,
                        "bin_end": 16.7,
                        "count": 1
                      },
                      {
                        "bin_start": 16.7,
                        "bin_end": 23.4,
                        "count": 0
                      },
                      {
                        "bin_start": 23.4,
                        "bin_end": 30.1,
                        "count": 0
                      },
                      {
                        "bin_start": 30.1,
                        "bin_end": 36.8,
                        "count": 1
                      },
                      {
                        "bin_start": 36.8,
                        "bin_end": 43.5,
                        "count": 0
                      },
                      {
                        "bin_start": 43.5,
                        "bin_end": 50.2,
                        "count": 1
                      },
                      {
                        "bin_start": 50.2,
                        "bin_end": 56.9,
                        "count": 1
                      },
                      {
                        "bin_start": 56.9,
                        "bin_end": 63.6,
                        "count": 0
                      },
                      {
                        "bin_start": 63.6,
                        "bin_end": 70.30000000000001,
                        "count": 0
                      },
                      {
                        "bin_start": 70.30000000000001,
                        "bin_end": 77,
                        "count": 1
                      }
                    ]
                  }
                },
                {
                  "name": "Name",
                  "dtype": "object",
                  "stats": {
                    "unique_count": 5,
                    "nan_count": 0,
                    "categories": [
                      {
                        "name": "Abide Place",
                        "count": 1
                      },
                      {
                        "name": "American Dural",
                        "count": 1
                      },
                      {
                        "name": "3 others",
                        "count": 3
                      }
                    ]
                  }
                },
                {
                  "name": "Latitude",
                  "dtype": "float64",
                  "stats": {
                    "unique_count": 5,
                    "nan_count": 0,
                    "min": 42.37284,
                    "max": 43.366228,
                    "histogram": [
                      {
                        "bin_start": 42.37284,
                        "bin_end": 42.472178799999995,
                        "count": 4
                      },
                      {
                        "bin_start": 42.472178799999995,
                        "bin_end": 42.5715176,
                        "count": 0
                      },
                      {
                        "bin_start": 42.5715176,
                        "bin_end": 42.6708564,
                        "count": 0
                      },
                      {
                        "bin_start": 42.6708564,
                        "bin_end": 42.770195199999996,
                        "count": 0
                      },
                      {
                        "bin_start": 42.770195199999996,
                        "bin_end": 42.869534,
                        "count": 0
                      },
                      {
                        "bin_start": 42.869534,
                        "bin_end": 42.9688728,
                        "count": 0
                      },
                      {
                        "bin_start": 42.9688728,
                        "bin_end": 43.0682116,
                        "count": 0
                      },
                      {
                        "bin_start": 43.0682116,
                        "bin_end": 43.167550399999996,
                        "count": 0
                      },
                      {
                        "bin_start": 43.167550399999996,
                        "bin_end": 43.2668892,
                        "count": 0
                      },
                      {
                        "bin_start": 43.2668892,
                        "bin_end": 43.366228,
                        "count": 1
                      }
                    ]
                  }
                },
                {
                  "name": "Longitude",
                  "dtype": "float64",
                  "stats": {
                    "unique_count": 5,
                    "nan_count": 0,
                    "min": -80.322486,
                    "max": -71.099755,
                    "histogram": [
                      {
                        "bin_start": -80.322486,
                        "bin_end": -79.4002129,
                        "count": 1
                      },
                      {
                        "bin_start": -79.4002129,
                        "bin_end": -78.4779398,
                        "count": 0
                      },
                      {
                        "bin_start": -78.4779398,
                        "bin_end": -77.5556667,
                        "count": 0
                      },
                      {
                        "bin_start": -77.5556667,
                        "bin_end": -76.6333936,
                        "count": 0
                      },
                      {
                        "bin_start": -76.6333936,
                        "bin_end": -75.71112049999999,
                        "count": 0
                      },
                      {
                        "bin_start": -75.71112049999999,
                        "bin_end": -74.7888474,
                        "count": 0
                      },
                      {
                        "bin_start": -74.7888474,
                        "bin_end": -73.8665743,
                        "count": 0
                      },
                      {
                        "bin_start": -73.8665743,
                        "bin_end": -72.9443012,
                        "count": 0
                      },
                      {
                        "bin_start": -72.9443012,
                        "bin_end": -72.0220281,
                        "count": 0
                      },
                      {
                        "bin_start": -72.0220281,
                        "bin_end": -71.099755,
                        "count": 4
                      }
                    ]
                  }
                },
                {
                  "name": "Address",
                  "dtype": "object",
                  "stats": {
                    "unique_count": 1,
                    "nan_count": 4,
                    "categories": [
                      {
                        "name": "Online Sales",
                        "count": 1
                      },
                      {
                        "name": "Missing",
                        "count": 4
                      }
                    ]
                  }
                },
                {
                  "name": "Storefront Sales Status",
                  "dtype": "object",
                  "stats": {
                    "unique_count": 1,
                    "nan_count": 0,
                    "categories": [
                      {
                        "name": "Closed",
                        "count": 5
                      }
                    ]
                  }
                },
                {
                  "name": "Sales Options",
                  "dtype": "object",
                  "stats": {
                    "unique_count": 0,
                    "nan_count": 5,
                    "categories": [
                      {
                        "name": "Missing",
                        "count": 5
                      }
                    ]
                  }
                },
                {
                  "name": "Grocery Sales",
                  "dtype": "object",
                  "stats": {
                    "unique_count": 0,
                    "nan_count": 5,
                    "categories": [
                      {
                        "name": "Missing",
                        "count": 5
                      }
                    ]
                  }
                },
                {
                  "name": "Phone",
                  "dtype": "object",
                  "stats": {
                    "unique_count": 5,
                    "nan_count": 0,
                    "categories": [
                      {
                        "name": "317 Massachusetts Ave",
                        "count": 1
                      },
                      {
                        "name": "135 Huron St.",
                        "count": 1
                      },
                      {
                        "name": "3 others",
                        "count": 3
                      }
                    ]
                  }
                },
                {
                  "name": "Website",
                  "dtype": "object",
                  "stats": {
                    "unique_count": 0,
                    "nan_count": 5,
                    "categories": [
                      {
                        "name": "Missing",
                        "count": 5
                      }
                    ]
                  }
                },
                {
                  "name": "Facebook",
                  "dtype": "object",
                  "stats": {
                    "unique_count": 1,
                    "nan_count": 4,
                    "categories": [
                      {
                        "name": "https://www.facebook.com/beatbrewhall/",
                        "count": 1
                      },
                      {
                        "name": "Missing",
                        "count": 4
                      }
                    ]
                  }
                },
                {
                  "name": "Twitter",
                  "dtype": "object",
                  "stats": {
                    "unique_count": 0,
                    "nan_count": 5,
                    "categories": [
                      {
                        "name": "Missing",
                        "count": 5
                      }
                    ]
                  }
                },
                {
                  "name": "Instagram",
                  "dtype": "object",
                  "stats": {
                    "unique_count": 2,
                    "nan_count": 3,
                    "categories": [
                      {
                        "name": "https://www.instagram.com/abidecambridge/",
                        "count": 1
                      },
                      {
                        "name": "https://www.instagram.com/beatbrewhall/",
                        "count": 1
                      },
                      {
                        "name": "Missing",
                        "count": 3
                      }
                    ]
                  }
                },
                {
                  "name": "LastModified",
                  "dtype": "object",
                  "stats": {
                    "unique_count": 4,
                    "nan_count": 0,
                    "categories": [
                      {
                        "name": "2020-06-09T17:31:30Z",
                        "count": 2
                      },
                      {
                        "name": "2020-11-23T14:11:22Z",
                        "count": 1
                      },
                      {
                        "name": "2 others",
                        "count": 2
                      }
                    ]
                  }
                },
                {
                  "name": "harv_dist",
                  "dtype": "object",
                  "stats": {
                    "unique_count": 5,
                    "nan_count": 0,
                    "categories": [
                      {
                        "name": "1.841192104312489",
                        "count": 1
                      },
                      {
                        "name": "757.8462965928078",
                        "count": 1
                      },
                      {
                        "name": "3 others",
                        "count": 3
                      }
                    ]
                  }
                },
                {
                  "name": "mit_dist",
                  "dtype": "object",
                  "stats": {
                    "unique_count": 5,
                    "nan_count": 0,
                    "categories": [
                      {
                        "name": "4.20110282023835",
                        "count": 1
                      },
                      {
                        "name": "760.1833022436725",
                        "count": 1
                      },
                      {
                        "name": "3 others",
                        "count": 3
                      }
                    ]
                  }
                },
                {
                  "name": "min_dist",
                  "dtype": "object",
                  "stats": {
                    "unique_count": 5,
                    "nan_count": 0,
                    "categories": [
                      {
                        "name": "1.841192104312489",
                        "count": 1
                      },
                      {
                        "name": "757.8462965928078",
                        "count": 1
                      },
                      {
                        "name": "3 others",
                        "count": 3
                      }
                    ]
                  }
                },
                {
                  "name": "_deepnote_index_column",
                  "dtype": "int64"
                }
              ],
              "rows_top": [
                {
                  "Unnamed: 0": 10,
                  "Name": "Abide Place",
                  "Latitude": 42.390604,
                  "Longitude": -71.121712,
                  "Address": "nan",
                  "Storefront Sales Status": "Closed",
                  "Sales Options": "nan",
                  "Grocery Sales": "nan",
                  "Phone": "317 Massachusetts Ave",
                  "Website": "nan",
                  "Facebook": "nan",
                  "Twitter": "nan",
                  "Instagram": "https://www.instagram.com/abidecambridge/",
                  "LastModified": "2020-11-23T14:11:22Z",
                  "harv_dist": 1.841192104312489,
                  "mit_dist": 4.20110282023835,
                  "min_dist": 1.841192104312489,
                  "_deepnote_index_column": 9
                },
                {
                  "Unnamed: 0": 33,
                  "Name": "American Dural",
                  "Latitude": 43.366228,
                  "Longitude": -80.322486,
                  "Address": "nan",
                  "Storefront Sales Status": "Closed",
                  "Sales Options": "nan",
                  "Grocery Sales": "nan",
                  "Phone": "135 Huron St.",
                  "Website": "nan",
                  "Facebook": "nan",
                  "Twitter": "nan",
                  "Instagram": "nan",
                  "LastModified": "2020-09-23T21:49:05Z",
                  "harv_dist": 757.8462965928078,
                  "mit_dist": 760.1833022436725,
                  "min_dist": 757.8462965928078,
                  "_deepnote_index_column": 31
                },
                {
                  "Unnamed: 0": 46,
                  "Name": "Apple Cinemas",
                  "Latitude": 42.392738,
                  "Longitude": -71.140817,
                  "Address": "nan",
                  "Storefront Sales Status": "Closed",
                  "Sales Options": "nan",
                  "Grocery Sales": "nan",
                  "Phone": "168 Alewife Brook Pkwy",
                  "Website": "nan",
                  "Facebook": "nan",
                  "Twitter": "nan",
                  "Instagram": "nan",
                  "LastModified": "2020-06-09T17:31:30Z",
                  "harv_dist": 2.820016363065587,
                  "mit_dist": 5.424802519969862,
                  "min_dist": 2.820016363065587,
                  "_deepnote_index_column": 43
                },
                {
                  "Unnamed: 0": 53,
                  "Name": "Art and Soul Yoga",
                  "Latitude": 42.37284,
                  "Longitude": -71.099755,
                  "Address": "Online Sales",
                  "Storefront Sales Status": "Closed",
                  "Sales Options": "nan",
                  "Grocery Sales": "nan",
                  "Phone": "91 Hampshire St.",
                  "Website": "nan",
                  "Facebook": "nan",
                  "Twitter": "nan",
                  "Instagram": "nan",
                  "LastModified": "2020-06-09T17:31:30Z",
                  "harv_dist": 1.4353598902970321,
                  "mit_dist": 1.580497732790988,
                  "min_dist": 1.4353598902970321,
                  "_deepnote_index_column": 50
                },
                {
                  "Unnamed: 0": 77,
                  "Name": "Beat Brew Hall",
                  "Latitude": 42.373357,
                  "Longitude": -71.119896,
                  "Address": "nan",
                  "Storefront Sales Status": "Closed",
                  "Sales Options": "nan",
                  "Grocery Sales": "nan",
                  "Phone": "13A Brattle St",
                  "Website": "nan",
                  "Facebook": "https://www.facebook.com/beatbrewhall/",
                  "Twitter": "nan",
                  "Instagram": "https://www.instagram.com/beatbrewhall/",
                  "LastModified": "2020-06-09T17:49:22Z",
                  "harv_dist": 0.25730207222345436,
                  "mit_dist": 2.736303613959858,
                  "min_dist": 0.25730207222345436,
                  "_deepnote_index_column": 72
                }
              ],
              "rows_bottom": null
            },
            "text/plain": "    Unnamed: 0               Name   Latitude  Longitude       Address  \\\n9           10        Abide Place  42.390604 -71.121712           NaN   \n31          33     American Dural  43.366228 -80.322486           NaN   \n43          46      Apple Cinemas  42.392738 -71.140817           NaN   \n50          53  Art and Soul Yoga  42.372840 -71.099755  Online Sales   \n72          77     Beat Brew Hall  42.373357 -71.119896           NaN   \n\n   Storefront Sales Status Sales Options Grocery Sales  \\\n9                   Closed           NaN           NaN   \n31                  Closed           NaN           NaN   \n43                  Closed           NaN           NaN   \n50                  Closed           NaN           NaN   \n72                  Closed           NaN           NaN   \n\n                     Phone Website                                Facebook  \\\n9    317 Massachusetts Ave     NaN                                     NaN   \n31           135 Huron St.     NaN                                     NaN   \n43  168 Alewife Brook Pkwy     NaN                                     NaN   \n50        91 Hampshire St.     NaN                                     NaN   \n72          13A Brattle St     NaN  https://www.facebook.com/beatbrewhall/   \n\n   Twitter                                  Instagram          LastModified  \\\n9      NaN  https://www.instagram.com/abidecambridge/  2020-11-23T14:11:22Z   \n31     NaN                                        NaN  2020-09-23T21:49:05Z   \n43     NaN                                        NaN  2020-06-09T17:31:30Z   \n50     NaN                                        NaN  2020-06-09T17:31:30Z   \n72     NaN    https://www.instagram.com/beatbrewhall/  2020-06-09T17:49:22Z   \n\n     harv_dist    mit_dist    min_dist  \n9     1.841192    4.201103    1.841192  \n31  757.846297  760.183302  757.846297  \n43    2.820016    5.424803    2.820016  \n50     1.43536    1.580498     1.43536  \n72    0.257302    2.736304    0.257302  ",
            "text/html": "<div>\n<style scoped>\n    .dataframe tbody tr th:only-of-type {\n        vertical-align: middle;\n    }\n\n    .dataframe tbody tr th {\n        vertical-align: top;\n    }\n\n    .dataframe thead th {\n        text-align: right;\n    }\n</style>\n<table border=\"1\" class=\"dataframe\">\n  <thead>\n    <tr style=\"text-align: right;\">\n      <th></th>\n      <th>Unnamed: 0</th>\n      <th>Name</th>\n      <th>Latitude</th>\n      <th>Longitude</th>\n      <th>Address</th>\n      <th>Storefront Sales Status</th>\n      <th>Sales Options</th>\n      <th>Grocery Sales</th>\n      <th>Phone</th>\n      <th>Website</th>\n      <th>Facebook</th>\n      <th>Twitter</th>\n      <th>Instagram</th>\n      <th>LastModified</th>\n      <th>harv_dist</th>\n      <th>mit_dist</th>\n      <th>min_dist</th>\n    </tr>\n  </thead>\n  <tbody>\n    <tr>\n      <th>9</th>\n      <td>10</td>\n      <td>Abide Place</td>\n      <td>42.390604</td>\n      <td>-71.121712</td>\n      <td>NaN</td>\n      <td>Closed</td>\n      <td>NaN</td>\n      <td>NaN</td>\n      <td>317 Massachusetts Ave</td>\n      <td>NaN</td>\n      <td>NaN</td>\n      <td>NaN</td>\n      <td>https://www.instagram.com/abidecambridge/</td>\n      <td>2020-11-23T14:11:22Z</td>\n      <td>1.841192</td>\n      <td>4.201103</td>\n      <td>1.841192</td>\n    </tr>\n    <tr>\n      <th>31</th>\n      <td>33</td>\n      <td>American Dural</td>\n      <td>43.366228</td>\n      <td>-80.322486</td>\n      <td>NaN</td>\n      <td>Closed</td>\n      <td>NaN</td>\n      <td>NaN</td>\n      <td>135 Huron St.</td>\n      <td>NaN</td>\n      <td>NaN</td>\n      <td>NaN</td>\n      <td>NaN</td>\n      <td>2020-09-23T21:49:05Z</td>\n      <td>757.846297</td>\n      <td>760.183302</td>\n      <td>757.846297</td>\n    </tr>\n    <tr>\n      <th>43</th>\n      <td>46</td>\n      <td>Apple Cinemas</td>\n      <td>42.392738</td>\n      <td>-71.140817</td>\n      <td>NaN</td>\n      <td>Closed</td>\n      <td>NaN</td>\n      <td>NaN</td>\n      <td>168 Alewife Brook Pkwy</td>\n      <td>NaN</td>\n      <td>NaN</td>\n      <td>NaN</td>\n      <td>NaN</td>\n      <td>2020-06-09T17:31:30Z</td>\n      <td>2.820016</td>\n      <td>5.424803</td>\n      <td>2.820016</td>\n    </tr>\n    <tr>\n      <th>50</th>\n      <td>53</td>\n      <td>Art and Soul Yoga</td>\n      <td>42.372840</td>\n      <td>-71.099755</td>\n      <td>Online Sales</td>\n      <td>Closed</td>\n      <td>NaN</td>\n      <td>NaN</td>\n      <td>91 Hampshire St.</td>\n      <td>NaN</td>\n      <td>NaN</td>\n      <td>NaN</td>\n      <td>NaN</td>\n      <td>2020-06-09T17:31:30Z</td>\n      <td>1.43536</td>\n      <td>1.580498</td>\n      <td>1.43536</td>\n    </tr>\n    <tr>\n      <th>72</th>\n      <td>77</td>\n      <td>Beat Brew Hall</td>\n      <td>42.373357</td>\n      <td>-71.119896</td>\n      <td>NaN</td>\n      <td>Closed</td>\n      <td>NaN</td>\n      <td>NaN</td>\n      <td>13A Brattle St</td>\n      <td>NaN</td>\n      <td>https://www.facebook.com/beatbrewhall/</td>\n      <td>NaN</td>\n      <td>https://www.instagram.com/beatbrewhall/</td>\n      <td>2020-06-09T17:49:22Z</td>\n      <td>0.257302</td>\n      <td>2.736304</td>\n      <td>0.257302</td>\n    </tr>\n  </tbody>\n</table>\n</div>"
          },
          "metadata": {}
        }
      ]
    },
    {
      "cell_type": "code",
      "metadata": {
        "tags": [],
        "cell_id": "00011-381f51ff-50b8-4826-9911-e65536bda700",
        "deepnote_to_be_reexecuted": false,
        "source_hash": "fe52e150",
        "execution_millis": 481,
        "execution_start": 1617386689853,
        "deepnote_cell_type": "code"
      },
      "source": "import matplotlib.pyplot as plt\nplt.scatter(openloc[\"mit_dist\"],openloc[\"harv_dist\"],c='#2596be')\nplt.xlabel(\"Distance to MIT\")\nplt.ylabel(\"Distance to Harvard\")\nplt.title(\"Distance to Campus and 1-2 Year Vacancies\")\nplt.show()",
      "execution_count": 12,
      "outputs": []
    },
    {
      "cell_type": "code",
      "metadata": {
        "tags": [],
        "cell_id": "00013-3af442b0-d79c-49eb-9f3a-ce6e252baa26",
        "deepnote_to_be_reexecuted": false,
        "source_hash": "2b72cc7d",
        "execution_millis": 3,
        "execution_start": 1617396028344,
        "deepnote_cell_type": "code"
      },
      "source": "openmin = []\nopenmin = np.append (openmin, (vdistances.loc[vdistances[\"Storefront Sales Status\"]== \"Open\"][\"min_dist\"]))\nclosedmin=[]\nclosedmin=np.append (openmin, (vdistances.loc[vdistances[\"Storefront Sales Status\"]== \"Closed\"][\"min_dist\"]))\nopenY=[]\nclosedY=[]\n\nopenY = np.ones((len(openmin),), dtype=int)\nclosedY = np.zeros((len(closedmin),),dtype=int)\n\nclosedminfinal=[]\nfor i in range(len(closedmin)):\n    if closedmin[i]<5:\n        closedminfinal.append(closedmin[i])\nopenminfinal=[]\nfor i in range(len(openmin)):\n    if openmin[i]<5:\n        openminfinal.append(openmin[i])\n",
      "execution_count": 34,
      "outputs": []
    },
    {
      "cell_type": "code",
      "source": "# HODP colors\nmonochrome_colors = ['#251616', '#760000', '#C63F3F', '#E28073', '#F1D3CF']\nprimary_colors = ['#C63F3F', '#F4B436', '#83BFCC', '#455574', '#E2DDDB']\n\n# HODP template\ntheme_hodp = go.layout.Template(\n    layout=go.Layout(\n        title = {'font':{'size':24, 'family':\"Helvetica\", 'color':monochrome_colors[0]}, 'pad':{'t':100, 'r':0, 'b':0, 'l':0}},\n        font = {'size':18, 'family':'Helvetica', 'color':'#717171'},\n        xaxis = {'ticks': \"outside\",\n                'tickfont': {'size': 14, 'family':\"Helvetica\"},\n                'showticksuffix': 'all',\n                'showtickprefix': 'last',\n                'showline': True,\n                'title':{'font':{'size':18, 'family':'Helvetica'}, 'standoff':20},\n                'automargin': True\n                },\n        yaxis = {'ticks': \"outside\",\n                'tickfont': {'size': 14, 'family':\"Helvetica\"},\n                'showticksuffix': 'all',\n                'showtickprefix': 'last',\n                'title':{'font':{'size':18, 'family':'Helvetica'}, 'standoff':20},\n                'showline': True,\n                'automargin': True\n                },\n        legend = {'bgcolor':'rgba(0,0,0,0)', \n                'title':{'font':{'size':18, 'family':\"Helvetica\", 'color':monochrome_colors[0]}}, \n                'font':{'size':14, 'family':\"Helvetica\"}, \n                'yanchor':'bottom'\n                },\n        colorscale = {'diverging':monochrome_colors},\n        coloraxis = {'autocolorscale':True, \n                'cauto':True, \n                'colorbar':{'tickfont':{'size':14,'family':'Helvetica'}, 'title':{'font':{'size':18, 'family':'Helvetica'}}},\n                }\n    )\n)",
      "metadata": {
        "tags": [],
        "cell_id": "00014-8a2e0fb2-74c5-4b29-8550-f655a4f631b0",
        "deepnote_to_be_reexecuted": false,
        "source_hash": "263b72e1",
        "execution_millis": 8,
        "execution_start": 1617386698011,
        "deepnote_cell_type": "code"
      },
      "outputs": [],
      "execution_count": 16
    },
    {
      "cell_type": "code",
      "source": "import plotly.graph_objects as go\n\n\nfig = go.Figure()\nfig.add_trace(go.Histogram(x=closedminfinal, marker_color=primary_colors[0], name='Closed'))\nfig.add_trace(go.Histogram(x=openminfinal, marker_color=primary_colors[1], name='Open'))\n\n#Overlaid Histogram\nfig.update_layout(title = \"Comparison of Open and Closed by Minimum Distance to School\", barmode='overlay')\nfig.update_traces(opacity=0.7) # Reduce opacity to see both histograms\nfig.show()",
      "metadata": {
        "tags": [],
        "cell_id": "00014-b69255ee-5139-4407-8a36-cbf3ee04521c",
        "deepnote_to_be_reexecuted": false,
        "source_hash": "a3dc2853",
        "execution_millis": 9,
        "execution_start": 1617395370685,
        "deepnote_cell_type": "code"
      },
      "outputs": [
        {
          "data": {
            "text/html": "<html>\n<head><meta charset=\"utf-8\" /></head>\n<body>\n    <div>            <script src=\"https://cdnjs.cloudflare.com/ajax/libs/mathjax/2.7.5/MathJax.js?config=TeX-AMS-MML_SVG\"></script><script type=\"text/javascript\">if (window.MathJax) {MathJax.Hub.Config({SVG: {font: \"STIX-Web\"}});}</script>                <script type=\"text/javascript\">window.PlotlyConfig = {MathJaxConfig: 'local'};</script>\n        <script src=\"https://cdn.plot.ly/plotly-latest.min.js\"></script>                <div id=\"9cdd7041-9e87-408c-b06a-5536a4ccc3c3\" class=\"plotly-graph-div\" style=\"height:525px; width:100%;\"></div>            <script type=\"text/javascript\">                                    window.PLOTLYENV=window.PLOTLYENV || {};                                    if (document.getElementById(\"9cdd7041-9e87-408c-b06a-5536a4ccc3c3\")) {                    Plotly.newPlot(                        \"9cdd7041-9e87-408c-b06a-5536a4ccc3c3\",                        [{\"marker\": {\"color\": \"#C63F3F\"}, \"name\": \"Closed\", \"opacity\": 0.7, \"type\": \"histogram\", \"x\": [1.841192104312489, 1.3762114532742242, 1.841192104312489, 1.2993884688097233, 1.275126147688533, 0.18783102434742277, 2.6735256338981, 1.20156486231015, 1.2976795907576422, 1.841192104312489, 2.6735256338981, 1.0018535614146067, 0.22200885716195948, 0.18783102434742277, 1.453812906413159, 1.1934400582370766, 0.46741792891601536, 2.820016363065587, 1.841192104312489, 1.3979867931474719, 0.18783102434742277, 0.3721762534627268, 0.3597809981778221, 0.18783102434742277, 1.4334659028700132, 1.2758519859647837, 1.567436812961219, 0.18783102434742277, 2.6197615309836504, 0.27292855356976803, 3.5612350113124394, 0.3299314329932676, 1.2521445389556505, 3.004325038215504, 0.35981343733971366, 1.841192104312489, 0.27719619519863486, 1.5785493553831806, 1.5507629482994723, 0.25730207222345436, 1.841192104312489, 0.18783102434742277, 0.46741792891601536, 0.3597809981778221, 2.43454641323273, 1.841192104312489, 1.841192104312489, 0.8319901786297944, 2.820016363065587, 3.004325038215504, 1.0410948268469398, 0.27719619519863486, 1.2951186353485227, 2.6735256338981, 0.3597809981778221, 1.4264161801982433, 0.27719619519863486, 1.7116393761869433, 0.3597809981778221, 1.841192104312489, 1.841192104312489, 0.22200885716195948, 0.27719619519863486, 2.43454641323273, 3.004325038215504, 1.1264141099161673, 2.6735256338981, 1.841192104312489, 1.841192104312489, 1.4353598902970321, 0.18783102434742277, 1.2287084973662186, 0.5821165912260184, 0.18783102434742277, 3.421597088133197, 0.18783102434742277, 0.27719619519863486, 1.8480179310042057, 1.1067901199557975, 1.841192104312489, 0.44558148954772697, 0.18783102434742277, 1.841192104312489, 1.841192104312489, 0.25730207222345436, 0.25730207222345436, 1.3591530974712767, 0.49446823678196744, 1.7116393761869433, 0.27719619519863486, 0.8229441526921172, 0.802738965208306, 0.22200885716195948, 2.4201429489297848, 0.9962154310020682, 0.49446823678196744, 1.9285918436063227, 1.841192104312489, 0.18783102434742277, 1.841192104312489, 1.1539301188178788, 0.27719619519863486, 1.453812906413159, 0.25730207222345436, 1.841192104312489, 0.18783102434742277, 2.970438618216186, 0.6286802745805384, 0.22200885716195948, 1.198186474892138, 0.22200885716195948, 0.9057747025590392, 0.7834823098707796, 0.18783102434742277, 2.43454641323273, 1.841192104312489, 2.43454641323273, 1.841192104312489, 1.2357936791459967, 0.7340410572962621, 3.162573425576015, 1.453812906413159, 0.49446823678196744, 0.8229441526921172, 0.18783102434742277, 1.841192104312489, 1.841192104312489, 1.841192104312489, 1.841192104312489, 1.841192104312489, 0.3393116839199994, 1.3182461325241424, 0.18783102434742277, 1.841192104312489, 0.49446823678196744, 0.18783102434742277, 1.4410996486611594, 1.841192104312489, 0.25730207222345436, 0.18783102434742277, 0.8508511637037378, 0.44558148954772697, 1.841192104312489, 0.18783102434742277, 1.841192104312489, 3.421597088133197, 1.1468907314552361, 1.2761962936149516, 1.841192104312489, 0.27719619519863486, 1.841192104312489, 0.4819857141383627, 1.841192104312489, 0.3597809981778221, 0.9744683167261319, 0.4603847868684553, 1.841192104312489, 1.540718799461614, 1.4737356146555762, 0.27719619519863486, 0.49446823678196744, 2.743106388068094, 2.6735256338981, 0.8108862045727105, 1.4052978413390302, 1.841192104312489, 0.18783102434742277, 1.841192104312489, 0.946564869355757, 1.1960611395349112, 1.0912877142235546, 1.7116393761869433, 1.4353598902970321, 1.841192104312489, 0.9064508595252572, 0.17523997347439396, 0.18783102434742277, 0.5058675530619462, 0.18783102434742277, 1.33887543193964, 1.1754916230180164, 1.841192104312489, 0.2546519177949524, 2.6735256338981, 1.3107117475721677, 1.3021479809049648, 0.18783102434742277, 0.4819857141383627, 0.18783102434742277, 1.444887545483724, 2.43454641323273, 1.841192104312489, 0.25730207222345436, 0.18783102434742277, 0.27358450430091796, 0.25730207222345436, 1.1533788958461262, 0.8361181413333041, 1.2133172174610118, 0.7481199079611949, 1.841192104312489, 1.841192104312489, 1.841192104312489, 1.841192104312489, 1.2357936791459967, 1.841192104312489, 1.7116393761869433, 0.7688812315675992, 1.841192104312489, 1.3173631551378284, 0.6744516478198075, 1.008056789918845, 1.9802573569827586, 1.3949486285072379, 0.44558148954772697, 0.8697977296529875, 0.18783102434742277, 0.7834823098707796, 0.22200885716195948, 1.841192104312489, 1.0913455628686637, 1.841192104312489, 0.18783102434742277, 2.43454641323273, 2.43454641323273, 0.4844585013501623, 1.841192104312489, 1.841192104312489, 0.27719619519863486, 1.841192104312489, 1.407727980121656, 3.0637063406077427, 2.43454641323273, 0.18783102434742277, 2.43454641323273, 1.841192104312489, 2.4817308864617407, 0.3597809981778221, 0.3597809981778221, 0.18783102434742277, 0.18783102434742277, 1.841192104312489, 1.841192104312489, 0.2969101194346472, 1.841192104312489, 0.18783102434742277, 0.18783102434742277, 2.132268555326877, 1.4334659028700132, 1.337077720667297, 2.43454641323273, 0.18783102434742277, 1.841192104312489, 0.981305491363168, 1.841192104312489, 0.9737724271772747, 0.4008949975538279, 1.841192104312489, 1.841192104312489, 1.0239009568004809, 1.4353598902970321, 2.43454641323273, 0.27719619519863486, 0.18783102434742277, 1.841192104312489, 1.4353598902970321, 2.5125662851023547, 0.22200885716195948, 1.841192104312489, 0.9955138458582315, 2.9064470643490243, 1.841192104312489, 0.18783102434742277, 1.841192104312489, 2.820016363065587, 1.590032178407205, 1.841192104312489, 1.2357936791459967, 1.841192104312489, 1.841192104312489, 1.841192104312489, 0.18783102434742277, 0.33992524818044273, 0.9404312888717276, 0.18783102434742277, 0.802738965208306, 1.2357936791459967, 1.986130619713966, 2.43454641323273, 1.3148944077064693, 2.6559097007280523, 0.3766036929825534, 0.18783102434742277, 1.841192104312489, 3.421597088133197, 1.4353598902970321, 1.841192104312489, 1.841192104312489, 1.298067723890906, 1.453812906413159, 1.841192104312489, 1.841192104312489, 0.3852543064366997, 1.841192104312489, 2.43454641323273, 1.4353598902970321, 2.6735256338981, 1.841192104312489, 1.841192104312489, 0.21304665704823753, 1.841192104312489, 1.841192104312489, 0.3597809981778221, 1.841192104312489, 0.6458333295048494, 0.27719619519863486, 1.4353598902970321, 1.841192104312489, 0.25730207222345436, 1.841192104312489, 0.19773300669905178, 1.6138978851988213, 1.841192104312489, 1.3726198670299736, 0.4819857141383627, 2.6735256338981, 0.27719619519863486, 1.5247854210900273, 0.25730207222345436, 1.841192104312489, 1.0367804699157517, 1.841192104312489, 2.43454641323273, 1.841192104312489, 1.841192104312489, 1.841192104312489, 2.6735256338981, 0.6242293308928198, 1.841192104312489, 1.453812906413159, 0.18783102434742277, 3.307481765856235, 0.946564869355757, 0.19773300669905178, 2.43454641323273, 0.18783102434742277, 0.18783102434742277, 1.4300504001553325, 0.18783102434742277, 0.18783102434742277, 1.1754916230180164, 1.841192104312489, 0.6415238920470366, 1.841192104312489, 1.453812906413159, 0.27292855356976803, 1.841192104312489, 1.4518560222216839, 1.841192104312489, 1.841192104312489, 1.841192104312489, 2.6735256338981, 1.841192104312489, 1.1538908713297678, 1.841192104312489, 1.841192104312489, 1.157465747789209, 1.7116393761869433, 2.1819067661760743, 1.841192104312489, 1.0888880988028518, 1.841192104312489, 1.4353598902970321, 1.841192104312489, 0.44558148954772697, 0.4738370115056333, 1.7116393761869433, 4.728114163183696, 0.802738965208306, 0.8731309565821521, 1.1934400582370766, 1.841192104312489, 0.25730207222345436, 1.841192104312489, 0.2546519177949524, 2.6735256338981, 2.6735256338981, 0.22200885716195948, 2.6735256338981, 1.841192104312489, 2.6735256338981, 0.27719619519863486, 0.27719619519863486, 0.18783102434742277, 0.18783102434742277, 1.423286308255452, 1.841192104312489, 0.18783102434742277, 1.453812906413159, 1.153783963609125, 1.2357936791459967, 1.2895986806320885, 0.802738965208306, 0.7202130256182161, 3.0637063406077427, 0.2510429701006718, 3.982004819347771, 1.4289582475787541, 0.44760124123841427, 0.18783102434742277, 1.2357936791459967, 0.18783102434742277, 0.22200885716195948, 1.841192104312489, 1.434380816814637, 1.841192104312489, 2.5518662705210478, 0.9492329654238975, 1.841192104312489, 0.5537727158858756, 2.43454641323273, 0.27719619519863486, 1.2557214368536902, 0.8229441526921172, 1.841192104312489, 2.43454641323273, 0.8061693892537231, 1.841192104312489, 0.18783102434742277, 0.8638794731050766, 1.841192104312489, 1.2853709982457737, 1.841192104312489, 2.371470319916973, 1.429826629283176, 0.8586412143427516, 0.22200885716195948, 1.841192104312489, 1.308745635067862, 0.8892196531979122, 1.8333229962758237, 0.18783102434742277, 1.841192104312489, 0.2546519177949524, 0.25730207222345436, 0.4844585013501623, 0.2510429701006718, 2.6843284731896375, 4.256239251884116, 1.841192104312489, 0.8229441526921172, 1.841192104312489, 2.43454641323273, 1.841192104312489, 1.841192104312489, 0.18783102434742277, 0.657913499585475, 0.25730207222345436, 1.6885955508864685, 0.7982664349612587, 1.4353598902970321, 1.0018535614146067, 0.2510429701006718, 1.841192104312489, 0.22200885716195948, 1.841192104312489, 0.18783102434742277, 1.841192104312489, 0.5689647078034953, 1.841192104312489, 1.4353598902970321, 1.5393313515634388, 1.841192104312489, 1.841192104312489, 0.7772053707603301, 1.402825628046954, 1.841192104312489, 0.3597809981778221, 0.27719619519863486, 1.841192104312489, 0.7481199079611949, 0.3299314329932676, 1.841192104312489, 2.9064470643490243, 0.4819857141383627, 1.841192104312489, 2.6735256338981, 1.841192104312489, 0.505193301718666, 1.841192104312489, 0.3460099534385587, 0.2546519177949524, 1.3717802821695382, 1.2678709102913472, 3.421597088133197, 0.18783102434742277, 1.841192104312489, 1.6782988067089923, 1.064814286690271, 1.841192104312489, 0.18783102434742277, 0.747986200625379, 0.18783102434742277, 4.639783353087604, 0.193089026750166, 0.928870306214241, 1.3078071257195305, 1.841192104312489, 1.495595704344205, 1.5785493553831806, 1.841192104312489, 1.9802573569827586, 0.4844585013501623, 2.274845817750432, 1.0175870628095018, 0.4844585013501623, 2.820016363065587, 0.9346014845383844, 1.1070471250537246, 0.22200885716195948, 1.30524662553455, 0.18783102434742277, 0.3656664665812606, 1.3717802821695382, 0.4844585013501623, 1.453812906413159, 0.9649426979817985, 0.913938900085119, 1.841192104312489, 1.841192104312489, 0.18783102434742277, 1.841192104312489, 0.5573107781444151, 0.49446823678196744, 1.340831519285845, 1.841192104312489, 0.9053811753374478, 2.4817308864617407, 1.841192104312489, 2.7041732369897207, 0.18783102434742277, 1.0191868979814547, 1.841192104312489, 0.2510429701006718, 2.2696059906286474, 0.3656664665812606, 1.841192104312489, 2.6735256338981, 3.0056727012899236, 0.19773300669905178, 1.841192104312489, 0.7885506208767742, 2.078735269937071, 0.18783102434742277, 0.18783102434742277, 0.27719619519863486, 2.4817308864617407, 0.18783102434742277, 1.841192104312489, 2.43454641323273, 0.49446823678196744, 1.4353598902970321, 1.841192104312489, 0.19773300669905178, 0.3460099534385587, 0.2560374543607875, 0.693084429229919, 0.27438534943506243, 1.453812906413159, 1.0367804699157517, 2.6735256338981, 1.0384911605565132, 0.3852543064366997, 2.820016363065587, 0.6286802745805384, 0.18783102434742277, 1.841192104312489, 1.346932690395528, 1.841192104312489, 1.2843019835780556, 3.982004819347771, 1.2357936791459967, 1.453812906413159, 1.2905465752917393, 2.9064470643490243, 1.841192104312489, 1.2357936791459967, 1.841192104312489, 0.913938900085119, 1.7116393761869433, 1.841192104312489, 1.4250290354091828, 1.3648284841473997, 1.841192104312489, 0.8956317407170883, 0.18783102434742277, 0.6733378123636032, 0.18783102434742277, 1.1264141099161673, 0.8229441526921172, 0.2106168792069993, 0.42310802595262403, 2.7277900678040368, 0.2510429701006718, 1.841192104312489, 1.6885955508864685, 0.2682152418160942, 0.18783102434742277, 2.820016363065587, 1.8178460260184428, 0.22200885716195948, 0.9039637923482006, 0.22200885716195948, 1.1543332623360145, 1.841192104312489, 1.841192104312489, 0.18783102434742277, 1.7120701153347277, 1.064814286690271, 2.820016363065587, 0.18783102434742277, 1.841192104312489, 1.841192104312489, 0.18783102434742277, 0.18783102434742277, 1.4740153044391655, 0.18783102434742277, 1.841192104312489, 2.6954273402822815, 0.18783102434742277, 0.2510429701006718, 1.6885955508864685, 1.453812906413159, 0.3597809981778221, 0.35704530142955976, 0.9601401520288959, 1.841192104312489, 0.9887818484099843, 1.841192104312489, 0.25730207222345436, 0.18783102434742277, 1.6885955508864685, 0.32160362918364743, 1.453812906413159, 1.841192104312489, 0.18783102434742277, 0.34079096950273596, 0.18783102434742277, 0.23687935170318103, 1.2357936791459967, 2.43454641323273, 0.18783102434742277, 0.8229441526921172, 1.4825694572082855, 0.49446823678196744, 1.841192104312489, 1.841192104312489, 0.18783102434742277, 1.841192104312489, 1.841192104312489, 1.841192104312489, 1.841192104312489, 0.18783102434742277, 0.8467764140959518, 0.27719619519863486, 0.44558148954772697, 0.9247555363364209, 2.43454641323273, 1.0427547518738092, 1.841192104312489, 2.5460014111794624, 0.2546519177949524, 1.841192104312489, 1.9487251161687047, 1.3632413333771614, 1.841192104312489, 0.18783102434742277, 1.9238732024136316, 1.1264141099161673, 0.27719619519863486, 0.2510429701006718, 0.22200885716195948, 1.841192104312489, 3.421597088133197, 0.18783102434742277, 1.841192104312489, 0.4844585013501623, 1.453812906413159, 1.6782988067089923, 1.841192104312489, 0.18783102434742277, 0.3852543064366997, 1.841192104312489, 0.49446823678196744, 1.841192104312489, 2.820016363065587, 1.4353598902970321, 0.25730207222345436, 0.4819857141383627, 0.4738370115056333, 1.841192104312489, 0.32160362918364743, 0.4844585013501623, 1.841192104312489, 1.841192104312489, 0.26196077280414787, 2.0034189612045448, 1.841192104312489, 1.2920480695416305, 0.802738965208306, 0.4052092005834856, 0.8467764140959518, 0.8731309565821521, 1.841192104312489, 0.24884354133548117, 1.841192104312489, 0.8697195503139317, 1.0160956613915226, 0.28617471912326975, 0.4844585013501623, 0.2964436080274455, 1.841192104312489, 1.841192104312489, 0.18783102434742277, 1.7116393761869433, 1.841192104312489, 1.841192104312489, 0.9717355467996255, 1.841192104312489, 1.1229326361305019, 0.3695151200920383, 1.9802573569827586, 1.841192104312489, 0.2546519177949524, 2.3883630512396947, 0.8467764140959518, 0.946564869355757, 0.946564869355757, 0.18783102434742277, 1.841192104312489, 0.9288744109719794, 1.841192104312489, 0.4832667259045893, 1.018309559799091, 0.8816523326505146, 0.18783102434742277, 2.43454641323273, 1.841192104312489, 0.6051197997860726, 0.18783102434742277, 0.6153356128437346, 0.5224106902944565, 1.841192104312489, 1.841192104312489, 1.346932690395528, 1.348337935154747, 0.41597025523028114, 0.44760124123841427, 0.27719619519863486, 1.4353598902970321, 1.6885955508864685, 0.27719619519863486, 1.841192104312489, 1.4353598902970321, 0.18783102434742277, 0.4819857141383627, 1.841192104312489, 0.4615759942140828, 0.8731309565821521, 0.41468373437106, 0.2510429701006718, 0.2510429701006718, 0.8956317407170883, 1.841192104312489, 0.8229441526921172, 2.43454641323273, 1.841192104312489, 1.841192104312489, 0.25730207222345436, 1.1765948904140289, 1.841192104312489, 1.841192104312489, 1.841192104312489, 1.841192104312489, 1.7116393761869433]}, {\"marker\": {\"color\": \"#F4B436\"}, \"name\": \"Open\", \"opacity\": 0.7, \"type\": \"histogram\", \"x\": [1.841192104312489, 1.3762114532742242, 1.841192104312489, 1.2993884688097233, 1.275126147688533, 0.18783102434742277, 2.6735256338981, 1.20156486231015, 1.2976795907576422, 1.841192104312489, 2.6735256338981, 1.0018535614146067, 0.22200885716195948, 0.18783102434742277, 1.453812906413159, 1.1934400582370766, 0.46741792891601536, 2.820016363065587, 1.841192104312489, 1.3979867931474719, 0.18783102434742277, 0.3721762534627268, 0.3597809981778221, 0.18783102434742277, 1.4334659028700132, 1.2758519859647837, 1.567436812961219, 0.18783102434742277, 2.6197615309836504, 0.27292855356976803, 3.5612350113124394, 0.3299314329932676, 1.2521445389556505, 3.004325038215504, 0.35981343733971366, 1.841192104312489, 0.27719619519863486, 1.5785493553831806, 1.5507629482994723, 0.25730207222345436, 1.841192104312489, 0.18783102434742277, 0.46741792891601536, 0.3597809981778221, 2.43454641323273, 1.841192104312489, 1.841192104312489, 0.8319901786297944, 2.820016363065587, 3.004325038215504, 1.0410948268469398, 0.27719619519863486, 1.2951186353485227, 2.6735256338981, 0.3597809981778221, 1.4264161801982433, 0.27719619519863486, 1.7116393761869433, 0.3597809981778221, 1.841192104312489, 1.841192104312489, 0.22200885716195948, 0.27719619519863486, 2.43454641323273, 3.004325038215504, 1.1264141099161673, 2.6735256338981, 1.841192104312489, 1.841192104312489, 1.4353598902970321, 0.18783102434742277, 1.2287084973662186, 0.5821165912260184, 0.18783102434742277, 3.421597088133197, 0.18783102434742277, 0.27719619519863486, 1.8480179310042057, 1.1067901199557975, 1.841192104312489, 0.44558148954772697, 0.18783102434742277, 1.841192104312489, 1.841192104312489, 0.25730207222345436, 0.25730207222345436, 1.3591530974712767, 0.49446823678196744, 1.7116393761869433, 0.27719619519863486, 0.8229441526921172, 0.802738965208306, 0.22200885716195948, 2.4201429489297848, 0.9962154310020682, 0.49446823678196744, 1.9285918436063227, 1.841192104312489, 0.18783102434742277, 1.841192104312489, 1.1539301188178788, 0.27719619519863486, 1.453812906413159, 0.25730207222345436, 1.841192104312489, 0.18783102434742277, 2.970438618216186, 0.6286802745805384, 0.22200885716195948, 1.198186474892138, 0.22200885716195948, 0.9057747025590392, 0.7834823098707796, 0.18783102434742277, 2.43454641323273, 1.841192104312489, 2.43454641323273, 1.841192104312489, 1.2357936791459967, 0.7340410572962621, 3.162573425576015, 1.453812906413159, 0.49446823678196744, 0.8229441526921172, 0.18783102434742277, 1.841192104312489, 1.841192104312489, 1.841192104312489, 1.841192104312489, 1.841192104312489, 0.3393116839199994, 1.3182461325241424, 0.18783102434742277, 1.841192104312489, 0.49446823678196744, 0.18783102434742277, 1.4410996486611594, 1.841192104312489, 0.25730207222345436, 0.18783102434742277, 0.8508511637037378, 0.44558148954772697, 1.841192104312489, 0.18783102434742277, 1.841192104312489, 3.421597088133197, 1.1468907314552361, 1.2761962936149516, 1.841192104312489, 0.27719619519863486, 1.841192104312489, 0.4819857141383627, 1.841192104312489, 0.3597809981778221, 0.9744683167261319, 0.4603847868684553, 1.841192104312489, 1.540718799461614, 1.4737356146555762, 0.27719619519863486, 0.49446823678196744, 2.743106388068094, 2.6735256338981, 0.8108862045727105, 1.4052978413390302, 1.841192104312489, 0.18783102434742277, 1.841192104312489, 0.946564869355757, 1.1960611395349112, 1.0912877142235546, 1.7116393761869433, 1.4353598902970321, 1.841192104312489, 0.9064508595252572, 0.17523997347439396, 0.18783102434742277, 0.5058675530619462, 0.18783102434742277, 1.33887543193964, 1.1754916230180164, 1.841192104312489, 0.2546519177949524, 2.6735256338981, 1.3107117475721677, 1.3021479809049648, 0.18783102434742277, 0.4819857141383627, 0.18783102434742277, 1.444887545483724, 2.43454641323273, 1.841192104312489, 0.25730207222345436, 0.18783102434742277, 0.27358450430091796, 0.25730207222345436, 1.1533788958461262, 0.8361181413333041, 1.2133172174610118, 0.7481199079611949, 1.841192104312489, 1.841192104312489, 1.841192104312489, 1.841192104312489, 1.2357936791459967, 1.841192104312489, 1.7116393761869433, 0.7688812315675992, 1.841192104312489, 1.3173631551378284, 0.6744516478198075, 1.008056789918845, 1.9802573569827586, 1.3949486285072379, 0.44558148954772697, 0.8697977296529875, 0.18783102434742277, 0.7834823098707796, 0.22200885716195948, 1.841192104312489, 1.0913455628686637, 1.841192104312489, 0.18783102434742277, 2.43454641323273, 2.43454641323273, 0.4844585013501623, 1.841192104312489, 1.841192104312489, 0.27719619519863486, 1.841192104312489, 1.407727980121656, 3.0637063406077427, 2.43454641323273, 0.18783102434742277, 2.43454641323273, 1.841192104312489, 2.4817308864617407, 0.3597809981778221, 0.3597809981778221, 0.18783102434742277, 0.18783102434742277, 1.841192104312489, 1.841192104312489, 0.2969101194346472, 1.841192104312489, 0.18783102434742277, 0.18783102434742277, 2.132268555326877, 1.4334659028700132, 1.337077720667297, 2.43454641323273, 0.18783102434742277, 1.841192104312489, 0.981305491363168, 1.841192104312489, 0.9737724271772747, 0.4008949975538279, 1.841192104312489, 1.841192104312489, 1.0239009568004809, 1.4353598902970321, 2.43454641323273, 0.27719619519863486, 0.18783102434742277, 1.841192104312489, 1.4353598902970321, 2.5125662851023547, 0.22200885716195948, 1.841192104312489, 0.9955138458582315, 2.9064470643490243, 1.841192104312489, 0.18783102434742277, 1.841192104312489, 2.820016363065587, 1.590032178407205, 1.841192104312489, 1.2357936791459967, 1.841192104312489, 1.841192104312489, 1.841192104312489, 0.18783102434742277, 0.33992524818044273, 0.9404312888717276, 0.18783102434742277, 0.802738965208306, 1.2357936791459967, 1.986130619713966, 2.43454641323273, 1.3148944077064693, 2.6559097007280523, 0.3766036929825534, 0.18783102434742277, 1.841192104312489, 3.421597088133197, 1.4353598902970321, 1.841192104312489, 1.841192104312489, 1.298067723890906, 1.453812906413159, 1.841192104312489, 1.841192104312489, 0.3852543064366997, 1.841192104312489, 2.43454641323273, 1.4353598902970321, 2.6735256338981, 1.841192104312489, 1.841192104312489, 0.21304665704823753, 1.841192104312489, 1.841192104312489, 0.3597809981778221, 1.841192104312489, 0.6458333295048494, 0.27719619519863486, 1.4353598902970321, 1.841192104312489, 0.25730207222345436, 1.841192104312489, 0.19773300669905178, 1.6138978851988213, 1.841192104312489, 1.3726198670299736, 0.4819857141383627, 2.6735256338981, 0.27719619519863486, 1.5247854210900273, 0.25730207222345436, 1.841192104312489, 1.0367804699157517, 1.841192104312489, 2.43454641323273, 1.841192104312489, 1.841192104312489, 1.841192104312489, 2.6735256338981, 0.6242293308928198, 1.841192104312489, 1.453812906413159, 0.18783102434742277, 3.307481765856235, 0.946564869355757, 0.19773300669905178, 2.43454641323273, 0.18783102434742277, 0.18783102434742277, 1.4300504001553325, 0.18783102434742277, 0.18783102434742277, 1.1754916230180164, 1.841192104312489, 0.6415238920470366, 1.841192104312489, 1.453812906413159, 0.27292855356976803, 1.841192104312489, 1.4518560222216839, 1.841192104312489, 1.841192104312489, 1.841192104312489, 2.6735256338981, 1.841192104312489, 1.1538908713297678, 1.841192104312489, 1.841192104312489, 1.157465747789209, 1.7116393761869433, 2.1819067661760743, 1.841192104312489, 1.0888880988028518, 1.841192104312489, 1.4353598902970321, 1.841192104312489, 0.44558148954772697, 0.4738370115056333, 1.7116393761869433, 4.728114163183696, 0.802738965208306, 0.8731309565821521, 1.1934400582370766, 1.841192104312489, 0.25730207222345436, 1.841192104312489, 0.2546519177949524, 2.6735256338981, 2.6735256338981, 0.22200885716195948, 2.6735256338981, 1.841192104312489, 2.6735256338981, 0.27719619519863486, 0.27719619519863486, 0.18783102434742277, 0.18783102434742277, 1.423286308255452, 1.841192104312489, 0.18783102434742277, 1.453812906413159, 1.153783963609125, 1.2357936791459967, 1.2895986806320885, 0.802738965208306, 0.7202130256182161, 3.0637063406077427, 0.2510429701006718, 3.982004819347771, 1.4289582475787541, 0.44760124123841427, 0.18783102434742277, 1.2357936791459967, 0.18783102434742277, 0.22200885716195948, 1.841192104312489, 1.434380816814637, 1.841192104312489, 2.5518662705210478, 0.9492329654238975, 1.841192104312489, 0.5537727158858756, 2.43454641323273, 0.27719619519863486, 1.2557214368536902, 0.8229441526921172, 1.841192104312489, 2.43454641323273, 0.8061693892537231, 1.841192104312489, 0.18783102434742277, 0.8638794731050766, 1.841192104312489, 1.2853709982457737, 1.841192104312489, 2.371470319916973, 1.429826629283176, 0.8586412143427516, 0.22200885716195948, 1.841192104312489, 1.308745635067862, 0.8892196531979122, 1.8333229962758237, 0.18783102434742277, 1.841192104312489, 0.2546519177949524, 0.25730207222345436, 0.4844585013501623, 0.2510429701006718, 2.6843284731896375, 4.256239251884116, 1.841192104312489, 0.8229441526921172, 1.841192104312489, 2.43454641323273, 1.841192104312489, 1.841192104312489, 0.18783102434742277, 0.657913499585475, 0.25730207222345436, 1.6885955508864685, 0.7982664349612587, 1.4353598902970321, 1.0018535614146067, 0.2510429701006718, 1.841192104312489, 0.22200885716195948, 1.841192104312489, 0.18783102434742277, 1.841192104312489, 0.5689647078034953, 1.841192104312489, 1.4353598902970321, 1.5393313515634388, 1.841192104312489, 1.841192104312489, 0.7772053707603301, 1.402825628046954, 1.841192104312489, 0.3597809981778221, 0.27719619519863486, 1.841192104312489, 0.7481199079611949, 0.3299314329932676, 1.841192104312489, 2.9064470643490243, 0.4819857141383627, 1.841192104312489, 2.6735256338981, 1.841192104312489, 0.505193301718666, 1.841192104312489, 0.3460099534385587, 0.2546519177949524, 1.3717802821695382, 1.2678709102913472, 3.421597088133197, 0.18783102434742277, 1.841192104312489, 1.6782988067089923, 1.064814286690271, 1.841192104312489, 0.18783102434742277, 0.747986200625379, 0.18783102434742277, 4.639783353087604, 0.193089026750166, 0.928870306214241, 1.3078071257195305, 1.841192104312489, 1.495595704344205, 1.5785493553831806, 1.841192104312489, 1.9802573569827586, 0.4844585013501623, 2.274845817750432, 1.0175870628095018, 0.4844585013501623, 2.820016363065587, 0.9346014845383844, 1.1070471250537246, 0.22200885716195948, 1.30524662553455, 0.18783102434742277, 0.3656664665812606, 1.3717802821695382, 0.4844585013501623, 1.453812906413159, 0.9649426979817985, 0.913938900085119, 1.841192104312489, 1.841192104312489, 0.18783102434742277, 1.841192104312489, 0.5573107781444151, 0.49446823678196744, 1.340831519285845, 1.841192104312489, 0.9053811753374478, 2.4817308864617407, 1.841192104312489, 2.7041732369897207, 0.18783102434742277, 1.0191868979814547, 1.841192104312489, 0.2510429701006718, 2.2696059906286474, 0.3656664665812606, 1.841192104312489, 2.6735256338981, 3.0056727012899236, 0.19773300669905178, 1.841192104312489, 0.7885506208767742, 2.078735269937071, 0.18783102434742277, 0.18783102434742277, 0.27719619519863486, 2.4817308864617407, 0.18783102434742277, 1.841192104312489, 2.43454641323273, 0.49446823678196744, 1.4353598902970321, 1.841192104312489, 0.19773300669905178, 0.3460099534385587, 0.2560374543607875, 0.693084429229919, 0.27438534943506243, 1.453812906413159, 1.0367804699157517, 2.6735256338981, 1.0384911605565132, 0.3852543064366997, 2.820016363065587, 0.6286802745805384, 0.18783102434742277, 1.841192104312489, 1.346932690395528, 1.841192104312489, 1.2843019835780556, 3.982004819347771, 1.2357936791459967, 1.453812906413159, 1.2905465752917393, 2.9064470643490243, 1.841192104312489, 1.2357936791459967, 1.841192104312489, 0.913938900085119, 1.7116393761869433, 1.841192104312489, 1.4250290354091828, 1.3648284841473997, 1.841192104312489, 0.8956317407170883, 0.18783102434742277, 0.6733378123636032, 0.18783102434742277, 1.1264141099161673, 0.8229441526921172, 0.2106168792069993, 0.42310802595262403, 2.7277900678040368, 0.2510429701006718, 1.841192104312489, 1.6885955508864685, 0.2682152418160942, 0.18783102434742277, 2.820016363065587, 1.8178460260184428, 0.22200885716195948, 0.9039637923482006, 0.22200885716195948, 1.1543332623360145, 1.841192104312489, 1.841192104312489, 0.18783102434742277, 1.7120701153347277, 1.064814286690271, 2.820016363065587, 0.18783102434742277, 1.841192104312489, 1.841192104312489, 0.18783102434742277, 0.18783102434742277, 1.4740153044391655, 0.18783102434742277, 1.841192104312489, 2.6954273402822815, 0.18783102434742277, 0.2510429701006718, 1.6885955508864685, 1.453812906413159, 0.3597809981778221, 0.35704530142955976, 0.9601401520288959, 1.841192104312489, 0.9887818484099843, 1.841192104312489, 0.25730207222345436, 0.18783102434742277, 1.6885955508864685, 0.32160362918364743, 1.453812906413159, 1.841192104312489, 0.18783102434742277, 0.34079096950273596, 0.18783102434742277, 0.23687935170318103, 1.2357936791459967, 2.43454641323273, 0.18783102434742277, 0.8229441526921172, 1.4825694572082855, 0.49446823678196744, 1.841192104312489, 1.841192104312489, 0.18783102434742277, 1.841192104312489, 1.841192104312489, 1.841192104312489, 1.841192104312489, 0.18783102434742277, 0.8467764140959518, 0.27719619519863486, 0.44558148954772697, 0.9247555363364209, 2.43454641323273, 1.0427547518738092, 1.841192104312489, 2.5460014111794624, 0.2546519177949524, 1.841192104312489, 1.9487251161687047, 1.3632413333771614, 1.841192104312489, 0.18783102434742277, 1.9238732024136316, 1.1264141099161673, 0.27719619519863486, 0.2510429701006718, 0.22200885716195948, 1.841192104312489, 3.421597088133197, 0.18783102434742277, 1.841192104312489, 0.4844585013501623, 1.453812906413159, 1.6782988067089923, 1.841192104312489, 0.18783102434742277, 0.3852543064366997, 1.841192104312489, 0.49446823678196744]}],                        {\"barmode\": \"overlay\", \"template\": {\"data\": {\"bar\": [{\"error_x\": {\"color\": \"#2a3f5f\"}, \"error_y\": {\"color\": \"#2a3f5f\"}, \"marker\": {\"line\": {\"color\": \"#E5ECF6\", \"width\": 0.5}}, \"type\": \"bar\"}], \"barpolar\": [{\"marker\": {\"line\": {\"color\": \"#E5ECF6\", \"width\": 0.5}}, \"type\": \"barpolar\"}], \"carpet\": [{\"aaxis\": {\"endlinecolor\": \"#2a3f5f\", \"gridcolor\": \"white\", \"linecolor\": \"white\", \"minorgridcolor\": \"white\", \"startlinecolor\": \"#2a3f5f\"}, \"baxis\": {\"endlinecolor\": \"#2a3f5f\", \"gridcolor\": \"white\", \"linecolor\": \"white\", \"minorgridcolor\": \"white\", \"startlinecolor\": \"#2a3f5f\"}, \"type\": \"carpet\"}], \"choropleth\": [{\"colorbar\": {\"outlinewidth\": 0, \"ticks\": \"\"}, \"type\": \"choropleth\"}], \"contour\": [{\"colorbar\": {\"outlinewidth\": 0, \"ticks\": \"\"}, \"colorscale\": [[0.0, \"#0d0887\"], [0.1111111111111111, \"#46039f\"], [0.2222222222222222, \"#7201a8\"], [0.3333333333333333, \"#9c179e\"], [0.4444444444444444, \"#bd3786\"], [0.5555555555555556, \"#d8576b\"], [0.6666666666666666, \"#ed7953\"], [0.7777777777777778, \"#fb9f3a\"], [0.8888888888888888, \"#fdca26\"], [1.0, \"#f0f921\"]], \"type\": \"contour\"}], \"contourcarpet\": [{\"colorbar\": {\"outlinewidth\": 0, \"ticks\": \"\"}, \"type\": \"contourcarpet\"}], \"heatmap\": [{\"colorbar\": {\"outlinewidth\": 0, \"ticks\": \"\"}, \"colorscale\": [[0.0, \"#0d0887\"], [0.1111111111111111, \"#46039f\"], [0.2222222222222222, \"#7201a8\"], [0.3333333333333333, \"#9c179e\"], [0.4444444444444444, \"#bd3786\"], [0.5555555555555556, \"#d8576b\"], [0.6666666666666666, \"#ed7953\"], [0.7777777777777778, \"#fb9f3a\"], [0.8888888888888888, \"#fdca26\"], [1.0, \"#f0f921\"]], \"type\": \"heatmap\"}], \"heatmapgl\": [{\"colorbar\": {\"outlinewidth\": 0, \"ticks\": \"\"}, \"colorscale\": [[0.0, \"#0d0887\"], [0.1111111111111111, \"#46039f\"], [0.2222222222222222, \"#7201a8\"], [0.3333333333333333, \"#9c179e\"], [0.4444444444444444, \"#bd3786\"], [0.5555555555555556, \"#d8576b\"], [0.6666666666666666, \"#ed7953\"], [0.7777777777777778, \"#fb9f3a\"], [0.8888888888888888, \"#fdca26\"], [1.0, \"#f0f921\"]], \"type\": \"heatmapgl\"}], \"histogram\": [{\"marker\": {\"colorbar\": {\"outlinewidth\": 0, \"ticks\": \"\"}}, \"type\": \"histogram\"}], \"histogram2d\": [{\"colorbar\": {\"outlinewidth\": 0, \"ticks\": \"\"}, \"colorscale\": [[0.0, \"#0d0887\"], [0.1111111111111111, \"#46039f\"], [0.2222222222222222, \"#7201a8\"], [0.3333333333333333, \"#9c179e\"], [0.4444444444444444, \"#bd3786\"], [0.5555555555555556, \"#d8576b\"], [0.6666666666666666, \"#ed7953\"], [0.7777777777777778, \"#fb9f3a\"], [0.8888888888888888, \"#fdca26\"], [1.0, \"#f0f921\"]], \"type\": \"histogram2d\"}], \"histogram2dcontour\": [{\"colorbar\": {\"outlinewidth\": 0, \"ticks\": \"\"}, \"colorscale\": [[0.0, \"#0d0887\"], [0.1111111111111111, \"#46039f\"], [0.2222222222222222, \"#7201a8\"], [0.3333333333333333, \"#9c179e\"], [0.4444444444444444, \"#bd3786\"], [0.5555555555555556, \"#d8576b\"], [0.6666666666666666, \"#ed7953\"], [0.7777777777777778, \"#fb9f3a\"], [0.8888888888888888, \"#fdca26\"], [1.0, \"#f0f921\"]], \"type\": \"histogram2dcontour\"}], \"mesh3d\": [{\"colorbar\": {\"outlinewidth\": 0, \"ticks\": \"\"}, \"type\": \"mesh3d\"}], \"parcoords\": [{\"line\": {\"colorbar\": {\"outlinewidth\": 0, \"ticks\": \"\"}}, \"type\": \"parcoords\"}], \"pie\": [{\"automargin\": true, \"type\": \"pie\"}], \"scatter\": [{\"marker\": {\"colorbar\": {\"outlinewidth\": 0, \"ticks\": \"\"}}, \"type\": \"scatter\"}], \"scatter3d\": [{\"line\": {\"colorbar\": {\"outlinewidth\": 0, \"ticks\": \"\"}}, \"marker\": {\"colorbar\": {\"outlinewidth\": 0, \"ticks\": \"\"}}, \"type\": \"scatter3d\"}], \"scattercarpet\": [{\"marker\": {\"colorbar\": {\"outlinewidth\": 0, \"ticks\": \"\"}}, \"type\": \"scattercarpet\"}], \"scattergeo\": [{\"marker\": {\"colorbar\": {\"outlinewidth\": 0, \"ticks\": \"\"}}, \"type\": \"scattergeo\"}], \"scattergl\": [{\"marker\": {\"colorbar\": {\"outlinewidth\": 0, \"ticks\": \"\"}}, \"type\": \"scattergl\"}], \"scattermapbox\": [{\"marker\": {\"colorbar\": {\"outlinewidth\": 0, \"ticks\": \"\"}}, \"type\": \"scattermapbox\"}], \"scatterpolar\": [{\"marker\": {\"colorbar\": {\"outlinewidth\": 0, \"ticks\": \"\"}}, \"type\": \"scatterpolar\"}], \"scatterpolargl\": [{\"marker\": {\"colorbar\": {\"outlinewidth\": 0, \"ticks\": \"\"}}, \"type\": \"scatterpolargl\"}], \"scatterternary\": [{\"marker\": {\"colorbar\": {\"outlinewidth\": 0, \"ticks\": \"\"}}, \"type\": \"scatterternary\"}], \"surface\": [{\"colorbar\": {\"outlinewidth\": 0, \"ticks\": \"\"}, \"colorscale\": [[0.0, \"#0d0887\"], [0.1111111111111111, \"#46039f\"], [0.2222222222222222, \"#7201a8\"], [0.3333333333333333, \"#9c179e\"], [0.4444444444444444, \"#bd3786\"], [0.5555555555555556, \"#d8576b\"], [0.6666666666666666, \"#ed7953\"], [0.7777777777777778, \"#fb9f3a\"], [0.8888888888888888, \"#fdca26\"], [1.0, \"#f0f921\"]], \"type\": \"surface\"}], \"table\": [{\"cells\": {\"fill\": {\"color\": \"#EBF0F8\"}, \"line\": {\"color\": \"white\"}}, \"header\": {\"fill\": {\"color\": \"#C8D4E3\"}, \"line\": {\"color\": \"white\"}}, \"type\": \"table\"}]}, \"layout\": {\"annotationdefaults\": {\"arrowcolor\": \"#2a3f5f\", \"arrowhead\": 0, \"arrowwidth\": 1}, \"autotypenumbers\": \"strict\", \"coloraxis\": {\"colorbar\": {\"outlinewidth\": 0, \"ticks\": \"\"}}, \"colorscale\": {\"diverging\": [[0, \"#8e0152\"], [0.1, \"#c51b7d\"], [0.2, \"#de77ae\"], [0.3, \"#f1b6da\"], [0.4, \"#fde0ef\"], [0.5, \"#f7f7f7\"], [0.6, \"#e6f5d0\"], [0.7, \"#b8e186\"], [0.8, \"#7fbc41\"], [0.9, \"#4d9221\"], [1, \"#276419\"]], \"sequential\": [[0.0, \"#0d0887\"], [0.1111111111111111, \"#46039f\"], [0.2222222222222222, \"#7201a8\"], [0.3333333333333333, \"#9c179e\"], [0.4444444444444444, \"#bd3786\"], [0.5555555555555556, \"#d8576b\"], [0.6666666666666666, \"#ed7953\"], [0.7777777777777778, \"#fb9f3a\"], [0.8888888888888888, \"#fdca26\"], [1.0, \"#f0f921\"]], \"sequentialminus\": [[0.0, \"#0d0887\"], [0.1111111111111111, \"#46039f\"], [0.2222222222222222, \"#7201a8\"], [0.3333333333333333, \"#9c179e\"], [0.4444444444444444, \"#bd3786\"], [0.5555555555555556, \"#d8576b\"], [0.6666666666666666, \"#ed7953\"], [0.7777777777777778, \"#fb9f3a\"], [0.8888888888888888, \"#fdca26\"], [1.0, \"#f0f921\"]]}, \"colorway\": [\"#636efa\", \"#EF553B\", \"#00cc96\", \"#ab63fa\", \"#FFA15A\", \"#19d3f3\", \"#FF6692\", \"#B6E880\", \"#FF97FF\", \"#FECB52\"], \"font\": {\"color\": \"#2a3f5f\"}, \"geo\": {\"bgcolor\": \"white\", \"lakecolor\": \"white\", \"landcolor\": \"#E5ECF6\", \"showlakes\": true, \"showland\": true, \"subunitcolor\": \"white\"}, \"hoverlabel\": {\"align\": \"left\"}, \"hovermode\": \"closest\", \"mapbox\": {\"style\": \"light\"}, \"paper_bgcolor\": \"white\", \"plot_bgcolor\": \"#E5ECF6\", \"polar\": {\"angularaxis\": {\"gridcolor\": \"white\", \"linecolor\": \"white\", \"ticks\": \"\"}, \"bgcolor\": \"#E5ECF6\", \"radialaxis\": {\"gridcolor\": \"white\", \"linecolor\": \"white\", \"ticks\": \"\"}}, \"scene\": {\"xaxis\": {\"backgroundcolor\": \"#E5ECF6\", \"gridcolor\": \"white\", \"gridwidth\": 2, \"linecolor\": \"white\", \"showbackground\": true, \"ticks\": \"\", \"zerolinecolor\": \"white\"}, \"yaxis\": {\"backgroundcolor\": \"#E5ECF6\", \"gridcolor\": \"white\", \"gridwidth\": 2, \"linecolor\": \"white\", \"showbackground\": true, \"ticks\": \"\", \"zerolinecolor\": \"white\"}, \"zaxis\": {\"backgroundcolor\": \"#E5ECF6\", \"gridcolor\": \"white\", \"gridwidth\": 2, \"linecolor\": \"white\", \"showbackground\": true, \"ticks\": \"\", \"zerolinecolor\": \"white\"}}, \"shapedefaults\": {\"line\": {\"color\": \"#2a3f5f\"}}, \"ternary\": {\"aaxis\": {\"gridcolor\": \"white\", \"linecolor\": \"white\", \"ticks\": \"\"}, \"baxis\": {\"gridcolor\": \"white\", \"linecolor\": \"white\", \"ticks\": \"\"}, \"bgcolor\": \"#E5ECF6\", \"caxis\": {\"gridcolor\": \"white\", \"linecolor\": \"white\", \"ticks\": \"\"}}, \"title\": {\"x\": 0.05}, \"xaxis\": {\"automargin\": true, \"gridcolor\": \"white\", \"linecolor\": \"white\", \"ticks\": \"\", \"title\": {\"standoff\": 15}, \"zerolinecolor\": \"white\", \"zerolinewidth\": 2}, \"yaxis\": {\"automargin\": true, \"gridcolor\": \"white\", \"linecolor\": \"white\", \"ticks\": \"\", \"title\": {\"standoff\": 15}, \"zerolinecolor\": \"white\", \"zerolinewidth\": 2}}}, \"title\": {\"text\": \"Comparison of Open and Closed by Minimum Distance to School\"}},                        {\"responsive\": true}                    ).then(function(){\n                            \nvar gd = document.getElementById('9cdd7041-9e87-408c-b06a-5536a4ccc3c3');\nvar x = new MutationObserver(function (mutations, observer) {{\n        var display = window.getComputedStyle(gd).display;\n        if (!display || display === 'none') {{\n            console.log([gd, 'removed!']);\n            Plotly.purge(gd);\n            observer.disconnect();\n        }}\n}});\n\n// Listen for the removal of the full notebook cells\nvar notebookContainer = gd.closest('#notebook-container');\nif (notebookContainer) {{\n    x.observe(notebookContainer, {childList: true});\n}}\n\n// Listen for the clearing of the current output cell\nvar outputEl = gd.closest('.output');\nif (outputEl) {{\n    x.observe(outputEl, {childList: true});\n}}\n\n                        })                };                            </script>        </div>\n</body>\n</html>"
          },
          "metadata": {},
          "output_type": "display_data"
        }
      ],
      "execution_count": 31
    },
    {
      "cell_type": "markdown",
      "source": "<a style='text-decoration:none;line-height:16px;display:flex;color:#5B5B62;padding:10px;justify-content:end;' href='https://deepnote.com?utm_source=created-in-deepnote-cell&projectId=cf414bac-1baa-463f-8d73-f1d9a87e25d5' target=\"_blank\">\n<img alt='Created in deepnote.com' style='display:inline;max-height:16px;margin:0px;margin-right:7.5px;' src='data:image/svg+xml;base64,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' > </img>\nCreated in <span style='font-weight:600;margin-left:4px;'>Deepnote</span></a>",
      "metadata": {
        "tags": [],
        "created_in_deepnote_cell": true,
        "deepnote_cell_type": "markdown"
      }
    }
  ],
  "nbformat": 4,
  "nbformat_minor": 2,
  "metadata": {
    "orig_nbformat": 2,
    "deepnote_notebook_id": "3cad2f71-1f38-4b2e-81b7-4bb8d6cd0302",
    "deepnote": {},
    "deepnote_execution_queue": []
  }
}