{
  "cells": [
    {
      "cell_type": "code",
      "metadata": {
        "tags": [],
        "cell_id": "00000-4eec260d-0ea8-45e9-bb5e-42687308af9a",
        "deepnote_to_be_reexecuted": false,
        "source_hash": "8ca6a091",
        "execution_millis": 756,
        "execution_start": 1616907463030,
        "deepnote_cell_type": "code"
      },
      "source": "import pandas as pd\nimport numpy as np\nimport matplotlib.pyplot as plt",
      "execution_count": 1,
      "outputs": []
    },
    {
      "cell_type": "code",
      "metadata": {
        "tags": [],
        "cell_id": "00000-d70695df-293c-4479-bd11-c0a714c9f0f6",
        "deepnote_to_be_reexecuted": false,
        "source_hash": "a0ed504",
        "execution_millis": 82,
        "execution_start": 1616907463790,
        "deepnote_cell_type": "code"
      },
      "source": "# Read in updated CSV\nvacancies = pd.read_csv('vacancies_with_distances.csv')\nvacancies.head()",
      "execution_count": 2,
      "outputs": [
        {
          "output_type": "execute_result",
          "execution_count": 2,
          "data": {
            "application/vnd.deepnote.dataframe.v2+json": {
              "row_count": 5,
              "column_count": 19,
              "columns": [
                {
                  "name": "Unnamed: 0",
                  "dtype": "int64",
                  "stats": {
                    "unique_count": 5,
                    "nan_count": 0,
                    "min": 0,
                    "max": 4,
                    "histogram": [
                      {
                        "bin_start": 0,
                        "bin_end": 0.4,
                        "count": 1
                      },
                      {
                        "bin_start": 0.4,
                        "bin_end": 0.8,
                        "count": 0
                      },
                      {
                        "bin_start": 0.8,
                        "bin_end": 1.2000000000000002,
                        "count": 1
                      },
                      {
                        "bin_start": 1.2000000000000002,
                        "bin_end": 1.6,
                        "count": 0
                      },
                      {
                        "bin_start": 1.6,
                        "bin_end": 2,
                        "count": 0
                      },
                      {
                        "bin_start": 2,
                        "bin_end": 2.4000000000000004,
                        "count": 1
                      },
                      {
                        "bin_start": 2.4000000000000004,
                        "bin_end": 2.8000000000000003,
                        "count": 0
                      },
                      {
                        "bin_start": 2.8000000000000003,
                        "bin_end": 3.2,
                        "count": 1
                      },
                      {
                        "bin_start": 3.2,
                        "bin_end": 3.6,
                        "count": 0
                      },
                      {
                        "bin_start": 3.6,
                        "bin_end": 4,
                        "count": 1
                      }
                    ]
                  }
                },
                {
                  "name": "Commercial District",
                  "dtype": "object",
                  "stats": {
                    "unique_count": 5,
                    "nan_count": 0,
                    "categories": [
                      {
                        "name": "Smaller Districts",
                        "count": 1
                      },
                      {
                        "name": "Kendall Square",
                        "count": 1
                      },
                      {
                        "name": "3 others",
                        "count": 3
                      }
                    ]
                  }
                },
                {
                  "name": "Address",
                  "dtype": "object",
                  "stats": {
                    "unique_count": 5,
                    "nan_count": 0,
                    "categories": [
                      {
                        "name": "123 River Street",
                        "count": 1
                      },
                      {
                        "name": "One Kendall Square",
                        "count": 1
                      },
                      {
                        "name": "3 others",
                        "count": 3
                      }
                    ]
                  }
                },
                {
                  "name": "City",
                  "dtype": "object",
                  "stats": {
                    "unique_count": 1,
                    "nan_count": 0,
                    "categories": [
                      {
                        "name": "Cambridge",
                        "count": 5
                      }
                    ]
                  }
                },
                {
                  "name": "State",
                  "dtype": "object",
                  "stats": {
                    "unique_count": 1,
                    "nan_count": 0,
                    "categories": [
                      {
                        "name": "Massachusetts",
                        "count": 5
                      }
                    ]
                  }
                },
                {
                  "name": "Zip Code",
                  "dtype": "int64",
                  "stats": {
                    "unique_count": 3,
                    "nan_count": 0,
                    "min": 2138,
                    "max": 2141,
                    "histogram": [
                      {
                        "bin_start": 2138,
                        "bin_end": 2138.3,
                        "count": 1
                      },
                      {
                        "bin_start": 2138.3,
                        "bin_end": 2138.6,
                        "count": 0
                      },
                      {
                        "bin_start": 2138.6,
                        "bin_end": 2138.9,
                        "count": 0
                      },
                      {
                        "bin_start": 2138.9,
                        "bin_end": 2139.2,
                        "count": 3
                      },
                      {
                        "bin_start": 2139.2,
                        "bin_end": 2139.5,
                        "count": 0
                      },
                      {
                        "bin_start": 2139.5,
                        "bin_end": 2139.8,
                        "count": 0
                      },
                      {
                        "bin_start": 2139.8,
                        "bin_end": 2140.1,
                        "count": 0
                      },
                      {
                        "bin_start": 2140.1,
                        "bin_end": 2140.4,
                        "count": 0
                      },
                      {
                        "bin_start": 2140.4,
                        "bin_end": 2140.7,
                        "count": 0
                      },
                      {
                        "bin_start": 2140.7,
                        "bin_end": 2141,
                        "count": 1
                      }
                    ]
                  }
                },
                {
                  "name": "Square Footage",
                  "dtype": "float64",
                  "stats": {
                    "unique_count": 2,
                    "nan_count": 3,
                    "min": 840,
                    "max": 900,
                    "histogram": [
                      {
                        "bin_start": 840,
                        "bin_end": 846,
                        "count": 1
                      },
                      {
                        "bin_start": 846,
                        "bin_end": 852,
                        "count": 0
                      },
                      {
                        "bin_start": 852,
                        "bin_end": 858,
                        "count": 0
                      },
                      {
                        "bin_start": 858,
                        "bin_end": 864,
                        "count": 0
                      },
                      {
                        "bin_start": 864,
                        "bin_end": 870,
                        "count": 0
                      },
                      {
                        "bin_start": 870,
                        "bin_end": 876,
                        "count": 0
                      },
                      {
                        "bin_start": 876,
                        "bin_end": 882,
                        "count": 0
                      },
                      {
                        "bin_start": 882,
                        "bin_end": 888,
                        "count": 0
                      },
                      {
                        "bin_start": 888,
                        "bin_end": 894,
                        "count": 0
                      },
                      {
                        "bin_start": 894,
                        "bin_end": 900,
                        "count": 1
                      }
                    ]
                  }
                },
                {
                  "name": "Length of Vacancy",
                  "dtype": "object",
                  "stats": {
                    "unique_count": 2,
                    "nan_count": 0,
                    "categories": [
                      {
                        "name": "6-10 months",
                        "count": 3
                      },
                      {
                        "name": "5 years or more",
                        "count": 2
                      }
                    ]
                  }
                },
                {
                  "name": "Ownership Type",
                  "dtype": "object",
                  "stats": {
                    "unique_count": 3,
                    "nan_count": 1,
                    "categories": [
                      {
                        "name": "Real Estate Investment Trust (REIT)",
                        "count": 2
                      },
                      {
                        "name": "2 others",
                        "count": 2
                      },
                      {
                        "name": "Missing",
                        "count": 1
                      }
                    ]
                  }
                },
                {
                  "name": "Former Tenant/Current Business",
                  "dtype": "object",
                  "stats": {
                    "unique_count": 5,
                    "nan_count": 0,
                    "categories": [
                      {
                        "name": "River Gods",
                        "count": 1
                      },
                      {
                        "name": "Flat Top Johnny’s",
                        "count": 1
                      },
                      {
                        "name": "3 others",
                        "count": 3
                      }
                    ]
                  }
                },
                {
                  "name": "Business for Sale",
                  "dtype": "object",
                  "stats": {
                    "unique_count": 0,
                    "nan_count": 5,
                    "categories": [
                      {
                        "name": "Missing",
                        "count": 5
                      }
                    ]
                  }
                },
                {
                  "name": "Leasing Activity",
                  "dtype": "object",
                  "stats": {
                    "unique_count": 3,
                    "nan_count": 0,
                    "categories": [
                      {
                        "name": "Unknown",
                        "count": 3
                      },
                      {
                        "name": "Leased pending occupancy",
                        "count": 1
                      },
                      {
                        "name": "Actively leasing",
                        "count": 1
                      }
                    ]
                  }
                },
                {
                  "name": "Recorded Owner",
                  "dtype": "object",
                  "stats": {
                    "unique_count": 5,
                    "nan_count": 0,
                    "categories": [
                      {
                        "name": "Arthur N. Dobelis 263 Hicks St. #4 Brooklyn, NY 11201",
                        "count": 1
                      },
                      {
                        "name": "ARE-MA Region No. 59 LLC, 385 East Colorado Boulevard, Pasadena, CA 91101",
                        "count": 1
                      },
                      {
                        "name": "3 others",
                        "count": 3
                      }
                    ]
                  }
                },
                {
                  "name": "Leasing Contact",
                  "dtype": "object",
                  "stats": {
                    "unique_count": 3,
                    "nan_count": 2,
                    "categories": [
                      {
                        "name": "Arthur Dobelis, (646) 722-0824",
                        "count": 1
                      },
                      {
                        "name": "2 others",
                        "count": 2
                      },
                      {
                        "name": "Missing",
                        "count": 2
                      }
                    ]
                  }
                },
                {
                  "name": "long",
                  "dtype": "float64",
                  "stats": {
                    "unique_count": 5,
                    "nan_count": 0,
                    "min": -71.15799258099997,
                    "max": -71.07825855299996,
                    "histogram": [
                      {
                        "bin_start": -71.15799258099997,
                        "bin_end": -71.15001917819997,
                        "count": 1
                      },
                      {
                        "bin_start": -71.15001917819997,
                        "bin_end": -71.14204577539996,
                        "count": 0
                      },
                      {
                        "bin_start": -71.14204577539996,
                        "bin_end": -71.13407237259997,
                        "count": 0
                      },
                      {
                        "bin_start": -71.13407237259997,
                        "bin_end": -71.12609896979997,
                        "count": 0
                      },
                      {
                        "bin_start": -71.12609896979997,
                        "bin_end": -71.11812556699996,
                        "count": 0
                      },
                      {
                        "bin_start": -71.11812556699996,
                        "bin_end": -71.11015216419996,
                        "count": 0
                      },
                      {
                        "bin_start": -71.11015216419996,
                        "bin_end": -71.10217876139995,
                        "count": 1
                      },
                      {
                        "bin_start": -71.10217876139995,
                        "bin_end": -71.09420535859996,
                        "count": 1
                      },
                      {
                        "bin_start": -71.09420535859996,
                        "bin_end": -71.08623195579996,
                        "count": 1
                      },
                      {
                        "bin_start": -71.08623195579996,
                        "bin_end": -71.07825855299996,
                        "count": 1
                      }
                    ]
                  }
                },
                {
                  "name": "lat",
                  "dtype": "float64",
                  "stats": {
                    "unique_count": 5,
                    "nan_count": 0,
                    "min": 42.36404486100003,
                    "max": 42.39426321500008,
                    "histogram": [
                      {
                        "bin_start": 42.36404486100003,
                        "bin_end": 42.36706669640004,
                        "count": 1
                      },
                      {
                        "bin_start": 42.36706669640004,
                        "bin_end": 42.37008853180004,
                        "count": 1
                      },
                      {
                        "bin_start": 42.37008853180004,
                        "bin_end": 42.37311036720005,
                        "count": 2
                      },
                      {
                        "bin_start": 42.37311036720005,
                        "bin_end": 42.376132202600054,
                        "count": 0
                      },
                      {
                        "bin_start": 42.376132202600054,
                        "bin_end": 42.37915403800005,
                        "count": 0
                      },
                      {
                        "bin_start": 42.37915403800005,
                        "bin_end": 42.38217587340006,
                        "count": 0
                      },
                      {
                        "bin_start": 42.38217587340006,
                        "bin_end": 42.385197708800064,
                        "count": 0
                      },
                      {
                        "bin_start": 42.385197708800064,
                        "bin_end": 42.38821954420007,
                        "count": 0
                      },
                      {
                        "bin_start": 42.38821954420007,
                        "bin_end": 42.391241379600075,
                        "count": 0
                      },
                      {
                        "bin_start": 42.391241379600075,
                        "bin_end": 42.39426321500008,
                        "count": 1
                      }
                    ]
                  }
                },
                {
                  "name": "harv_dist",
                  "dtype": "float64",
                  "stats": {
                    "unique_count": 5,
                    "nan_count": 0,
                    "min": 1.3417116326188712,
                    "max": 4.019788553921197,
                    "histogram": [
                      {
                        "bin_start": 1.3417116326188712,
                        "bin_end": 1.6095193247491038,
                        "count": 2
                      },
                      {
                        "bin_start": 1.6095193247491038,
                        "bin_end": 1.8773270168793363,
                        "count": 0
                      },
                      {
                        "bin_start": 1.8773270168793363,
                        "bin_end": 2.145134709009569,
                        "count": 0
                      },
                      {
                        "bin_start": 2.145134709009569,
                        "bin_end": 2.4129424011398015,
                        "count": 1
                      },
                      {
                        "bin_start": 2.4129424011398015,
                        "bin_end": 2.680750093270034,
                        "count": 0
                      },
                      {
                        "bin_start": 2.680750093270034,
                        "bin_end": 2.9485577854002667,
                        "count": 0
                      },
                      {
                        "bin_start": 2.9485577854002667,
                        "bin_end": 3.2163654775304993,
                        "count": 1
                      },
                      {
                        "bin_start": 3.2163654775304993,
                        "bin_end": 3.484173169660732,
                        "count": 0
                      },
                      {
                        "bin_start": 3.484173169660732,
                        "bin_end": 3.7519808617909645,
                        "count": 0
                      },
                      {
                        "bin_start": 3.7519808617909645,
                        "bin_end": 4.019788553921197,
                        "count": 1
                      }
                    ]
                  }
                },
                {
                  "name": "mit_dist",
                  "dtype": "float64",
                  "stats": {
                    "unique_count": 5,
                    "nan_count": 0,
                    "min": 0.8649017637670416,
                    "max": 6.631841020171104,
                    "histogram": [
                      {
                        "bin_start": 0.8649017637670416,
                        "bin_end": 1.441595689407448,
                        "count": 1
                      },
                      {
                        "bin_start": 1.441595689407448,
                        "bin_end": 2.018289615047854,
                        "count": 3
                      },
                      {
                        "bin_start": 2.018289615047854,
                        "bin_end": 2.594983540688261,
                        "count": 0
                      },
                      {
                        "bin_start": 2.594983540688261,
                        "bin_end": 3.171677466328667,
                        "count": 0
                      },
                      {
                        "bin_start": 3.171677466328667,
                        "bin_end": 3.7483713919690733,
                        "count": 0
                      },
                      {
                        "bin_start": 3.7483713919690733,
                        "bin_end": 4.3250653176094795,
                        "count": 0
                      },
                      {
                        "bin_start": 4.3250653176094795,
                        "bin_end": 4.901759243249885,
                        "count": 0
                      },
                      {
                        "bin_start": 4.901759243249885,
                        "bin_end": 5.478453168890292,
                        "count": 0
                      },
                      {
                        "bin_start": 5.478453168890292,
                        "bin_end": 6.055147094530699,
                        "count": 0
                      },
                      {
                        "bin_start": 6.055147094530699,
                        "bin_end": 6.631841020171104,
                        "count": 1
                      }
                    ]
                  }
                },
                {
                  "name": "min_dist",
                  "dtype": "float64",
                  "stats": {
                    "unique_count": 5,
                    "nan_count": 0,
                    "min": 0.8649017637670416,
                    "max": 4.019788553921197,
                    "histogram": [
                      {
                        "bin_start": 0.8649017637670416,
                        "bin_end": 1.1803904427824572,
                        "count": 1
                      },
                      {
                        "bin_start": 1.1803904427824572,
                        "bin_end": 1.4958791217978726,
                        "count": 2
                      },
                      {
                        "bin_start": 1.4958791217978726,
                        "bin_end": 1.8113678008132883,
                        "count": 1
                      },
                      {
                        "bin_start": 1.8113678008132883,
                        "bin_end": 2.126856479828704,
                        "count": 0
                      },
                      {
                        "bin_start": 2.126856479828704,
                        "bin_end": 2.4423451588441196,
                        "count": 0
                      },
                      {
                        "bin_start": 2.4423451588441196,
                        "bin_end": 2.757833837859535,
                        "count": 0
                      },
                      {
                        "bin_start": 2.757833837859535,
                        "bin_end": 3.0733225168749505,
                        "count": 0
                      },
                      {
                        "bin_start": 3.0733225168749505,
                        "bin_end": 3.388811195890366,
                        "count": 0
                      },
                      {
                        "bin_start": 3.388811195890366,
                        "bin_end": 3.704299874905782,
                        "count": 0
                      },
                      {
                        "bin_start": 3.704299874905782,
                        "bin_end": 4.019788553921197,
                        "count": 1
                      }
                    ]
                  }
                },
                {
                  "name": "_deepnote_index_column",
                  "dtype": "int64"
                }
              ],
              "rows_top": [
                {
                  "Unnamed: 0": 0,
                  "Commercial District": "Smaller Districts",
                  "Address": "123 River Street",
                  "City": "Cambridge",
                  "State": "Massachusetts",
                  "Zip Code": 2139,
                  "Square Footage": "900.0",
                  "Length of Vacancy": "5 years or more",
                  "Ownership Type": "Individual",
                  "Former Tenant/Current Business": "River Gods",
                  "Business for Sale": "nan",
                  "Leasing Activity": "Leased pending occupancy",
                  "Recorded Owner": "Arthur N. Dobelis 263 Hicks St. #4 Brooklyn, NY 11201",
                  "Leasing Contact": "Arthur Dobelis, (646) 722-0824",
                  "long": -71.10871620999995,
                  "lat": 42.36404486100003,
                  "harv_dist": 1.3417116326188712,
                  "mit_dist": 1.4445181430180394,
                  "min_dist": 1.3417116326188712,
                  "_deepnote_index_column": 0
                },
                {
                  "Unnamed: 0": 1,
                  "Commercial District": "Kendall Square",
                  "Address": "One Kendall Square",
                  "City": "Cambridge",
                  "State": "Massachusetts",
                  "Zip Code": 2139,
                  "Square Footage": "nan",
                  "Length of Vacancy": "6-10 months",
                  "Ownership Type": "Real Estate Investment Trust (REIT)",
                  "Former Tenant/Current Business": "Flat Top Johnny’s",
                  "Business for Sale": "nan",
                  "Leasing Activity": "Unknown",
                  "Recorded Owner": "ARE-MA Region No. 59 LLC, 385 East Colorado Boulevard, Pasadena, CA 91101",
                  "Leasing Contact": "nan",
                  "long": -71.09011699999996,
                  "lat": 42.36743900000005,
                  "harv_dist": 2.347921489029809,
                  "mit_dist": 0.8649017637670416,
                  "min_dist": 0.8649017637670416,
                  "_deepnote_index_column": 1
                },
                {
                  "Unnamed: 0": 2,
                  "Commercial District": "Fresh Pond-Alewife",
                  "Address": "93 Blanchard Rd",
                  "City": "Cambridge",
                  "State": "Massachusetts",
                  "Zip Code": 2138,
                  "Square Footage": "nan",
                  "Length of Vacancy": "6-10 months",
                  "Ownership Type": "Trust",
                  "Former Tenant/Current Business": "Knittin Kitten",
                  "Business for Sale": "nan",
                  "Leasing Activity": "Unknown",
                  "Recorded Owner": "Hillside Garden Supply Co., 280 Blanchard Rd., Belmont, MA 02478",
                  "Leasing Contact": "nan",
                  "long": -71.15799258099997,
                  "lat": 42.39426321500008,
                  "harv_dist": 4.019788553921197,
                  "mit_dist": 6.631841020171104,
                  "min_dist": 4.019788553921197,
                  "_deepnote_index_column": 2
                },
                {
                  "Unnamed: 0": 3,
                  "Commercial District": "Inman Square",
                  "Address": "168 Hampshire Street",
                  "City": "Cambridge",
                  "State": "Massachusetts",
                  "Zip Code": 2139,
                  "Square Footage": "840.0",
                  "Length of Vacancy": "5 years or more",
                  "Ownership Type": "Real Estate Investment Trust (REIT)",
                  "Former Tenant/Current Business": "Lapel's Dry Cleaning",
                  "Business for Sale": "nan",
                  "Leasing Activity": "Unknown",
                  "Recorded Owner": "Berkmar LLC c/o NCP Management Company, P.O. Box 590179, Newton Center, MA 02459",
                  "Leasing Contact": "NCP Management, Inc. (617) 630-1868",
                  "long": -71.09891659199997,
                  "lat": 42.37186069200004,
                  "harv_dist": 1.5201768717061472,
                  "mit_dist": 1.4533245539252568,
                  "min_dist": 1.4533245539252568,
                  "_deepnote_index_column": 3
                },
                {
                  "Unnamed: 0": 4,
                  "Commercial District": "East Cambridge",
                  "Address": "149 Cambridge Street",
                  "City": "Cambridge",
                  "State": "Massachusetts",
                  "Zip Code": 2141,
                  "Square Footage": "nan",
                  "Length of Vacancy": "6-10 months",
                  "Ownership Type": "nan",
                  "Former Tenant/Current Business": "Law Offices",
                  "Business for Sale": "nan",
                  "Leasing Activity": "Actively leasing",
                  "Recorded Owner": "Anthony Gargano, trustee of Gargano Family Trust, 149 Cambridge St., Cambridge, MA 02140",
                  "Leasing Contact": "(617) 876-6780",
                  "long": -71.07825855299996,
                  "lat": 42.37099991300005,
                  "harv_dist": 3.213075893798388,
                  "mit_dist": 1.686457354513148,
                  "min_dist": 1.686457354513148,
                  "_deepnote_index_column": 4
                }
              ],
              "rows_bottom": null
            },
            "text/plain": "   Unnamed: 0 Commercial District               Address       City  \\\n0           0   Smaller Districts      123 River Street  Cambridge   \n1           1      Kendall Square    One Kendall Square  Cambridge   \n2           2  Fresh Pond-Alewife       93 Blanchard Rd  Cambridge   \n3           3        Inman Square  168 Hampshire Street  Cambridge   \n4           4      East Cambridge  149 Cambridge Street  Cambridge   \n\n           State  Zip Code  Square Footage Length of Vacancy  \\\n0  Massachusetts      2139           900.0   5 years or more   \n1  Massachusetts      2139             NaN       6-10 months   \n2  Massachusetts      2138             NaN       6-10 months   \n3  Massachusetts      2139           840.0   5 years or more   \n4  Massachusetts      2141             NaN       6-10 months   \n\n                        Ownership Type Former Tenant/Current Business  \\\n0                           Individual                     River Gods   \n1  Real Estate Investment Trust (REIT)              Flat Top Johnny’s   \n2                                Trust                 Knittin Kitten   \n3  Real Estate Investment Trust (REIT)           Lapel's Dry Cleaning   \n4                                  NaN                    Law Offices   \n\n  Business for Sale          Leasing Activity  \\\n0               NaN  Leased pending occupancy   \n1               NaN                   Unknown   \n2               NaN                   Unknown   \n3               NaN                   Unknown   \n4               NaN          Actively leasing   \n\n                                      Recorded Owner  \\\n0  Arthur N. Dobelis 263 Hicks St. #4 Brooklyn, N...   \n1  ARE-MA Region No. 59 LLC, 385 East Colorado Bo...   \n2  Hillside Garden Supply Co., 280 Blanchard Rd.,...   \n3  Berkmar LLC c/o NCP Management Company, P.O. B...   \n4  Anthony Gargano, trustee of Gargano Family Tru...   \n\n                       Leasing Contact       long        lat  harv_dist  \\\n0       Arthur Dobelis, (646) 722-0824 -71.108716  42.364045   1.341712   \n1                                  NaN -71.090117  42.367439   2.347921   \n2                                  NaN -71.157993  42.394263   4.019789   \n3  NCP Management, Inc. (617) 630-1868 -71.098917  42.371861   1.520177   \n4                       (617) 876-6780 -71.078259  42.371000   3.213076   \n\n   mit_dist  min_dist  \n0  1.444518  1.341712  \n1  0.864902  0.864902  \n2  6.631841  4.019789  \n3  1.453325  1.453325  \n4  1.686457  1.686457  ",
            "text/html": "<div>\n<style scoped>\n    .dataframe tbody tr th:only-of-type {\n        vertical-align: middle;\n    }\n\n    .dataframe tbody tr th {\n        vertical-align: top;\n    }\n\n    .dataframe thead th {\n        text-align: right;\n    }\n</style>\n<table border=\"1\" class=\"dataframe\">\n  <thead>\n    <tr style=\"text-align: right;\">\n      <th></th>\n      <th>Unnamed: 0</th>\n      <th>Commercial District</th>\n      <th>Address</th>\n      <th>City</th>\n      <th>State</th>\n      <th>Zip Code</th>\n      <th>Square Footage</th>\n      <th>Length of Vacancy</th>\n      <th>Ownership Type</th>\n      <th>Former Tenant/Current Business</th>\n      <th>Business for Sale</th>\n      <th>Leasing Activity</th>\n      <th>Recorded Owner</th>\n      <th>Leasing Contact</th>\n      <th>long</th>\n      <th>lat</th>\n      <th>harv_dist</th>\n      <th>mit_dist</th>\n      <th>min_dist</th>\n    </tr>\n  </thead>\n  <tbody>\n    <tr>\n      <th>0</th>\n      <td>0</td>\n      <td>Smaller Districts</td>\n      <td>123 River Street</td>\n      <td>Cambridge</td>\n      <td>Massachusetts</td>\n      <td>2139</td>\n      <td>900.0</td>\n      <td>5 years or more</td>\n      <td>Individual</td>\n      <td>River Gods</td>\n      <td>NaN</td>\n      <td>Leased pending occupancy</td>\n      <td>Arthur N. Dobelis 263 Hicks St. #4 Brooklyn, N...</td>\n      <td>Arthur Dobelis, (646) 722-0824</td>\n      <td>-71.108716</td>\n      <td>42.364045</td>\n      <td>1.341712</td>\n      <td>1.444518</td>\n      <td>1.341712</td>\n    </tr>\n    <tr>\n      <th>1</th>\n      <td>1</td>\n      <td>Kendall Square</td>\n      <td>One Kendall Square</td>\n      <td>Cambridge</td>\n      <td>Massachusetts</td>\n      <td>2139</td>\n      <td>NaN</td>\n      <td>6-10 months</td>\n      <td>Real Estate Investment Trust (REIT)</td>\n      <td>Flat Top Johnny’s</td>\n      <td>NaN</td>\n      <td>Unknown</td>\n      <td>ARE-MA Region No. 59 LLC, 385 East Colorado Bo...</td>\n      <td>NaN</td>\n      <td>-71.090117</td>\n      <td>42.367439</td>\n      <td>2.347921</td>\n      <td>0.864902</td>\n      <td>0.864902</td>\n    </tr>\n    <tr>\n      <th>2</th>\n      <td>2</td>\n      <td>Fresh Pond-Alewife</td>\n      <td>93 Blanchard Rd</td>\n      <td>Cambridge</td>\n      <td>Massachusetts</td>\n      <td>2138</td>\n      <td>NaN</td>\n      <td>6-10 months</td>\n      <td>Trust</td>\n      <td>Knittin Kitten</td>\n      <td>NaN</td>\n      <td>Unknown</td>\n      <td>Hillside Garden Supply Co., 280 Blanchard Rd.,...</td>\n      <td>NaN</td>\n      <td>-71.157993</td>\n      <td>42.394263</td>\n      <td>4.019789</td>\n      <td>6.631841</td>\n      <td>4.019789</td>\n    </tr>\n    <tr>\n      <th>3</th>\n      <td>3</td>\n      <td>Inman Square</td>\n      <td>168 Hampshire Street</td>\n      <td>Cambridge</td>\n      <td>Massachusetts</td>\n      <td>2139</td>\n      <td>840.0</td>\n      <td>5 years or more</td>\n      <td>Real Estate Investment Trust (REIT)</td>\n      <td>Lapel's Dry Cleaning</td>\n      <td>NaN</td>\n      <td>Unknown</td>\n      <td>Berkmar LLC c/o NCP Management Company, P.O. B...</td>\n      <td>NCP Management, Inc. (617) 630-1868</td>\n      <td>-71.098917</td>\n      <td>42.371861</td>\n      <td>1.520177</td>\n      <td>1.453325</td>\n      <td>1.453325</td>\n    </tr>\n    <tr>\n      <th>4</th>\n      <td>4</td>\n      <td>East Cambridge</td>\n      <td>149 Cambridge Street</td>\n      <td>Cambridge</td>\n      <td>Massachusetts</td>\n      <td>2141</td>\n      <td>NaN</td>\n      <td>6-10 months</td>\n      <td>NaN</td>\n      <td>Law Offices</td>\n      <td>NaN</td>\n      <td>Actively leasing</td>\n      <td>Anthony Gargano, trustee of Gargano Family Tru...</td>\n      <td>(617) 876-6780</td>\n      <td>-71.078259</td>\n      <td>42.371000</td>\n      <td>3.213076</td>\n      <td>1.686457</td>\n      <td>1.686457</td>\n    </tr>\n  </tbody>\n</table>\n</div>"
          },
          "metadata": {}
        }
      ]
    },
    {
      "cell_type": "code",
      "metadata": {
        "tags": [],
        "cell_id": "00002-eee6965b-365b-4299-bc46-ecef64138f3f",
        "deepnote_to_be_reexecuted": false,
        "source_hash": "eadea293",
        "execution_millis": 562,
        "execution_start": 1616909583718,
        "deepnote_cell_type": "code"
      },
      "source": "# Separate vacancies by duration\nyear_vacancies = vacancies[(vacancies[\"Length of Vacancy\"] == \"1-2 years\")]\nmonth_vacancies = vacancies[(vacancies[\"Length of Vacancy\"] == \"6-10 months\")]\n\n# Plot of 1-2 year vacancies based on distance to either campus\nplt.scatter(year_vacancies[\"mit_dist\"],year_vacancies[\"harv_dist\"],c='#2596be')\nplt.xlabel(\"Distance to MIT\")\nplt.ylabel(\"Distance to Harvard\")\nplt.title(\"Distance to Campus and 1-2 Year Vacancies\")\nplt.show()\n\n# Plot of 6-10 month vacancies based on distance to either campus\nplt.scatter(month_vacancies[\"mit_dist\"],month_vacancies[\"harv_dist\"],c='#A9B2B5')\nplt.xlabel(\"Distance to MIT\")\nplt.ylabel(\"Distance to Harvard\")\nplt.title(\"Distance to Campus and 6-10 Month Vacancies\")\nplt.show()\n\nplt.scatter(year_vacancies[\"mit_dist\"],year_vacancies[\"harv_dist\"],c='#2596be')\nplt.scatter(month_vacancies[\"mit_dist\"],month_vacancies[\"harv_dist\"],c='#A9B2B5')\nplt.xlabel(\"Distance to MIT\")\nplt.ylabel(\"Distance to Harvard\")\nplt.title(\"Distance to Campus and Recent Vacancies\")\nplt.legend([\"1-2 Year Vacancies\" , \"6-10 Month Vacancies\"])\nplt.show()\n",
      "execution_count": 12,
      "outputs": [
        {
          "data": {
            "text/plain": "<Figure size 432x288 with 1 Axes>",
            "image/png": "[encoded data removed]"
          },
          "metadata": {
            "needs_background": "light"
          },
          "output_type": "display_data"
        },
        {
          "data": {
            "text/plain": "<Figure size 432x288 with 1 Axes>",
            "image/png": "[encoded data removed]"
          },
          "metadata": {
            "needs_background": "light"
          },
          "output_type": "display_data"
        },
        {
          "data": {
            "text/plain": "<Figure size 432x288 with 1 Axes>",
            "image/png": "[encoded data removed]"
          },
          "metadata": {
            "needs_background": "light"
          },
          "output_type": "display_data"
        }
      ]
    },
    {
      "cell_type": "code",
      "metadata": {
        "tags": [],
        "cell_id": "00003-a34221ec-8275-4362-bc36-5d26b38478bb",
        "deepnote_to_be_reexecuted": false,
        "source_hash": "4e4bc416",
        "execution_millis": 722,
        "execution_start": 1616909741872,
        "deepnote_cell_type": "code"
      },
      "source": "plt.hist([month_vacancies[\"harv_dist\"], year_vacancies[\"harv_dist\"]], color = [\"#A9B2B5\", \"#2596be\"], ec = \"black\", histtype=\"barstacked\")\nplt.xlabel(\"Distance from Harvard\")\nplt.ylabel(\"Number of Vacancies\")\nplt.legend([\"6-10 Month Vacancies\", \"1-2 Year Vacancies\"])\nplt.title(\"Business Vacancies – Proximity to Harvard\")\nplt.show()\n\nplt.hist([month_vacancies[\"mit_dist\"], year_vacancies[\"mit_dist\"]], color = [\"#A9B2B5\", \"#2596be\"], ec = \"black\", histtype=\"barstacked\")\nplt.xlabel(\"Distance from MIT\")\nplt.ylabel(\"Number of Vacancies\")\nplt.legend([\"6-10 Month Vacancies\", \"1-2 Year Vacancies\"])\nplt.title(\"Business Vacancies – Proximity to MIT\")\nplt.show()\n\nplt.hist([month_vacancies[\"min_dist\"], year_vacancies[\"harv_dist\"]], color = [\"#A9B2B5\", \"#2596be\"], ec = \"black\", histtype=\"barstacked\")\nplt.xlabel(\"Minimum Distance from Harvard/MIT\")\nplt.ylabel(\"Number of Vacancies\")\nplt.legend([\"6-10 Month Vacancies\", \"1-2 Year Vacancies\"])\nplt.title(\"Business Vacancies – Proximity to Harvard/MIT\")\nplt.show()",
      "execution_count": 14,
      "outputs": [
        {
          "data": {
            "text/plain": "<Figure size 432x288 with 1 Axes>",
            "image/png": "[encoded data removed]"
          },
          "metadata": {
            "needs_background": "light"
          },
          "output_type": "display_data"
        },
        {
          "data": {
            "text/plain": "<Figure size 432x288 with 1 Axes>",
            "image/png": "[encoded data removed]"
          },
          "metadata": {
            "needs_background": "light"
          },
          "output_type": "display_data"
        },
        {
          "data": {
            "text/plain": "<Figure size 432x288 with 1 Axes>",
            "image/png": "[encoded data removed]"
          },
          "metadata": {
            "needs_background": "light"
          },
          "output_type": "display_data"
        }
      ]
    },
    {
      "cell_type": "markdown",
      "source": "<a style='text-decoration:none;line-height:16px;display:flex;color:#5B5B62;padding:10px;justify-content:end;' href='https://deepnote.com?utm_source=created-in-deepnote-cell&projectId=57b93841-e07c-4246-b1c8-9c365e3b1114' target=\"_blank\">\n<img style='display:inline;max-height:16px;margin:0px;margin-right:7.5px;' src='data:image/svg+xml;base64,PD94bWwgdmVyc2lvbj0iMS4wIiBlbmNvZGluZz0iVVRGLTgiPz4KPHN2ZyB3aWR0aD0iODBweCIgaGVpZ2h0PSI4MHB4IiB2aWV3Qm94PSIwIDAgODAgODAiIHZlcnNpb249IjEuMSIgeG1sbnM9Imh0dHA6Ly93d3cudzMub3JnLzIwMDAvc3ZnIiB4bWxuczp4bGluaz0iaHR0cDovL3d3dy53My5vcmcvMTk5OS94bGluayI+CiAgICA8IS0tIEdlbmVyYXRvcjogU2tldGNoIDU0LjEgKDc2NDkwKSAtIGh0dHBzOi8vc2tldGNoYXBwLmNvbSAtLT4KICAgIDx0aXRsZT5Hcm91cCAzPC90aXRsZT4KICAgIDxkZXNjPkNyZWF0ZWQgd2l0aCBTa2V0Y2guPC9kZXNjPgogICAgPGcgaWQ9IkxhbmRpbmciIHN0cm9rZT0ibm9uZSIgc3Ryb2tlLXdpZHRoPSIxIiBmaWxsPSJub25lIiBmaWxsLXJ1bGU9ImV2ZW5vZGQiPgogICAgICAgIDxnIGlkPSJBcnRib2FyZCIgdHJhbnNmb3JtPSJ0cmFuc2xhdGUoLTEyMzUuMDAwMDAwLCAtNzkuMDAwMDAwKSI+CiAgICAgICAgICAgIDxnIGlkPSJHcm91cC0zIiB0cmFuc2Zvcm09InRyYW5zbGF0ZSgxMjM1LjAwMDAwMCwgNzkuMDAwMDAwKSI+CiAgICAgICAgICAgICAgICA8cG9seWdvbiBpZD0iUGF0aC0yMCIgZmlsbD0iIzAyNjVCNCIgcG9pbnRzPSIyLjM3NjIzNzYyIDgwIDM4LjA0NzY2NjcgODAgNTcuODIxNzgyMiA3My44MDU3NTkyIDU3LjgyMTc4MjIgMzIuNzU5MjczOSAzOS4xNDAyMjc4IDMxLjY4MzE2ODMiPjwvcG9seWdvbj4KICAgICAgICAgICAgICAgIDxwYXRoIGQ9Ik0zNS4wMDc3MTgsODAgQzQyLjkwNjIwMDcsNzYuNDU0OTM1OCA0Ny41NjQ5MTY3LDcxLjU0MjI2NzEgNDguOTgzODY2LDY1LjI2MTk5MzkgQzUxLjExMjI4OTksNTUuODQxNTg0MiA0MS42NzcxNzk1LDQ5LjIxMjIyODQgMjUuNjIzOTg0Niw0OS4yMTIyMjg0IEMyNS40ODQ5Mjg5LDQ5LjEyNjg0NDggMjkuODI2MTI5Niw0My4yODM4MjQ4IDM4LjY0NzU4NjksMzEuNjgzMTY4MyBMNzIuODcxMjg3MSwzMi41NTQ0MjUgTDY1LjI4MDk3Myw2Ny42NzYzNDIxIEw1MS4xMTIyODk5LDc3LjM3NjE0NCBMMzUuMDA3NzE4LDgwIFoiIGlkPSJQYXRoLTIyIiBmaWxsPSIjMDAyODY4Ij48L3BhdGg+CiAgICAgICAgICAgICAgICA8cGF0aCBkPSJNMCwzNy43MzA0NDA1IEwyNy4xMTQ1MzcsMC4yNTcxMTE0MzYgQzYyLjM3MTUxMjMsLTEuOTkwNzE3MDEgODAsMTAuNTAwMzkyNyA4MCwzNy43MzA0NDA1IEM4MCw2NC45NjA0ODgyIDY0Ljc3NjUwMzgsNzkuMDUwMzQxNCAzNC4zMjk1MTEzLDgwIEM0Ny4wNTUzNDg5LDc3LjU2NzA4MDggNTMuNDE4MjY3Nyw3MC4zMTM2MTAzIDUzLjQxODI2NzcsNTguMjM5NTg4NSBDNTMuNDE4MjY3Nyw0MC4xMjg1NTU3IDM2LjMwMzk1NDQsMzcuNzMwNDQwNSAyNS4yMjc0MTcsMzcuNzMwNDQwNSBDMTcuODQzMDU4NiwzNy43MzA0NDA1IDkuNDMzOTE5NjYsMzcuNzMwNDQwNSAwLDM3LjczMDQ0MDUgWiIgaWQ9IlBhdGgtMTkiIGZpbGw9IiMzNzkzRUYiPjwvcGF0aD4KICAgICAgICAgICAgPC9nPgogICAgICAgIDwvZz4KICAgIDwvZz4KPC9zdmc+' > </img>\nCreated in <span style='font-weight:600;margin-left:4px;'>Deepnote</span></a>",
      "metadata": {
        "tags": [],
        "created_in_deepnote_cell": true,
        "deepnote_cell_type": "markdown"
      }
    }
  ],
  "nbformat": 4,
  "nbformat_minor": 2,
  "metadata": {
    "orig_nbformat": 2,
    "deepnote_notebook_id": "f7a84fa6-c5bc-437f-8069-a41093efbb70",
    "deepnote": {},
    "deepnote_execution_queue": []
  }
}