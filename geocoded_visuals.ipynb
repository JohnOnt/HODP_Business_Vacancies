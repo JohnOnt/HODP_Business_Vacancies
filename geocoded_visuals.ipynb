{
  "cells": [
    {
      "cell_type": "code",
      "execution_count": 12,
      "metadata": {
        "cell_id": "00000-7d8ade52-2f31-4df5-a4af-76472b06d0e8",
        "deepnote_cell_type": "code",
        "deepnote_to_be_reexecuted": false,
        "execution_millis": 1,
        "execution_start": 1617386688252,
        "source_hash": "b7dcc9c8",
        "tags": []
      },
      "outputs": [],
      "source": [
        "import numpy as np\n",
        "import pandas as pd\n",
        "import matplotlib.pyplot as plt\n",
        "import plotly.graph_objects as go"
      ]
    },
    {
      "cell_type": "code",
      "execution_count": 13,
      "metadata": {
        "cell_id": "00005-cc8c99c4-ce83-498e-a0fd-b62b1079b856",
        "deepnote_cell_type": "code",
        "deepnote_to_be_reexecuted": false,
        "execution_millis": 178,
        "execution_start": 1617386688428,
        "source_hash": "e2362659",
        "tags": []
      },
      "outputs": [],
      "source": [
        "# HODP colors\n",
        "monochrome_colors = ['#251616', '#760000', '#C63F3F', '#E28073', '#F1D3CF']\n",
        "primary_colors = ['#C63F3F', '#F4B436', '#83BFCC', '#455574', '#E2DDDB']\n",
        "\n",
        "# HODP template\n",
        "theme_hodp = go.layout.Template(\n",
        "    layout=go.Layout(\n",
        "        title = {'font':{'size':24, 'family':\"Helvetica\", 'color':monochrome_colors[0]}, 'pad':{'t':100, 'r':0, 'b':0, 'l':0}},\n",
        "        font = {'size':18, 'family':'Helvetica', 'color':'#717171'},\n",
        "        xaxis = {'ticks': \"outside\",\n",
        "                'tickfont': {'size': 14, 'family':\"Helvetica\"},\n",
        "                'showticksuffix': 'all',\n",
        "                'showtickprefix': 'last',\n",
        "                'showline': True,\n",
        "                'title':{'font':{'size':18, 'family':'Helvetica'}, 'standoff':20},\n",
        "                'automargin': True\n",
        "                },\n",
        "        yaxis = {'ticks': \"outside\",\n",
        "                'tickfont': {'size': 14, 'family':\"Helvetica\"},\n",
        "                'showticksuffix': 'all',\n",
        "                'showtickprefix': 'last',\n",
        "                'title':{'font':{'size':18, 'family':'Helvetica'}, 'standoff':20},\n",
        "                'showline': True,\n",
        "                'automargin': True\n",
        "                },\n",
        "        legend = {'bgcolor':'rgba(0,0,0,0)', \n",
        "                'title':{'font':{'size':18, 'family':\"Helvetica\", 'color':monochrome_colors[0]}}, \n",
        "                'font':{'size':14, 'family':\"Helvetica\"}, \n",
        "                'yanchor':'bottom'\n",
        "                },\n",
        "        colorscale = {'diverging':monochrome_colors},\n",
        "        coloraxis = {'autocolorscale':True, \n",
        "                'cauto':True, \n",
        "                'colorbar':{'tickfont':{'size':14,'family':'Helvetica'}, 'title':{'font':{'size':18, 'family':'Helvetica'}}},\n",
        "                }\n",
        "    )\n",
        ")"
      ]
    },
    {
      "cell_type": "code",
      "execution_count": 3,
      "metadata": {
        "cell_id": "00007-d0ecd38f-291f-4a84-bb0e-79b72bb0c648",
        "deepnote_cell_type": "code",
        "deepnote_to_be_reexecuted": false,
        "execution_millis": 17,
        "execution_start": 1617386688660,
        "source_hash": "210fa78",
        "tags": []
      },
      "outputs": [
        {
          "data": {
            "text/html": "<div>\n<style scoped>\n    .dataframe tbody tr th:only-of-type {\n        vertical-align: middle;\n    }\n\n    .dataframe tbody tr th {\n        vertical-align: top;\n    }\n\n    .dataframe thead th {\n        text-align: right;\n    }\n</style>\n<table border=\"1\" class=\"dataframe\">\n  <thead>\n    <tr style=\"text-align: right;\">\n      <th></th>\n      <th>Unnamed: 0</th>\n      <th>Name</th>\n      <th>Latitude</th>\n      <th>Longitude</th>\n      <th>Address</th>\n      <th>Storefront Sales Status</th>\n      <th>Sales Options</th>\n      <th>Grocery Sales</th>\n      <th>Phone</th>\n      <th>Website</th>\n      <th>Facebook</th>\n      <th>Twitter</th>\n      <th>Instagram</th>\n      <th>LastModified</th>\n    </tr>\n  </thead>\n  <tbody>\n    <tr>\n      <th>0</th>\n      <td>0</td>\n      <td>1369 Coffee House</td>\n      <td>42.390604</td>\n      <td>-71.121712</td>\n      <td>NaN</td>\n      <td>Open</td>\n      <td>Delivery, Take Out</td>\n      <td>yes</td>\n      <td>757 Massachusetts Ave</td>\n      <td>NaN</td>\n      <td>https://www.facebook.com/1369Coffeehouse/</td>\n      <td>https://twitter.com/1369coffeehouse?ref_src=tw...</td>\n      <td>https://www.instagram.com/1369coffeehouse/?hl=en</td>\n      <td>2020-06-16T17:08:30Z</td>\n    </tr>\n    <tr>\n      <th>1</th>\n      <td>1</td>\n      <td>1369 Coffee House</td>\n      <td>42.373793</td>\n      <td>-71.100367</td>\n      <td>NaN</td>\n      <td>Open</td>\n      <td>Delivery, Take Out, Outdoor Dining</td>\n      <td>NaN</td>\n      <td>1369 Cambridge Street</td>\n      <td>NaN</td>\n      <td>https://www.facebook.com/1369Coffeehouse/</td>\n      <td>https://twitter.com/1369coffeehouse</td>\n      <td>https://www.instagram.com/1369coffeehouse/?hl=en</td>\n      <td>2020-07-10T15:24:36Z</td>\n    </tr>\n    <tr>\n      <th>2</th>\n      <td>2</td>\n      <td>2 4-1 Optical</td>\n      <td>42.390604</td>\n      <td>-71.121712</td>\n      <td>NaN</td>\n      <td>Open</td>\n      <td>NaN</td>\n      <td>NaN</td>\n      <td>1128 Massachusetts Ave</td>\n      <td>NaN</td>\n      <td>https://www.facebook.com/241optical/</td>\n      <td>NaN</td>\n      <td>NaN</td>\n      <td>2020-06-16T17:09:04Z</td>\n    </tr>\n    <tr>\n      <th>3</th>\n      <td>3</td>\n      <td>5th Street Laundromat</td>\n      <td>42.369638</td>\n      <td>-71.083565</td>\n      <td>NaN</td>\n      <td>Open</td>\n      <td>NaN</td>\n      <td>NaN</td>\n      <td>58 5th Street</td>\n      <td>NaN</td>\n      <td>NaN</td>\n      <td>NaN</td>\n      <td>NaN</td>\n      <td>2020-03-22T12:45:32Z</td>\n    </tr>\n    <tr>\n      <th>4</th>\n      <td>5</td>\n      <td>730 Tavern</td>\n      <td>42.366016</td>\n      <td>-71.105142</td>\n      <td>NaN</td>\n      <td>Open</td>\n      <td>Delivery, Take Out, Indoor Dining</td>\n      <td>NaN</td>\n      <td>730 Massachusetts Ave</td>\n      <td>NaN</td>\n      <td>https://www.facebook.com/730tavern/</td>\n      <td>NaN</td>\n      <td>https://www.instagram.com/p/B9uqJpAgWJz/</td>\n      <td>2020-12-15T13:55:02Z</td>\n    </tr>\n  </tbody>\n</table>\n</div>",
            "text/plain": "   Unnamed: 0                   Name   Latitude  Longitude Address  \\\n0           0      1369 Coffee House  42.390604 -71.121712     NaN   \n1           1      1369 Coffee House  42.373793 -71.100367     NaN   \n2           2          2 4-1 Optical  42.390604 -71.121712     NaN   \n3           3  5th Street Laundromat  42.369638 -71.083565     NaN   \n4           5             730 Tavern  42.366016 -71.105142     NaN   \n\n  Storefront Sales Status                       Sales Options Grocery Sales  \\\n0                    Open                  Delivery, Take Out           yes   \n1                    Open  Delivery, Take Out, Outdoor Dining           NaN   \n2                    Open                                 NaN           NaN   \n3                    Open                                 NaN           NaN   \n4                    Open   Delivery, Take Out, Indoor Dining           NaN   \n\n                    Phone Website                                   Facebook  \\\n0   757 Massachusetts Ave     NaN  https://www.facebook.com/1369Coffeehouse/   \n1   1369 Cambridge Street     NaN  https://www.facebook.com/1369Coffeehouse/   \n2  1128 Massachusetts Ave     NaN       https://www.facebook.com/241optical/   \n3           58 5th Street     NaN                                        NaN   \n4   730 Massachusetts Ave     NaN        https://www.facebook.com/730tavern/   \n\n                                             Twitter  \\\n0  https://twitter.com/1369coffeehouse?ref_src=tw...   \n1                https://twitter.com/1369coffeehouse   \n2                                                NaN   \n3                                                NaN   \n4                                                NaN   \n\n                                          Instagram          LastModified  \n0  https://www.instagram.com/1369coffeehouse/?hl=en  2020-06-16T17:08:30Z  \n1  https://www.instagram.com/1369coffeehouse/?hl=en  2020-07-10T15:24:36Z  \n2                                               NaN  2020-06-16T17:09:04Z  \n3                                               NaN  2020-03-22T12:45:32Z  \n4          https://www.instagram.com/p/B9uqJpAgWJz/  2020-12-15T13:55:02Z  "
          },
          "execution_count": 3,
          "metadata": {},
          "output_type": "execute_result"
        }
      ],
      "source": [
        "vdistances = pd.read_csv(\"geocoded_businesses.csv\")\n",
        "vdistances.head(5)"
      ]
    },
    {
      "cell_type": "code",
      "execution_count": 4,
      "metadata": {
        "cell_id": "00008-ec58f3b2-988e-4e3c-91af-a418d52024ff",
        "deepnote_cell_type": "code",
        "deepnote_to_be_reexecuted": false,
        "execution_millis": 1,
        "execution_start": 1617386688680,
        "source_hash": "c729e2a9",
        "tags": []
      },
      "outputs": [],
      "source": [
        "from math import radians, cos, sin, asin, sqrt\n",
        "def haversine(lon1, lat1, lon2, lat2):\n",
        "    \"\"\"\n",
        "    Calculate the great circle distance between two points \n",
        "    on the earth (specified in decimal degrees)\n",
        "    \"\"\"\n",
        "    # convert decimal degrees to radians \n",
        "    lon1, lat1, lon2, lat2 = map(radians, [lon1, lat1, lon2, lat2])\n",
        "    # haversine formula \n",
        "    dlon = lon2 - lon1 \n",
        "    dlat = lat2 - lat1 \n",
        "    a = sin(dlat/2)**2 + cos(lat1) * cos(lat2) * sin(dlon/2)**2\n",
        "    c = 2 * asin(sqrt(a)) \n",
        "    # Radius of earth in kilometers is 6371\n",
        "    km = 6371* c\n",
        "    return km"
      ]
    },
    {
      "cell_type": "code",
      "execution_count": 37,
      "metadata": {
        "cell_id": "00008-cf775327-8ff3-4490-8972-6975cc8e8e49",
        "deepnote_cell_type": "code",
        "deepnote_to_be_reexecuted": false,
        "execution_millis": 1114,
        "execution_start": 1617386688682,
        "source_hash": "3b18a093",
        "tags": []
      },
      "outputs": [],
      "source": [
        "harv_lat = 42.3744\n",
        "harv_long = -71.1171\n",
        "mit_lat = 42.3598\n",
        "mit_long = -71.0921\n",
        "\n",
        "\n",
        "harv_dist = np.zeros(np.shape(vdistances)[0])\n",
        "mit_dist = np.zeros(np.shape(vdistances)[0])\n",
        "min_dist = np.zeros(np.shape(vdistances)[0])\n",
        "\n",
        "for i in range(len(vdistances.index)):\n",
        "    harv_dist[i] = haversine(harv_long, harv_lat, vdistances[\"Longitude\"][i], vdistances[\"Latitude\"][i])\n",
        "    mit_dist[i] = haversine(mit_long, mit_lat, vdistances[\"Longitude\"][i], vdistances[\"Latitude\"][i])\n",
        "    min_dist[i] = min(vdistances[\"harv_dist\"][i], vdistances[\"mit_dist\"][i])\n",
        "\n",
        "# impute outliers that api did not pick up coordinates for\n",
        "harv_dist = np.where(harv_dist < 50, harv_dist, np.median(harv_dist))\n",
        "mit_dist = np.where(mit_dist < 50, mit_dist, np.median(mit_dist))\n",
        "min_dist = np.where(min_dist < 50, min_dist, np.median(min_dist))\n",
        "\n",
        "vdistances['harv_dist'] = harv_dist\n",
        "vdistances['mit_dist'] = mit_dist\n",
        "vdistances['min_dist'] = min_dist\n",
        "vdistances.head()\n",
        "\n",
        "vdistances.to_csv(\"vdistances.csv\")"
      ]
    },
    {
      "cell_type": "code",
      "execution_count": 38,
      "metadata": {
        "cell_id": "00010-42f5eaa3-9fb1-4a85-8fa0-078b017400c0",
        "deepnote_cell_type": "code",
        "deepnote_to_be_reexecuted": false,
        "execution_millis": 9,
        "execution_start": 1617396019071,
        "source_hash": "297ed1f8",
        "tags": []
      },
      "outputs": [
        {
          "data": {
            "text/html": "<div>\n<style scoped>\n    .dataframe tbody tr th:only-of-type {\n        vertical-align: middle;\n    }\n\n    .dataframe tbody tr th {\n        vertical-align: top;\n    }\n\n    .dataframe thead th {\n        text-align: right;\n    }\n</style>\n<table border=\"1\" class=\"dataframe\">\n  <thead>\n    <tr style=\"text-align: right;\">\n      <th></th>\n      <th>Unnamed: 0</th>\n      <th>Name</th>\n      <th>Latitude</th>\n      <th>Longitude</th>\n      <th>Address</th>\n      <th>Storefront Sales Status</th>\n      <th>Sales Options</th>\n      <th>Grocery Sales</th>\n      <th>Phone</th>\n      <th>Website</th>\n      <th>Facebook</th>\n      <th>Twitter</th>\n      <th>Instagram</th>\n      <th>LastModified</th>\n      <th>harv_dist</th>\n      <th>mit_dist</th>\n      <th>min_dist</th>\n    </tr>\n  </thead>\n  <tbody>\n    <tr>\n      <th>9</th>\n      <td>10</td>\n      <td>Abide Place</td>\n      <td>42.390604</td>\n      <td>-71.121712</td>\n      <td>NaN</td>\n      <td>Closed</td>\n      <td>NaN</td>\n      <td>NaN</td>\n      <td>317 Massachusetts Ave</td>\n      <td>NaN</td>\n      <td>NaN</td>\n      <td>NaN</td>\n      <td>https://www.instagram.com/abidecambridge/</td>\n      <td>2020-11-23T14:11:22Z</td>\n      <td>1.841192</td>\n      <td>4.201103</td>\n      <td>1.841192</td>\n    </tr>\n    <tr>\n      <th>31</th>\n      <td>33</td>\n      <td>American Dural</td>\n      <td>43.366228</td>\n      <td>-80.322486</td>\n      <td>NaN</td>\n      <td>Closed</td>\n      <td>NaN</td>\n      <td>NaN</td>\n      <td>135 Huron St.</td>\n      <td>NaN</td>\n      <td>NaN</td>\n      <td>NaN</td>\n      <td>NaN</td>\n      <td>2020-09-23T21:49:05Z</td>\n      <td>1.841192</td>\n      <td>2.707467</td>\n      <td>1.841192</td>\n    </tr>\n    <tr>\n      <th>43</th>\n      <td>46</td>\n      <td>Apple Cinemas</td>\n      <td>42.392738</td>\n      <td>-71.140817</td>\n      <td>NaN</td>\n      <td>Closed</td>\n      <td>NaN</td>\n      <td>NaN</td>\n      <td>168 Alewife Brook Pkwy</td>\n      <td>NaN</td>\n      <td>NaN</td>\n      <td>NaN</td>\n      <td>NaN</td>\n      <td>2020-06-09T17:31:30Z</td>\n      <td>2.820016</td>\n      <td>5.424803</td>\n      <td>2.820016</td>\n    </tr>\n    <tr>\n      <th>50</th>\n      <td>53</td>\n      <td>Art and Soul Yoga</td>\n      <td>42.372840</td>\n      <td>-71.099755</td>\n      <td>Online Sales</td>\n      <td>Closed</td>\n      <td>NaN</td>\n      <td>NaN</td>\n      <td>91 Hampshire St.</td>\n      <td>NaN</td>\n      <td>NaN</td>\n      <td>NaN</td>\n      <td>NaN</td>\n      <td>2020-06-09T17:31:30Z</td>\n      <td>1.435360</td>\n      <td>1.580498</td>\n      <td>1.435360</td>\n    </tr>\n    <tr>\n      <th>72</th>\n      <td>77</td>\n      <td>Beat Brew Hall</td>\n      <td>42.373357</td>\n      <td>-71.119896</td>\n      <td>NaN</td>\n      <td>Closed</td>\n      <td>NaN</td>\n      <td>NaN</td>\n      <td>13A Brattle St</td>\n      <td>NaN</td>\n      <td>https://www.facebook.com/beatbrewhall/</td>\n      <td>NaN</td>\n      <td>https://www.instagram.com/beatbrewhall/</td>\n      <td>2020-06-09T17:49:22Z</td>\n      <td>0.257302</td>\n      <td>2.736304</td>\n      <td>0.257302</td>\n    </tr>\n  </tbody>\n</table>\n</div>",
            "text/plain": "    Unnamed: 0               Name   Latitude  Longitude       Address  \\\n9           10        Abide Place  42.390604 -71.121712           NaN   \n31          33     American Dural  43.366228 -80.322486           NaN   \n43          46      Apple Cinemas  42.392738 -71.140817           NaN   \n50          53  Art and Soul Yoga  42.372840 -71.099755  Online Sales   \n72          77     Beat Brew Hall  42.373357 -71.119896           NaN   \n\n   Storefront Sales Status Sales Options Grocery Sales  \\\n9                   Closed           NaN           NaN   \n31                  Closed           NaN           NaN   \n43                  Closed           NaN           NaN   \n50                  Closed           NaN           NaN   \n72                  Closed           NaN           NaN   \n\n                     Phone Website                                Facebook  \\\n9    317 Massachusetts Ave     NaN                                     NaN   \n31           135 Huron St.     NaN                                     NaN   \n43  168 Alewife Brook Pkwy     NaN                                     NaN   \n50        91 Hampshire St.     NaN                                     NaN   \n72          13A Brattle St     NaN  https://www.facebook.com/beatbrewhall/   \n\n   Twitter                                  Instagram          LastModified  \\\n9      NaN  https://www.instagram.com/abidecambridge/  2020-11-23T14:11:22Z   \n31     NaN                                        NaN  2020-09-23T21:49:05Z   \n43     NaN                                        NaN  2020-06-09T17:31:30Z   \n50     NaN                                        NaN  2020-06-09T17:31:30Z   \n72     NaN    https://www.instagram.com/beatbrewhall/  2020-06-09T17:49:22Z   \n\n    harv_dist  mit_dist  min_dist  \n9    1.841192  4.201103  1.841192  \n31   1.841192  2.707467  1.841192  \n43   2.820016  5.424803  2.820016  \n50   1.435360  1.580498  1.435360  \n72   0.257302  2.736304  0.257302  "
          },
          "execution_count": 38,
          "metadata": {},
          "output_type": "execute_result"
        }
      ],
      "source": [
        "openloc = vdistances[(vdistances[\"Storefront Sales Status\"] == \"Open\")]\n",
        "closedloc = vdistances[(vdistances[\"Storefront Sales Status\"] == \"Closed\")]\n",
        "closedloc.head(5)"
      ]
    },
    {
      "cell_type": "code",
      "execution_count": 39,
      "metadata": {
        "cell_id": "00011-381f51ff-50b8-4826-9911-e65536bda700",
        "deepnote_cell_type": "code",
        "deepnote_to_be_reexecuted": false,
        "execution_millis": 481,
        "execution_start": 1617386689853,
        "source_hash": "fe52e150",
        "tags": []
      },
      "outputs": [
        {
          "data": {
            "image/png": "[encoded data removed]",
            "text/plain": "<Figure size 432x288 with 1 Axes>"
          },
          "metadata": {
            "needs_background": "light"
          },
          "output_type": "display_data"
        }
      ],
      "source": [
        "plt.scatter(openloc[\"mit_dist\"],openloc[\"harv_dist\"],c='#2596be')\n",
        "plt.xlabel(\"Distance to MIT\")\n",
        "plt.ylabel(\"Distance to Harvard\")\n",
        "plt.title(\"Distance to Campus and 1-2 Year Vacancies\")\n",
        "plt.show()"
      ]
    },
    {
      "cell_type": "code",
      "execution_count": 8,
      "metadata": {
        "cell_id": "00013-3af442b0-d79c-49eb-9f3a-ce6e252baa26",
        "deepnote_cell_type": "code",
        "deepnote_to_be_reexecuted": false,
        "execution_millis": 3,
        "execution_start": 1617396028344,
        "source_hash": "2b72cc7d",
        "tags": []
      },
      "outputs": [],
      "source": [
        "openmin = []\n",
        "openmin = np.append (openmin, (vdistances.loc[vdistances[\"Storefront Sales Status\"]== \"Open\"][\"min_dist\"]))\n",
        "closedmin=[]\n",
        "closedmin=np.append (openmin, (vdistances.loc[vdistances[\"Storefront Sales Status\"]== \"Closed\"][\"min_dist\"]))\n",
        "openY=[]\n",
        "closedY=[]\n",
        "\n",
        "openY = np.ones((len(openmin),), dtype=int)\n",
        "closedY = np.zeros((len(closedmin),),dtype=int)\n",
        "\n",
        "closedminfinal=[]\n",
        "for i in range(len(closedmin)):\n",
        "    if closedmin[i]<5:\n",
        "        closedminfinal.append(closedmin[i])\n",
        "openminfinal=[]\n",
        "for i in range(len(openmin)):\n",
        "    if openmin[i]<5:\n",
        "        openminfinal.append(openmin[i])\n"
      ]
    },
    {
      "cell_type": "code",
      "execution_count": 10,
      "metadata": {
        "cell_id": "00014-b69255ee-5139-4407-8a36-cbf3ee04521c",
        "deepnote_cell_type": "code",
        "deepnote_to_be_reexecuted": false,
        "execution_millis": 9,
        "execution_start": 1617395370685,
        "source_hash": "a3dc2853",
        "tags": []
      },
      "outputs": [
        {
          "data": {
            "application/vnd.plotly.v1+json": {
              "config": {
                "plotlyServerURL": "https://plot.ly"
              },
              "data": [
                {
                  "marker": {
                    "color": "#C63F3F"
                  },
                  "name": "Closed",
                  "opacity": 0.7,
                  "type": "histogram",
                  "x": [
                    1.841192104312489,
                    1.3762114532742242,
                    1.841192104312489,
                    1.2993884688097233,
                    1.275126147688533,
                    0.18783102434742277,
                    2.6735256338981,
                    1.20156486231015,
                    1.2976795907576422,
                    1.841192104312489,
                    2.6735256338981,
                    1.0018535614146067,
                    0.22200885716195948,
                    0.18783102434742277,
                    1.453812906413159,
                    1.1934400582370766,
                    0.46741792891601536,
                    2.820016363065587,
                    1.841192104312489,
                    1.3979867931474719,
                    0.18783102434742277,
                    0.3721762534627268,
                    0.3597809981778221,
                    0.18783102434742277,
                    1.4334659028700132,
                    1.2758519859647837,
                    1.567436812961219,
                    0.18783102434742277,
                    2.6197615309836504,
                    0.27292855356976803,
                    3.5612350113124394,
                    0.3299314329932676,
                    1.2521445389556505,
                    3.004325038215504,
                    0.35981343733971366,
                    1.841192104312489,
                    0.27719619519863486,
                    1.5785493553831806,
                    1.5507629482994723,
                    0.25730207222345436,
                    1.841192104312489,
                    0.18783102434742277,
                    0.46741792891601536,
                    0.3597809981778221,
                    2.43454641323273,
                    1.841192104312489,
                    1.841192104312489,
                    0.8319901786297944,
                    2.820016363065587,
                    3.004325038215504,
                    1.0410948268469398,
                    0.27719619519863486,
                    1.2951186353485227,
                    2.6735256338981,
                    0.3597809981778221,
                    1.4264161801982433,
                    0.27719619519863486,
                    1.7116393761869433,
                    0.3597809981778221,
                    1.841192104312489,
                    1.841192104312489,
                    0.22200885716195948,
                    0.27719619519863486,
                    2.43454641323273,
                    3.004325038215504,
                    1.1264141099161673,
                    2.6735256338981,
                    1.841192104312489,
                    1.841192104312489,
                    1.4353598902970321,
                    0.18783102434742277,
                    1.2287084973662186,
                    0.5821165912260184,
                    0.18783102434742277,
                    3.421597088133197,
                    0.18783102434742277,
                    0.27719619519863486,
                    1.8480179310042057,
                    1.1067901199557975,
                    1.841192104312489,
                    0.44558148954772697,
                    0.18783102434742277,
                    1.841192104312489,
                    1.841192104312489,
                    0.25730207222345436,
                    0.25730207222345436,
                    1.3591530974712767,
                    0.49446823678196744,
                    1.7116393761869433,
                    0.27719619519863486,
                    0.8229441526921172,
                    0.802738965208306,
                    0.22200885716195948,
                    2.4201429489297848,
                    0.9962154310020682,
                    0.49446823678196744,
                    1.9285918436063227,
                    1.841192104312489,
                    0.18783102434742277,
                    1.841192104312489,
                    1.1539301188178788,
                    0.27719619519863486,
                    1.453812906413159,
                    0.25730207222345436,
                    1.841192104312489,
                    0.18783102434742277,
                    2.970438618216186,
                    0.6286802745805384,
                    0.22200885716195948,
                    1.198186474892138,
                    0.22200885716195948,
                    0.9057747025590392,
                    0.7834823098707796,
                    0.18783102434742277,
                    2.43454641323273,
                    1.841192104312489,
                    2.43454641323273,
                    1.841192104312489,
                    1.2357936791459967,
                    0.7340410572962621,
                    3.162573425576015,
                    1.453812906413159,
                    0.49446823678196744,
                    0.8229441526921172,
                    0.18783102434742277,
                    1.841192104312489,
                    1.841192104312489,
                    1.841192104312489,
                    1.841192104312489,
                    1.841192104312489,
                    0.3393116839199994,
                    1.3182461325241424,
                    0.18783102434742277,
                    1.841192104312489,
                    0.49446823678196744,
                    0.18783102434742277,
                    1.4410996486611594,
                    1.841192104312489,
                    0.25730207222345436,
                    0.18783102434742277,
                    0.8508511637037378,
                    0.44558148954772697,
                    1.841192104312489,
                    0.18783102434742277,
                    1.841192104312489,
                    3.421597088133197,
                    1.1468907314552361,
                    1.2761962936149516,
                    1.841192104312489,
                    0.27719619519863486,
                    1.841192104312489,
                    0.4819857141383627,
                    1.841192104312489,
                    0.3597809981778221,
                    0.9744683167261319,
                    0.4603847868684553,
                    1.841192104312489,
                    1.540718799461614,
                    1.4737356146555762,
                    0.27719619519863486,
                    0.49446823678196744,
                    2.743106388068094,
                    2.6735256338981,
                    0.8108862045727105,
                    1.4052978413390302,
                    1.841192104312489,
                    0.18783102434742277,
                    1.841192104312489,
                    0.946564869355757,
                    1.1960611395349112,
                    1.0912877142235546,
                    1.7116393761869433,
                    1.4353598902970321,
                    1.841192104312489,
                    0.9064508595252572,
                    0.17523997347439396,
                    0.18783102434742277,
                    0.5058675530619462,
                    0.18783102434742277,
                    1.33887543193964,
                    1.1754916230180164,
                    1.841192104312489,
                    0.2546519177949524,
                    2.6735256338981,
                    1.3107117475721677,
                    1.3021479809049648,
                    0.18783102434742277,
                    0.4819857141383627,
                    0.18783102434742277,
                    1.444887545483724,
                    2.43454641323273,
                    1.841192104312489,
                    0.25730207222345436,
                    0.18783102434742277,
                    0.27358450430091796,
                    0.25730207222345436,
                    1.1533788958461262,
                    0.8361181413333041,
                    1.2133172174610118,
                    0.7481199079611949,
                    1.841192104312489,
                    1.841192104312489,
                    1.841192104312489,
                    1.841192104312489,
                    1.2357936791459967,
                    1.841192104312489,
                    1.7116393761869433,
                    0.7688812315675992,
                    1.841192104312489,
                    1.3173631551378284,
                    0.6744516478198075,
                    1.008056789918845,
                    1.9802573569827586,
                    1.3949486285072379,
                    0.44558148954772697,
                    0.8697977296529875,
                    0.18783102434742277,
                    0.7834823098707796,
                    0.22200885716195948,
                    1.841192104312489,
                    1.0913455628686637,
                    1.841192104312489,
                    0.18783102434742277,
                    2.43454641323273,
                    2.43454641323273,
                    0.4844585013501623,
                    1.841192104312489,
                    1.841192104312489,
                    0.27719619519863486,
                    1.841192104312489,
                    1.407727980121656,
                    3.0637063406077427,
                    2.43454641323273,
                    0.18783102434742277,
                    2.43454641323273,
                    1.841192104312489,
                    2.4817308864617407,
                    0.3597809981778221,
                    0.3597809981778221,
                    0.18783102434742277,
                    0.18783102434742277,
                    1.841192104312489,
                    1.841192104312489,
                    0.2969101194346472,
                    1.841192104312489,
                    0.18783102434742277,
                    0.18783102434742277,
                    2.132268555326877,
                    1.4334659028700132,
                    1.337077720667297,
                    2.43454641323273,
                    0.18783102434742277,
                    1.841192104312489,
                    0.981305491363168,
                    1.841192104312489,
                    0.9737724271772747,
                    0.4008949975538279,
                    1.841192104312489,
                    1.841192104312489,
                    1.0239009568004809,
                    1.4353598902970321,
                    2.43454641323273,
                    0.27719619519863486,
                    0.18783102434742277,
                    1.841192104312489,
                    1.4353598902970321,
                    2.5125662851023547,
                    0.22200885716195948,
                    1.841192104312489,
                    0.9955138458582315,
                    2.9064470643490243,
                    1.841192104312489,
                    0.18783102434742277,
                    1.841192104312489,
                    2.820016363065587,
                    1.590032178407205,
                    1.841192104312489,
                    1.2357936791459967,
                    1.841192104312489,
                    1.841192104312489,
                    1.841192104312489,
                    0.18783102434742277,
                    0.33992524818044273,
                    0.9404312888717276,
                    0.18783102434742277,
                    0.802738965208306,
                    1.2357936791459967,
                    1.986130619713966,
                    2.43454641323273,
                    1.3148944077064693,
                    2.6559097007280523,
                    0.3766036929825534,
                    0.18783102434742277,
                    1.841192104312489,
                    3.421597088133197,
                    1.4353598902970321,
                    1.841192104312489,
                    1.841192104312489,
                    1.298067723890906,
                    1.453812906413159,
                    1.841192104312489,
                    1.841192104312489,
                    0.3852543064366997,
                    1.841192104312489,
                    2.43454641323273,
                    1.4353598902970321,
                    2.6735256338981,
                    1.841192104312489,
                    1.841192104312489,
                    0.21304665704823753,
                    1.841192104312489,
                    1.841192104312489,
                    0.3597809981778221,
                    1.841192104312489,
                    0.6458333295048494,
                    0.27719619519863486,
                    1.4353598902970321,
                    1.841192104312489,
                    0.25730207222345436,
                    1.841192104312489,
                    0.19773300669905178,
                    1.6138978851988213,
                    1.841192104312489,
                    1.3726198670299736,
                    0.4819857141383627,
                    2.6735256338981,
                    0.27719619519863486,
                    1.5247854210900273,
                    0.25730207222345436,
                    1.841192104312489,
                    1.0367804699157517,
                    1.841192104312489,
                    2.43454641323273,
                    1.841192104312489,
                    1.841192104312489,
                    1.841192104312489,
                    2.6735256338981,
                    0.6242293308928198,
                    1.841192104312489,
                    1.453812906413159,
                    0.18783102434742277,
                    3.307481765856235,
                    0.946564869355757,
                    0.19773300669905178,
                    2.43454641323273,
                    0.18783102434742277,
                    0.18783102434742277,
                    1.4300504001553325,
                    0.18783102434742277,
                    0.18783102434742277,
                    1.1754916230180164,
                    1.841192104312489,
                    0.6415238920470366,
                    1.841192104312489,
                    1.453812906413159,
                    0.27292855356976803,
                    1.841192104312489,
                    1.4518560222216839,
                    1.841192104312489,
                    1.841192104312489,
                    1.841192104312489,
                    2.6735256338981,
                    1.841192104312489,
                    1.1538908713297678,
                    1.841192104312489,
                    1.841192104312489,
                    1.157465747789209,
                    1.7116393761869433,
                    2.1819067661760743,
                    1.841192104312489,
                    1.0888880988028518,
                    1.841192104312489,
                    1.4353598902970321,
                    1.841192104312489,
                    0.44558148954772697,
                    0.4738370115056333,
                    1.7116393761869433,
                    4.728114163183696,
                    0.802738965208306,
                    0.8731309565821521,
                    1.1934400582370766,
                    1.841192104312489,
                    0.25730207222345436,
                    1.841192104312489,
                    0.2546519177949524,
                    2.6735256338981,
                    2.6735256338981,
                    0.22200885716195948,
                    2.6735256338981,
                    1.841192104312489,
                    2.6735256338981,
                    0.27719619519863486,
                    0.27719619519863486,
                    0.18783102434742277,
                    0.18783102434742277,
                    1.423286308255452,
                    1.841192104312489,
                    0.18783102434742277,
                    1.453812906413159,
                    1.153783963609125,
                    1.2357936791459967,
                    1.2895986806320885,
                    0.802738965208306,
                    0.7202130256182161,
                    3.0637063406077427,
                    0.2510429701006718,
                    3.982004819347771,
                    1.4289582475787541,
                    0.44760124123841427,
                    0.18783102434742277,
                    1.2357936791459967,
                    0.18783102434742277,
                    0.22200885716195948,
                    1.841192104312489,
                    1.434380816814637,
                    1.841192104312489,
                    2.5518662705210478,
                    0.9492329654238975,
                    1.841192104312489,
                    0.5537727158858756,
                    2.43454641323273,
                    0.27719619519863486,
                    1.2557214368536902,
                    0.8229441526921172,
                    1.841192104312489,
                    2.43454641323273,
                    0.8061693892537231,
                    1.841192104312489,
                    0.18783102434742277,
                    0.8638794731050766,
                    1.841192104312489,
                    1.2853709982457737,
                    1.841192104312489,
                    2.371470319916973,
                    1.429826629283176,
                    0.8586412143427516,
                    0.22200885716195948,
                    1.841192104312489,
                    1.308745635067862,
                    0.8892196531979122,
                    1.8333229962758237,
                    0.18783102434742277,
                    1.841192104312489,
                    0.2546519177949524,
                    0.25730207222345436,
                    0.4844585013501623,
                    0.2510429701006718,
                    2.6843284731896375,
                    4.256239251884116,
                    1.841192104312489,
                    0.8229441526921172,
                    1.841192104312489,
                    2.43454641323273,
                    1.841192104312489,
                    1.841192104312489,
                    0.18783102434742277,
                    0.657913499585475,
                    0.25730207222345436,
                    1.6885955508864685,
                    0.7982664349612587,
                    1.4353598902970321,
                    1.0018535614146067,
                    0.2510429701006718,
                    1.841192104312489,
                    0.22200885716195948,
                    1.841192104312489,
                    0.18783102434742277,
                    1.841192104312489,
                    0.5689647078034953,
                    1.841192104312489,
                    1.4353598902970321,
                    1.5393313515634388,
                    1.841192104312489,
                    1.841192104312489,
                    0.7772053707603301,
                    1.402825628046954,
                    1.841192104312489,
                    0.3597809981778221,
                    0.27719619519863486,
                    1.841192104312489,
                    0.7481199079611949,
                    0.3299314329932676,
                    1.841192104312489,
                    2.9064470643490243,
                    0.4819857141383627,
                    1.841192104312489,
                    2.6735256338981,
                    1.841192104312489,
                    0.505193301718666,
                    1.841192104312489,
                    0.3460099534385587,
                    0.2546519177949524,
                    1.3717802821695382,
                    1.2678709102913472,
                    3.421597088133197,
                    0.18783102434742277,
                    1.841192104312489,
                    1.6782988067089923,
                    1.064814286690271,
                    1.841192104312489,
                    0.18783102434742277,
                    0.747986200625379,
                    0.18783102434742277,
                    4.639783353087604,
                    0.193089026750166,
                    0.928870306214241,
                    1.3078071257195305,
                    1.841192104312489,
                    1.495595704344205,
                    1.5785493553831806,
                    1.841192104312489,
                    1.9802573569827586,
                    0.4844585013501623,
                    2.274845817750432,
                    1.0175870628095018,
                    0.4844585013501623,
                    2.820016363065587,
                    0.9346014845383844,
                    1.1070471250537246,
                    0.22200885716195948,
                    1.30524662553455,
                    0.18783102434742277,
                    0.3656664665812606,
                    1.3717802821695382,
                    0.4844585013501623,
                    1.453812906413159,
                    0.9649426979817985,
                    0.913938900085119,
                    1.841192104312489,
                    1.841192104312489,
                    0.18783102434742277,
                    1.841192104312489,
                    0.5573107781444151,
                    0.49446823678196744,
                    1.340831519285845,
                    1.841192104312489,
                    0.9053811753374478,
                    2.4817308864617407,
                    1.841192104312489,
                    2.7041732369897207,
                    0.18783102434742277,
                    1.0191868979814547,
                    1.841192104312489,
                    0.2510429701006718,
                    2.2696059906286474,
                    0.3656664665812606,
                    1.841192104312489,
                    2.6735256338981,
                    3.0056727012899236,
                    0.19773300669905178,
                    1.841192104312489,
                    0.7885506208767742,
                    2.078735269937071,
                    0.18783102434742277,
                    0.18783102434742277,
                    0.27719619519863486,
                    2.4817308864617407,
                    0.18783102434742277,
                    1.841192104312489,
                    2.43454641323273,
                    0.49446823678196744,
                    1.4353598902970321,
                    1.841192104312489,
                    0.19773300669905178,
                    0.3460099534385587,
                    0.2560374543607875,
                    0.693084429229919,
                    0.27438534943506243,
                    1.453812906413159,
                    1.0367804699157517,
                    2.6735256338981,
                    1.0384911605565132,
                    0.3852543064366997,
                    2.820016363065587,
                    0.6286802745805384,
                    0.18783102434742277,
                    1.841192104312489,
                    1.346932690395528,
                    1.841192104312489,
                    1.2843019835780556,
                    3.982004819347771,
                    1.2357936791459967,
                    1.453812906413159,
                    1.2905465752917393,
                    2.9064470643490243,
                    1.841192104312489,
                    1.2357936791459967,
                    1.841192104312489,
                    0.913938900085119,
                    1.7116393761869433,
                    1.841192104312489,
                    1.4250290354091828,
                    1.3648284841473997,
                    1.841192104312489,
                    0.8956317407170883,
                    0.18783102434742277,
                    0.6733378123636032,
                    0.18783102434742277,
                    1.1264141099161673,
                    0.8229441526921172,
                    0.2106168792069993,
                    0.42310802595262403,
                    2.7277900678040368,
                    0.2510429701006718,
                    1.841192104312489,
                    1.6885955508864685,
                    0.2682152418160942,
                    0.18783102434742277,
                    2.820016363065587,
                    1.8178460260184428,
                    0.22200885716195948,
                    0.9039637923482006,
                    0.22200885716195948,
                    1.1543332623360145,
                    1.841192104312489,
                    1.841192104312489,
                    0.18783102434742277,
                    1.7120701153347277,
                    1.064814286690271,
                    2.820016363065587,
                    0.18783102434742277,
                    1.841192104312489,
                    1.841192104312489,
                    0.18783102434742277,
                    0.18783102434742277,
                    1.4740153044391655,
                    0.18783102434742277,
                    1.841192104312489,
                    2.6954273402822815,
                    0.18783102434742277,
                    0.2510429701006718,
                    1.6885955508864685,
                    1.453812906413159,
                    0.3597809981778221,
                    0.35704530142955976,
                    0.9601401520288959,
                    1.841192104312489,
                    0.9887818484099843,
                    1.841192104312489,
                    0.25730207222345436,
                    0.18783102434742277,
                    1.6885955508864685,
                    0.32160362918364743,
                    1.453812906413159,
                    1.841192104312489,
                    0.18783102434742277,
                    0.34079096950273596,
                    0.18783102434742277,
                    0.23687935170318103,
                    1.2357936791459967,
                    2.43454641323273,
                    0.18783102434742277,
                    0.8229441526921172,
                    1.4825694572082855,
                    0.49446823678196744,
                    1.841192104312489,
                    1.841192104312489,
                    0.18783102434742277,
                    1.841192104312489,
                    1.841192104312489,
                    1.841192104312489,
                    1.841192104312489,
                    0.18783102434742277,
                    0.8467764140959518,
                    0.27719619519863486,
                    0.44558148954772697,
                    0.9247555363364209,
                    2.43454641323273,
                    1.0427547518738092,
                    1.841192104312489,
                    2.5460014111794624,
                    0.2546519177949524,
                    1.841192104312489,
                    1.9487251161687047,
                    1.3632413333771614,
                    1.841192104312489,
                    0.18783102434742277,
                    1.9238732024136316,
                    1.1264141099161673,
                    0.27719619519863486,
                    0.2510429701006718,
                    0.22200885716195948,
                    1.841192104312489,
                    3.421597088133197,
                    0.18783102434742277,
                    1.841192104312489,
                    0.4844585013501623,
                    1.453812906413159,
                    1.6782988067089923,
                    1.841192104312489,
                    0.18783102434742277,
                    0.3852543064366997,
                    1.841192104312489,
                    0.49446823678196744,
                    1.841192104312489,
                    2.820016363065587,
                    1.4353598902970321,
                    0.25730207222345436,
                    0.4819857141383627,
                    0.4738370115056333,
                    1.841192104312489,
                    0.32160362918364743,
                    0.4844585013501623,
                    1.841192104312489,
                    1.841192104312489,
                    0.26196077280414787,
                    2.0034189612045448,
                    1.841192104312489,
                    1.2920480695416305,
                    0.802738965208306,
                    0.4052092005834856,
                    0.8467764140959518,
                    0.8731309565821521,
                    1.841192104312489,
                    0.24884354133548117,
                    1.841192104312489,
                    0.8697195503139317,
                    1.0160956613915226,
                    0.28617471912326975,
                    0.4844585013501623,
                    0.2964436080274455,
                    1.841192104312489,
                    1.841192104312489,
                    0.18783102434742277,
                    1.7116393761869433,
                    1.841192104312489,
                    1.841192104312489,
                    0.9717355467996255,
                    1.841192104312489,
                    1.1229326361305019,
                    0.3695151200920383,
                    1.9802573569827586,
                    1.841192104312489,
                    0.2546519177949524,
                    2.3883630512396947,
                    0.8467764140959518,
                    0.946564869355757,
                    0.946564869355757,
                    0.18783102434742277,
                    1.841192104312489,
                    0.9288744109719794,
                    1.841192104312489,
                    0.4832667259045893,
                    1.018309559799091,
                    0.8816523326505146,
                    0.18783102434742277,
                    2.43454641323273,
                    1.841192104312489,
                    0.6051197997860726,
                    0.18783102434742277,
                    0.6153356128437346,
                    0.5224106902944565,
                    1.841192104312489,
                    1.841192104312489,
                    1.346932690395528,
                    1.348337935154747,
                    0.41597025523028114,
                    0.44760124123841427,
                    0.27719619519863486,
                    1.4353598902970321,
                    1.6885955508864685,
                    0.27719619519863486,
                    1.841192104312489,
                    1.4353598902970321,
                    0.18783102434742277,
                    0.4819857141383627,
                    1.841192104312489,
                    0.4615759942140828,
                    0.8731309565821521,
                    0.41468373437106,
                    0.2510429701006718,
                    0.2510429701006718,
                    0.8956317407170883,
                    1.841192104312489,
                    0.8229441526921172,
                    2.43454641323273,
                    1.841192104312489,
                    1.841192104312489,
                    0.25730207222345436,
                    1.1765948904140289,
                    1.841192104312489,
                    1.841192104312489,
                    1.841192104312489,
                    1.841192104312489,
                    1.7116393761869433
                  ]
                },
                {
                  "marker": {
                    "color": "#F4B436"
                  },
                  "name": "Open",
                  "opacity": 0.7,
                  "type": "histogram",
                  "x": [
                    1.841192104312489,
                    1.3762114532742242,
                    1.841192104312489,
                    1.2993884688097233,
                    1.275126147688533,
                    0.18783102434742277,
                    2.6735256338981,
                    1.20156486231015,
                    1.2976795907576422,
                    1.841192104312489,
                    2.6735256338981,
                    1.0018535614146067,
                    0.22200885716195948,
                    0.18783102434742277,
                    1.453812906413159,
                    1.1934400582370766,
                    0.46741792891601536,
                    2.820016363065587,
                    1.841192104312489,
                    1.3979867931474719,
                    0.18783102434742277,
                    0.3721762534627268,
                    0.3597809981778221,
                    0.18783102434742277,
                    1.4334659028700132,
                    1.2758519859647837,
                    1.567436812961219,
                    0.18783102434742277,
                    2.6197615309836504,
                    0.27292855356976803,
                    3.5612350113124394,
                    0.3299314329932676,
                    1.2521445389556505,
                    3.004325038215504,
                    0.35981343733971366,
                    1.841192104312489,
                    0.27719619519863486,
                    1.5785493553831806,
                    1.5507629482994723,
                    0.25730207222345436,
                    1.841192104312489,
                    0.18783102434742277,
                    0.46741792891601536,
                    0.3597809981778221,
                    2.43454641323273,
                    1.841192104312489,
                    1.841192104312489,
                    0.8319901786297944,
                    2.820016363065587,
                    3.004325038215504,
                    1.0410948268469398,
                    0.27719619519863486,
                    1.2951186353485227,
                    2.6735256338981,
                    0.3597809981778221,
                    1.4264161801982433,
                    0.27719619519863486,
                    1.7116393761869433,
                    0.3597809981778221,
                    1.841192104312489,
                    1.841192104312489,
                    0.22200885716195948,
                    0.27719619519863486,
                    2.43454641323273,
                    3.004325038215504,
                    1.1264141099161673,
                    2.6735256338981,
                    1.841192104312489,
                    1.841192104312489,
                    1.4353598902970321,
                    0.18783102434742277,
                    1.2287084973662186,
                    0.5821165912260184,
                    0.18783102434742277,
                    3.421597088133197,
                    0.18783102434742277,
                    0.27719619519863486,
                    1.8480179310042057,
                    1.1067901199557975,
                    1.841192104312489,
                    0.44558148954772697,
                    0.18783102434742277,
                    1.841192104312489,
                    1.841192104312489,
                    0.25730207222345436,
                    0.25730207222345436,
                    1.3591530974712767,
                    0.49446823678196744,
                    1.7116393761869433,
                    0.27719619519863486,
                    0.8229441526921172,
                    0.802738965208306,
                    0.22200885716195948,
                    2.4201429489297848,
                    0.9962154310020682,
                    0.49446823678196744,
                    1.9285918436063227,
                    1.841192104312489,
                    0.18783102434742277,
                    1.841192104312489,
                    1.1539301188178788,
                    0.27719619519863486,
                    1.453812906413159,
                    0.25730207222345436,
                    1.841192104312489,
                    0.18783102434742277,
                    2.970438618216186,
                    0.6286802745805384,
                    0.22200885716195948,
                    1.198186474892138,
                    0.22200885716195948,
                    0.9057747025590392,
                    0.7834823098707796,
                    0.18783102434742277,
                    2.43454641323273,
                    1.841192104312489,
                    2.43454641323273,
                    1.841192104312489,
                    1.2357936791459967,
                    0.7340410572962621,
                    3.162573425576015,
                    1.453812906413159,
                    0.49446823678196744,
                    0.8229441526921172,
                    0.18783102434742277,
                    1.841192104312489,
                    1.841192104312489,
                    1.841192104312489,
                    1.841192104312489,
                    1.841192104312489,
                    0.3393116839199994,
                    1.3182461325241424,
                    0.18783102434742277,
                    1.841192104312489,
                    0.49446823678196744,
                    0.18783102434742277,
                    1.4410996486611594,
                    1.841192104312489,
                    0.25730207222345436,
                    0.18783102434742277,
                    0.8508511637037378,
                    0.44558148954772697,
                    1.841192104312489,
                    0.18783102434742277,
                    1.841192104312489,
                    3.421597088133197,
                    1.1468907314552361,
                    1.2761962936149516,
                    1.841192104312489,
                    0.27719619519863486,
                    1.841192104312489,
                    0.4819857141383627,
                    1.841192104312489,
                    0.3597809981778221,
                    0.9744683167261319,
                    0.4603847868684553,
                    1.841192104312489,
                    1.540718799461614,
                    1.4737356146555762,
                    0.27719619519863486,
                    0.49446823678196744,
                    2.743106388068094,
                    2.6735256338981,
                    0.8108862045727105,
                    1.4052978413390302,
                    1.841192104312489,
                    0.18783102434742277,
                    1.841192104312489,
                    0.946564869355757,
                    1.1960611395349112,
                    1.0912877142235546,
                    1.7116393761869433,
                    1.4353598902970321,
                    1.841192104312489,
                    0.9064508595252572,
                    0.17523997347439396,
                    0.18783102434742277,
                    0.5058675530619462,
                    0.18783102434742277,
                    1.33887543193964,
                    1.1754916230180164,
                    1.841192104312489,
                    0.2546519177949524,
                    2.6735256338981,
                    1.3107117475721677,
                    1.3021479809049648,
                    0.18783102434742277,
                    0.4819857141383627,
                    0.18783102434742277,
                    1.444887545483724,
                    2.43454641323273,
                    1.841192104312489,
                    0.25730207222345436,
                    0.18783102434742277,
                    0.27358450430091796,
                    0.25730207222345436,
                    1.1533788958461262,
                    0.8361181413333041,
                    1.2133172174610118,
                    0.7481199079611949,
                    1.841192104312489,
                    1.841192104312489,
                    1.841192104312489,
                    1.841192104312489,
                    1.2357936791459967,
                    1.841192104312489,
                    1.7116393761869433,
                    0.7688812315675992,
                    1.841192104312489,
                    1.3173631551378284,
                    0.6744516478198075,
                    1.008056789918845,
                    1.9802573569827586,
                    1.3949486285072379,
                    0.44558148954772697,
                    0.8697977296529875,
                    0.18783102434742277,
                    0.7834823098707796,
                    0.22200885716195948,
                    1.841192104312489,
                    1.0913455628686637,
                    1.841192104312489,
                    0.18783102434742277,
                    2.43454641323273,
                    2.43454641323273,
                    0.4844585013501623,
                    1.841192104312489,
                    1.841192104312489,
                    0.27719619519863486,
                    1.841192104312489,
                    1.407727980121656,
                    3.0637063406077427,
                    2.43454641323273,
                    0.18783102434742277,
                    2.43454641323273,
                    1.841192104312489,
                    2.4817308864617407,
                    0.3597809981778221,
                    0.3597809981778221,
                    0.18783102434742277,
                    0.18783102434742277,
                    1.841192104312489,
                    1.841192104312489,
                    0.2969101194346472,
                    1.841192104312489,
                    0.18783102434742277,
                    0.18783102434742277,
                    2.132268555326877,
                    1.4334659028700132,
                    1.337077720667297,
                    2.43454641323273,
                    0.18783102434742277,
                    1.841192104312489,
                    0.981305491363168,
                    1.841192104312489,
                    0.9737724271772747,
                    0.4008949975538279,
                    1.841192104312489,
                    1.841192104312489,
                    1.0239009568004809,
                    1.4353598902970321,
                    2.43454641323273,
                    0.27719619519863486,
                    0.18783102434742277,
                    1.841192104312489,
                    1.4353598902970321,
                    2.5125662851023547,
                    0.22200885716195948,
                    1.841192104312489,
                    0.9955138458582315,
                    2.9064470643490243,
                    1.841192104312489,
                    0.18783102434742277,
                    1.841192104312489,
                    2.820016363065587,
                    1.590032178407205,
                    1.841192104312489,
                    1.2357936791459967,
                    1.841192104312489,
                    1.841192104312489,
                    1.841192104312489,
                    0.18783102434742277,
                    0.33992524818044273,
                    0.9404312888717276,
                    0.18783102434742277,
                    0.802738965208306,
                    1.2357936791459967,
                    1.986130619713966,
                    2.43454641323273,
                    1.3148944077064693,
                    2.6559097007280523,
                    0.3766036929825534,
                    0.18783102434742277,
                    1.841192104312489,
                    3.421597088133197,
                    1.4353598902970321,
                    1.841192104312489,
                    1.841192104312489,
                    1.298067723890906,
                    1.453812906413159,
                    1.841192104312489,
                    1.841192104312489,
                    0.3852543064366997,
                    1.841192104312489,
                    2.43454641323273,
                    1.4353598902970321,
                    2.6735256338981,
                    1.841192104312489,
                    1.841192104312489,
                    0.21304665704823753,
                    1.841192104312489,
                    1.841192104312489,
                    0.3597809981778221,
                    1.841192104312489,
                    0.6458333295048494,
                    0.27719619519863486,
                    1.4353598902970321,
                    1.841192104312489,
                    0.25730207222345436,
                    1.841192104312489,
                    0.19773300669905178,
                    1.6138978851988213,
                    1.841192104312489,
                    1.3726198670299736,
                    0.4819857141383627,
                    2.6735256338981,
                    0.27719619519863486,
                    1.5247854210900273,
                    0.25730207222345436,
                    1.841192104312489,
                    1.0367804699157517,
                    1.841192104312489,
                    2.43454641323273,
                    1.841192104312489,
                    1.841192104312489,
                    1.841192104312489,
                    2.6735256338981,
                    0.6242293308928198,
                    1.841192104312489,
                    1.453812906413159,
                    0.18783102434742277,
                    3.307481765856235,
                    0.946564869355757,
                    0.19773300669905178,
                    2.43454641323273,
                    0.18783102434742277,
                    0.18783102434742277,
                    1.4300504001553325,
                    0.18783102434742277,
                    0.18783102434742277,
                    1.1754916230180164,
                    1.841192104312489,
                    0.6415238920470366,
                    1.841192104312489,
                    1.453812906413159,
                    0.27292855356976803,
                    1.841192104312489,
                    1.4518560222216839,
                    1.841192104312489,
                    1.841192104312489,
                    1.841192104312489,
                    2.6735256338981,
                    1.841192104312489,
                    1.1538908713297678,
                    1.841192104312489,
                    1.841192104312489,
                    1.157465747789209,
                    1.7116393761869433,
                    2.1819067661760743,
                    1.841192104312489,
                    1.0888880988028518,
                    1.841192104312489,
                    1.4353598902970321,
                    1.841192104312489,
                    0.44558148954772697,
                    0.4738370115056333,
                    1.7116393761869433,
                    4.728114163183696,
                    0.802738965208306,
                    0.8731309565821521,
                    1.1934400582370766,
                    1.841192104312489,
                    0.25730207222345436,
                    1.841192104312489,
                    0.2546519177949524,
                    2.6735256338981,
                    2.6735256338981,
                    0.22200885716195948,
                    2.6735256338981,
                    1.841192104312489,
                    2.6735256338981,
                    0.27719619519863486,
                    0.27719619519863486,
                    0.18783102434742277,
                    0.18783102434742277,
                    1.423286308255452,
                    1.841192104312489,
                    0.18783102434742277,
                    1.453812906413159,
                    1.153783963609125,
                    1.2357936791459967,
                    1.2895986806320885,
                    0.802738965208306,
                    0.7202130256182161,
                    3.0637063406077427,
                    0.2510429701006718,
                    3.982004819347771,
                    1.4289582475787541,
                    0.44760124123841427,
                    0.18783102434742277,
                    1.2357936791459967,
                    0.18783102434742277,
                    0.22200885716195948,
                    1.841192104312489,
                    1.434380816814637,
                    1.841192104312489,
                    2.5518662705210478,
                    0.9492329654238975,
                    1.841192104312489,
                    0.5537727158858756,
                    2.43454641323273,
                    0.27719619519863486,
                    1.2557214368536902,
                    0.8229441526921172,
                    1.841192104312489,
                    2.43454641323273,
                    0.8061693892537231,
                    1.841192104312489,
                    0.18783102434742277,
                    0.8638794731050766,
                    1.841192104312489,
                    1.2853709982457737,
                    1.841192104312489,
                    2.371470319916973,
                    1.429826629283176,
                    0.8586412143427516,
                    0.22200885716195948,
                    1.841192104312489,
                    1.308745635067862,
                    0.8892196531979122,
                    1.8333229962758237,
                    0.18783102434742277,
                    1.841192104312489,
                    0.2546519177949524,
                    0.25730207222345436,
                    0.4844585013501623,
                    0.2510429701006718,
                    2.6843284731896375,
                    4.256239251884116,
                    1.841192104312489,
                    0.8229441526921172,
                    1.841192104312489,
                    2.43454641323273,
                    1.841192104312489,
                    1.841192104312489,
                    0.18783102434742277,
                    0.657913499585475,
                    0.25730207222345436,
                    1.6885955508864685,
                    0.7982664349612587,
                    1.4353598902970321,
                    1.0018535614146067,
                    0.2510429701006718,
                    1.841192104312489,
                    0.22200885716195948,
                    1.841192104312489,
                    0.18783102434742277,
                    1.841192104312489,
                    0.5689647078034953,
                    1.841192104312489,
                    1.4353598902970321,
                    1.5393313515634388,
                    1.841192104312489,
                    1.841192104312489,
                    0.7772053707603301,
                    1.402825628046954,
                    1.841192104312489,
                    0.3597809981778221,
                    0.27719619519863486,
                    1.841192104312489,
                    0.7481199079611949,
                    0.3299314329932676,
                    1.841192104312489,
                    2.9064470643490243,
                    0.4819857141383627,
                    1.841192104312489,
                    2.6735256338981,
                    1.841192104312489,
                    0.505193301718666,
                    1.841192104312489,
                    0.3460099534385587,
                    0.2546519177949524,
                    1.3717802821695382,
                    1.2678709102913472,
                    3.421597088133197,
                    0.18783102434742277,
                    1.841192104312489,
                    1.6782988067089923,
                    1.064814286690271,
                    1.841192104312489,
                    0.18783102434742277,
                    0.747986200625379,
                    0.18783102434742277,
                    4.639783353087604,
                    0.193089026750166,
                    0.928870306214241,
                    1.3078071257195305,
                    1.841192104312489,
                    1.495595704344205,
                    1.5785493553831806,
                    1.841192104312489,
                    1.9802573569827586,
                    0.4844585013501623,
                    2.274845817750432,
                    1.0175870628095018,
                    0.4844585013501623,
                    2.820016363065587,
                    0.9346014845383844,
                    1.1070471250537246,
                    0.22200885716195948,
                    1.30524662553455,
                    0.18783102434742277,
                    0.3656664665812606,
                    1.3717802821695382,
                    0.4844585013501623,
                    1.453812906413159,
                    0.9649426979817985,
                    0.913938900085119,
                    1.841192104312489,
                    1.841192104312489,
                    0.18783102434742277,
                    1.841192104312489,
                    0.5573107781444151,
                    0.49446823678196744,
                    1.340831519285845,
                    1.841192104312489,
                    0.9053811753374478,
                    2.4817308864617407,
                    1.841192104312489,
                    2.7041732369897207,
                    0.18783102434742277,
                    1.0191868979814547,
                    1.841192104312489,
                    0.2510429701006718,
                    2.2696059906286474,
                    0.3656664665812606,
                    1.841192104312489,
                    2.6735256338981,
                    3.0056727012899236,
                    0.19773300669905178,
                    1.841192104312489,
                    0.7885506208767742,
                    2.078735269937071,
                    0.18783102434742277,
                    0.18783102434742277,
                    0.27719619519863486,
                    2.4817308864617407,
                    0.18783102434742277,
                    1.841192104312489,
                    2.43454641323273,
                    0.49446823678196744,
                    1.4353598902970321,
                    1.841192104312489,
                    0.19773300669905178,
                    0.3460099534385587,
                    0.2560374543607875,
                    0.693084429229919,
                    0.27438534943506243,
                    1.453812906413159,
                    1.0367804699157517,
                    2.6735256338981,
                    1.0384911605565132,
                    0.3852543064366997,
                    2.820016363065587,
                    0.6286802745805384,
                    0.18783102434742277,
                    1.841192104312489,
                    1.346932690395528,
                    1.841192104312489,
                    1.2843019835780556,
                    3.982004819347771,
                    1.2357936791459967,
                    1.453812906413159,
                    1.2905465752917393,
                    2.9064470643490243,
                    1.841192104312489,
                    1.2357936791459967,
                    1.841192104312489,
                    0.913938900085119,
                    1.7116393761869433,
                    1.841192104312489,
                    1.4250290354091828,
                    1.3648284841473997,
                    1.841192104312489,
                    0.8956317407170883,
                    0.18783102434742277,
                    0.6733378123636032,
                    0.18783102434742277,
                    1.1264141099161673,
                    0.8229441526921172,
                    0.2106168792069993,
                    0.42310802595262403,
                    2.7277900678040368,
                    0.2510429701006718,
                    1.841192104312489,
                    1.6885955508864685,
                    0.2682152418160942,
                    0.18783102434742277,
                    2.820016363065587,
                    1.8178460260184428,
                    0.22200885716195948,
                    0.9039637923482006,
                    0.22200885716195948,
                    1.1543332623360145,
                    1.841192104312489,
                    1.841192104312489,
                    0.18783102434742277,
                    1.7120701153347277,
                    1.064814286690271,
                    2.820016363065587,
                    0.18783102434742277,
                    1.841192104312489,
                    1.841192104312489,
                    0.18783102434742277,
                    0.18783102434742277,
                    1.4740153044391655,
                    0.18783102434742277,
                    1.841192104312489,
                    2.6954273402822815,
                    0.18783102434742277,
                    0.2510429701006718,
                    1.6885955508864685,
                    1.453812906413159,
                    0.3597809981778221,
                    0.35704530142955976,
                    0.9601401520288959,
                    1.841192104312489,
                    0.9887818484099843,
                    1.841192104312489,
                    0.25730207222345436,
                    0.18783102434742277,
                    1.6885955508864685,
                    0.32160362918364743,
                    1.453812906413159,
                    1.841192104312489,
                    0.18783102434742277,
                    0.34079096950273596,
                    0.18783102434742277,
                    0.23687935170318103,
                    1.2357936791459967,
                    2.43454641323273,
                    0.18783102434742277,
                    0.8229441526921172,
                    1.4825694572082855,
                    0.49446823678196744,
                    1.841192104312489,
                    1.841192104312489,
                    0.18783102434742277,
                    1.841192104312489,
                    1.841192104312489,
                    1.841192104312489,
                    1.841192104312489,
                    0.18783102434742277,
                    0.8467764140959518,
                    0.27719619519863486,
                    0.44558148954772697,
                    0.9247555363364209,
                    2.43454641323273,
                    1.0427547518738092,
                    1.841192104312489,
                    2.5460014111794624,
                    0.2546519177949524,
                    1.841192104312489,
                    1.9487251161687047,
                    1.3632413333771614,
                    1.841192104312489,
                    0.18783102434742277,
                    1.9238732024136316,
                    1.1264141099161673,
                    0.27719619519863486,
                    0.2510429701006718,
                    0.22200885716195948,
                    1.841192104312489,
                    3.421597088133197,
                    0.18783102434742277,
                    1.841192104312489,
                    0.4844585013501623,
                    1.453812906413159,
                    1.6782988067089923,
                    1.841192104312489,
                    0.18783102434742277,
                    0.3852543064366997,
                    1.841192104312489,
                    0.49446823678196744
                  ]
                }
              ],
              "layout": {
                "barmode": "overlay",
                "template": {
                  "data": {
                    "bar": [
                      {
                        "error_x": {
                          "color": "#2a3f5f"
                        },
                        "error_y": {
                          "color": "#2a3f5f"
                        },
                        "marker": {
                          "line": {
                            "color": "#E5ECF6",
                            "width": 0.5
                          }
                        },
                        "type": "bar"
                      }
                    ],
                    "barpolar": [
                      {
                        "marker": {
                          "line": {
                            "color": "#E5ECF6",
                            "width": 0.5
                          }
                        },
                        "type": "barpolar"
                      }
                    ],
                    "carpet": [
                      {
                        "aaxis": {
                          "endlinecolor": "#2a3f5f",
                          "gridcolor": "white",
                          "linecolor": "white",
                          "minorgridcolor": "white",
                          "startlinecolor": "#2a3f5f"
                        },
                        "baxis": {
                          "endlinecolor": "#2a3f5f",
                          "gridcolor": "white",
                          "linecolor": "white",
                          "minorgridcolor": "white",
                          "startlinecolor": "#2a3f5f"
                        },
                        "type": "carpet"
                      }
                    ],
                    "choropleth": [
                      {
                        "colorbar": {
                          "outlinewidth": 0,
                          "ticks": ""
                        },
                        "type": "choropleth"
                      }
                    ],
                    "contour": [
                      {
                        "colorbar": {
                          "outlinewidth": 0,
                          "ticks": ""
                        },
                        "colorscale": [
                          [
                            0,
                            "#0d0887"
                          ],
                          [
                            0.1111111111111111,
                            "#46039f"
                          ],
                          [
                            0.2222222222222222,
                            "#7201a8"
                          ],
                          [
                            0.3333333333333333,
                            "#9c179e"
                          ],
                          [
                            0.4444444444444444,
                            "#bd3786"
                          ],
                          [
                            0.5555555555555556,
                            "#d8576b"
                          ],
                          [
                            0.6666666666666666,
                            "#ed7953"
                          ],
                          [
                            0.7777777777777778,
                            "#fb9f3a"
                          ],
                          [
                            0.8888888888888888,
                            "#fdca26"
                          ],
                          [
                            1,
                            "#f0f921"
                          ]
                        ],
                        "type": "contour"
                      }
                    ],
                    "contourcarpet": [
                      {
                        "colorbar": {
                          "outlinewidth": 0,
                          "ticks": ""
                        },
                        "type": "contourcarpet"
                      }
                    ],
                    "heatmap": [
                      {
                        "colorbar": {
                          "outlinewidth": 0,
                          "ticks": ""
                        },
                        "colorscale": [
                          [
                            0,
                            "#0d0887"
                          ],
                          [
                            0.1111111111111111,
                            "#46039f"
                          ],
                          [
                            0.2222222222222222,
                            "#7201a8"
                          ],
                          [
                            0.3333333333333333,
                            "#9c179e"
                          ],
                          [
                            0.4444444444444444,
                            "#bd3786"
                          ],
                          [
                            0.5555555555555556,
                            "#d8576b"
                          ],
                          [
                            0.6666666666666666,
                            "#ed7953"
                          ],
                          [
                            0.7777777777777778,
                            "#fb9f3a"
                          ],
                          [
                            0.8888888888888888,
                            "#fdca26"
                          ],
                          [
                            1,
                            "#f0f921"
                          ]
                        ],
                        "type": "heatmap"
                      }
                    ],
                    "heatmapgl": [
                      {
                        "colorbar": {
                          "outlinewidth": 0,
                          "ticks": ""
                        },
                        "colorscale": [
                          [
                            0,
                            "#0d0887"
                          ],
                          [
                            0.1111111111111111,
                            "#46039f"
                          ],
                          [
                            0.2222222222222222,
                            "#7201a8"
                          ],
                          [
                            0.3333333333333333,
                            "#9c179e"
                          ],
                          [
                            0.4444444444444444,
                            "#bd3786"
                          ],
                          [
                            0.5555555555555556,
                            "#d8576b"
                          ],
                          [
                            0.6666666666666666,
                            "#ed7953"
                          ],
                          [
                            0.7777777777777778,
                            "#fb9f3a"
                          ],
                          [
                            0.8888888888888888,
                            "#fdca26"
                          ],
                          [
                            1,
                            "#f0f921"
                          ]
                        ],
                        "type": "heatmapgl"
                      }
                    ],
                    "histogram": [
                      {
                        "marker": {
                          "colorbar": {
                            "outlinewidth": 0,
                            "ticks": ""
                          }
                        },
                        "type": "histogram"
                      }
                    ],
                    "histogram2d": [
                      {
                        "colorbar": {
                          "outlinewidth": 0,
                          "ticks": ""
                        },
                        "colorscale": [
                          [
                            0,
                            "#0d0887"
                          ],
                          [
                            0.1111111111111111,
                            "#46039f"
                          ],
                          [
                            0.2222222222222222,
                            "#7201a8"
                          ],
                          [
                            0.3333333333333333,
                            "#9c179e"
                          ],
                          [
                            0.4444444444444444,
                            "#bd3786"
                          ],
                          [
                            0.5555555555555556,
                            "#d8576b"
                          ],
                          [
                            0.6666666666666666,
                            "#ed7953"
                          ],
                          [
                            0.7777777777777778,
                            "#fb9f3a"
                          ],
                          [
                            0.8888888888888888,
                            "#fdca26"
                          ],
                          [
                            1,
                            "#f0f921"
                          ]
                        ],
                        "type": "histogram2d"
                      }
                    ],
                    "histogram2dcontour": [
                      {
                        "colorbar": {
                          "outlinewidth": 0,
                          "ticks": ""
                        },
                        "colorscale": [
                          [
                            0,
                            "#0d0887"
                          ],
                          [
                            0.1111111111111111,
                            "#46039f"
                          ],
                          [
                            0.2222222222222222,
                            "#7201a8"
                          ],
                          [
                            0.3333333333333333,
                            "#9c179e"
                          ],
                          [
                            0.4444444444444444,
                            "#bd3786"
                          ],
                          [
                            0.5555555555555556,
                            "#d8576b"
                          ],
                          [
                            0.6666666666666666,
                            "#ed7953"
                          ],
                          [
                            0.7777777777777778,
                            "#fb9f3a"
                          ],
                          [
                            0.8888888888888888,
                            "#fdca26"
                          ],
                          [
                            1,
                            "#f0f921"
                          ]
                        ],
                        "type": "histogram2dcontour"
                      }
                    ],
                    "mesh3d": [
                      {
                        "colorbar": {
                          "outlinewidth": 0,
                          "ticks": ""
                        },
                        "type": "mesh3d"
                      }
                    ],
                    "parcoords": [
                      {
                        "line": {
                          "colorbar": {
                            "outlinewidth": 0,
                            "ticks": ""
                          }
                        },
                        "type": "parcoords"
                      }
                    ],
                    "pie": [
                      {
                        "automargin": true,
                        "type": "pie"
                      }
                    ],
                    "scatter": [
                      {
                        "marker": {
                          "colorbar": {
                            "outlinewidth": 0,
                            "ticks": ""
                          }
                        },
                        "type": "scatter"
                      }
                    ],
                    "scatter3d": [
                      {
                        "line": {
                          "colorbar": {
                            "outlinewidth": 0,
                            "ticks": ""
                          }
                        },
                        "marker": {
                          "colorbar": {
                            "outlinewidth": 0,
                            "ticks": ""
                          }
                        },
                        "type": "scatter3d"
                      }
                    ],
                    "scattercarpet": [
                      {
                        "marker": {
                          "colorbar": {
                            "outlinewidth": 0,
                            "ticks": ""
                          }
                        },
                        "type": "scattercarpet"
                      }
                    ],
                    "scattergeo": [
                      {
                        "marker": {
                          "colorbar": {
                            "outlinewidth": 0,
                            "ticks": ""
                          }
                        },
                        "type": "scattergeo"
                      }
                    ],
                    "scattergl": [
                      {
                        "marker": {
                          "colorbar": {
                            "outlinewidth": 0,
                            "ticks": ""
                          }
                        },
                        "type": "scattergl"
                      }
                    ],
                    "scattermapbox": [
                      {
                        "marker": {
                          "colorbar": {
                            "outlinewidth": 0,
                            "ticks": ""
                          }
                        },
                        "type": "scattermapbox"
                      }
                    ],
                    "scatterpolar": [
                      {
                        "marker": {
                          "colorbar": {
                            "outlinewidth": 0,
                            "ticks": ""
                          }
                        },
                        "type": "scatterpolar"
                      }
                    ],
                    "scatterpolargl": [
                      {
                        "marker": {
                          "colorbar": {
                            "outlinewidth": 0,
                            "ticks": ""
                          }
                        },
                        "type": "scatterpolargl"
                      }
                    ],
                    "scatterternary": [
                      {
                        "marker": {
                          "colorbar": {
                            "outlinewidth": 0,
                            "ticks": ""
                          }
                        },
                        "type": "scatterternary"
                      }
                    ],
                    "surface": [
                      {
                        "colorbar": {
                          "outlinewidth": 0,
                          "ticks": ""
                        },
                        "colorscale": [
                          [
                            0,
                            "#0d0887"
                          ],
                          [
                            0.1111111111111111,
                            "#46039f"
                          ],
                          [
                            0.2222222222222222,
                            "#7201a8"
                          ],
                          [
                            0.3333333333333333,
                            "#9c179e"
                          ],
                          [
                            0.4444444444444444,
                            "#bd3786"
                          ],
                          [
                            0.5555555555555556,
                            "#d8576b"
                          ],
                          [
                            0.6666666666666666,
                            "#ed7953"
                          ],
                          [
                            0.7777777777777778,
                            "#fb9f3a"
                          ],
                          [
                            0.8888888888888888,
                            "#fdca26"
                          ],
                          [
                            1,
                            "#f0f921"
                          ]
                        ],
                        "type": "surface"
                      }
                    ],
                    "table": [
                      {
                        "cells": {
                          "fill": {
                            "color": "#EBF0F8"
                          },
                          "line": {
                            "color": "white"
                          }
                        },
                        "header": {
                          "fill": {
                            "color": "#C8D4E3"
                          },
                          "line": {
                            "color": "white"
                          }
                        },
                        "type": "table"
                      }
                    ]
                  },
                  "layout": {
                    "annotationdefaults": {
                      "arrowcolor": "#2a3f5f",
                      "arrowhead": 0,
                      "arrowwidth": 1
                    },
                    "autotypenumbers": "strict",
                    "coloraxis": {
                      "colorbar": {
                        "outlinewidth": 0,
                        "ticks": ""
                      }
                    },
                    "colorscale": {
                      "diverging": [
                        [
                          0,
                          "#8e0152"
                        ],
                        [
                          0.1,
                          "#c51b7d"
                        ],
                        [
                          0.2,
                          "#de77ae"
                        ],
                        [
                          0.3,
                          "#f1b6da"
                        ],
                        [
                          0.4,
                          "#fde0ef"
                        ],
                        [
                          0.5,
                          "#f7f7f7"
                        ],
                        [
                          0.6,
                          "#e6f5d0"
                        ],
                        [
                          0.7,
                          "#b8e186"
                        ],
                        [
                          0.8,
                          "#7fbc41"
                        ],
                        [
                          0.9,
                          "#4d9221"
                        ],
                        [
                          1,
                          "#276419"
                        ]
                      ],
                      "sequential": [
                        [
                          0,
                          "#0d0887"
                        ],
                        [
                          0.1111111111111111,
                          "#46039f"
                        ],
                        [
                          0.2222222222222222,
                          "#7201a8"
                        ],
                        [
                          0.3333333333333333,
                          "#9c179e"
                        ],
                        [
                          0.4444444444444444,
                          "#bd3786"
                        ],
                        [
                          0.5555555555555556,
                          "#d8576b"
                        ],
                        [
                          0.6666666666666666,
                          "#ed7953"
                        ],
                        [
                          0.7777777777777778,
                          "#fb9f3a"
                        ],
                        [
                          0.8888888888888888,
                          "#fdca26"
                        ],
                        [
                          1,
                          "#f0f921"
                        ]
                      ],
                      "sequentialminus": [
                        [
                          0,
                          "#0d0887"
                        ],
                        [
                          0.1111111111111111,
                          "#46039f"
                        ],
                        [
                          0.2222222222222222,
                          "#7201a8"
                        ],
                        [
                          0.3333333333333333,
                          "#9c179e"
                        ],
                        [
                          0.4444444444444444,
                          "#bd3786"
                        ],
                        [
                          0.5555555555555556,
                          "#d8576b"
                        ],
                        [
                          0.6666666666666666,
                          "#ed7953"
                        ],
                        [
                          0.7777777777777778,
                          "#fb9f3a"
                        ],
                        [
                          0.8888888888888888,
                          "#fdca26"
                        ],
                        [
                          1,
                          "#f0f921"
                        ]
                      ]
                    },
                    "colorway": [
                      "#636efa",
                      "#EF553B",
                      "#00cc96",
                      "#ab63fa",
                      "#FFA15A",
                      "#19d3f3",
                      "#FF6692",
                      "#B6E880",
                      "#FF97FF",
                      "#FECB52"
                    ],
                    "font": {
                      "color": "#2a3f5f"
                    },
                    "geo": {
                      "bgcolor": "white",
                      "lakecolor": "white",
                      "landcolor": "#E5ECF6",
                      "showlakes": true,
                      "showland": true,
                      "subunitcolor": "white"
                    },
                    "hoverlabel": {
                      "align": "left"
                    },
                    "hovermode": "closest",
                    "mapbox": {
                      "style": "light"
                    },
                    "paper_bgcolor": "white",
                    "plot_bgcolor": "#E5ECF6",
                    "polar": {
                      "angularaxis": {
                        "gridcolor": "white",
                        "linecolor": "white",
                        "ticks": ""
                      },
                      "bgcolor": "#E5ECF6",
                      "radialaxis": {
                        "gridcolor": "white",
                        "linecolor": "white",
                        "ticks": ""
                      }
                    },
                    "scene": {
                      "xaxis": {
                        "backgroundcolor": "#E5ECF6",
                        "gridcolor": "white",
                        "gridwidth": 2,
                        "linecolor": "white",
                        "showbackground": true,
                        "ticks": "",
                        "zerolinecolor": "white"
                      },
                      "yaxis": {
                        "backgroundcolor": "#E5ECF6",
                        "gridcolor": "white",
                        "gridwidth": 2,
                        "linecolor": "white",
                        "showbackground": true,
                        "ticks": "",
                        "zerolinecolor": "white"
                      },
                      "zaxis": {
                        "backgroundcolor": "#E5ECF6",
                        "gridcolor": "white",
                        "gridwidth": 2,
                        "linecolor": "white",
                        "showbackground": true,
                        "ticks": "",
                        "zerolinecolor": "white"
                      }
                    },
                    "shapedefaults": {
                      "line": {
                        "color": "#2a3f5f"
                      }
                    },
                    "ternary": {
                      "aaxis": {
                        "gridcolor": "white",
                        "linecolor": "white",
                        "ticks": ""
                      },
                      "baxis": {
                        "gridcolor": "white",
                        "linecolor": "white",
                        "ticks": ""
                      },
                      "bgcolor": "#E5ECF6",
                      "caxis": {
                        "gridcolor": "white",
                        "linecolor": "white",
                        "ticks": ""
                      }
                    },
                    "title": {
                      "x": 0.05
                    },
                    "xaxis": {
                      "automargin": true,
                      "gridcolor": "white",
                      "linecolor": "white",
                      "ticks": "",
                      "title": {
                        "standoff": 15
                      },
                      "zerolinecolor": "white",
                      "zerolinewidth": 2
                    },
                    "yaxis": {
                      "automargin": true,
                      "gridcolor": "white",
                      "linecolor": "white",
                      "ticks": "",
                      "title": {
                        "standoff": 15
                      },
                      "zerolinecolor": "white",
                      "zerolinewidth": 2
                    }
                  }
                },
                "title": {
                  "text": "Comparison of Open and Closed by Minimum Distance to School"
                }
              }
            }
          },
          "metadata": {},
          "output_type": "display_data"
        }
      ],
      "source": [
        "fig = go.Figure()\n",
        "fig.add_trace(go.Histogram(x=closedminfinal, marker_color=primary_colors[0], name='Closed'))\n",
        "fig.add_trace(go.Histogram(x=openminfinal, marker_color=primary_colors[1], name='Open'))\n",
        "\n",
        "#Overlaid Histogram\n",
        "fig.update_layout(title = \"Comparison of Open and Closed by Minimum Distance to School\", barmode='overlay')\n",
        "fig.update_traces(opacity=0.7) # Reduce opacity to see both histograms\n",
        "fig.show()"
      ]
    },
    {
      "cell_type": "code",
      "execution_count": 41,
      "metadata": {},
      "outputs": [
        {
          "data": {
            "application/vnd.plotly.v1+json": {
              "config": {
                "plotlyServerURL": "https://plot.ly"
              },
              "data": [
                {
                  "customdata": [
                    [
                      "Open"
                    ],
                    [
                      "Open"
                    ],
                    [
                      "Open"
                    ],
                    [
                      "Open"
                    ],
                    [
                      "Open"
                    ],
                    [
                      "Open"
                    ],
                    [
                      "Open"
                    ],
                    [
                      "Open"
                    ],
                    [
                      "Open"
                    ],
                    [
                      "Open"
                    ],
                    [
                      "Open"
                    ],
                    [
                      "Open"
                    ],
                    [
                      "Open"
                    ],
                    [
                      "Open"
                    ],
                    [
                      "Open"
                    ],
                    [
                      "Open"
                    ],
                    [
                      "Open"
                    ],
                    [
                      "Open"
                    ],
                    [
                      "Open"
                    ],
                    [
                      "Open"
                    ],
                    [
                      "Open"
                    ],
                    [
                      "Open"
                    ],
                    [
                      "Open"
                    ],
                    [
                      "Open"
                    ],
                    [
                      "Open"
                    ],
                    [
                      "Open"
                    ],
                    [
                      "Open"
                    ],
                    [
                      "Open"
                    ],
                    [
                      "Open"
                    ],
                    [
                      "Open"
                    ],
                    [
                      "Open"
                    ],
                    [
                      "Open"
                    ],
                    [
                      "Open"
                    ],
                    [
                      "Open"
                    ],
                    [
                      "Open"
                    ],
                    [
                      "Open"
                    ],
                    [
                      "Open"
                    ],
                    [
                      "Open"
                    ],
                    [
                      "Open"
                    ],
                    [
                      "Open"
                    ],
                    [
                      "Open"
                    ],
                    [
                      "Open"
                    ],
                    [
                      "Open"
                    ],
                    [
                      "Open"
                    ],
                    [
                      "Open"
                    ],
                    [
                      "Open"
                    ],
                    [
                      "Open"
                    ],
                    [
                      "Open"
                    ],
                    [
                      "Open"
                    ],
                    [
                      "Open"
                    ],
                    [
                      "Open"
                    ],
                    [
                      "Open"
                    ],
                    [
                      "Open"
                    ],
                    [
                      "Open"
                    ],
                    [
                      "Open"
                    ],
                    [
                      "Open"
                    ],
                    [
                      "Open"
                    ],
                    [
                      "Open"
                    ],
                    [
                      "Open"
                    ],
                    [
                      "Open"
                    ],
                    [
                      "Open"
                    ],
                    [
                      "Open"
                    ],
                    [
                      "Open"
                    ],
                    [
                      "Open"
                    ],
                    [
                      "Open"
                    ],
                    [
                      "Open"
                    ],
                    [
                      "Open"
                    ],
                    [
                      "Open"
                    ],
                    [
                      "Open"
                    ],
                    [
                      "Open"
                    ],
                    [
                      "Open"
                    ],
                    [
                      "Open"
                    ],
                    [
                      "Open"
                    ],
                    [
                      "Open"
                    ],
                    [
                      "Open"
                    ],
                    [
                      "Open"
                    ],
                    [
                      "Open"
                    ],
                    [
                      "Open"
                    ],
                    [
                      "Open"
                    ],
                    [
                      "Open"
                    ],
                    [
                      "Open"
                    ],
                    [
                      "Open"
                    ],
                    [
                      "Open"
                    ],
                    [
                      "Open"
                    ],
                    [
                      "Open"
                    ],
                    [
                      "Open"
                    ],
                    [
                      "Open"
                    ],
                    [
                      "Open"
                    ],
                    [
                      "Open"
                    ],
                    [
                      "Open"
                    ],
                    [
                      "Open"
                    ],
                    [
                      "Open"
                    ],
                    [
                      "Open"
                    ],
                    [
                      "Open"
                    ],
                    [
                      "Open"
                    ],
                    [
                      "Open"
                    ],
                    [
                      "Open"
                    ],
                    [
                      "Open"
                    ],
                    [
                      "Open"
                    ],
                    [
                      "Open"
                    ],
                    [
                      "Open"
                    ],
                    [
                      "Open"
                    ],
                    [
                      "Open"
                    ],
                    [
                      "Open"
                    ],
                    [
                      "Open"
                    ],
                    [
                      "Open"
                    ],
                    [
                      "Open"
                    ],
                    [
                      "Open"
                    ],
                    [
                      "Open"
                    ],
                    [
                      "Open"
                    ],
                    [
                      "Open"
                    ],
                    [
                      "Open"
                    ],
                    [
                      "Open"
                    ],
                    [
                      "Open"
                    ],
                    [
                      "Open"
                    ],
                    [
                      "Open"
                    ],
                    [
                      "Open"
                    ],
                    [
                      "Open"
                    ],
                    [
                      "Open"
                    ],
                    [
                      "Open"
                    ],
                    [
                      "Open"
                    ],
                    [
                      "Open"
                    ],
                    [
                      "Open"
                    ],
                    [
                      "Open"
                    ],
                    [
                      "Open"
                    ],
                    [
                      "Open"
                    ],
                    [
                      "Open"
                    ],
                    [
                      "Open"
                    ],
                    [
                      "Open"
                    ],
                    [
                      "Open"
                    ],
                    [
                      "Open"
                    ],
                    [
                      "Open"
                    ],
                    [
                      "Open"
                    ],
                    [
                      "Open"
                    ],
                    [
                      "Open"
                    ],
                    [
                      "Open"
                    ],
                    [
                      "Open"
                    ],
                    [
                      "Open"
                    ],
                    [
                      "Open"
                    ],
                    [
                      "Open"
                    ],
                    [
                      "Open"
                    ],
                    [
                      "Open"
                    ],
                    [
                      "Open"
                    ],
                    [
                      "Open"
                    ],
                    [
                      "Open"
                    ],
                    [
                      "Open"
                    ],
                    [
                      "Open"
                    ],
                    [
                      "Open"
                    ],
                    [
                      "Open"
                    ],
                    [
                      "Open"
                    ],
                    [
                      "Open"
                    ],
                    [
                      "Open"
                    ],
                    [
                      "Open"
                    ],
                    [
                      "Open"
                    ],
                    [
                      "Open"
                    ],
                    [
                      "Open"
                    ],
                    [
                      "Open"
                    ],
                    [
                      "Open"
                    ],
                    [
                      "Open"
                    ],
                    [
                      "Open"
                    ],
                    [
                      "Open"
                    ],
                    [
                      "Open"
                    ],
                    [
                      "Open"
                    ],
                    [
                      "Open"
                    ],
                    [
                      "Open"
                    ],
                    [
                      "Open"
                    ],
                    [
                      "Open"
                    ],
                    [
                      "Open"
                    ],
                    [
                      "Open"
                    ],
                    [
                      "Open"
                    ],
                    [
                      "Open"
                    ],
                    [
                      "Open"
                    ],
                    [
                      "Open"
                    ],
                    [
                      "Open"
                    ],
                    [
                      "Open"
                    ],
                    [
                      "Open"
                    ],
                    [
                      "Open"
                    ],
                    [
                      "Open"
                    ],
                    [
                      "Open"
                    ],
                    [
                      "Open"
                    ],
                    [
                      "Open"
                    ],
                    [
                      "Open"
                    ],
                    [
                      "Open"
                    ],
                    [
                      "Open"
                    ],
                    [
                      "Open"
                    ],
                    [
                      "Open"
                    ],
                    [
                      "Open"
                    ],
                    [
                      "Open"
                    ],
                    [
                      "Open"
                    ],
                    [
                      "Open"
                    ],
                    [
                      "Open"
                    ],
                    [
                      "Open"
                    ],
                    [
                      "Open"
                    ],
                    [
                      "Open"
                    ],
                    [
                      "Open"
                    ],
                    [
                      "Open"
                    ],
                    [
                      "Open"
                    ],
                    [
                      "Open"
                    ],
                    [
                      "Open"
                    ],
                    [
                      "Open"
                    ],
                    [
                      "Open"
                    ],
                    [
                      "Open"
                    ],
                    [
                      "Open"
                    ],
                    [
                      "Open"
                    ],
                    [
                      "Open"
                    ],
                    [
                      "Open"
                    ],
                    [
                      "Open"
                    ],
                    [
                      "Open"
                    ],
                    [
                      "Open"
                    ],
                    [
                      "Open"
                    ],
                    [
                      "Open"
                    ],
                    [
                      "Open"
                    ],
                    [
                      "Open"
                    ],
                    [
                      "Open"
                    ],
                    [
                      "Open"
                    ],
                    [
                      "Open"
                    ],
                    [
                      "Open"
                    ],
                    [
                      "Open"
                    ],
                    [
                      "Open"
                    ],
                    [
                      "Open"
                    ],
                    [
                      "Open"
                    ],
                    [
                      "Open"
                    ],
                    [
                      "Open"
                    ],
                    [
                      "Open"
                    ],
                    [
                      "Open"
                    ],
                    [
                      "Open"
                    ],
                    [
                      "Open"
                    ],
                    [
                      "Open"
                    ],
                    [
                      "Open"
                    ],
                    [
                      "Open"
                    ],
                    [
                      "Open"
                    ],
                    [
                      "Open"
                    ],
                    [
                      "Open"
                    ],
                    [
                      "Open"
                    ],
                    [
                      "Open"
                    ],
                    [
                      "Open"
                    ],
                    [
                      "Open"
                    ],
                    [
                      "Open"
                    ],
                    [
                      "Open"
                    ],
                    [
                      "Open"
                    ],
                    [
                      "Open"
                    ],
                    [
                      "Open"
                    ],
                    [
                      "Open"
                    ],
                    [
                      "Open"
                    ],
                    [
                      "Open"
                    ],
                    [
                      "Open"
                    ],
                    [
                      "Open"
                    ],
                    [
                      "Open"
                    ],
                    [
                      "Open"
                    ],
                    [
                      "Open"
                    ],
                    [
                      "Open"
                    ],
                    [
                      "Open"
                    ],
                    [
                      "Open"
                    ],
                    [
                      "Open"
                    ],
                    [
                      "Open"
                    ],
                    [
                      "Open"
                    ],
                    [
                      "Open"
                    ],
                    [
                      "Open"
                    ],
                    [
                      "Open"
                    ],
                    [
                      "Open"
                    ],
                    [
                      "Open"
                    ],
                    [
                      "Open"
                    ],
                    [
                      "Open"
                    ],
                    [
                      "Open"
                    ],
                    [
                      "Open"
                    ],
                    [
                      "Open"
                    ],
                    [
                      "Open"
                    ],
                    [
                      "Open"
                    ],
                    [
                      "Open"
                    ],
                    [
                      "Open"
                    ],
                    [
                      "Open"
                    ],
                    [
                      "Open"
                    ],
                    [
                      "Open"
                    ],
                    [
                      "Open"
                    ],
                    [
                      "Open"
                    ],
                    [
                      "Open"
                    ],
                    [
                      "Open"
                    ],
                    [
                      "Open"
                    ],
                    [
                      "Open"
                    ],
                    [
                      "Open"
                    ],
                    [
                      "Open"
                    ],
                    [
                      "Open"
                    ],
                    [
                      "Open"
                    ],
                    [
                      "Open"
                    ],
                    [
                      "Open"
                    ],
                    [
                      "Open"
                    ],
                    [
                      "Open"
                    ],
                    [
                      "Open"
                    ],
                    [
                      "Open"
                    ],
                    [
                      "Open"
                    ],
                    [
                      "Open"
                    ],
                    [
                      "Open"
                    ],
                    [
                      "Open"
                    ],
                    [
                      "Open"
                    ],
                    [
                      "Open"
                    ],
                    [
                      "Open"
                    ],
                    [
                      "Open"
                    ],
                    [
                      "Open"
                    ],
                    [
                      "Open"
                    ],
                    [
                      "Open"
                    ],
                    [
                      "Open"
                    ],
                    [
                      "Open"
                    ],
                    [
                      "Open"
                    ],
                    [
                      "Open"
                    ],
                    [
                      "Open"
                    ],
                    [
                      "Open"
                    ],
                    [
                      "Open"
                    ],
                    [
                      "Open"
                    ],
                    [
                      "Open"
                    ],
                    [
                      "Open"
                    ],
                    [
                      "Open"
                    ],
                    [
                      "Open"
                    ],
                    [
                      "Open"
                    ],
                    [
                      "Open"
                    ],
                    [
                      "Open"
                    ],
                    [
                      "Open"
                    ],
                    [
                      "Open"
                    ],
                    [
                      "Open"
                    ],
                    [
                      "Open"
                    ],
                    [
                      "Open"
                    ],
                    [
                      "Open"
                    ],
                    [
                      "Open"
                    ],
                    [
                      "Open"
                    ],
                    [
                      "Open"
                    ],
                    [
                      "Open"
                    ],
                    [
                      "Open"
                    ],
                    [
                      "Open"
                    ],
                    [
                      "Open"
                    ],
                    [
                      "Open"
                    ],
                    [
                      "Open"
                    ],
                    [
                      "Open"
                    ],
                    [
                      "Open"
                    ],
                    [
                      "Open"
                    ],
                    [
                      "Open"
                    ],
                    [
                      "Open"
                    ],
                    [
                      "Open"
                    ],
                    [
                      "Open"
                    ],
                    [
                      "Open"
                    ],
                    [
                      "Open"
                    ],
                    [
                      "Open"
                    ],
                    [
                      "Open"
                    ],
                    [
                      "Open"
                    ],
                    [
                      "Open"
                    ],
                    [
                      "Open"
                    ],
                    [
                      "Open"
                    ],
                    [
                      "Open"
                    ],
                    [
                      "Open"
                    ],
                    [
                      "Open"
                    ],
                    [
                      "Open"
                    ],
                    [
                      "Open"
                    ],
                    [
                      "Open"
                    ],
                    [
                      "Open"
                    ],
                    [
                      "Open"
                    ],
                    [
                      "Open"
                    ],
                    [
                      "Open"
                    ],
                    [
                      "Open"
                    ],
                    [
                      "Open"
                    ],
                    [
                      "Open"
                    ],
                    [
                      "Open"
                    ],
                    [
                      "Open"
                    ],
                    [
                      "Open"
                    ],
                    [
                      "Open"
                    ],
                    [
                      "Open"
                    ],
                    [
                      "Open"
                    ],
                    [
                      "Open"
                    ],
                    [
                      "Open"
                    ],
                    [
                      "Open"
                    ],
                    [
                      "Open"
                    ],
                    [
                      "Open"
                    ],
                    [
                      "Open"
                    ],
                    [
                      "Open"
                    ],
                    [
                      "Open"
                    ],
                    [
                      "Open"
                    ],
                    [
                      "Open"
                    ],
                    [
                      "Open"
                    ],
                    [
                      "Open"
                    ],
                    [
                      "Open"
                    ],
                    [
                      "Open"
                    ],
                    [
                      "Open"
                    ],
                    [
                      "Open"
                    ],
                    [
                      "Open"
                    ],
                    [
                      "Open"
                    ],
                    [
                      "Open"
                    ],
                    [
                      "Open"
                    ],
                    [
                      "Open"
                    ],
                    [
                      "Open"
                    ],
                    [
                      "Open"
                    ],
                    [
                      "Open"
                    ],
                    [
                      "Open"
                    ],
                    [
                      "Open"
                    ],
                    [
                      "Open"
                    ],
                    [
                      "Open"
                    ],
                    [
                      "Open"
                    ],
                    [
                      "Open"
                    ],
                    [
                      "Open"
                    ],
                    [
                      "Open"
                    ],
                    [
                      "Open"
                    ],
                    [
                      "Open"
                    ],
                    [
                      "Open"
                    ],
                    [
                      "Open"
                    ],
                    [
                      "Open"
                    ],
                    [
                      "Open"
                    ],
                    [
                      "Open"
                    ],
                    [
                      "Open"
                    ],
                    [
                      "Open"
                    ],
                    [
                      "Open"
                    ],
                    [
                      "Open"
                    ],
                    [
                      "Open"
                    ],
                    [
                      "Open"
                    ],
                    [
                      "Open"
                    ],
                    [
                      "Open"
                    ],
                    [
                      "Open"
                    ],
                    [
                      "Open"
                    ],
                    [
                      "Open"
                    ],
                    [
                      "Open"
                    ],
                    [
                      "Open"
                    ],
                    [
                      "Open"
                    ],
                    [
                      "Open"
                    ],
                    [
                      "Open"
                    ],
                    [
                      "Open"
                    ],
                    [
                      "Open"
                    ],
                    [
                      "Open"
                    ],
                    [
                      "Open"
                    ],
                    [
                      "Open"
                    ],
                    [
                      "Open"
                    ],
                    [
                      "Open"
                    ],
                    [
                      "Open"
                    ],
                    [
                      "Open"
                    ],
                    [
                      "Open"
                    ],
                    [
                      "Open"
                    ],
                    [
                      "Open"
                    ],
                    [
                      "Open"
                    ],
                    [
                      "Open"
                    ],
                    [
                      "Open"
                    ],
                    [
                      "Open"
                    ],
                    [
                      "Open"
                    ],
                    [
                      "Open"
                    ],
                    [
                      "Open"
                    ],
                    [
                      "Open"
                    ],
                    [
                      "Open"
                    ],
                    [
                      "Open"
                    ],
                    [
                      "Open"
                    ],
                    [
                      "Open"
                    ],
                    [
                      "Open"
                    ],
                    [
                      "Open"
                    ],
                    [
                      "Open"
                    ],
                    [
                      "Open"
                    ],
                    [
                      "Open"
                    ],
                    [
                      "Open"
                    ],
                    [
                      "Open"
                    ],
                    [
                      "Open"
                    ],
                    [
                      "Open"
                    ],
                    [
                      "Open"
                    ],
                    [
                      "Open"
                    ],
                    [
                      "Open"
                    ],
                    [
                      "Open"
                    ],
                    [
                      "Open"
                    ],
                    [
                      "Open"
                    ],
                    [
                      "Open"
                    ],
                    [
                      "Open"
                    ],
                    [
                      "Open"
                    ],
                    [
                      "Open"
                    ],
                    [
                      "Open"
                    ],
                    [
                      "Open"
                    ],
                    [
                      "Open"
                    ],
                    [
                      "Open"
                    ],
                    [
                      "Open"
                    ],
                    [
                      "Open"
                    ],
                    [
                      "Open"
                    ],
                    [
                      "Open"
                    ],
                    [
                      "Open"
                    ],
                    [
                      "Open"
                    ],
                    [
                      "Open"
                    ],
                    [
                      "Open"
                    ],
                    [
                      "Open"
                    ],
                    [
                      "Open"
                    ],
                    [
                      "Open"
                    ],
                    [
                      "Open"
                    ],
                    [
                      "Open"
                    ],
                    [
                      "Open"
                    ],
                    [
                      "Open"
                    ],
                    [
                      "Open"
                    ],
                    [
                      "Open"
                    ],
                    [
                      "Open"
                    ],
                    [
                      "Open"
                    ],
                    [
                      "Open"
                    ],
                    [
                      "Open"
                    ],
                    [
                      "Open"
                    ],
                    [
                      "Open"
                    ],
                    [
                      "Open"
                    ],
                    [
                      "Open"
                    ],
                    [
                      "Open"
                    ],
                    [
                      "Open"
                    ],
                    [
                      "Open"
                    ],
                    [
                      "Open"
                    ],
                    [
                      "Open"
                    ],
                    [
                      "Open"
                    ],
                    [
                      "Open"
                    ],
                    [
                      "Open"
                    ],
                    [
                      "Open"
                    ],
                    [
                      "Open"
                    ],
                    [
                      "Open"
                    ],
                    [
                      "Open"
                    ],
                    [
                      "Open"
                    ],
                    [
                      "Open"
                    ],
                    [
                      "Open"
                    ],
                    [
                      "Open"
                    ],
                    [
                      "Open"
                    ],
                    [
                      "Open"
                    ],
                    [
                      "Open"
                    ],
                    [
                      "Open"
                    ],
                    [
                      "Open"
                    ],
                    [
                      "Open"
                    ],
                    [
                      "Open"
                    ],
                    [
                      "Open"
                    ],
                    [
                      "Open"
                    ],
                    [
                      "Open"
                    ],
                    [
                      "Open"
                    ],
                    [
                      "Open"
                    ],
                    [
                      "Open"
                    ],
                    [
                      "Open"
                    ],
                    [
                      "Open"
                    ],
                    [
                      "Open"
                    ],
                    [
                      "Open"
                    ],
                    [
                      "Open"
                    ],
                    [
                      "Open"
                    ],
                    [
                      "Open"
                    ],
                    [
                      "Open"
                    ],
                    [
                      "Open"
                    ],
                    [
                      "Open"
                    ],
                    [
                      "Open"
                    ],
                    [
                      "Open"
                    ],
                    [
                      "Open"
                    ],
                    [
                      "Open"
                    ],
                    [
                      "Open"
                    ],
                    [
                      "Open"
                    ],
                    [
                      "Open"
                    ],
                    [
                      "Open"
                    ],
                    [
                      "Open"
                    ],
                    [
                      "Open"
                    ],
                    [
                      "Open"
                    ],
                    [
                      "Open"
                    ],
                    [
                      "Open"
                    ],
                    [
                      "Open"
                    ],
                    [
                      "Open"
                    ],
                    [
                      "Open"
                    ],
                    [
                      "Open"
                    ],
                    [
                      "Open"
                    ],
                    [
                      "Open"
                    ],
                    [
                      "Open"
                    ],
                    [
                      "Open"
                    ],
                    [
                      "Open"
                    ],
                    [
                      "Open"
                    ],
                    [
                      "Open"
                    ],
                    [
                      "Open"
                    ],
                    [
                      "Open"
                    ],
                    [
                      "Open"
                    ],
                    [
                      "Open"
                    ],
                    [
                      "Open"
                    ],
                    [
                      "Open"
                    ],
                    [
                      "Open"
                    ],
                    [
                      "Open"
                    ],
                    [
                      "Open"
                    ],
                    [
                      "Open"
                    ],
                    [
                      "Open"
                    ],
                    [
                      "Open"
                    ],
                    [
                      "Open"
                    ],
                    [
                      "Open"
                    ],
                    [
                      "Open"
                    ],
                    [
                      "Open"
                    ],
                    [
                      "Open"
                    ],
                    [
                      "Open"
                    ],
                    [
                      "Open"
                    ],
                    [
                      "Open"
                    ],
                    [
                      "Open"
                    ],
                    [
                      "Open"
                    ],
                    [
                      "Open"
                    ],
                    [
                      "Open"
                    ],
                    [
                      "Open"
                    ],
                    [
                      "Open"
                    ],
                    [
                      "Open"
                    ],
                    [
                      "Open"
                    ],
                    [
                      "Open"
                    ],
                    [
                      "Open"
                    ],
                    [
                      "Open"
                    ],
                    [
                      "Open"
                    ],
                    [
                      "Open"
                    ],
                    [
                      "Open"
                    ],
                    [
                      "Open"
                    ],
                    [
                      "Open"
                    ],
                    [
                      "Open"
                    ],
                    [
                      "Open"
                    ],
                    [
                      "Open"
                    ],
                    [
                      "Open"
                    ],
                    [
                      "Open"
                    ],
                    [
                      "Open"
                    ],
                    [
                      "Open"
                    ],
                    [
                      "Open"
                    ],
                    [
                      "Open"
                    ],
                    [
                      "Open"
                    ],
                    [
                      "Open"
                    ],
                    [
                      "Open"
                    ],
                    [
                      "Open"
                    ],
                    [
                      "Open"
                    ],
                    [
                      "Open"
                    ],
                    [
                      "Open"
                    ],
                    [
                      "Open"
                    ],
                    [
                      "Open"
                    ],
                    [
                      "Open"
                    ],
                    [
                      "Open"
                    ],
                    [
                      "Open"
                    ],
                    [
                      "Open"
                    ],
                    [
                      "Open"
                    ],
                    [
                      "Open"
                    ],
                    [
                      "Open"
                    ],
                    [
                      "Open"
                    ],
                    [
                      "Open"
                    ],
                    [
                      "Open"
                    ],
                    [
                      "Open"
                    ],
                    [
                      "Open"
                    ],
                    [
                      "Open"
                    ],
                    [
                      "Open"
                    ],
                    [
                      "Open"
                    ],
                    [
                      "Open"
                    ],
                    [
                      "Open"
                    ],
                    [
                      "Open"
                    ],
                    [
                      "Open"
                    ],
                    [
                      "Open"
                    ],
                    [
                      "Open"
                    ],
                    [
                      "Open"
                    ],
                    [
                      "Open"
                    ],
                    [
                      "Open"
                    ],
                    [
                      "Open"
                    ],
                    [
                      "Open"
                    ],
                    [
                      "Open"
                    ],
                    [
                      "Open"
                    ],
                    [
                      "Open"
                    ],
                    [
                      "Open"
                    ],
                    [
                      "Open"
                    ],
                    [
                      "Open"
                    ],
                    [
                      "Open"
                    ],
                    [
                      "Open"
                    ],
                    [
                      "Open"
                    ],
                    [
                      "Open"
                    ],
                    [
                      "Open"
                    ],
                    [
                      "Open"
                    ],
                    [
                      "Open"
                    ],
                    [
                      "Open"
                    ],
                    [
                      "Open"
                    ],
                    [
                      "Open"
                    ],
                    [
                      "Open"
                    ],
                    [
                      "Open"
                    ],
                    [
                      "Open"
                    ],
                    [
                      "Open"
                    ],
                    [
                      "Open"
                    ],
                    [
                      "Open"
                    ],
                    [
                      "Open"
                    ],
                    [
                      "Open"
                    ],
                    [
                      "Open"
                    ],
                    [
                      "Open"
                    ],
                    [
                      "Open"
                    ],
                    [
                      "Open"
                    ],
                    [
                      "Open"
                    ],
                    [
                      "Open"
                    ],
                    [
                      "Open"
                    ],
                    [
                      "Open"
                    ],
                    [
                      "Open"
                    ],
                    [
                      "Open"
                    ],
                    [
                      "Open"
                    ],
                    [
                      "Open"
                    ],
                    [
                      "Open"
                    ],
                    [
                      "Open"
                    ],
                    [
                      "Open"
                    ],
                    [
                      "Open"
                    ],
                    [
                      "Open"
                    ],
                    [
                      "Open"
                    ],
                    [
                      "Open"
                    ],
                    [
                      "Open"
                    ],
                    [
                      "Open"
                    ],
                    [
                      "Open"
                    ],
                    [
                      "Open"
                    ],
                    [
                      "Open"
                    ],
                    [
                      "Open"
                    ],
                    [
                      "Open"
                    ],
                    [
                      "Open"
                    ],
                    [
                      "Open"
                    ],
                    [
                      "Open"
                    ],
                    [
                      "Open"
                    ],
                    [
                      "Open"
                    ],
                    [
                      "Open"
                    ],
                    [
                      "Open"
                    ],
                    [
                      "Open"
                    ],
                    [
                      "Open"
                    ],
                    [
                      "Open"
                    ],
                    [
                      "Open"
                    ],
                    [
                      "Open"
                    ],
                    [
                      "Open"
                    ],
                    [
                      "Open"
                    ],
                    [
                      "Open"
                    ],
                    [
                      "Open"
                    ],
                    [
                      "Open"
                    ],
                    [
                      "Open"
                    ],
                    [
                      "Open"
                    ],
                    [
                      "Open"
                    ]
                  ],
                  "hovertemplate": "Storefront Sales Status=%{customdata[0]}<br>Longitude=%{x}<br>Latitude=%{y}<extra></extra>",
                  "legendgroup": "Open",
                  "marker": {
                    "color": "#636efa",
                    "symbol": "circle"
                  },
                  "mode": "markers",
                  "name": "Open",
                  "orientation": "v",
                  "showlegend": true,
                  "type": "scatter",
                  "x": [
                    -71.121712,
                    -71.100367,
                    -71.121712,
                    -71.083565,
                    -71.105142,
                    -71.115571,
                    -71.143298,
                    -71.119124,
                    -71.105349,
                    -71.121712,
                    -71.143298,
                    -71.081835,
                    -71.114462,
                    -71.115571,
                    -71.118935,
                    -71.1024,
                    -71.091511,
                    -71.140817,
                    -71.121712,
                    -71.087147,
                    -71.115571,
                    -71.121476,
                    -71.121092,
                    -71.115571,
                    -71.098652,
                    -71.113672,
                    -71.098082,
                    -71.115571,
                    -71.130053,
                    -71.115389,
                    -71.153682,
                    -71.120084,
                    -71.105778,
                    -71.146094,
                    -71.118891,
                    -71.121712,
                    -71.11984,
                    -71.119299,
                    -71.086892,
                    -71.119896,
                    -71.121712,
                    -71.115571,
                    -71.091511,
                    -71.121092,
                    -71.146047,
                    -71.121712,
                    -71.121712,
                    -71.100896,
                    -71.140817,
                    -71.146094,
                    -71.102914,
                    -71.11984,
                    -71.105077,
                    -71.143298,
                    -71.121092,
                    -71.091566,
                    -71.11984,
                    -71.079588,
                    -71.121092,
                    -71.121712,
                    -71.121712,
                    -71.114462,
                    -71.11984,
                    -71.146047,
                    -71.146094,
                    -71.116237,
                    -71.143298,
                    -71.121712,
                    -71.121712,
                    -71.099755,
                    -71.115571,
                    -71.105008,
                    -71.097282,
                    -71.115571,
                    -71.150573,
                    -71.115571,
                    -71.11984,
                    -71.114107,
                    -71.103287,
                    -71.121712,
                    -71.088167,
                    -71.115571,
                    -71.121712,
                    -71.121712,
                    -71.119896,
                    -71.119896,
                    -71.07807,
                    -71.113654,
                    -71.079588,
                    -71.11984,
                    -71.089296,
                    -71.088027,
                    -71.114462,
                    -71.141124,
                    -71.102226,
                    -71.113654,
                    -71.073135,
                    -71.121712,
                    -71.115571,
                    -71.121712,
                    -71.103317,
                    -71.11984,
                    -71.118935,
                    -71.119896,
                    -71.121712,
                    -71.115571,
                    -71.13164,
                    -71.110596,
                    -71.114462,
                    -71.103549,
                    -71.114462,
                    -71.101702,
                    -71.083475,
                    -71.115571,
                    -71.146047,
                    -71.121712,
                    -71.146047,
                    -71.121712,
                    -71.078403,
                    -71.091707,
                    -71.133945,
                    -80.286239,
                    -71.118935,
                    -71.113654,
                    -71.089296,
                    -71.115571,
                    -71.121712,
                    -71.121712,
                    -71.121712,
                    -71.121712,
                    -71.121712,
                    -71.116671,
                    -71.107885,
                    -71.115571,
                    -71.121712,
                    -71.113654,
                    -71.115571,
                    -71.084644,
                    -71.121712,
                    -71.119896,
                    -71.115571,
                    -71.10239,
                    -71.088167,
                    -71.121712,
                    -71.115571,
                    -71.121712,
                    -71.150573,
                    -71.103664,
                    -71.106054,
                    -71.121712,
                    -71.11984,
                    -71.121712,
                    -71.122357,
                    -71.121712,
                    -71.121092,
                    -71.10227,
                    -71.097093,
                    -71.121712,
                    -71.098383,
                    -71.099191,
                    -71.11984,
                    -71.113654,
                    -71.142701,
                    -71.143298,
                    -71.100689,
                    -71.086608,
                    -71.121712,
                    -71.115571,
                    -71.121712,
                    -71.105616,
                    -71.104495,
                    -71.099363,
                    -71.079588,
                    -71.099755,
                    -71.121712,
                    -71.101603,
                    -71.117862,
                    -71.115571,
                    -71.087481,
                    -71.115571,
                    -71.111625,
                    -71.096205,
                    -71.121712,
                    -71.119106,
                    -71.143298,
                    -71.105233,
                    -71.105391,
                    -71.115571,
                    -71.122357,
                    -71.115571,
                    -71.084505,
                    -80.282115,
                    -71.146047,
                    -71.121712,
                    -71.119896,
                    -71.115571,
                    -71.092686,
                    -71.119896,
                    -71.103142,
                    -71.109864,
                    -71.104546,
                    -71.099648,
                    -71.121712,
                    -71.121712,
                    -71.121712,
                    -71.121712,
                    -71.078403,
                    -71.121712,
                    -71.079588,
                    -71.099936,
                    -71.121712,
                    -93.231831,
                    -71.107799,
                    -71.111902,
                    -71.097685,
                    -71.12331,
                    -71.100141,
                    -71.088167,
                    -71.109846,
                    -71.115571,
                    -71.083475,
                    -71.114462,
                    -71.121712,
                    -71.103394,
                    -71.121712,
                    -71.115571,
                    -71.146047,
                    -71.146047,
                    -71.114482,
                    -71.121712,
                    -71.121712,
                    -71.11984,
                    -71.121712,
                    -71.086458,
                    -71.137214,
                    -71.146047,
                    -71.115571,
                    -71.146047,
                    -71.121712,
                    -71.140088,
                    -71.121092,
                    -71.121092,
                    -71.115571,
                    -71.115571,
                    -71.121712,
                    -71.121712,
                    -71.120499,
                    -71.121712,
                    -71.115571,
                    -71.115571,
                    -71.124874,
                    -71.098652,
                    -71.108082,
                    -71.146047,
                    -71.115571,
                    -71.121712,
                    -71.102337,
                    -71.121712,
                    -71.103537,
                    -71.096684,
                    -71.121712,
                    -71.121712,
                    -80.281727,
                    -71.127464,
                    -71.099755,
                    -71.146047,
                    -71.11984,
                    -71.115571,
                    -71.121712,
                    -71.099755,
                    -71.128287,
                    -71.114462,
                    -71.121712,
                    -71.082509,
                    -71.152473,
                    -71.121712,
                    -71.115571,
                    -71.121712,
                    -71.140817,
                    -71.118908,
                    -71.121712,
                    -71.078403,
                    -71.121712,
                    -71.121712,
                    -71.121712,
                    -71.115571,
                    -71.120145,
                    -71.101937,
                    -71.115571,
                    -71.088027,
                    -71.078403,
                    -71.132376,
                    -71.146047,
                    -71.106678,
                    -71.129475,
                    -71.120872,
                    -71.115571,
                    -71.121712,
                    -71.150573,
                    -71.099755,
                    -71.121712,
                    -71.121712,
                    -71.105356,
                    -71.118935,
                    -71.121712,
                    -71.121712,
                    -71.115033,
                    -71.121712,
                    -71.146047,
                    -71.099755,
                    -71.143298,
                    -71.121712,
                    -71.121712,
                    -71.116354,
                    -71.121712,
                    -71.121712,
                    -71.121092,
                    -71.121712,
                    -71.109272,
                    -71.11984,
                    -71.099755,
                    -71.121712,
                    -71.119896,
                    -71.121712,
                    -71.117984,
                    -71.11907,
                    -71.121712,
                    -71.078044,
                    -71.122357,
                    -71.143298,
                    -71.11984,
                    -71.098573,
                    -71.119896,
                    -71.121712,
                    -71.10217,
                    -71.121712,
                    -71.146047,
                    -71.121712,
                    -71.121712,
                    -71.121712,
                    -71.143298,
                    -71.110305,
                    -71.121712,
                    -71.118935,
                    -71.115571,
                    -71.148017,
                    -71.105616,
                    -71.117984,
                    -71.146047,
                    -71.115571,
                    -71.115571,
                    -71.099718,
                    -71.115571,
                    -71.115571,
                    -71.096205,
                    -71.121712,
                    -71.110733,
                    -71.121712,
                    -71.118935,
                    -71.115389,
                    -71.121712,
                    -71.127842,
                    -71.121712,
                    -71.121712,
                    -71.121712,
                    -71.143298,
                    -71.121712,
                    -71.10321,
                    -71.121712,
                    -71.121712,
                    -71.103612,
                    -71.079588,
                    -71.132873,
                    -71.121712,
                    -71.119014,
                    -71.121712,
                    -71.099755,
                    -71.121712,
                    -71.088167,
                    -71.087291,
                    -71.079588,
                    -71.144152,
                    -71.088027,
                    -71.082409,
                    -71.1024,
                    -71.121712,
                    -71.119896,
                    -71.121712,
                    -71.119106,
                    -71.143298,
                    -71.143298,
                    -71.114462,
                    -71.143298,
                    -71.121712,
                    -71.143298,
                    -71.11984,
                    -71.11984,
                    -71.115571,
                    -71.115571,
                    -71.087245,
                    -71.121712,
                    -71.115571,
                    -71.118935,
                    -71.10318,
                    -71.078403,
                    -71.105435,
                    -71.088027,
                    -71.116394,
                    -71.137214,
                    -71.120156,
                    -71.158067,
                    -71.086895,
                    -71.434158,
                    -71.114336,
                    -71.115571,
                    -71.078403,
                    -71.115571,
                    -71.114462,
                    -71.121712,
                    -71.084952,
                    -71.121712,
                    -71.14184,
                    -71.102023,
                    -71.121712,
                    -71.096838,
                    -71.146047,
                    -71.11984,
                    -71.104943,
                    -71.089296,
                    -71.121712,
                    -71.146047,
                    -71.100646,
                    -71.121712,
                    -71.115571,
                    -71.101199,
                    -71.121712,
                    -71.105238,
                    -71.121712,
                    -71.145033,
                    -71.086646,
                    -71.100859,
                    -71.114462,
                    -71.121712,
                    -71.107716,
                    -71.082709,
                    -71.114192,
                    -71.115571,
                    -71.121712,
                    -71.119106,
                    -71.119896,
                    -71.114482,
                    -71.120156,
                    -71.129847,
                    -71.138875,
                    -71.121712,
                    -71.089296,
                    -71.121712,
                    -71.146047,
                    -71.121712,
                    -71.121712,
                    -71.115571,
                    -71.109122,
                    -71.119896,
                    -71.12828,
                    -71.120051,
                    -71.099755,
                    -71.081835,
                    -71.120156,
                    -71.121712,
                    -71.114462,
                    -71.121712,
                    -71.115571,
                    -71.121712,
                    -71.098116,
                    -71.121712,
                    -71.099755,
                    -71.124014,
                    -71.121712,
                    -71.121712,
                    -71.100048,
                    -71.086772,
                    -71.121712,
                    -71.121092,
                    -71.11984,
                    -71.121712,
                    -71.099648,
                    -71.120084,
                    -71.121712,
                    -71.152473,
                    -71.122357,
                    -71.121712,
                    -71.143298,
                    -71.121712,
                    -71.122361,
                    -71.121712,
                    -71.095995,
                    -71.119106,
                    -71.100404,
                    -71.097179,
                    -71.150573,
                    -71.115571,
                    -71.121712,
                    -71.119717,
                    -71.082141,
                    -71.121712,
                    -71.115571,
                    -71.1012,
                    -71.115571,
                    -71.147439,
                    -71.119436,
                    -71.109187,
                    -71.105585,
                    -71.121712,
                    -71.088079,
                    -71.119299,
                    -71.121712,
                    -71.12331,
                    -71.114482,
                    -71.12543,
                    -71.102941,
                    -71.114482,
                    -71.140817,
                    -71.101881,
                    -71.128359,
                    -71.114462,
                    -71.105167,
                    -71.115571,
                    -71.120133,
                    -71.100404,
                    -71.114482,
                    -71.118935,
                    -71.108798,
                    -71.118253,
                    -71.121712,
                    -71.121712,
                    -71.115571,
                    -71.121712,
                    -71.096895,
                    -71.113654,
                    -71.100793,
                    -71.121712,
                    -71.101651,
                    -71.140088,
                    -71.121712,
                    -71.129875,
                    -71.115571,
                    -71.103001,
                    -71.121712,
                    -71.120156,
                    -71.144693,
                    -71.120133,
                    -71.121712,
                    -71.143298,
                    -80.286188,
                    -71.141379,
                    -71.117984,
                    -71.121712,
                    -71.12011,
                    -71.124746,
                    -80.281946,
                    -71.115571,
                    -71.115571,
                    -71.11984,
                    -71.140088,
                    -71.115571,
                    -71.121712,
                    -71.146047,
                    -71.113654,
                    -71.099755,
                    -71.121712,
                    -71.117984,
                    -71.095995,
                    -71.118997,
                    -71.099564,
                    -71.115839,
                    -71.118935,
                    -71.10217,
                    -71.143298,
                    -71.092825,
                    -71.115033,
                    -71.140817,
                    -71.110596,
                    -71.115571,
                    -71.121712,
                    -71.079378,
                    -71.121712,
                    -71.104974,
                    -71.158067,
                    -71.078403,
                    -71.118935,
                    -71.105029,
                    -71.152473,
                    -71.121712,
                    -71.078403,
                    -71.121712,
                    -71.118253,
                    -71.079588,
                    -71.121712,
                    -71.087138,
                    -71.078059,
                    -71.121712,
                    -71.10147,
                    -71.115571,
                    -71.108937,
                    -71.115571,
                    -71.116237,
                    -71.089296,
                    -71.11815,
                    -71.096891,
                    -71.150301,
                    -71.120156,
                    -71.121712,
                    -71.12828,
                    -71.118338,
                    -71.115571,
                    -71.140817,
                    -71.115036,
                    -71.114462,
                    -71.119869,
                    -71.114462,
                    -71.103734,
                    -71.121712,
                    -71.121712,
                    -71.115571,
                    -71.119993,
                    -80.28634,
                    -71.082141,
                    -71.140817,
                    -71.115571,
                    -71.121712,
                    -71.121712,
                    -71.115571,
                    -71.115571,
                    -71.110039,
                    -71.115571,
                    -71.121712,
                    -71.129816,
                    -71.115571,
                    -71.120156,
                    -71.12828,
                    -71.118935,
                    -71.121092,
                    -71.120248,
                    -71.082706,
                    -71.121712,
                    -71.102409,
                    -71.121712,
                    -71.119896,
                    -71.115571,
                    -71.12828,
                    -71.115595,
                    -71.118935,
                    -71.121712,
                    -71.115571,
                    -71.116606,
                    -71.115571,
                    -71.119734,
                    -71.078403,
                    -71.146047,
                    -71.115571,
                    -71.089296,
                    -71.084246,
                    -80.280379,
                    -71.113654,
                    -71.121712,
                    -71.121712,
                    -71.115571,
                    -71.121712,
                    -71.121712,
                    -71.121712,
                    -71.121712,
                    -71.115571,
                    -71.101137,
                    -71.11984,
                    -71.088167,
                    -71.101797,
                    -71.146047,
                    -71.102658,
                    -71.121712,
                    -71.128667,
                    -71.119106,
                    -71.121712,
                    -71.123479,
                    -71.107481,
                    -71.121712,
                    -71.115571,
                    -71.073942,
                    -71.116237,
                    -71.11984,
                    -71.120156,
                    -71.114462,
                    -71.121712,
                    -71.150573,
                    -71.148873,
                    -71.115571,
                    -71.121712,
                    -71.114482,
                    -71.118935,
                    -71.119717,
                    -71.121712,
                    -71.115571,
                    -71.115033,
                    -71.121712,
                    -71.113654
                  ],
                  "xaxis": "x",
                  "y": [
                    42.390604,
                    42.373793,
                    42.390604,
                    42.369638,
                    42.366016,
                    42.375656,
                    42.388669,
                    42.385102,
                    42.366153,
                    42.390604,
                    42.388669,
                    42.364663,
                    42.374834,
                    42.375656,
                    42.387404,
                    42.367368,
                    42.363981,
                    42.392738,
                    42.390604,
                    42.371828,
                    42.375656,
                    42.373533,
                    42.373069,
                    42.375656,
                    42.371748,
                    42.363209,
                    42.373256,
                    42.375656,
                    42.39593,
                    42.372296,
                    42.391592,
                    42.372414,
                    42.364766,
                    42.390872,
                    42.371447,
                    42.390604,
                    42.372945,
                    42.388503,
                    42.373205,
                    42.373357,
                    42.390604,
                    42.375656,
                    42.363981,
                    42.373069,
                    42.3791,
                    42.390604,
                    42.390604,
                    42.363507,
                    42.392738,
                    42.390872,
                    42.36468,
                    42.372945,
                    42.366412,
                    42.388669,
                    42.373069,
                    42.372622,
                    42.372945,
                    42.372108,
                    42.373069,
                    42.390604,
                    42.390604,
                    42.374834,
                    42.372945,
                    42.3791,
                    42.390872,
                    42.36429,
                    42.388669,
                    42.390604,
                    42.390604,
                    42.37284,
                    42.375656,
                    42.36538,
                    42.36337,
                    42.375656,
                    42.392718,
                    42.375656,
                    42.372945,
                    42.356371,
                    42.365345,
                    42.390604,
                    42.362559,
                    42.375656,
                    42.390604,
                    42.390604,
                    42.373357,
                    42.373357,
                    42.366276,
                    42.370754,
                    42.372108,
                    42.372945,
                    42.366905,
                    42.366362,
                    42.374834,
                    42.387001,
                    42.364728,
                    42.370754,
                    42.370021,
                    42.390604,
                    42.375656,
                    42.390604,
                    42.366045,
                    42.372945,
                    42.387404,
                    42.373357,
                    42.390604,
                    42.375656,
                    42.39886,
                    42.37738,
                    42.374834,
                    42.370414,
                    42.374834,
                    42.363802,
                    42.362805,
                    42.375656,
                    42.3791,
                    42.390604,
                    42.3791,
                    42.390604,
                    42.364392,
                    42.366395,
                    42.399976,
                    43.358459,
                    42.387404,
                    42.370754,
                    42.366905,
                    42.375656,
                    42.390604,
                    42.390604,
                    42.390604,
                    42.390604,
                    42.390604,
                    42.371365,
                    42.35768,
                    42.375656,
                    42.390604,
                    42.370754,
                    42.375656,
                    42.371531,
                    42.390604,
                    42.373357,
                    42.375656,
                    42.360659,
                    42.362559,
                    42.390604,
                    42.375656,
                    42.390604,
                    42.392718,
                    42.365577,
                    42.36633,
                    42.390604,
                    42.372945,
                    42.390604,
                    42.372475,
                    42.390604,
                    42.373069,
                    42.364309,
                    42.361679,
                    42.390604,
                    42.37351,
                    42.373617,
                    42.372945,
                    42.370754,
                    42.390242,
                    42.388669,
                    42.363392,
                    42.371769,
                    42.390604,
                    42.375656,
                    42.390604,
                    42.3751,
                    42.365441,
                    42.368017,
                    42.372108,
                    42.37284,
                    42.390604,
                    42.363941,
                    42.372928,
                    42.375656,
                    42.362808,
                    42.375656,
                    42.363059,
                    42.369927,
                    42.390604,
                    42.372654,
                    42.388669,
                    42.366521,
                    42.366179,
                    42.375656,
                    42.372475,
                    42.375656,
                    42.37152,
                    43.359008,
                    42.3791,
                    42.390604,
                    42.373357,
                    42.375656,
                    42.357378,
                    42.373357,
                    42.366205,
                    42.369112,
                    42.365673,
                    42.363563,
                    42.390604,
                    42.390604,
                    42.390604,
                    42.390604,
                    42.364392,
                    42.390604,
                    42.372108,
                    42.36358,
                    42.390604,
                    45.574836,
                    42.357395,
                    42.369705,
                    42.367872,
                    42.391608,
                    42.373758,
                    42.362559,
                    42.368702,
                    42.375656,
                    42.362805,
                    42.374834,
                    42.390604,
                    42.364966,
                    42.390604,
                    42.375656,
                    42.3791,
                    42.3791,
                    42.370496,
                    42.390604,
                    42.390604,
                    42.372945,
                    42.390604,
                    42.371754,
                    42.397604,
                    42.3791,
                    42.375656,
                    42.3791,
                    42.390604,
                    42.388884,
                    42.373069,
                    42.373069,
                    42.375656,
                    42.375656,
                    42.390604,
                    42.390604,
                    42.373492,
                    42.390604,
                    42.375656,
                    42.375656,
                    42.392696,
                    42.371748,
                    42.357537,
                    42.3791,
                    42.375656,
                    42.390604,
                    42.364346,
                    42.390604,
                    42.357505,
                    42.361035,
                    42.390604,
                    42.390604,
                    43.359076,
                    42.379516,
                    42.37284,
                    42.3791,
                    42.372945,
                    42.375656,
                    42.390604,
                    42.37284,
                    42.395431,
                    42.374834,
                    42.390604,
                    42.365271,
                    42.374978,
                    42.390604,
                    42.375656,
                    42.390604,
                    42.392738,
                    42.388637,
                    42.390604,
                    42.364392,
                    42.390604,
                    42.390604,
                    42.390604,
                    42.375656,
                    42.37233,
                    42.364124,
                    42.375656,
                    42.366362,
                    42.364392,
                    42.388246,
                    42.3791,
                    42.364679,
                    42.396467,
                    42.372475,
                    42.375656,
                    42.390604,
                    42.392718,
                    42.37284,
                    42.390604,
                    42.390604,
                    42.36659,
                    42.387404,
                    42.390604,
                    42.390604,
                    42.37129,
                    42.390604,
                    42.3791,
                    42.37284,
                    42.388669,
                    42.390604,
                    42.390604,
                    42.372565,
                    42.390604,
                    42.390604,
                    42.373069,
                    42.390604,
                    42.37494,
                    42.372945,
                    42.37284,
                    42.390604,
                    42.373357,
                    42.390604,
                    42.376054,
                    42.388841,
                    42.390604,
                    42.366472,
                    42.372475,
                    42.388669,
                    42.372945,
                    42.373561,
                    42.373357,
                    42.390604,
                    42.365419,
                    42.390604,
                    42.3791,
                    42.390604,
                    42.390604,
                    42.390604,
                    42.388669,
                    42.371887,
                    42.390604,
                    42.387404,
                    42.375656,
                    42.393459,
                    42.3751,
                    42.376054,
                    42.3791,
                    42.375656,
                    42.375656,
                    42.37369,
                    42.375656,
                    42.375656,
                    42.369927,
                    42.390604,
                    42.377741,
                    42.390604,
                    42.387404,
                    42.372296,
                    42.390604,
                    42.384769,
                    42.390604,
                    42.390604,
                    42.390604,
                    42.388669,
                    42.390604,
                    42.366148,
                    42.390604,
                    42.390604,
                    42.3658,
                    42.372108,
                    42.390189,
                    42.390604,
                    42.38409,
                    42.390604,
                    42.37284,
                    42.390604,
                    42.362559,
                    42.362152,
                    42.372108,
                    42.411935,
                    42.366362,
                    42.363022,
                    42.367368,
                    42.390604,
                    42.373357,
                    42.390604,
                    42.372654,
                    42.388669,
                    42.388669,
                    42.374834,
                    42.388669,
                    42.390604,
                    42.388669,
                    42.372945,
                    42.372945,
                    42.375656,
                    42.375656,
                    42.372087,
                    42.390604,
                    42.375656,
                    42.387404,
                    42.366175,
                    42.364392,
                    42.366639,
                    42.366362,
                    42.380856,
                    42.397604,
                    42.374386,
                    42.393551,
                    42.372062,
                    41.804985,
                    42.370931,
                    42.375656,
                    42.364392,
                    42.375656,
                    42.374834,
                    42.390604,
                    42.371569,
                    42.390604,
                    42.388282,
                    42.364172,
                    42.390604,
                    42.363342,
                    42.3791,
                    42.372945,
                    42.365922,
                    42.366905,
                    42.390604,
                    42.3791,
                    42.363362,
                    42.390604,
                    42.375656,
                    42.363693,
                    42.390604,
                    42.366076,
                    42.390604,
                    42.37979,
                    42.372011,
                    42.364012,
                    42.374834,
                    42.390604,
                    42.357482,
                    42.363775,
                    42.357489,
                    42.375656,
                    42.390604,
                    42.372654,
                    42.373357,
                    42.370496,
                    42.374386,
                    42.396629,
                    42.409135,
                    42.390604,
                    42.366905,
                    42.390604,
                    42.3791,
                    42.390604,
                    42.390604,
                    42.375656,
                    42.374921,
                    42.373357,
                    42.387144,
                    42.38124,
                    42.37284,
                    42.364663,
                    42.374386,
                    42.390604,
                    42.374834,
                    42.390604,
                    42.375656,
                    42.390604,
                    42.362334,
                    42.390604,
                    42.37284,
                    42.387267,
                    42.390604,
                    42.390604,
                    42.36359,
                    42.371786,
                    42.390604,
                    42.373069,
                    42.372945,
                    42.390604,
                    42.363563,
                    42.372414,
                    42.390604,
                    42.374978,
                    42.372475,
                    42.390604,
                    42.388669,
                    42.390604,
                    42.376753,
                    42.390604,
                    42.360983,
                    42.372654,
                    42.374156,
                    42.370567,
                    42.392718,
                    42.375656,
                    42.390604,
                    42.389369,
                    42.365928,
                    42.390604,
                    42.375656,
                    42.359615,
                    42.375656,
                    42.4096,
                    42.374593,
                    42.368433,
                    42.366049,
                    42.390604,
                    42.372918,
                    42.388503,
                    42.390604,
                    42.391608,
                    42.370496,
                    42.393911,
                    42.364225,
                    42.370496,
                    42.392738,
                    42.364091,
                    42.379872,
                    42.374834,
                    42.366476,
                    42.375656,
                    42.371993,
                    42.374156,
                    42.370496,
                    42.387404,
                    42.368261,
                    42.382575,
                    42.390604,
                    42.390604,
                    42.375656,
                    42.390604,
                    42.363345,
                    42.370754,
                    42.373875,
                    42.390604,
                    42.363861,
                    42.388884,
                    42.390604,
                    42.396814,
                    42.375656,
                    42.364174,
                    42.390604,
                    42.374386,
                    42.375444,
                    42.371993,
                    42.390604,
                    42.388669,
                    43.358468,
                    42.394625,
                    42.376054,
                    42.390604,
                    42.381134,
                    42.392221,
                    43.359222,
                    42.375656,
                    42.375656,
                    42.372945,
                    42.388884,
                    42.375656,
                    42.390604,
                    42.3791,
                    42.370754,
                    42.37284,
                    42.390604,
                    42.376054,
                    42.360983,
                    42.372573,
                    42.362704,
                    42.372115,
                    42.387404,
                    42.365419,
                    42.388669,
                    42.369124,
                    42.37129,
                    42.392738,
                    42.37738,
                    42.375656,
                    42.390604,
                    42.36744,
                    42.390604,
                    42.366351,
                    42.393551,
                    42.364392,
                    42.387404,
                    42.366391,
                    42.374978,
                    42.390604,
                    42.364392,
                    42.390604,
                    42.382575,
                    42.372108,
                    42.390604,
                    42.37208,
                    42.366359,
                    42.390604,
                    42.363916,
                    42.375656,
                    42.37495,
                    42.375656,
                    42.36429,
                    42.366905,
                    42.372672,
                    42.361195,
                    42.374856,
                    42.374386,
                    42.390604,
                    42.387144,
                    42.372168,
                    42.375656,
                    42.392738,
                    42.358123,
                    42.374834,
                    42.382268,
                    42.374834,
                    42.36562,
                    42.390604,
                    42.390604,
                    42.375656,
                    42.389648,
                    43.358441,
                    42.365928,
                    42.392738,
                    42.375656,
                    42.390604,
                    42.390604,
                    42.375656,
                    42.375656,
                    42.359917,
                    42.375656,
                    42.390604,
                    42.396747,
                    42.375656,
                    42.374386,
                    42.387144,
                    42.387404,
                    42.373069,
                    42.372186,
                    42.364936,
                    42.390604,
                    42.364388,
                    42.390604,
                    42.373357,
                    42.375656,
                    42.387144,
                    42.37173,
                    42.387404,
                    42.390604,
                    42.375656,
                    42.371357,
                    42.375656,
                    42.373533,
                    42.364392,
                    42.3791,
                    42.375656,
                    42.366905,
                    42.371804,
                    43.359492,
                    42.370754,
                    42.390604,
                    42.390604,
                    42.375656,
                    42.390604,
                    42.390604,
                    42.390604,
                    42.390604,
                    42.375656,
                    42.363461,
                    42.372945,
                    42.362559,
                    42.364022,
                    42.3791,
                    42.365004,
                    42.390604,
                    42.395643,
                    42.372654,
                    42.390604,
                    42.39128,
                    42.364398,
                    42.390604,
                    42.375656,
                    42.370725,
                    42.36429,
                    42.372945,
                    42.374386,
                    42.374834,
                    42.390604,
                    42.392718,
                    42.413901,
                    42.375656,
                    42.390604,
                    42.370496,
                    42.387404,
                    42.389369,
                    42.390604,
                    42.375656,
                    42.37129,
                    42.390604,
                    42.370754
                  ],
                  "yaxis": "y"
                },
                {
                  "customdata": [
                    [
                      "Closed"
                    ],
                    [
                      "Closed"
                    ],
                    [
                      "Closed"
                    ],
                    [
                      "Closed"
                    ],
                    [
                      "Closed"
                    ],
                    [
                      "Closed"
                    ],
                    [
                      "Closed"
                    ],
                    [
                      "Closed"
                    ],
                    [
                      "Closed"
                    ],
                    [
                      "Closed"
                    ],
                    [
                      "Closed"
                    ],
                    [
                      "Closed"
                    ],
                    [
                      "Closed"
                    ],
                    [
                      "Closed"
                    ],
                    [
                      "Closed"
                    ],
                    [
                      "Closed"
                    ],
                    [
                      "Closed"
                    ],
                    [
                      "Closed"
                    ],
                    [
                      "Closed"
                    ],
                    [
                      "Closed"
                    ],
                    [
                      "Closed"
                    ],
                    [
                      "Closed"
                    ],
                    [
                      "Closed"
                    ],
                    [
                      "Closed"
                    ],
                    [
                      "Closed"
                    ],
                    [
                      "Closed"
                    ],
                    [
                      "Closed"
                    ],
                    [
                      "Closed"
                    ],
                    [
                      "Closed"
                    ],
                    [
                      "Closed"
                    ],
                    [
                      "Closed"
                    ],
                    [
                      "Closed"
                    ],
                    [
                      "Closed"
                    ],
                    [
                      "Closed"
                    ],
                    [
                      "Closed"
                    ],
                    [
                      "Closed"
                    ],
                    [
                      "Closed"
                    ],
                    [
                      "Closed"
                    ],
                    [
                      "Closed"
                    ],
                    [
                      "Closed"
                    ],
                    [
                      "Closed"
                    ],
                    [
                      "Closed"
                    ],
                    [
                      "Closed"
                    ],
                    [
                      "Closed"
                    ],
                    [
                      "Closed"
                    ],
                    [
                      "Closed"
                    ],
                    [
                      "Closed"
                    ],
                    [
                      "Closed"
                    ],
                    [
                      "Closed"
                    ],
                    [
                      "Closed"
                    ],
                    [
                      "Closed"
                    ],
                    [
                      "Closed"
                    ],
                    [
                      "Closed"
                    ],
                    [
                      "Closed"
                    ],
                    [
                      "Closed"
                    ],
                    [
                      "Closed"
                    ],
                    [
                      "Closed"
                    ],
                    [
                      "Closed"
                    ],
                    [
                      "Closed"
                    ],
                    [
                      "Closed"
                    ],
                    [
                      "Closed"
                    ],
                    [
                      "Closed"
                    ],
                    [
                      "Closed"
                    ],
                    [
                      "Closed"
                    ],
                    [
                      "Closed"
                    ],
                    [
                      "Closed"
                    ],
                    [
                      "Closed"
                    ],
                    [
                      "Closed"
                    ],
                    [
                      "Closed"
                    ],
                    [
                      "Closed"
                    ],
                    [
                      "Closed"
                    ],
                    [
                      "Closed"
                    ],
                    [
                      "Closed"
                    ],
                    [
                      "Closed"
                    ],
                    [
                      "Closed"
                    ],
                    [
                      "Closed"
                    ],
                    [
                      "Closed"
                    ],
                    [
                      "Closed"
                    ],
                    [
                      "Closed"
                    ],
                    [
                      "Closed"
                    ],
                    [
                      "Closed"
                    ],
                    [
                      "Closed"
                    ],
                    [
                      "Closed"
                    ],
                    [
                      "Closed"
                    ],
                    [
                      "Closed"
                    ],
                    [
                      "Closed"
                    ],
                    [
                      "Closed"
                    ],
                    [
                      "Closed"
                    ],
                    [
                      "Closed"
                    ],
                    [
                      "Closed"
                    ],
                    [
                      "Closed"
                    ],
                    [
                      "Closed"
                    ],
                    [
                      "Closed"
                    ],
                    [
                      "Closed"
                    ]
                  ],
                  "hovertemplate": "Storefront Sales Status=%{customdata[0]}<br>Longitude=%{x}<br>Latitude=%{y}<extra></extra>",
                  "legendgroup": "Closed",
                  "marker": {
                    "color": "#EF553B",
                    "symbol": "circle"
                  },
                  "mode": "markers",
                  "name": "Closed",
                  "orientation": "v",
                  "showlegend": true,
                  "type": "scatter",
                  "x": [
                    -71.121712,
                    -80.322486,
                    -71.140817,
                    -71.099755,
                    -71.119896,
                    -71.122357,
                    -71.087291,
                    -71.121712,
                    -71.115595,
                    -71.114482,
                    -71.121712,
                    -71.121712,
                    -71.120283,
                    -71.1281,
                    -71.121712,
                    -71.105291,
                    -71.088027,
                    -71.091651,
                    -71.101137,
                    -71.082409,
                    -71.121712,
                    -71.12008,
                    -71.121712,
                    -71.082637,
                    -71.081276,
                    -71.120572,
                    -71.114482,
                    -71.11895,
                    -71.121712,
                    -71.121712,
                    -71.115571,
                    -71.079588,
                    -71.121712,
                    -71.121712,
                    -71.081369,
                    -71.121712,
                    -71.104116,
                    -71.117261,
                    -71.12331,
                    -88.600077,
                    0.119083,
                    -71.121712,
                    -71.119106,
                    -71.140284,
                    -71.101137,
                    -71.105616,
                    -71.105616,
                    -71.115571,
                    -71.121712,
                    -71.101568,
                    -71.121712,
                    -71.12295,
                    -71.094924,
                    -71.123436,
                    -71.115571,
                    -71.146047,
                    -71.121712,
                    -71.098496,
                    -71.115571,
                    -71.098592,
                    -71.097654,
                    -71.121712,
                    -71.121712,
                    -71.079378,
                    -71.108731,
                    -71.11471,
                    -71.114336,
                    -71.11984,
                    -71.099755,
                    -71.12828,
                    -71.11984,
                    -71.121712,
                    -71.099755,
                    -71.115571,
                    -71.122357,
                    -71.121712,
                    -71.088717,
                    -71.082409,
                    -71.120679,
                    -71.120156,
                    -71.120156,
                    -71.10147,
                    -71.121712,
                    -71.089296,
                    -71.146047,
                    -71.121712,
                    -71.121712,
                    -71.119896,
                    -71.103397,
                    -71.121712,
                    -71.121712,
                    -71.121712,
                    -71.121712,
                    -71.079588
                  ],
                  "xaxis": "x",
                  "y": [
                    42.390604,
                    43.366228,
                    42.392738,
                    42.37284,
                    42.373357,
                    42.372475,
                    42.362152,
                    42.390604,
                    42.37173,
                    42.370496,
                    42.390604,
                    42.390604,
                    42.374256,
                    42.390481,
                    42.390604,
                    42.366126,
                    42.366362,
                    42.363429,
                    42.363461,
                    42.363022,
                    42.390604,
                    42.373998,
                    42.390604,
                    42.363305,
                    42.36422,
                    42.374189,
                    42.370496,
                    42.372111,
                    42.390604,
                    42.390604,
                    42.375656,
                    42.372108,
                    42.390604,
                    42.390604,
                    42.363474,
                    42.390604,
                    42.364612,
                    42.371079,
                    42.391608,
                    30.916371,
                    52.20664,
                    42.390604,
                    42.372654,
                    42.387364,
                    42.363461,
                    42.3751,
                    42.3751,
                    42.375656,
                    42.390604,
                    42.364365,
                    42.390604,
                    42.37486,
                    42.368717,
                    42.3808,
                    42.375656,
                    42.3791,
                    42.390604,
                    42.362498,
                    42.375656,
                    42.362559,
                    42.362087,
                    42.390604,
                    42.390604,
                    42.36744,
                    42.363969,
                    42.371102,
                    42.370931,
                    42.372945,
                    42.37284,
                    42.387144,
                    42.372945,
                    42.390604,
                    42.37284,
                    42.375656,
                    42.372475,
                    42.390604,
                    42.363114,
                    42.363022,
                    42.37177,
                    42.374386,
                    42.374386,
                    42.363916,
                    42.390604,
                    42.366905,
                    42.3791,
                    42.390604,
                    42.390604,
                    42.373357,
                    42.366303,
                    42.390604,
                    42.390604,
                    42.390604,
                    42.390604,
                    42.372108
                  ],
                  "yaxis": "y"
                }
              ],
              "layout": {
                "legend": {
                  "title": {
                    "text": "Storefront Sales Status"
                  },
                  "tracegroupgap": 0
                },
                "margin": {
                  "t": 60
                },
                "template": {
                  "data": {
                    "bar": [
                      {
                        "error_x": {
                          "color": "#2a3f5f"
                        },
                        "error_y": {
                          "color": "#2a3f5f"
                        },
                        "marker": {
                          "line": {
                            "color": "#E5ECF6",
                            "width": 0.5
                          }
                        },
                        "type": "bar"
                      }
                    ],
                    "barpolar": [
                      {
                        "marker": {
                          "line": {
                            "color": "#E5ECF6",
                            "width": 0.5
                          }
                        },
                        "type": "barpolar"
                      }
                    ],
                    "carpet": [
                      {
                        "aaxis": {
                          "endlinecolor": "#2a3f5f",
                          "gridcolor": "white",
                          "linecolor": "white",
                          "minorgridcolor": "white",
                          "startlinecolor": "#2a3f5f"
                        },
                        "baxis": {
                          "endlinecolor": "#2a3f5f",
                          "gridcolor": "white",
                          "linecolor": "white",
                          "minorgridcolor": "white",
                          "startlinecolor": "#2a3f5f"
                        },
                        "type": "carpet"
                      }
                    ],
                    "choropleth": [
                      {
                        "colorbar": {
                          "outlinewidth": 0,
                          "ticks": ""
                        },
                        "type": "choropleth"
                      }
                    ],
                    "contour": [
                      {
                        "colorbar": {
                          "outlinewidth": 0,
                          "ticks": ""
                        },
                        "colorscale": [
                          [
                            0,
                            "#0d0887"
                          ],
                          [
                            0.1111111111111111,
                            "#46039f"
                          ],
                          [
                            0.2222222222222222,
                            "#7201a8"
                          ],
                          [
                            0.3333333333333333,
                            "#9c179e"
                          ],
                          [
                            0.4444444444444444,
                            "#bd3786"
                          ],
                          [
                            0.5555555555555556,
                            "#d8576b"
                          ],
                          [
                            0.6666666666666666,
                            "#ed7953"
                          ],
                          [
                            0.7777777777777778,
                            "#fb9f3a"
                          ],
                          [
                            0.8888888888888888,
                            "#fdca26"
                          ],
                          [
                            1,
                            "#f0f921"
                          ]
                        ],
                        "type": "contour"
                      }
                    ],
                    "contourcarpet": [
                      {
                        "colorbar": {
                          "outlinewidth": 0,
                          "ticks": ""
                        },
                        "type": "contourcarpet"
                      }
                    ],
                    "heatmap": [
                      {
                        "colorbar": {
                          "outlinewidth": 0,
                          "ticks": ""
                        },
                        "colorscale": [
                          [
                            0,
                            "#0d0887"
                          ],
                          [
                            0.1111111111111111,
                            "#46039f"
                          ],
                          [
                            0.2222222222222222,
                            "#7201a8"
                          ],
                          [
                            0.3333333333333333,
                            "#9c179e"
                          ],
                          [
                            0.4444444444444444,
                            "#bd3786"
                          ],
                          [
                            0.5555555555555556,
                            "#d8576b"
                          ],
                          [
                            0.6666666666666666,
                            "#ed7953"
                          ],
                          [
                            0.7777777777777778,
                            "#fb9f3a"
                          ],
                          [
                            0.8888888888888888,
                            "#fdca26"
                          ],
                          [
                            1,
                            "#f0f921"
                          ]
                        ],
                        "type": "heatmap"
                      }
                    ],
                    "heatmapgl": [
                      {
                        "colorbar": {
                          "outlinewidth": 0,
                          "ticks": ""
                        },
                        "colorscale": [
                          [
                            0,
                            "#0d0887"
                          ],
                          [
                            0.1111111111111111,
                            "#46039f"
                          ],
                          [
                            0.2222222222222222,
                            "#7201a8"
                          ],
                          [
                            0.3333333333333333,
                            "#9c179e"
                          ],
                          [
                            0.4444444444444444,
                            "#bd3786"
                          ],
                          [
                            0.5555555555555556,
                            "#d8576b"
                          ],
                          [
                            0.6666666666666666,
                            "#ed7953"
                          ],
                          [
                            0.7777777777777778,
                            "#fb9f3a"
                          ],
                          [
                            0.8888888888888888,
                            "#fdca26"
                          ],
                          [
                            1,
                            "#f0f921"
                          ]
                        ],
                        "type": "heatmapgl"
                      }
                    ],
                    "histogram": [
                      {
                        "marker": {
                          "colorbar": {
                            "outlinewidth": 0,
                            "ticks": ""
                          }
                        },
                        "type": "histogram"
                      }
                    ],
                    "histogram2d": [
                      {
                        "colorbar": {
                          "outlinewidth": 0,
                          "ticks": ""
                        },
                        "colorscale": [
                          [
                            0,
                            "#0d0887"
                          ],
                          [
                            0.1111111111111111,
                            "#46039f"
                          ],
                          [
                            0.2222222222222222,
                            "#7201a8"
                          ],
                          [
                            0.3333333333333333,
                            "#9c179e"
                          ],
                          [
                            0.4444444444444444,
                            "#bd3786"
                          ],
                          [
                            0.5555555555555556,
                            "#d8576b"
                          ],
                          [
                            0.6666666666666666,
                            "#ed7953"
                          ],
                          [
                            0.7777777777777778,
                            "#fb9f3a"
                          ],
                          [
                            0.8888888888888888,
                            "#fdca26"
                          ],
                          [
                            1,
                            "#f0f921"
                          ]
                        ],
                        "type": "histogram2d"
                      }
                    ],
                    "histogram2dcontour": [
                      {
                        "colorbar": {
                          "outlinewidth": 0,
                          "ticks": ""
                        },
                        "colorscale": [
                          [
                            0,
                            "#0d0887"
                          ],
                          [
                            0.1111111111111111,
                            "#46039f"
                          ],
                          [
                            0.2222222222222222,
                            "#7201a8"
                          ],
                          [
                            0.3333333333333333,
                            "#9c179e"
                          ],
                          [
                            0.4444444444444444,
                            "#bd3786"
                          ],
                          [
                            0.5555555555555556,
                            "#d8576b"
                          ],
                          [
                            0.6666666666666666,
                            "#ed7953"
                          ],
                          [
                            0.7777777777777778,
                            "#fb9f3a"
                          ],
                          [
                            0.8888888888888888,
                            "#fdca26"
                          ],
                          [
                            1,
                            "#f0f921"
                          ]
                        ],
                        "type": "histogram2dcontour"
                      }
                    ],
                    "mesh3d": [
                      {
                        "colorbar": {
                          "outlinewidth": 0,
                          "ticks": ""
                        },
                        "type": "mesh3d"
                      }
                    ],
                    "parcoords": [
                      {
                        "line": {
                          "colorbar": {
                            "outlinewidth": 0,
                            "ticks": ""
                          }
                        },
                        "type": "parcoords"
                      }
                    ],
                    "pie": [
                      {
                        "automargin": true,
                        "type": "pie"
                      }
                    ],
                    "scatter": [
                      {
                        "marker": {
                          "colorbar": {
                            "outlinewidth": 0,
                            "ticks": ""
                          }
                        },
                        "type": "scatter"
                      }
                    ],
                    "scatter3d": [
                      {
                        "line": {
                          "colorbar": {
                            "outlinewidth": 0,
                            "ticks": ""
                          }
                        },
                        "marker": {
                          "colorbar": {
                            "outlinewidth": 0,
                            "ticks": ""
                          }
                        },
                        "type": "scatter3d"
                      }
                    ],
                    "scattercarpet": [
                      {
                        "marker": {
                          "colorbar": {
                            "outlinewidth": 0,
                            "ticks": ""
                          }
                        },
                        "type": "scattercarpet"
                      }
                    ],
                    "scattergeo": [
                      {
                        "marker": {
                          "colorbar": {
                            "outlinewidth": 0,
                            "ticks": ""
                          }
                        },
                        "type": "scattergeo"
                      }
                    ],
                    "scattergl": [
                      {
                        "marker": {
                          "colorbar": {
                            "outlinewidth": 0,
                            "ticks": ""
                          }
                        },
                        "type": "scattergl"
                      }
                    ],
                    "scattermapbox": [
                      {
                        "marker": {
                          "colorbar": {
                            "outlinewidth": 0,
                            "ticks": ""
                          }
                        },
                        "type": "scattermapbox"
                      }
                    ],
                    "scatterpolar": [
                      {
                        "marker": {
                          "colorbar": {
                            "outlinewidth": 0,
                            "ticks": ""
                          }
                        },
                        "type": "scatterpolar"
                      }
                    ],
                    "scatterpolargl": [
                      {
                        "marker": {
                          "colorbar": {
                            "outlinewidth": 0,
                            "ticks": ""
                          }
                        },
                        "type": "scatterpolargl"
                      }
                    ],
                    "scatterternary": [
                      {
                        "marker": {
                          "colorbar": {
                            "outlinewidth": 0,
                            "ticks": ""
                          }
                        },
                        "type": "scatterternary"
                      }
                    ],
                    "surface": [
                      {
                        "colorbar": {
                          "outlinewidth": 0,
                          "ticks": ""
                        },
                        "colorscale": [
                          [
                            0,
                            "#0d0887"
                          ],
                          [
                            0.1111111111111111,
                            "#46039f"
                          ],
                          [
                            0.2222222222222222,
                            "#7201a8"
                          ],
                          [
                            0.3333333333333333,
                            "#9c179e"
                          ],
                          [
                            0.4444444444444444,
                            "#bd3786"
                          ],
                          [
                            0.5555555555555556,
                            "#d8576b"
                          ],
                          [
                            0.6666666666666666,
                            "#ed7953"
                          ],
                          [
                            0.7777777777777778,
                            "#fb9f3a"
                          ],
                          [
                            0.8888888888888888,
                            "#fdca26"
                          ],
                          [
                            1,
                            "#f0f921"
                          ]
                        ],
                        "type": "surface"
                      }
                    ],
                    "table": [
                      {
                        "cells": {
                          "fill": {
                            "color": "#EBF0F8"
                          },
                          "line": {
                            "color": "white"
                          }
                        },
                        "header": {
                          "fill": {
                            "color": "#C8D4E3"
                          },
                          "line": {
                            "color": "white"
                          }
                        },
                        "type": "table"
                      }
                    ]
                  },
                  "layout": {
                    "annotationdefaults": {
                      "arrowcolor": "#2a3f5f",
                      "arrowhead": 0,
                      "arrowwidth": 1
                    },
                    "autotypenumbers": "strict",
                    "coloraxis": {
                      "colorbar": {
                        "outlinewidth": 0,
                        "ticks": ""
                      }
                    },
                    "colorscale": {
                      "diverging": [
                        [
                          0,
                          "#8e0152"
                        ],
                        [
                          0.1,
                          "#c51b7d"
                        ],
                        [
                          0.2,
                          "#de77ae"
                        ],
                        [
                          0.3,
                          "#f1b6da"
                        ],
                        [
                          0.4,
                          "#fde0ef"
                        ],
                        [
                          0.5,
                          "#f7f7f7"
                        ],
                        [
                          0.6,
                          "#e6f5d0"
                        ],
                        [
                          0.7,
                          "#b8e186"
                        ],
                        [
                          0.8,
                          "#7fbc41"
                        ],
                        [
                          0.9,
                          "#4d9221"
                        ],
                        [
                          1,
                          "#276419"
                        ]
                      ],
                      "sequential": [
                        [
                          0,
                          "#0d0887"
                        ],
                        [
                          0.1111111111111111,
                          "#46039f"
                        ],
                        [
                          0.2222222222222222,
                          "#7201a8"
                        ],
                        [
                          0.3333333333333333,
                          "#9c179e"
                        ],
                        [
                          0.4444444444444444,
                          "#bd3786"
                        ],
                        [
                          0.5555555555555556,
                          "#d8576b"
                        ],
                        [
                          0.6666666666666666,
                          "#ed7953"
                        ],
                        [
                          0.7777777777777778,
                          "#fb9f3a"
                        ],
                        [
                          0.8888888888888888,
                          "#fdca26"
                        ],
                        [
                          1,
                          "#f0f921"
                        ]
                      ],
                      "sequentialminus": [
                        [
                          0,
                          "#0d0887"
                        ],
                        [
                          0.1111111111111111,
                          "#46039f"
                        ],
                        [
                          0.2222222222222222,
                          "#7201a8"
                        ],
                        [
                          0.3333333333333333,
                          "#9c179e"
                        ],
                        [
                          0.4444444444444444,
                          "#bd3786"
                        ],
                        [
                          0.5555555555555556,
                          "#d8576b"
                        ],
                        [
                          0.6666666666666666,
                          "#ed7953"
                        ],
                        [
                          0.7777777777777778,
                          "#fb9f3a"
                        ],
                        [
                          0.8888888888888888,
                          "#fdca26"
                        ],
                        [
                          1,
                          "#f0f921"
                        ]
                      ]
                    },
                    "colorway": [
                      "#636efa",
                      "#EF553B",
                      "#00cc96",
                      "#ab63fa",
                      "#FFA15A",
                      "#19d3f3",
                      "#FF6692",
                      "#B6E880",
                      "#FF97FF",
                      "#FECB52"
                    ],
                    "font": {
                      "color": "#2a3f5f"
                    },
                    "geo": {
                      "bgcolor": "white",
                      "lakecolor": "white",
                      "landcolor": "#E5ECF6",
                      "showlakes": true,
                      "showland": true,
                      "subunitcolor": "white"
                    },
                    "hoverlabel": {
                      "align": "left"
                    },
                    "hovermode": "closest",
                    "mapbox": {
                      "style": "light"
                    },
                    "paper_bgcolor": "white",
                    "plot_bgcolor": "#E5ECF6",
                    "polar": {
                      "angularaxis": {
                        "gridcolor": "white",
                        "linecolor": "white",
                        "ticks": ""
                      },
                      "bgcolor": "#E5ECF6",
                      "radialaxis": {
                        "gridcolor": "white",
                        "linecolor": "white",
                        "ticks": ""
                      }
                    },
                    "scene": {
                      "xaxis": {
                        "backgroundcolor": "#E5ECF6",
                        "gridcolor": "white",
                        "gridwidth": 2,
                        "linecolor": "white",
                        "showbackground": true,
                        "ticks": "",
                        "zerolinecolor": "white"
                      },
                      "yaxis": {
                        "backgroundcolor": "#E5ECF6",
                        "gridcolor": "white",
                        "gridwidth": 2,
                        "linecolor": "white",
                        "showbackground": true,
                        "ticks": "",
                        "zerolinecolor": "white"
                      },
                      "zaxis": {
                        "backgroundcolor": "#E5ECF6",
                        "gridcolor": "white",
                        "gridwidth": 2,
                        "linecolor": "white",
                        "showbackground": true,
                        "ticks": "",
                        "zerolinecolor": "white"
                      }
                    },
                    "shapedefaults": {
                      "line": {
                        "color": "#2a3f5f"
                      }
                    },
                    "ternary": {
                      "aaxis": {
                        "gridcolor": "white",
                        "linecolor": "white",
                        "ticks": ""
                      },
                      "baxis": {
                        "gridcolor": "white",
                        "linecolor": "white",
                        "ticks": ""
                      },
                      "bgcolor": "#E5ECF6",
                      "caxis": {
                        "gridcolor": "white",
                        "linecolor": "white",
                        "ticks": ""
                      }
                    },
                    "title": {
                      "x": 0.05
                    },
                    "xaxis": {
                      "automargin": true,
                      "gridcolor": "white",
                      "linecolor": "white",
                      "ticks": "",
                      "title": {
                        "standoff": 15
                      },
                      "zerolinecolor": "white",
                      "zerolinewidth": 2
                    },
                    "yaxis": {
                      "automargin": true,
                      "gridcolor": "white",
                      "linecolor": "white",
                      "ticks": "",
                      "title": {
                        "standoff": 15
                      },
                      "zerolinecolor": "white",
                      "zerolinewidth": 2
                    }
                  }
                },
                "xaxis": {
                  "anchor": "y",
                  "domain": [
                    0,
                    1
                  ],
                  "title": {
                    "text": "Longitude"
                  }
                },
                "yaxis": {
                  "anchor": "x",
                  "domain": [
                    0,
                    1
                  ],
                  "title": {
                    "text": "Latitude"
                  }
                }
              }
            }
          },
          "metadata": {},
          "output_type": "display_data"
        }
      ],
      "source": [
        "import plotly.express as px\n",
        "\n",
        "fig = px.scatter(vdistances, x='Longitude', y='Latitude', color='Storefront Sales Status',\n",
        "                 hover_data=['Storefront Sales Status'])\n",
        "fig.show()"
      ]
    },
    {
      "cell_type": "code",
      "execution_count": 11,
      "metadata": {},
      "outputs": [
        {
          "data": {
            "application/vnd.plotly.v1+json": {
              "config": {
                "plotlyServerURL": "https://plot.ly"
              },
              "data": [
                {
                  "marker": {
                    "color": [
                      "#C63F3F",
                      "#F4B436",
                      "#83BFCC",
                      "#455574",
                      "#E2DDDB"
                    ],
                    "showscale": true,
                    "size": [
                      15,
                      30,
                      55,
                      70,
                      90,
                      110
                    ]
                  },
                  "mode": "markers",
                  "type": "scatter",
                  "x": [
                    1,
                    3.2,
                    5.4,
                    7.6,
                    9.8,
                    12.5
                  ],
                  "y": [
                    1,
                    3.2,
                    5.4,
                    7.6,
                    9.8,
                    12.5
                  ]
                }
              ],
              "layout": {
                "template": {
                  "data": {
                    "bar": [
                      {
                        "error_x": {
                          "color": "#2a3f5f"
                        },
                        "error_y": {
                          "color": "#2a3f5f"
                        },
                        "marker": {
                          "line": {
                            "color": "#E5ECF6",
                            "width": 0.5
                          }
                        },
                        "type": "bar"
                      }
                    ],
                    "barpolar": [
                      {
                        "marker": {
                          "line": {
                            "color": "#E5ECF6",
                            "width": 0.5
                          }
                        },
                        "type": "barpolar"
                      }
                    ],
                    "carpet": [
                      {
                        "aaxis": {
                          "endlinecolor": "#2a3f5f",
                          "gridcolor": "white",
                          "linecolor": "white",
                          "minorgridcolor": "white",
                          "startlinecolor": "#2a3f5f"
                        },
                        "baxis": {
                          "endlinecolor": "#2a3f5f",
                          "gridcolor": "white",
                          "linecolor": "white",
                          "minorgridcolor": "white",
                          "startlinecolor": "#2a3f5f"
                        },
                        "type": "carpet"
                      }
                    ],
                    "choropleth": [
                      {
                        "colorbar": {
                          "outlinewidth": 0,
                          "ticks": ""
                        },
                        "type": "choropleth"
                      }
                    ],
                    "contour": [
                      {
                        "colorbar": {
                          "outlinewidth": 0,
                          "ticks": ""
                        },
                        "colorscale": [
                          [
                            0,
                            "#0d0887"
                          ],
                          [
                            0.1111111111111111,
                            "#46039f"
                          ],
                          [
                            0.2222222222222222,
                            "#7201a8"
                          ],
                          [
                            0.3333333333333333,
                            "#9c179e"
                          ],
                          [
                            0.4444444444444444,
                            "#bd3786"
                          ],
                          [
                            0.5555555555555556,
                            "#d8576b"
                          ],
                          [
                            0.6666666666666666,
                            "#ed7953"
                          ],
                          [
                            0.7777777777777778,
                            "#fb9f3a"
                          ],
                          [
                            0.8888888888888888,
                            "#fdca26"
                          ],
                          [
                            1,
                            "#f0f921"
                          ]
                        ],
                        "type": "contour"
                      }
                    ],
                    "contourcarpet": [
                      {
                        "colorbar": {
                          "outlinewidth": 0,
                          "ticks": ""
                        },
                        "type": "contourcarpet"
                      }
                    ],
                    "heatmap": [
                      {
                        "colorbar": {
                          "outlinewidth": 0,
                          "ticks": ""
                        },
                        "colorscale": [
                          [
                            0,
                            "#0d0887"
                          ],
                          [
                            0.1111111111111111,
                            "#46039f"
                          ],
                          [
                            0.2222222222222222,
                            "#7201a8"
                          ],
                          [
                            0.3333333333333333,
                            "#9c179e"
                          ],
                          [
                            0.4444444444444444,
                            "#bd3786"
                          ],
                          [
                            0.5555555555555556,
                            "#d8576b"
                          ],
                          [
                            0.6666666666666666,
                            "#ed7953"
                          ],
                          [
                            0.7777777777777778,
                            "#fb9f3a"
                          ],
                          [
                            0.8888888888888888,
                            "#fdca26"
                          ],
                          [
                            1,
                            "#f0f921"
                          ]
                        ],
                        "type": "heatmap"
                      }
                    ],
                    "heatmapgl": [
                      {
                        "colorbar": {
                          "outlinewidth": 0,
                          "ticks": ""
                        },
                        "colorscale": [
                          [
                            0,
                            "#0d0887"
                          ],
                          [
                            0.1111111111111111,
                            "#46039f"
                          ],
                          [
                            0.2222222222222222,
                            "#7201a8"
                          ],
                          [
                            0.3333333333333333,
                            "#9c179e"
                          ],
                          [
                            0.4444444444444444,
                            "#bd3786"
                          ],
                          [
                            0.5555555555555556,
                            "#d8576b"
                          ],
                          [
                            0.6666666666666666,
                            "#ed7953"
                          ],
                          [
                            0.7777777777777778,
                            "#fb9f3a"
                          ],
                          [
                            0.8888888888888888,
                            "#fdca26"
                          ],
                          [
                            1,
                            "#f0f921"
                          ]
                        ],
                        "type": "heatmapgl"
                      }
                    ],
                    "histogram": [
                      {
                        "marker": {
                          "colorbar": {
                            "outlinewidth": 0,
                            "ticks": ""
                          }
                        },
                        "type": "histogram"
                      }
                    ],
                    "histogram2d": [
                      {
                        "colorbar": {
                          "outlinewidth": 0,
                          "ticks": ""
                        },
                        "colorscale": [
                          [
                            0,
                            "#0d0887"
                          ],
                          [
                            0.1111111111111111,
                            "#46039f"
                          ],
                          [
                            0.2222222222222222,
                            "#7201a8"
                          ],
                          [
                            0.3333333333333333,
                            "#9c179e"
                          ],
                          [
                            0.4444444444444444,
                            "#bd3786"
                          ],
                          [
                            0.5555555555555556,
                            "#d8576b"
                          ],
                          [
                            0.6666666666666666,
                            "#ed7953"
                          ],
                          [
                            0.7777777777777778,
                            "#fb9f3a"
                          ],
                          [
                            0.8888888888888888,
                            "#fdca26"
                          ],
                          [
                            1,
                            "#f0f921"
                          ]
                        ],
                        "type": "histogram2d"
                      }
                    ],
                    "histogram2dcontour": [
                      {
                        "colorbar": {
                          "outlinewidth": 0,
                          "ticks": ""
                        },
                        "colorscale": [
                          [
                            0,
                            "#0d0887"
                          ],
                          [
                            0.1111111111111111,
                            "#46039f"
                          ],
                          [
                            0.2222222222222222,
                            "#7201a8"
                          ],
                          [
                            0.3333333333333333,
                            "#9c179e"
                          ],
                          [
                            0.4444444444444444,
                            "#bd3786"
                          ],
                          [
                            0.5555555555555556,
                            "#d8576b"
                          ],
                          [
                            0.6666666666666666,
                            "#ed7953"
                          ],
                          [
                            0.7777777777777778,
                            "#fb9f3a"
                          ],
                          [
                            0.8888888888888888,
                            "#fdca26"
                          ],
                          [
                            1,
                            "#f0f921"
                          ]
                        ],
                        "type": "histogram2dcontour"
                      }
                    ],
                    "mesh3d": [
                      {
                        "colorbar": {
                          "outlinewidth": 0,
                          "ticks": ""
                        },
                        "type": "mesh3d"
                      }
                    ],
                    "parcoords": [
                      {
                        "line": {
                          "colorbar": {
                            "outlinewidth": 0,
                            "ticks": ""
                          }
                        },
                        "type": "parcoords"
                      }
                    ],
                    "pie": [
                      {
                        "automargin": true,
                        "type": "pie"
                      }
                    ],
                    "scatter": [
                      {
                        "marker": {
                          "colorbar": {
                            "outlinewidth": 0,
                            "ticks": ""
                          }
                        },
                        "type": "scatter"
                      }
                    ],
                    "scatter3d": [
                      {
                        "line": {
                          "colorbar": {
                            "outlinewidth": 0,
                            "ticks": ""
                          }
                        },
                        "marker": {
                          "colorbar": {
                            "outlinewidth": 0,
                            "ticks": ""
                          }
                        },
                        "type": "scatter3d"
                      }
                    ],
                    "scattercarpet": [
                      {
                        "marker": {
                          "colorbar": {
                            "outlinewidth": 0,
                            "ticks": ""
                          }
                        },
                        "type": "scattercarpet"
                      }
                    ],
                    "scattergeo": [
                      {
                        "marker": {
                          "colorbar": {
                            "outlinewidth": 0,
                            "ticks": ""
                          }
                        },
                        "type": "scattergeo"
                      }
                    ],
                    "scattergl": [
                      {
                        "marker": {
                          "colorbar": {
                            "outlinewidth": 0,
                            "ticks": ""
                          }
                        },
                        "type": "scattergl"
                      }
                    ],
                    "scattermapbox": [
                      {
                        "marker": {
                          "colorbar": {
                            "outlinewidth": 0,
                            "ticks": ""
                          }
                        },
                        "type": "scattermapbox"
                      }
                    ],
                    "scatterpolar": [
                      {
                        "marker": {
                          "colorbar": {
                            "outlinewidth": 0,
                            "ticks": ""
                          }
                        },
                        "type": "scatterpolar"
                      }
                    ],
                    "scatterpolargl": [
                      {
                        "marker": {
                          "colorbar": {
                            "outlinewidth": 0,
                            "ticks": ""
                          }
                        },
                        "type": "scatterpolargl"
                      }
                    ],
                    "scatterternary": [
                      {
                        "marker": {
                          "colorbar": {
                            "outlinewidth": 0,
                            "ticks": ""
                          }
                        },
                        "type": "scatterternary"
                      }
                    ],
                    "surface": [
                      {
                        "colorbar": {
                          "outlinewidth": 0,
                          "ticks": ""
                        },
                        "colorscale": [
                          [
                            0,
                            "#0d0887"
                          ],
                          [
                            0.1111111111111111,
                            "#46039f"
                          ],
                          [
                            0.2222222222222222,
                            "#7201a8"
                          ],
                          [
                            0.3333333333333333,
                            "#9c179e"
                          ],
                          [
                            0.4444444444444444,
                            "#bd3786"
                          ],
                          [
                            0.5555555555555556,
                            "#d8576b"
                          ],
                          [
                            0.6666666666666666,
                            "#ed7953"
                          ],
                          [
                            0.7777777777777778,
                            "#fb9f3a"
                          ],
                          [
                            0.8888888888888888,
                            "#fdca26"
                          ],
                          [
                            1,
                            "#f0f921"
                          ]
                        ],
                        "type": "surface"
                      }
                    ],
                    "table": [
                      {
                        "cells": {
                          "fill": {
                            "color": "#EBF0F8"
                          },
                          "line": {
                            "color": "white"
                          }
                        },
                        "header": {
                          "fill": {
                            "color": "#C8D4E3"
                          },
                          "line": {
                            "color": "white"
                          }
                        },
                        "type": "table"
                      }
                    ]
                  },
                  "layout": {
                    "annotationdefaults": {
                      "arrowcolor": "#2a3f5f",
                      "arrowhead": 0,
                      "arrowwidth": 1
                    },
                    "autotypenumbers": "strict",
                    "coloraxis": {
                      "colorbar": {
                        "outlinewidth": 0,
                        "ticks": ""
                      }
                    },
                    "colorscale": {
                      "diverging": [
                        [
                          0,
                          "#8e0152"
                        ],
                        [
                          0.1,
                          "#c51b7d"
                        ],
                        [
                          0.2,
                          "#de77ae"
                        ],
                        [
                          0.3,
                          "#f1b6da"
                        ],
                        [
                          0.4,
                          "#fde0ef"
                        ],
                        [
                          0.5,
                          "#f7f7f7"
                        ],
                        [
                          0.6,
                          "#e6f5d0"
                        ],
                        [
                          0.7,
                          "#b8e186"
                        ],
                        [
                          0.8,
                          "#7fbc41"
                        ],
                        [
                          0.9,
                          "#4d9221"
                        ],
                        [
                          1,
                          "#276419"
                        ]
                      ],
                      "sequential": [
                        [
                          0,
                          "#0d0887"
                        ],
                        [
                          0.1111111111111111,
                          "#46039f"
                        ],
                        [
                          0.2222222222222222,
                          "#7201a8"
                        ],
                        [
                          0.3333333333333333,
                          "#9c179e"
                        ],
                        [
                          0.4444444444444444,
                          "#bd3786"
                        ],
                        [
                          0.5555555555555556,
                          "#d8576b"
                        ],
                        [
                          0.6666666666666666,
                          "#ed7953"
                        ],
                        [
                          0.7777777777777778,
                          "#fb9f3a"
                        ],
                        [
                          0.8888888888888888,
                          "#fdca26"
                        ],
                        [
                          1,
                          "#f0f921"
                        ]
                      ],
                      "sequentialminus": [
                        [
                          0,
                          "#0d0887"
                        ],
                        [
                          0.1111111111111111,
                          "#46039f"
                        ],
                        [
                          0.2222222222222222,
                          "#7201a8"
                        ],
                        [
                          0.3333333333333333,
                          "#9c179e"
                        ],
                        [
                          0.4444444444444444,
                          "#bd3786"
                        ],
                        [
                          0.5555555555555556,
                          "#d8576b"
                        ],
                        [
                          0.6666666666666666,
                          "#ed7953"
                        ],
                        [
                          0.7777777777777778,
                          "#fb9f3a"
                        ],
                        [
                          0.8888888888888888,
                          "#fdca26"
                        ],
                        [
                          1,
                          "#f0f921"
                        ]
                      ]
                    },
                    "colorway": [
                      "#636efa",
                      "#EF553B",
                      "#00cc96",
                      "#ab63fa",
                      "#FFA15A",
                      "#19d3f3",
                      "#FF6692",
                      "#B6E880",
                      "#FF97FF",
                      "#FECB52"
                    ],
                    "font": {
                      "color": "#2a3f5f"
                    },
                    "geo": {
                      "bgcolor": "white",
                      "lakecolor": "white",
                      "landcolor": "#E5ECF6",
                      "showlakes": true,
                      "showland": true,
                      "subunitcolor": "white"
                    },
                    "hoverlabel": {
                      "align": "left"
                    },
                    "hovermode": "closest",
                    "mapbox": {
                      "style": "light"
                    },
                    "paper_bgcolor": "white",
                    "plot_bgcolor": "#E5ECF6",
                    "polar": {
                      "angularaxis": {
                        "gridcolor": "white",
                        "linecolor": "white",
                        "ticks": ""
                      },
                      "bgcolor": "#E5ECF6",
                      "radialaxis": {
                        "gridcolor": "white",
                        "linecolor": "white",
                        "ticks": ""
                      }
                    },
                    "scene": {
                      "xaxis": {
                        "backgroundcolor": "#E5ECF6",
                        "gridcolor": "white",
                        "gridwidth": 2,
                        "linecolor": "white",
                        "showbackground": true,
                        "ticks": "",
                        "zerolinecolor": "white"
                      },
                      "yaxis": {
                        "backgroundcolor": "#E5ECF6",
                        "gridcolor": "white",
                        "gridwidth": 2,
                        "linecolor": "white",
                        "showbackground": true,
                        "ticks": "",
                        "zerolinecolor": "white"
                      },
                      "zaxis": {
                        "backgroundcolor": "#E5ECF6",
                        "gridcolor": "white",
                        "gridwidth": 2,
                        "linecolor": "white",
                        "showbackground": true,
                        "ticks": "",
                        "zerolinecolor": "white"
                      }
                    },
                    "shapedefaults": {
                      "line": {
                        "color": "#2a3f5f"
                      }
                    },
                    "ternary": {
                      "aaxis": {
                        "gridcolor": "white",
                        "linecolor": "white",
                        "ticks": ""
                      },
                      "baxis": {
                        "gridcolor": "white",
                        "linecolor": "white",
                        "ticks": ""
                      },
                      "bgcolor": "#E5ECF6",
                      "caxis": {
                        "gridcolor": "white",
                        "linecolor": "white",
                        "ticks": ""
                      }
                    },
                    "title": {
                      "x": 0.05
                    },
                    "xaxis": {
                      "automargin": true,
                      "gridcolor": "white",
                      "linecolor": "white",
                      "ticks": "",
                      "title": {
                        "standoff": 15
                      },
                      "zerolinecolor": "white",
                      "zerolinewidth": 2
                    },
                    "yaxis": {
                      "automargin": true,
                      "gridcolor": "white",
                      "linecolor": "white",
                      "ticks": "",
                      "title": {
                        "standoff": 15
                      },
                      "zerolinecolor": "white",
                      "zerolinewidth": 2
                    }
                  }
                }
              }
            }
          },
          "metadata": {},
          "output_type": "display_data"
        }
      ],
      "source": [
        "fig = go.Figure(data=[go.Scatter(\n",
        "    x=[1, 3.2, 5.4, 7.6, 9.8, 12.5],\n",
        "    y=[1, 3.2, 5.4, 7.6, 9.8, 12.5],\n",
        "    mode='markers',\n",
        "    marker=dict(\n",
        "        color=primary_colors,\n",
        "        size=[15, 30, 55, 70, 90, 110],\n",
        "        showscale=True\n",
        "        )\n",
        ")])\n",
        "fig.show()"
      ]
    },
    {
      "cell_type": "markdown",
      "metadata": {
        "created_in_deepnote_cell": true,
        "deepnote_cell_type": "markdown",
        "tags": []
      },
      "source": [
        "<a style='text-decoration:none;line-height:16px;display:flex;color:#5B5B62;padding:10px;justify-content:end;' href='https://deepnote.com?utm_source=created-in-deepnote-cell&projectId=cf414bac-1baa-463f-8d73-f1d9a87e25d5' target=\"_blank\">\n",
        "<img alt='Created in deepnote.com' style='display:inline;max-height:16px;margin:0px;margin-right:7.5px;' src='data:image/svg+xml;base64,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' > </img>\n",
        "Created in <span style='font-weight:600;margin-left:4px;'>Deepnote</span></a>"
      ]
    }
  ],
  "metadata": {
    "deepnote": {},
    "deepnote_execution_queue": [],
    "deepnote_notebook_id": "3cad2f71-1f38-4b2e-81b7-4bb8d6cd0302",
    "kernelspec": {
      "display_name": "CS109a",
      "language": "python",
      "name": "cs109a"
    },
    "language_info": {
      "codemirror_mode": {
        "name": "ipython",
        "version": 3
      },
      "file_extension": ".py",
      "mimetype": "text/x-python",
      "name": "python",
      "nbconvert_exporter": "python",
      "pygments_lexer": "ipython3",
      "version": "3.8.5"
    },
    "orig_nbformat": 2
  },
  "nbformat": 4,
  "nbformat_minor": 2
}